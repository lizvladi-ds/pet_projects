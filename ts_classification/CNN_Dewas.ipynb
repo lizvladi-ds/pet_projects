{
 "cells": [
  {
   "cell_type": "markdown",
   "id": "746ad895",
   "metadata": {},
   "source": [
    "All the results are compared in the presentation. Notebooks are just for the calculations."
   ]
  },
  {
   "cell_type": "code",
   "execution_count": 1,
   "id": "cf6f7080",
   "metadata": {
    "ExecuteTime": {
     "end_time": "2022-06-29T19:37:13.111379Z",
     "start_time": "2022-06-29T19:37:12.068641Z"
    }
   },
   "outputs": [],
   "source": [
    "import json\n",
    "import numpy as np\n",
    "import os\n",
    "import pandas as pd\n",
    "import torch\n",
    "import torch.nn as nn\n",
    "\n",
    "from models import MyCNN\n",
    "from numpy.random import choice\n",
    "from random import sample\n",
    "from sklearn.metrics import f1_score, accuracy_score, roc_auc_score, classification_report\n",
    "from sklearn.model_selection import train_test_split\n",
    "from torch.autograd import Variable\n",
    "from utils import custom_split_train_test"
   ]
  },
  {
   "cell_type": "code",
   "execution_count": 2,
   "id": "e7aecc13",
   "metadata": {
    "ExecuteTime": {
     "end_time": "2022-06-29T19:37:13.126992Z",
     "start_time": "2022-06-29T19:37:13.113296Z"
    }
   },
   "outputs": [
    {
     "data": {
      "text/plain": [
       "['Dewas_NDVI.csv',\n",
       " 'Dewas_points.csv',\n",
       " 'Kaithal_NDVI.csv',\n",
       " 'Kaithal_points.csv',\n",
       " 'Karnal_NDVI.csv',\n",
       " 'Karnal_points.csv']"
      ]
     },
     "execution_count": 2,
     "metadata": {},
     "output_type": "execute_result"
    }
   ],
   "source": [
    "os.listdir('data')    "
   ]
  },
  {
   "cell_type": "code",
   "execution_count": 3,
   "id": "d86b8c49",
   "metadata": {
    "ExecuteTime": {
     "end_time": "2022-06-29T19:37:13.142947Z",
     "start_time": "2022-06-29T19:37:13.128947Z"
    }
   },
   "outputs": [],
   "source": [
    "data_points = pd.read_csv('data/Dewas_points.csv')"
   ]
  },
  {
   "cell_type": "code",
   "execution_count": 4,
   "id": "afeb444e",
   "metadata": {
    "ExecuteTime": {
     "end_time": "2022-06-29T19:37:13.174253Z",
     "start_time": "2022-06-29T19:37:13.144906Z"
    }
   },
   "outputs": [],
   "source": [
    "data_ndvi = pd.read_csv('data/Dewas_NDVI.csv')"
   ]
  },
  {
   "cell_type": "code",
   "execution_count": 5,
   "id": "a2c474ab",
   "metadata": {
    "ExecuteTime": {
     "end_time": "2022-06-29T19:37:13.205747Z",
     "start_time": "2022-06-29T19:37:13.175750Z"
    }
   },
   "outputs": [],
   "source": [
    "data = data_points.merge(data_ndvi, left_on='gfid', right_on='gfid')"
   ]
  },
  {
   "cell_type": "code",
   "execution_count": 6,
   "id": "86428c4d",
   "metadata": {
    "ExecuteTime": {
     "end_time": "2022-06-29T19:37:25.041826Z",
     "start_time": "2022-06-29T19:37:13.206968Z"
    }
   },
   "outputs": [],
   "source": [
    "data['month'] = data['date'].apply(pd.to_datetime).dt.month\n",
    "data['day'] = data['date'].apply(pd.to_datetime).dt.day"
   ]
  },
  {
   "cell_type": "code",
   "execution_count": 7,
   "id": "e758f1cb",
   "metadata": {
    "ExecuteTime": {
     "end_time": "2022-06-29T19:37:25.072873Z",
     "start_time": "2022-06-29T19:37:25.044272Z"
    }
   },
   "outputs": [
    {
     "data": {
      "text/html": [
       "<div>\n",
       "<style scoped>\n",
       "    .dataframe tbody tr th:only-of-type {\n",
       "        vertical-align: middle;\n",
       "    }\n",
       "\n",
       "    .dataframe tbody tr th {\n",
       "        vertical-align: top;\n",
       "    }\n",
       "\n",
       "    .dataframe thead th {\n",
       "        text-align: right;\n",
       "    }\n",
       "</style>\n",
       "<table border=\"1\" class=\"dataframe\">\n",
       "  <thead>\n",
       "    <tr style=\"text-align: right;\">\n",
       "      <th></th>\n",
       "      <th>gfid</th>\n",
       "      <th>datenum</th>\n",
       "      <th>date</th>\n",
       "      <th>ndvi</th>\n",
       "    </tr>\n",
       "  </thead>\n",
       "  <tbody>\n",
       "    <tr>\n",
       "      <th>0</th>\n",
       "      <td>72001</td>\n",
       "      <td>0</td>\n",
       "      <td>2020-10-20</td>\n",
       "      <td>0.186</td>\n",
       "    </tr>\n",
       "    <tr>\n",
       "      <th>1</th>\n",
       "      <td>72001</td>\n",
       "      <td>1</td>\n",
       "      <td>2020-10-21</td>\n",
       "      <td>0.184</td>\n",
       "    </tr>\n",
       "    <tr>\n",
       "      <th>2</th>\n",
       "      <td>72001</td>\n",
       "      <td>2</td>\n",
       "      <td>2020-10-22</td>\n",
       "      <td>0.183</td>\n",
       "    </tr>\n",
       "    <tr>\n",
       "      <th>3</th>\n",
       "      <td>72001</td>\n",
       "      <td>3</td>\n",
       "      <td>2020-10-23</td>\n",
       "      <td>0.182</td>\n",
       "    </tr>\n",
       "    <tr>\n",
       "      <th>4</th>\n",
       "      <td>72001</td>\n",
       "      <td>4</td>\n",
       "      <td>2020-10-24</td>\n",
       "      <td>0.181</td>\n",
       "    </tr>\n",
       "  </tbody>\n",
       "</table>\n",
       "</div>"
      ],
      "text/plain": [
       "    gfid  datenum        date   ndvi\n",
       "0  72001        0  2020-10-20  0.186\n",
       "1  72001        1  2020-10-21  0.184\n",
       "2  72001        2  2020-10-22  0.183\n",
       "3  72001        3  2020-10-23  0.182\n",
       "4  72001        4  2020-10-24  0.181"
      ]
     },
     "execution_count": 7,
     "metadata": {},
     "output_type": "execute_result"
    }
   ],
   "source": [
    "data_ndvi.head()"
   ]
  },
  {
   "cell_type": "markdown",
   "id": "770dd8ed",
   "metadata": {},
   "source": [
    "We will take only data with at least 203 values at a time series."
   ]
  },
  {
   "cell_type": "code",
   "execution_count": 8,
   "id": "8e4f02bf",
   "metadata": {
    "ExecuteTime": {
     "end_time": "2022-06-29T19:37:25.292038Z",
     "start_time": "2022-06-29T19:37:25.075892Z"
    }
   },
   "outputs": [],
   "source": [
    "i = 1\n",
    "ids_not_full = []\n",
    "for id_ in data_points['gfid'].values:\n",
    "    shp = data_ndvi[data_ndvi['gfid'] == id_].shape[0]\n",
    "    if shp != 203:\n",
    "        i += 1\n",
    "        ids_not_full += [id_]"
   ]
  },
  {
   "cell_type": "code",
   "execution_count": 9,
   "id": "b36f497f",
   "metadata": {
    "ExecuteTime": {
     "end_time": "2022-06-29T19:37:25.323235Z",
     "start_time": "2022-06-29T19:37:25.294003Z"
    }
   },
   "outputs": [],
   "source": [
    "# Take only gfids with at least 160 values.\n",
    "data2 = data[~data['gfid'].isin(ids_not_full)]"
   ]
  },
  {
   "cell_type": "code",
   "execution_count": 11,
   "id": "cc81dbb0",
   "metadata": {
    "ExecuteTime": {
     "end_time": "2022-06-29T19:37:25.370235Z",
     "start_time": "2022-06-29T19:37:25.357522Z"
    }
   },
   "outputs": [],
   "source": [
    "# Remember those gfids.\n",
    "gfids = data2['gfid'].unique()"
   ]
  },
  {
   "cell_type": "code",
   "execution_count": 16,
   "id": "32cb54de",
   "metadata": {
    "ExecuteTime": {
     "end_time": "2022-06-29T19:37:25.448719Z",
     "start_time": "2022-06-29T19:37:25.437123Z"
    }
   },
   "outputs": [],
   "source": [
    "np.random.seed(42)\n",
    "np.random.shuffle(gfids)\n",
    "\n",
    "# Randomly split data into train and test.\n",
    "train_ids = gfids[:300]\n",
    "test_ids = gfids[300:]"
   ]
  },
  {
   "cell_type": "code",
   "execution_count": 17,
   "id": "b10092da",
   "metadata": {
    "ExecuteTime": {
     "end_time": "2022-06-29T19:37:25.463958Z",
     "start_time": "2022-06-29T19:37:25.451034Z"
    }
   },
   "outputs": [],
   "source": [
    "# Save train and test gfids for classic ML experiments.\n",
    "indices = {}\n",
    "indices['train'] = list([int(x) for x in train_ids])\n",
    "indices['test'] = list([int(x) for x in test_ids])\n",
    "\n",
    "with open('Dewas.json', 'w') as f:\n",
    "    json.dump(indices, f)"
   ]
  },
  {
   "cell_type": "code",
   "execution_count": 19,
   "id": "8b0240ea",
   "metadata": {
    "ExecuteTime": {
     "end_time": "2022-06-29T19:37:25.500591Z",
     "start_time": "2022-06-29T19:37:25.482415Z"
    }
   },
   "outputs": [
    {
     "data": {
      "text/html": [
       "<div>\n",
       "<style scoped>\n",
       "    .dataframe tbody tr th:only-of-type {\n",
       "        vertical-align: middle;\n",
       "    }\n",
       "\n",
       "    .dataframe tbody tr th {\n",
       "        vertical-align: top;\n",
       "    }\n",
       "\n",
       "    .dataframe thead th {\n",
       "        text-align: right;\n",
       "    }\n",
       "</style>\n",
       "<table border=\"1\" class=\"dataframe\">\n",
       "  <thead>\n",
       "    <tr style=\"text-align: right;\">\n",
       "      <th></th>\n",
       "      <th>gfid</th>\n",
       "      <th>state</th>\n",
       "      <th>district</th>\n",
       "      <th>village</th>\n",
       "      <th>lon</th>\n",
       "      <th>lat</th>\n",
       "      <th>wheat</th>\n",
       "      <th>datenum</th>\n",
       "      <th>date</th>\n",
       "      <th>ndvi</th>\n",
       "      <th>month</th>\n",
       "      <th>day</th>\n",
       "    </tr>\n",
       "  </thead>\n",
       "  <tbody>\n",
       "    <tr>\n",
       "      <th>0</th>\n",
       "      <td>72001</td>\n",
       "      <td>Madhya Pradesh</td>\n",
       "      <td>Dewas</td>\n",
       "      <td>VijayaganjMandi</td>\n",
       "      <td>75.96199</td>\n",
       "      <td>23.218479</td>\n",
       "      <td>0</td>\n",
       "      <td>0</td>\n",
       "      <td>2020-10-20</td>\n",
       "      <td>0.186</td>\n",
       "      <td>10</td>\n",
       "      <td>20</td>\n",
       "    </tr>\n",
       "    <tr>\n",
       "      <th>1</th>\n",
       "      <td>72001</td>\n",
       "      <td>Madhya Pradesh</td>\n",
       "      <td>Dewas</td>\n",
       "      <td>VijayaganjMandi</td>\n",
       "      <td>75.96199</td>\n",
       "      <td>23.218479</td>\n",
       "      <td>0</td>\n",
       "      <td>1</td>\n",
       "      <td>2020-10-21</td>\n",
       "      <td>0.184</td>\n",
       "      <td>10</td>\n",
       "      <td>21</td>\n",
       "    </tr>\n",
       "    <tr>\n",
       "      <th>2</th>\n",
       "      <td>72001</td>\n",
       "      <td>Madhya Pradesh</td>\n",
       "      <td>Dewas</td>\n",
       "      <td>VijayaganjMandi</td>\n",
       "      <td>75.96199</td>\n",
       "      <td>23.218479</td>\n",
       "      <td>0</td>\n",
       "      <td>2</td>\n",
       "      <td>2020-10-22</td>\n",
       "      <td>0.183</td>\n",
       "      <td>10</td>\n",
       "      <td>22</td>\n",
       "    </tr>\n",
       "    <tr>\n",
       "      <th>3</th>\n",
       "      <td>72001</td>\n",
       "      <td>Madhya Pradesh</td>\n",
       "      <td>Dewas</td>\n",
       "      <td>VijayaganjMandi</td>\n",
       "      <td>75.96199</td>\n",
       "      <td>23.218479</td>\n",
       "      <td>0</td>\n",
       "      <td>3</td>\n",
       "      <td>2020-10-23</td>\n",
       "      <td>0.182</td>\n",
       "      <td>10</td>\n",
       "      <td>23</td>\n",
       "    </tr>\n",
       "    <tr>\n",
       "      <th>4</th>\n",
       "      <td>72001</td>\n",
       "      <td>Madhya Pradesh</td>\n",
       "      <td>Dewas</td>\n",
       "      <td>VijayaganjMandi</td>\n",
       "      <td>75.96199</td>\n",
       "      <td>23.218479</td>\n",
       "      <td>0</td>\n",
       "      <td>4</td>\n",
       "      <td>2020-10-24</td>\n",
       "      <td>0.181</td>\n",
       "      <td>10</td>\n",
       "      <td>24</td>\n",
       "    </tr>\n",
       "  </tbody>\n",
       "</table>\n",
       "</div>"
      ],
      "text/plain": [
       "    gfid            state district          village       lon        lat  \\\n",
       "0  72001  Madhya Pradesh    Dewas   VijayaganjMandi  75.96199  23.218479   \n",
       "1  72001  Madhya Pradesh    Dewas   VijayaganjMandi  75.96199  23.218479   \n",
       "2  72001  Madhya Pradesh    Dewas   VijayaganjMandi  75.96199  23.218479   \n",
       "3  72001  Madhya Pradesh    Dewas   VijayaganjMandi  75.96199  23.218479   \n",
       "4  72001  Madhya Pradesh    Dewas   VijayaganjMandi  75.96199  23.218479   \n",
       "\n",
       "   wheat  datenum        date   ndvi  month  day  \n",
       "0      0        0  2020-10-20  0.186     10   20  \n",
       "1      0        1  2020-10-21  0.184     10   21  \n",
       "2      0        2  2020-10-22  0.183     10   22  \n",
       "3      0        3  2020-10-23  0.182     10   23  \n",
       "4      0        4  2020-10-24  0.181     10   24  "
      ]
     },
     "execution_count": 19,
     "metadata": {},
     "output_type": "execute_result"
    }
   ],
   "source": [
    "data2.head()"
   ]
  },
  {
   "cell_type": "code",
   "execution_count": 20,
   "id": "fc453285",
   "metadata": {
    "ExecuteTime": {
     "end_time": "2022-06-29T19:37:25.547124Z",
     "start_time": "2022-06-29T19:37:25.503243Z"
    }
   },
   "outputs": [],
   "source": [
    "data2 = data2.dropna()"
   ]
  },
  {
   "cell_type": "code",
   "execution_count": 21,
   "id": "695dc8d6",
   "metadata": {
    "ExecuteTime": {
     "end_time": "2022-06-29T19:37:25.562510Z",
     "start_time": "2022-06-29T19:37:25.549192Z"
    }
   },
   "outputs": [
    {
     "data": {
      "text/plain": [
       "(76125, 12)"
      ]
     },
     "execution_count": 21,
     "metadata": {},
     "output_type": "execute_result"
    }
   ],
   "source": [
    "data2.shape"
   ]
  },
  {
   "cell_type": "code",
   "execution_count": 23,
   "id": "33f7bf95",
   "metadata": {
    "ExecuteTime": {
     "end_time": "2022-06-29T19:37:29.258400Z",
     "start_time": "2022-06-29T19:37:25.580949Z"
    }
   },
   "outputs": [],
   "source": [
    "datasets_train, datasets_test, y_train, y_test = custom_split_train_test(data2, data_points, train_ids, test_ids)"
   ]
  },
  {
   "cell_type": "code",
   "execution_count": 24,
   "id": "3465e581",
   "metadata": {
    "ExecuteTime": {
     "end_time": "2022-06-29T19:37:29.289830Z",
     "start_time": "2022-06-29T19:37:29.261336Z"
    }
   },
   "outputs": [],
   "source": [
    "data_train = torch.stack([torch.Tensor(dataset) for dataset in datasets_train])\n",
    "data_test = torch.stack([torch.Tensor(dataset) for dataset in datasets_test])"
   ]
  },
  {
   "cell_type": "code",
   "execution_count": 27,
   "id": "cc12c06a",
   "metadata": {
    "ExecuteTime": {
     "end_time": "2022-06-29T19:37:29.352289Z",
     "start_time": "2022-06-29T19:37:29.340004Z"
    }
   },
   "outputs": [],
   "source": [
    "# Initialize CNN for 2 classes.\n",
    "MyCNN = MyCNN(num_classes=2)"
   ]
  },
  {
   "cell_type": "code",
   "execution_count": 28,
   "id": "cd100dfc",
   "metadata": {
    "ExecuteTime": {
     "end_time": "2022-06-29T19:37:29.367898Z",
     "start_time": "2022-06-29T19:37:29.355269Z"
    }
   },
   "outputs": [],
   "source": [
    "criterion = torch.nn.CrossEntropyLoss() \n",
    "optimizer = torch.optim.Adam(params=MyCNN.parameters(), lr=0.0001)#1, weight_decay=0.5)"
   ]
  },
  {
   "cell_type": "code",
   "execution_count": 29,
   "id": "a362f55e",
   "metadata": {
    "ExecuteTime": {
     "end_time": "2022-06-29T19:37:29.383381Z",
     "start_time": "2022-06-29T19:37:29.372140Z"
    }
   },
   "outputs": [
    {
     "data": {
      "text/plain": [
       "<torch.autograd.anomaly_mode.set_detect_anomaly at 0x24940eb1be0>"
      ]
     },
     "execution_count": 29,
     "metadata": {},
     "output_type": "execute_result"
    }
   ],
   "source": [
    "torch.autograd.set_detect_anomaly(True)"
   ]
  },
  {
   "cell_type": "code",
   "execution_count": 30,
   "id": "8798c788",
   "metadata": {
    "ExecuteTime": {
     "end_time": "2022-06-29T19:37:29.398548Z",
     "start_time": "2022-06-29T19:37:29.386676Z"
    }
   },
   "outputs": [],
   "source": [
    "y_train_tensors = Variable(torch.Tensor(y_train))\n",
    "y_test_tensors = Variable(torch.Tensor(y_test))\n",
    "\n",
    "y_train_tensors = y_train_tensors.type(torch.LongTensor)\n",
    "y_test_tensors = y_test_tensors.type(torch.LongTensor)"
   ]
  },
  {
   "cell_type": "code",
   "execution_count": 31,
   "id": "adaf010e",
   "metadata": {
    "ExecuteTime": {
     "end_time": "2022-06-29T19:37:29.413933Z",
     "start_time": "2022-06-29T19:37:29.401644Z"
    }
   },
   "outputs": [],
   "source": [
    "X = data_train\n",
    "y = y_train_tensors"
   ]
  },
  {
   "cell_type": "code",
   "execution_count": 33,
   "id": "05f0d4e5",
   "metadata": {
    "ExecuteTime": {
     "end_time": "2022-06-29T19:38:01.482097Z",
     "start_time": "2022-06-29T19:37:29.432450Z"
    },
    "scrolled": true
   },
   "outputs": [
    {
     "name": "stdout",
     "output_type": "stream",
     "text": [
      "Epoch: 0, loss: 0.69055\n",
      "Epoch: 1, loss: 0.69177\n",
      "Epoch: 2, loss: 0.69123\n",
      "Epoch: 3, loss: 0.69005\n",
      "Epoch: 4, loss: 0.68600\n",
      "Epoch: 5, loss: 0.68254\n",
      "Epoch: 6, loss: 0.67728\n",
      "Epoch: 7, loss: 0.65779\n",
      "Epoch: 8, loss: 0.65555\n",
      "Epoch: 9, loss: 0.63226\n",
      "Epoch: 10, loss: 0.63890\n",
      "Epoch: 11, loss: 0.65890\n",
      "Epoch: 12, loss: 0.65263\n",
      "Epoch: 13, loss: 0.62813\n",
      "Epoch: 14, loss: 0.64518\n",
      "Epoch: 15, loss: 0.60604\n",
      "Epoch: 16, loss: 0.71959\n",
      "Epoch: 17, loss: 0.54802\n",
      "Epoch: 18, loss: 0.63301\n",
      "Epoch: 19, loss: 0.59190\n",
      "Epoch: 20, loss: 0.61295\n",
      "Epoch: 21, loss: 0.61179\n",
      "Epoch: 22, loss: 0.69637\n",
      "Epoch: 23, loss: 0.68450\n",
      "Epoch: 24, loss: 0.60049\n",
      "Epoch: 25, loss: 0.70719\n",
      "Epoch: 26, loss: 0.58988\n",
      "Epoch: 27, loss: 0.67193\n",
      "Epoch: 28, loss: 0.59992\n",
      "Epoch: 29, loss: 0.60697\n",
      "Epoch: 30, loss: 0.59032\n",
      "Epoch: 31, loss: 0.59542\n",
      "Epoch: 32, loss: 0.56685\n",
      "Epoch: 33, loss: 0.62591\n",
      "Epoch: 34, loss: 0.57419\n",
      "Epoch: 35, loss: 0.56667\n",
      "Epoch: 36, loss: 0.63944\n",
      "Epoch: 37, loss: 0.66478\n",
      "Epoch: 38, loss: 0.61943\n",
      "Epoch: 39, loss: 0.66849\n",
      "Epoch: 40, loss: 0.61690\n",
      "Epoch: 41, loss: 0.61321\n",
      "Epoch: 42, loss: 0.56374\n",
      "Epoch: 43, loss: 0.54403\n",
      "Epoch: 44, loss: 0.57022\n",
      "Epoch: 45, loss: 0.59525\n",
      "Epoch: 46, loss: 0.61687\n",
      "Epoch: 47, loss: 0.55503\n",
      "Epoch: 48, loss: 0.51026\n",
      "Epoch: 49, loss: 0.66094\n",
      "Epoch: 50, loss: 0.59476\n",
      "Epoch: 51, loss: 0.67118\n",
      "Epoch: 52, loss: 0.60043\n",
      "Epoch: 53, loss: 0.59191\n",
      "Epoch: 54, loss: 0.64385\n",
      "Epoch: 55, loss: 0.53971\n",
      "Epoch: 56, loss: 0.63800\n",
      "Epoch: 57, loss: 0.63944\n",
      "Epoch: 58, loss: 0.55600\n",
      "Epoch: 59, loss: 0.71200\n",
      "Epoch: 60, loss: 0.69538\n",
      "Epoch: 61, loss: 0.58008\n",
      "Epoch: 62, loss: 0.60284\n",
      "Epoch: 63, loss: 0.64214\n",
      "Epoch: 64, loss: 0.57562\n",
      "Epoch: 65, loss: 0.64620\n",
      "Epoch: 66, loss: 0.61729\n",
      "Epoch: 67, loss: 0.60423\n",
      "Epoch: 68, loss: 0.60431\n",
      "Epoch: 69, loss: 0.59533\n",
      "Epoch: 70, loss: 0.61727\n",
      "Epoch: 71, loss: 0.50329\n",
      "Epoch: 72, loss: 0.59070\n",
      "Epoch: 73, loss: 0.52347\n",
      "Epoch: 74, loss: 0.54315\n",
      "Epoch: 75, loss: 0.59642\n",
      "Epoch: 76, loss: 0.48563\n",
      "Epoch: 77, loss: 0.54184\n",
      "Epoch: 78, loss: 0.57752\n",
      "Epoch: 79, loss: 0.58329\n",
      "Epoch: 80, loss: 0.54038\n",
      "Epoch: 81, loss: 0.50145\n",
      "Epoch: 82, loss: 0.71171\n",
      "Epoch: 83, loss: 0.54779\n",
      "Epoch: 84, loss: 0.50227\n",
      "Epoch: 85, loss: 0.55141\n",
      "Epoch: 86, loss: 0.70227\n",
      "Epoch: 87, loss: 0.57506\n",
      "Epoch: 88, loss: 0.45471\n",
      "Epoch: 89, loss: 0.66333\n",
      "Epoch: 90, loss: 0.59801\n",
      "Epoch: 91, loss: 0.52085\n",
      "Epoch: 92, loss: 0.53564\n",
      "Epoch: 93, loss: 0.50083\n",
      "Epoch: 94, loss: 0.60132\n",
      "Epoch: 95, loss: 0.61304\n",
      "Epoch: 96, loss: 0.48018\n",
      "Epoch: 97, loss: 0.51436\n",
      "Epoch: 98, loss: 0.48164\n",
      "Epoch: 99, loss: 0.59501\n"
     ]
    }
   ],
   "source": [
    "# Train 100 epochs with batch size 30.\n",
    "res = []\n",
    "n_epochs = 100\n",
    "batch_size = 30\n",
    "\n",
    "for epoch in range(n_epochs):\n",
    "\n",
    "    # X is a torch Variable\n",
    "    permutation = torch.randperm(X.size()[0])\n",
    "\n",
    "    for i in range(0, X.size()[0], batch_size):\n",
    "        optimizer.zero_grad()\n",
    "\n",
    "        indices = permutation[i:i + batch_size]\n",
    "        batch_x, batch_y = X[indices], y[indices]\n",
    "\n",
    "        outputs = MyCNN.forward(batch_x) #forward pass\n",
    "\n",
    "        # obtain the loss function\n",
    "        loss = criterion(outputs, batch_y)\n",
    "        res.append(loss)\n",
    "        loss.backward() #calculates the loss of the loss function\n",
    "\n",
    "        optimizer.step() #improve from loss, i.e backprop\n",
    "    print(\"Epoch: %d, loss: %1.5f\" % (epoch, loss.item())) "
   ]
  },
  {
   "cell_type": "code",
   "execution_count": 34,
   "id": "68b3b17e",
   "metadata": {
    "ExecuteTime": {
     "end_time": "2022-06-29T19:38:01.497143Z",
     "start_time": "2022-06-29T19:38:01.486662Z"
    }
   },
   "outputs": [],
   "source": [
    "X_test_tensors = data_test"
   ]
  },
  {
   "cell_type": "code",
   "execution_count": 35,
   "id": "af81c214",
   "metadata": {
    "ExecuteTime": {
     "end_time": "2022-06-29T19:38:01.558980Z",
     "start_time": "2022-06-29T19:38:01.501640Z"
    }
   },
   "outputs": [],
   "source": [
    "test_predict = MyCNN(X_test_tensors)"
   ]
  },
  {
   "cell_type": "code",
   "execution_count": 37,
   "id": "5d464375",
   "metadata": {
    "ExecuteTime": {
     "end_time": "2022-06-29T19:38:01.606006Z",
     "start_time": "2022-06-29T19:38:01.595355Z"
    }
   },
   "outputs": [
    {
     "data": {
      "text/plain": [
       "tensor([0, 0, 0, 0, 1, 1, 0, 0, 1, 0, 1, 0, 1, 0, 0, 0, 0, 1, 0, 0, 0, 1, 1, 0,\n",
       "        1, 1, 1, 0, 1, 1, 1, 1, 0, 0, 1, 1, 1, 1, 1, 1, 0, 1, 0, 1, 0, 0, 1, 1,\n",
       "        1, 0, 1, 0, 0, 0, 1, 0, 0, 1, 1, 1, 1, 0, 1, 0, 1, 0, 1, 1, 1, 1, 0, 0,\n",
       "        0, 0, 1])"
      ]
     },
     "execution_count": 37,
     "metadata": {},
     "output_type": "execute_result"
    }
   ],
   "source": [
    "test_predict.argmax(dim=1)"
   ]
  },
  {
   "cell_type": "code",
   "execution_count": 38,
   "id": "e891c9aa",
   "metadata": {
    "ExecuteTime": {
     "end_time": "2022-06-29T19:38:01.637069Z",
     "start_time": "2022-06-29T19:38:01.608978Z"
    }
   },
   "outputs": [
    {
     "name": "stdout",
     "output_type": "stream",
     "text": [
      "              precision    recall  f1-score   support\n",
      "\n",
      "           0       0.83      0.75      0.79        40\n",
      "           1       0.74      0.83      0.78        35\n",
      "\n",
      "    accuracy                           0.79        75\n",
      "   macro avg       0.79      0.79      0.79        75\n",
      "weighted avg       0.79      0.79      0.79        75\n",
      "\n"
     ]
    }
   ],
   "source": [
    "print(classification_report(y_test_tensors, torch.argmax(test_predict, dim=1)))"
   ]
  },
  {
   "cell_type": "code",
   "execution_count": 39,
   "id": "e6e213d6",
   "metadata": {
    "ExecuteTime": {
     "end_time": "2022-06-29T19:38:01.651670Z",
     "start_time": "2022-06-29T19:38:01.641563Z"
    }
   },
   "outputs": [
    {
     "data": {
      "text/plain": [
       "0.7866666666666666"
      ]
     },
     "execution_count": 39,
     "metadata": {},
     "output_type": "execute_result"
    }
   ],
   "source": [
    "accuracy_score(y_test_tensors, torch.argmax(test_predict, dim=1))"
   ]
  },
  {
   "cell_type": "code",
   "execution_count": 40,
   "id": "1047f207",
   "metadata": {
    "ExecuteTime": {
     "end_time": "2022-06-29T19:38:01.682904Z",
     "start_time": "2022-06-29T19:38:01.658665Z"
    }
   },
   "outputs": [
    {
     "data": {
      "text/plain": [
       "0.7892857142857143"
      ]
     },
     "execution_count": 40,
     "metadata": {},
     "output_type": "execute_result"
    }
   ],
   "source": [
    "roc_auc_score(y_test_tensors, torch.argmax(test_predict, dim=1))"
   ]
  },
  {
   "cell_type": "markdown",
   "id": "d627b42a",
   "metadata": {},
   "source": [
    "Also get results for train to detest over/under training."
   ]
  },
  {
   "cell_type": "code",
   "execution_count": 41,
   "id": "353d6379",
   "metadata": {
    "ExecuteTime": {
     "end_time": "2022-06-29T19:38:01.791451Z",
     "start_time": "2022-06-29T19:38:01.687170Z"
    }
   },
   "outputs": [],
   "source": [
    "train_predict = MyCNN(X)"
   ]
  },
  {
   "cell_type": "code",
   "execution_count": 42,
   "id": "aba447df",
   "metadata": {
    "ExecuteTime": {
     "end_time": "2022-06-29T19:38:01.822760Z",
     "start_time": "2022-06-29T19:38:01.795574Z"
    }
   },
   "outputs": [
    {
     "name": "stdout",
     "output_type": "stream",
     "text": [
      "              precision    recall  f1-score   support\n",
      "\n",
      "           0       0.77      0.72      0.75       157\n",
      "           1       0.71      0.77      0.74       143\n",
      "\n",
      "    accuracy                           0.74       300\n",
      "   macro avg       0.74      0.74      0.74       300\n",
      "weighted avg       0.75      0.74      0.74       300\n",
      "\n"
     ]
    }
   ],
   "source": [
    "print(classification_report(y_train_tensors, torch.argmax(train_predict, dim=1)))"
   ]
  },
  {
   "cell_type": "code",
   "execution_count": 43,
   "id": "e5b72f3c",
   "metadata": {
    "ExecuteTime": {
     "end_time": "2022-06-29T19:38:01.837901Z",
     "start_time": "2022-06-29T19:38:01.827179Z"
    }
   },
   "outputs": [
    {
     "data": {
      "text/plain": [
       "0.7433333333333333"
      ]
     },
     "execution_count": 43,
     "metadata": {},
     "output_type": "execute_result"
    }
   ],
   "source": [
    "accuracy_score(y_train_tensors, torch.argmax(train_predict, dim=1))"
   ]
  },
  {
   "cell_type": "code",
   "execution_count": 44,
   "id": "393d33f9",
   "metadata": {
    "ExecuteTime": {
     "end_time": "2022-06-29T19:38:01.853401Z",
     "start_time": "2022-06-29T19:38:01.841280Z"
    }
   },
   "outputs": [
    {
     "data": {
      "text/plain": [
       "0.7444879960803528"
      ]
     },
     "execution_count": 44,
     "metadata": {},
     "output_type": "execute_result"
    }
   ],
   "source": [
    "roc_auc_score(y_train_tensors, torch.argmax(train_predict, dim=1))"
   ]
  },
  {
   "cell_type": "markdown",
   "id": "d3650d48",
   "metadata": {},
   "source": [
    "All the results are compared in the presentation. Notebooks are just for the calculations."
   ]
  }
 ],
 "metadata": {
  "kernelspec": {
   "display_name": "Python (ds)",
   "language": "python",
   "name": "ds"
  },
  "language_info": {
   "codemirror_mode": {
    "name": "ipython",
    "version": 3
   },
   "file_extension": ".py",
   "mimetype": "text/x-python",
   "name": "python",
   "nbconvert_exporter": "python",
   "pygments_lexer": "ipython3",
   "version": "3.9.12"
  },
  "toc": {
   "base_numbering": 1,
   "nav_menu": {},
   "number_sections": true,
   "sideBar": true,
   "skip_h1_title": false,
   "title_cell": "Table of Contents",
   "title_sidebar": "Contents",
   "toc_cell": false,
   "toc_position": {},
   "toc_section_display": true,
   "toc_window_display": false
  }
 },
 "nbformat": 4,
 "nbformat_minor": 5
}
