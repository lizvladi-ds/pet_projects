{
 "cells": [
  {
   "cell_type": "markdown",
   "id": "55f4bddb",
   "metadata": {},
   "source": [
    "All the results are compared in the presentation. Notebooks are just for the calculations."
   ]
  },
  {
   "cell_type": "code",
   "execution_count": 1,
   "id": "cf6f7080",
   "metadata": {
    "ExecuteTime": {
     "end_time": "2022-06-29T18:34:02.250805Z",
     "start_time": "2022-06-29T18:33:59.961659Z"
    }
   },
   "outputs": [],
   "source": [
    "import json\n",
    "import numpy as np\n",
    "import os\n",
    "import pandas as pd\n",
    "import torch\n",
    "import torch.nn as nn\n",
    "\n",
    "from models import MyCNN\n",
    "from numpy.random import choice\n",
    "from random import sample\n",
    "from sklearn.metrics import f1_score, accuracy_score, roc_auc_score, classification_report\n",
    "from sklearn.model_selection import train_test_split\n",
    "from torch.autograd import Variable\n",
    "from utils import custom_split_train_test"
   ]
  },
  {
   "cell_type": "code",
   "execution_count": 2,
   "id": "e7aecc13",
   "metadata": {
    "ExecuteTime": {
     "end_time": "2022-06-29T18:34:02.281993Z",
     "start_time": "2022-06-29T18:34:02.253421Z"
    }
   },
   "outputs": [
    {
     "data": {
      "text/plain": [
       "['Dewas_NDVI.csv',\n",
       " 'Dewas_points.csv',\n",
       " 'Kaithal_NDVI.csv',\n",
       " 'Kaithal_points.csv',\n",
       " 'Karnal_NDVI.csv',\n",
       " 'Karnal_points.csv']"
      ]
     },
     "execution_count": 2,
     "metadata": {},
     "output_type": "execute_result"
    }
   ],
   "source": [
    "os.listdir('data')    "
   ]
  },
  {
   "cell_type": "code",
   "execution_count": 3,
   "id": "d86b8c49",
   "metadata": {
    "ExecuteTime": {
     "end_time": "2022-06-29T18:34:02.297271Z",
     "start_time": "2022-06-29T18:34:02.286908Z"
    }
   },
   "outputs": [],
   "source": [
    "data_points = pd.read_csv('data/Karnal_points.csv')"
   ]
  },
  {
   "cell_type": "code",
   "execution_count": 4,
   "id": "afeb444e",
   "metadata": {
    "ExecuteTime": {
     "end_time": "2022-06-29T18:34:02.350996Z",
     "start_time": "2022-06-29T18:34:02.300185Z"
    }
   },
   "outputs": [],
   "source": [
    "data_ndvi = pd.read_csv('data/Karnal_NDVI.csv')"
   ]
  },
  {
   "cell_type": "code",
   "execution_count": 5,
   "id": "a2c474ab",
   "metadata": {
    "ExecuteTime": {
     "end_time": "2022-06-29T18:34:02.382130Z",
     "start_time": "2022-06-29T18:34:02.354418Z"
    }
   },
   "outputs": [],
   "source": [
    "data = data_points.merge(data_ndvi, left_on='gfid', right_on='gfid')"
   ]
  },
  {
   "cell_type": "code",
   "execution_count": 6,
   "id": "86428c4d",
   "metadata": {
    "ExecuteTime": {
     "end_time": "2022-06-29T18:34:17.365693Z",
     "start_time": "2022-06-29T18:34:02.385430Z"
    }
   },
   "outputs": [],
   "source": [
    "data['month'] = data['date'].apply(pd.to_datetime).dt.month\n",
    "data['day'] = data['date'].apply(pd.to_datetime).dt.day"
   ]
  },
  {
   "cell_type": "code",
   "execution_count": 7,
   "id": "e758f1cb",
   "metadata": {
    "ExecuteTime": {
     "end_time": "2022-06-29T18:34:17.397505Z",
     "start_time": "2022-06-29T18:34:17.366694Z"
    }
   },
   "outputs": [
    {
     "data": {
      "text/html": [
       "<div>\n",
       "<style scoped>\n",
       "    .dataframe tbody tr th:only-of-type {\n",
       "        vertical-align: middle;\n",
       "    }\n",
       "\n",
       "    .dataframe tbody tr th {\n",
       "        vertical-align: top;\n",
       "    }\n",
       "\n",
       "    .dataframe thead th {\n",
       "        text-align: right;\n",
       "    }\n",
       "</style>\n",
       "<table border=\"1\" class=\"dataframe\">\n",
       "  <thead>\n",
       "    <tr style=\"text-align: right;\">\n",
       "      <th></th>\n",
       "      <th>gfid</th>\n",
       "      <th>datenum</th>\n",
       "      <th>date</th>\n",
       "      <th>ndvi</th>\n",
       "    </tr>\n",
       "  </thead>\n",
       "  <tbody>\n",
       "    <tr>\n",
       "      <th>0</th>\n",
       "      <td>54001</td>\n",
       "      <td>0</td>\n",
       "      <td>2020-10-20</td>\n",
       "      <td>0.737</td>\n",
       "    </tr>\n",
       "    <tr>\n",
       "      <th>1</th>\n",
       "      <td>54001</td>\n",
       "      <td>1</td>\n",
       "      <td>2020-10-21</td>\n",
       "      <td>0.727</td>\n",
       "    </tr>\n",
       "    <tr>\n",
       "      <th>2</th>\n",
       "      <td>54001</td>\n",
       "      <td>2</td>\n",
       "      <td>2020-10-22</td>\n",
       "      <td>0.714</td>\n",
       "    </tr>\n",
       "    <tr>\n",
       "      <th>3</th>\n",
       "      <td>54001</td>\n",
       "      <td>3</td>\n",
       "      <td>2020-10-23</td>\n",
       "      <td>0.697</td>\n",
       "    </tr>\n",
       "    <tr>\n",
       "      <th>4</th>\n",
       "      <td>54001</td>\n",
       "      <td>4</td>\n",
       "      <td>2020-10-24</td>\n",
       "      <td>0.676</td>\n",
       "    </tr>\n",
       "  </tbody>\n",
       "</table>\n",
       "</div>"
      ],
      "text/plain": [
       "    gfid  datenum        date   ndvi\n",
       "0  54001        0  2020-10-20  0.737\n",
       "1  54001        1  2020-10-21  0.727\n",
       "2  54001        2  2020-10-22  0.714\n",
       "3  54001        3  2020-10-23  0.697\n",
       "4  54001        4  2020-10-24  0.676"
      ]
     },
     "execution_count": 7,
     "metadata": {},
     "output_type": "execute_result"
    }
   ],
   "source": [
    "data_ndvi.head()"
   ]
  },
  {
   "cell_type": "markdown",
   "id": "469280f4",
   "metadata": {},
   "source": [
    "We will take only data with at least 160 values at a time series."
   ]
  },
  {
   "cell_type": "code",
   "execution_count": 8,
   "id": "8e4f02bf",
   "metadata": {
    "ExecuteTime": {
     "end_time": "2022-06-29T18:34:17.599454Z",
     "start_time": "2022-06-29T18:34:17.399501Z"
    }
   },
   "outputs": [],
   "source": [
    "i = 1\n",
    "ids_not_full = []\n",
    "for id_ in data_points['gfid'].values:\n",
    "    shp = data_ndvi[data_ndvi['gfid'] == id_].shape[0]\n",
    "    if shp <= 160:\n",
    "        i += 1\n",
    "        ids_not_full += [id_]"
   ]
  },
  {
   "cell_type": "code",
   "execution_count": 9,
   "id": "b36f497f",
   "metadata": {
    "ExecuteTime": {
     "end_time": "2022-06-29T18:34:17.648675Z",
     "start_time": "2022-06-29T18:34:17.605913Z"
    }
   },
   "outputs": [],
   "source": [
    "# Take onli gfids with at least 160 values.\n",
    "data2 = data[~data['gfid'].isin(ids_not_full)]"
   ]
  },
  {
   "cell_type": "code",
   "execution_count": 10,
   "id": "cc81dbb0",
   "metadata": {
    "ExecuteTime": {
     "end_time": "2022-06-29T18:34:17.665303Z",
     "start_time": "2022-06-29T18:34:17.649175Z"
    }
   },
   "outputs": [],
   "source": [
    "# Remember those gfids.\n",
    "gfids = data2['gfid'].unique()"
   ]
  },
  {
   "cell_type": "code",
   "execution_count": 11,
   "id": "f32b0991",
   "metadata": {
    "ExecuteTime": {
     "end_time": "2022-06-29T18:34:17.690175Z",
     "start_time": "2022-06-29T18:34:17.666301Z"
    }
   },
   "outputs": [],
   "source": [
    "np.random.seed(42)\n",
    "np.random.shuffle(gfids)\n",
    "\n",
    "# Randomly split data into train and test.\n",
    "train_ids = gfids[:210]\n",
    "test_ids = gfids[210:]"
   ]
  },
  {
   "cell_type": "code",
   "execution_count": 12,
   "id": "d47a4a50",
   "metadata": {
    "ExecuteTime": {
     "end_time": "2022-06-29T18:34:17.715200Z",
     "start_time": "2022-06-29T18:34:17.691855Z"
    }
   },
   "outputs": [],
   "source": [
    "# Save train and test gfids for classic ML experiments.\n",
    "indices = {}\n",
    "indices['train'] = list([int(x) for x in train_ids])\n",
    "indices['test'] = list([int(x) for x in test_ids])\n",
    "\n",
    "with open('Karnal.json', 'w') as f:\n",
    "    json.dump(indices, f)"
   ]
  },
  {
   "cell_type": "code",
   "execution_count": 17,
   "id": "8b0240ea",
   "metadata": {
    "ExecuteTime": {
     "end_time": "2022-06-29T18:34:17.846955Z",
     "start_time": "2022-06-29T18:34:17.817869Z"
    }
   },
   "outputs": [
    {
     "data": {
      "text/html": [
       "<div>\n",
       "<style scoped>\n",
       "    .dataframe tbody tr th:only-of-type {\n",
       "        vertical-align: middle;\n",
       "    }\n",
       "\n",
       "    .dataframe tbody tr th {\n",
       "        vertical-align: top;\n",
       "    }\n",
       "\n",
       "    .dataframe thead th {\n",
       "        text-align: right;\n",
       "    }\n",
       "</style>\n",
       "<table border=\"1\" class=\"dataframe\">\n",
       "  <thead>\n",
       "    <tr style=\"text-align: right;\">\n",
       "      <th></th>\n",
       "      <th>gfid</th>\n",
       "      <th>state</th>\n",
       "      <th>district</th>\n",
       "      <th>village</th>\n",
       "      <th>lon</th>\n",
       "      <th>lat</th>\n",
       "      <th>wheat</th>\n",
       "      <th>datenum</th>\n",
       "      <th>date</th>\n",
       "      <th>ndvi</th>\n",
       "      <th>month</th>\n",
       "      <th>day</th>\n",
       "    </tr>\n",
       "  </thead>\n",
       "  <tbody>\n",
       "    <tr>\n",
       "      <th>0</th>\n",
       "      <td>54001</td>\n",
       "      <td>Haryana</td>\n",
       "      <td>Karnal</td>\n",
       "      <td>Kabulpur Khera</td>\n",
       "      <td>76.707176</td>\n",
       "      <td>29.55072</td>\n",
       "      <td>1</td>\n",
       "      <td>0</td>\n",
       "      <td>2020-10-20</td>\n",
       "      <td>0.737</td>\n",
       "      <td>10</td>\n",
       "      <td>20</td>\n",
       "    </tr>\n",
       "    <tr>\n",
       "      <th>1</th>\n",
       "      <td>54001</td>\n",
       "      <td>Haryana</td>\n",
       "      <td>Karnal</td>\n",
       "      <td>Kabulpur Khera</td>\n",
       "      <td>76.707176</td>\n",
       "      <td>29.55072</td>\n",
       "      <td>1</td>\n",
       "      <td>1</td>\n",
       "      <td>2020-10-21</td>\n",
       "      <td>0.727</td>\n",
       "      <td>10</td>\n",
       "      <td>21</td>\n",
       "    </tr>\n",
       "    <tr>\n",
       "      <th>2</th>\n",
       "      <td>54001</td>\n",
       "      <td>Haryana</td>\n",
       "      <td>Karnal</td>\n",
       "      <td>Kabulpur Khera</td>\n",
       "      <td>76.707176</td>\n",
       "      <td>29.55072</td>\n",
       "      <td>1</td>\n",
       "      <td>2</td>\n",
       "      <td>2020-10-22</td>\n",
       "      <td>0.714</td>\n",
       "      <td>10</td>\n",
       "      <td>22</td>\n",
       "    </tr>\n",
       "    <tr>\n",
       "      <th>3</th>\n",
       "      <td>54001</td>\n",
       "      <td>Haryana</td>\n",
       "      <td>Karnal</td>\n",
       "      <td>Kabulpur Khera</td>\n",
       "      <td>76.707176</td>\n",
       "      <td>29.55072</td>\n",
       "      <td>1</td>\n",
       "      <td>3</td>\n",
       "      <td>2020-10-23</td>\n",
       "      <td>0.697</td>\n",
       "      <td>10</td>\n",
       "      <td>23</td>\n",
       "    </tr>\n",
       "    <tr>\n",
       "      <th>4</th>\n",
       "      <td>54001</td>\n",
       "      <td>Haryana</td>\n",
       "      <td>Karnal</td>\n",
       "      <td>Kabulpur Khera</td>\n",
       "      <td>76.707176</td>\n",
       "      <td>29.55072</td>\n",
       "      <td>1</td>\n",
       "      <td>4</td>\n",
       "      <td>2020-10-24</td>\n",
       "      <td>0.676</td>\n",
       "      <td>10</td>\n",
       "      <td>24</td>\n",
       "    </tr>\n",
       "  </tbody>\n",
       "</table>\n",
       "</div>"
      ],
      "text/plain": [
       "    gfid     state district         village        lon       lat  wheat  \\\n",
       "0  54001  Haryana   Karnal   Kabulpur Khera  76.707176  29.55072      1   \n",
       "1  54001  Haryana   Karnal   Kabulpur Khera  76.707176  29.55072      1   \n",
       "2  54001  Haryana   Karnal   Kabulpur Khera  76.707176  29.55072      1   \n",
       "3  54001  Haryana   Karnal   Kabulpur Khera  76.707176  29.55072      1   \n",
       "4  54001  Haryana   Karnal   Kabulpur Khera  76.707176  29.55072      1   \n",
       "\n",
       "   datenum        date   ndvi  month  day  \n",
       "0        0  2020-10-20  0.737     10   20  \n",
       "1        1  2020-10-21  0.727     10   21  \n",
       "2        2  2020-10-22  0.714     10   22  \n",
       "3        3  2020-10-23  0.697     10   23  \n",
       "4        4  2020-10-24  0.676     10   24  "
      ]
     },
     "execution_count": 17,
     "metadata": {},
     "output_type": "execute_result"
    }
   ],
   "source": [
    "data2.head()"
   ]
  },
  {
   "cell_type": "code",
   "execution_count": 18,
   "id": "fc453285",
   "metadata": {
    "ExecuteTime": {
     "end_time": "2022-06-29T18:34:17.872175Z",
     "start_time": "2022-06-29T18:34:17.848995Z"
    }
   },
   "outputs": [],
   "source": [
    "data2 = data2.dropna()"
   ]
  },
  {
   "cell_type": "code",
   "execution_count": 19,
   "id": "695dc8d6",
   "metadata": {
    "ExecuteTime": {
     "end_time": "2022-06-29T18:34:17.887851Z",
     "start_time": "2022-06-29T18:34:17.872823Z"
    }
   },
   "outputs": [
    {
     "data": {
      "text/plain": [
       "(53505, 12)"
      ]
     },
     "execution_count": 19,
     "metadata": {},
     "output_type": "execute_result"
    }
   ],
   "source": [
    "data2.shape"
   ]
  },
  {
   "cell_type": "code",
   "execution_count": null,
   "id": "857e5eac",
   "metadata": {},
   "outputs": [],
   "source": [
    "datasets_train, datasets_test, y_train, y_test = custom_split_train_test(data2, data_points, train_ids, test_ids)"
   ]
  },
  {
   "cell_type": "code",
   "execution_count": 22,
   "id": "3465e581",
   "metadata": {
    "ExecuteTime": {
     "end_time": "2022-06-29T18:34:22.332022Z",
     "start_time": "2022-06-29T18:34:22.299930Z"
    }
   },
   "outputs": [],
   "source": [
    "data_train = torch.stack([torch.Tensor(dataset) for dataset in datasets_train])\n",
    "data_test = torch.stack([torch.Tensor(dataset) for dataset in datasets_test])"
   ]
  },
  {
   "cell_type": "code",
   "execution_count": 25,
   "id": "cc12c06a",
   "metadata": {
    "ExecuteTime": {
     "end_time": "2022-06-29T18:34:22.398417Z",
     "start_time": "2022-06-29T18:34:22.383808Z"
    }
   },
   "outputs": [],
   "source": [
    "# Initialize CNN for 2 classes.\n",
    "MyCNN = MyCNN(num_classes=2)"
   ]
  },
  {
   "cell_type": "code",
   "execution_count": 26,
   "id": "cd100dfc",
   "metadata": {
    "ExecuteTime": {
     "end_time": "2022-06-29T18:34:22.430528Z",
     "start_time": "2022-06-29T18:34:22.400502Z"
    }
   },
   "outputs": [],
   "source": [
    "criterion = torch.nn.CrossEntropyLoss() \n",
    "optimizer = torch.optim.Adam(params=MyCNN.parameters(), lr=0.0001)"
   ]
  },
  {
   "cell_type": "code",
   "execution_count": 27,
   "id": "a362f55e",
   "metadata": {
    "ExecuteTime": {
     "end_time": "2022-06-29T18:34:22.457106Z",
     "start_time": "2022-06-29T18:34:22.438956Z"
    }
   },
   "outputs": [
    {
     "data": {
      "text/plain": [
       "<torch.autograd.anomaly_mode.set_detect_anomaly at 0x227f5274dc0>"
      ]
     },
     "execution_count": 27,
     "metadata": {},
     "output_type": "execute_result"
    }
   ],
   "source": [
    "torch.autograd.set_detect_anomaly(True)"
   ]
  },
  {
   "cell_type": "code",
   "execution_count": 28,
   "id": "8798c788",
   "metadata": {
    "ExecuteTime": {
     "end_time": "2022-06-29T18:34:22.481527Z",
     "start_time": "2022-06-29T18:34:22.458361Z"
    }
   },
   "outputs": [],
   "source": [
    "y_train_tensors = Variable(torch.Tensor(y_train))\n",
    "y_test_tensors = Variable(torch.Tensor(y_test))\n",
    "\n",
    "y_train_tensors = y_train_tensors.type(torch.LongTensor)\n",
    "y_test_tensors = y_test_tensors.type(torch.LongTensor)"
   ]
  },
  {
   "cell_type": "code",
   "execution_count": 29,
   "id": "adaf010e",
   "metadata": {
    "ExecuteTime": {
     "end_time": "2022-06-29T18:34:22.498310Z",
     "start_time": "2022-06-29T18:34:22.483027Z"
    }
   },
   "outputs": [],
   "source": [
    "X = data_train\n",
    "y = y_train_tensors"
   ]
  },
  {
   "cell_type": "code",
   "execution_count": 30,
   "id": "05f0d4e5",
   "metadata": {
    "ExecuteTime": {
     "end_time": "2022-06-29T18:34:51.160788Z",
     "start_time": "2022-06-29T18:34:22.499304Z"
    },
    "scrolled": true
   },
   "outputs": [
    {
     "name": "stdout",
     "output_type": "stream",
     "text": [
      "Epoch: 0, loss: 0.68721\n",
      "Epoch: 1, loss: 0.67702\n",
      "Epoch: 2, loss: 0.69775\n",
      "Epoch: 3, loss: 0.67789\n",
      "Epoch: 4, loss: 0.70636\n",
      "Epoch: 5, loss: 0.67549\n",
      "Epoch: 6, loss: 0.63633\n",
      "Epoch: 7, loss: 0.69148\n",
      "Epoch: 8, loss: 0.68334\n",
      "Epoch: 9, loss: 0.68927\n",
      "Epoch: 10, loss: 0.68439\n",
      "Epoch: 11, loss: 0.64875\n",
      "Epoch: 12, loss: 0.62527\n",
      "Epoch: 13, loss: 0.64275\n",
      "Epoch: 14, loss: 0.64285\n",
      "Epoch: 15, loss: 0.70570\n",
      "Epoch: 16, loss: 0.61031\n",
      "Epoch: 17, loss: 0.63051\n",
      "Epoch: 18, loss: 0.59401\n",
      "Epoch: 19, loss: 0.65769\n",
      "Epoch: 20, loss: 0.63224\n",
      "Epoch: 21, loss: 0.54587\n",
      "Epoch: 22, loss: 0.62619\n",
      "Epoch: 23, loss: 0.62445\n",
      "Epoch: 24, loss: 0.57957\n",
      "Epoch: 25, loss: 0.62494\n",
      "Epoch: 26, loss: 0.64481\n",
      "Epoch: 27, loss: 0.58387\n",
      "Epoch: 28, loss: 0.73108\n",
      "Epoch: 29, loss: 0.60892\n",
      "Epoch: 30, loss: 0.66149\n",
      "Epoch: 31, loss: 0.60979\n",
      "Epoch: 32, loss: 0.62212\n",
      "Epoch: 33, loss: 0.48903\n",
      "Epoch: 34, loss: 0.64950\n",
      "Epoch: 35, loss: 0.69438\n",
      "Epoch: 36, loss: 0.75232\n",
      "Epoch: 37, loss: 0.51765\n",
      "Epoch: 38, loss: 0.58584\n",
      "Epoch: 39, loss: 0.53924\n",
      "Epoch: 40, loss: 0.54506\n",
      "Epoch: 41, loss: 0.63303\n",
      "Epoch: 42, loss: 0.56021\n",
      "Epoch: 43, loss: 0.57984\n",
      "Epoch: 44, loss: 0.59973\n",
      "Epoch: 45, loss: 0.60958\n",
      "Epoch: 46, loss: 0.64998\n",
      "Epoch: 47, loss: 0.57191\n",
      "Epoch: 48, loss: 0.57474\n",
      "Epoch: 49, loss: 0.69083\n",
      "Epoch: 50, loss: 0.55813\n",
      "Epoch: 51, loss: 0.61133\n",
      "Epoch: 52, loss: 0.51338\n",
      "Epoch: 53, loss: 0.60251\n",
      "Epoch: 54, loss: 0.69525\n",
      "Epoch: 55, loss: 0.55007\n",
      "Epoch: 56, loss: 0.57081\n",
      "Epoch: 57, loss: 0.60246\n",
      "Epoch: 58, loss: 0.60770\n",
      "Epoch: 59, loss: 0.57724\n",
      "Epoch: 60, loss: 0.54168\n",
      "Epoch: 61, loss: 0.55009\n",
      "Epoch: 62, loss: 0.54757\n",
      "Epoch: 63, loss: 0.66090\n",
      "Epoch: 64, loss: 0.56248\n",
      "Epoch: 65, loss: 0.71090\n",
      "Epoch: 66, loss: 0.66055\n",
      "Epoch: 67, loss: 0.67821\n",
      "Epoch: 68, loss: 0.69691\n",
      "Epoch: 69, loss: 0.58080\n",
      "Epoch: 70, loss: 0.54809\n",
      "Epoch: 71, loss: 0.53325\n",
      "Epoch: 72, loss: 0.55681\n",
      "Epoch: 73, loss: 0.61601\n",
      "Epoch: 74, loss: 0.72081\n",
      "Epoch: 75, loss: 0.59535\n",
      "Epoch: 76, loss: 0.69081\n",
      "Epoch: 77, loss: 0.47809\n",
      "Epoch: 78, loss: 0.50201\n",
      "Epoch: 79, loss: 0.68360\n",
      "Epoch: 80, loss: 0.65737\n",
      "Epoch: 81, loss: 0.56799\n",
      "Epoch: 82, loss: 0.53310\n",
      "Epoch: 83, loss: 0.66487\n",
      "Epoch: 84, loss: 0.50434\n",
      "Epoch: 85, loss: 0.61459\n",
      "Epoch: 86, loss: 0.57521\n",
      "Epoch: 87, loss: 0.57549\n",
      "Epoch: 88, loss: 0.53092\n",
      "Epoch: 89, loss: 0.64073\n",
      "Epoch: 90, loss: 0.60486\n",
      "Epoch: 91, loss: 0.53578\n",
      "Epoch: 92, loss: 0.56814\n",
      "Epoch: 93, loss: 0.62449\n",
      "Epoch: 94, loss: 0.49427\n",
      "Epoch: 95, loss: 0.53768\n",
      "Epoch: 96, loss: 0.61735\n",
      "Epoch: 97, loss: 0.66821\n",
      "Epoch: 98, loss: 0.61829\n",
      "Epoch: 99, loss: 0.66027\n"
     ]
    }
   ],
   "source": [
    "# Train 100 epochs with batch size 30.\n",
    "res = []\n",
    "n_epochs = 100\n",
    "batch_size = 30\n",
    "\n",
    "for epoch in range(n_epochs):\n",
    "\n",
    "    # X is a torch Variable\n",
    "    permutation = torch.randperm(X.size()[0])\n",
    "\n",
    "    for i in range(0, X.size()[0], batch_size):\n",
    "        optimizer.zero_grad()\n",
    "\n",
    "        indices = permutation[i:i + batch_size]\n",
    "        batch_x, batch_y = X[indices], y[indices]\n",
    "\n",
    "        outputs = MyCNN.forward(batch_x) #forward pass\n",
    "\n",
    "        # obtain the loss function\n",
    "        loss = criterion(outputs, batch_y)\n",
    "        res.append(loss)\n",
    "        loss.backward() #calculates the loss of the loss function\n",
    "\n",
    "        optimizer.step() #improve from loss, i.e backprop\n",
    "    print(\"Epoch: %d, loss: %1.5f\" % (epoch, loss.item())) "
   ]
  },
  {
   "cell_type": "code",
   "execution_count": 31,
   "id": "68b3b17e",
   "metadata": {
    "ExecuteTime": {
     "end_time": "2022-06-29T18:34:51.176448Z",
     "start_time": "2022-06-29T18:34:51.163372Z"
    }
   },
   "outputs": [],
   "source": [
    "X_test_tensors = data_test"
   ]
  },
  {
   "cell_type": "code",
   "execution_count": 32,
   "id": "af81c214",
   "metadata": {
    "ExecuteTime": {
     "end_time": "2022-06-29T18:34:51.262414Z",
     "start_time": "2022-06-29T18:34:51.180249Z"
    }
   },
   "outputs": [],
   "source": [
    "test_predict = MyCNN(X_test_tensors)"
   ]
  },
  {
   "cell_type": "code",
   "execution_count": 34,
   "id": "5d464375",
   "metadata": {
    "ExecuteTime": {
     "end_time": "2022-06-29T18:34:51.306024Z",
     "start_time": "2022-06-29T18:34:51.294129Z"
    }
   },
   "outputs": [
    {
     "data": {
      "text/plain": [
       "tensor([0, 1, 0, 1, 1, 1, 0, 1, 1, 1, 0, 1, 0, 1, 0, 1, 1, 0, 0, 0, 1, 0, 1, 0,\n",
       "        1, 1, 1, 1, 0, 1, 1, 1, 1, 0, 1, 1, 0, 1, 1, 0, 1, 1, 0, 1, 0, 1, 0, 0,\n",
       "        1, 0, 1, 1, 1, 1, 1, 0, 0, 1])"
      ]
     },
     "execution_count": 34,
     "metadata": {},
     "output_type": "execute_result"
    }
   ],
   "source": [
    "test_predict.argmax(dim=1)"
   ]
  },
  {
   "cell_type": "code",
   "execution_count": 35,
   "id": "e891c9aa",
   "metadata": {
    "ExecuteTime": {
     "end_time": "2022-06-29T18:34:51.334589Z",
     "start_time": "2022-06-29T18:34:51.309289Z"
    }
   },
   "outputs": [
    {
     "name": "stdout",
     "output_type": "stream",
     "text": [
      "              precision    recall  f1-score   support\n",
      "\n",
      "           0       0.64      0.70      0.67        20\n",
      "           1       0.83      0.79      0.81        38\n",
      "\n",
      "    accuracy                           0.76        58\n",
      "   macro avg       0.73      0.74      0.74        58\n",
      "weighted avg       0.77      0.76      0.76        58\n",
      "\n"
     ]
    }
   ],
   "source": [
    "print(classification_report(y_test_tensors, torch.argmax(test_predict, dim=1)))"
   ]
  },
  {
   "cell_type": "code",
   "execution_count": 36,
   "id": "e8737164",
   "metadata": {
    "ExecuteTime": {
     "end_time": "2022-06-29T18:34:51.349464Z",
     "start_time": "2022-06-29T18:34:51.336588Z"
    }
   },
   "outputs": [
    {
     "data": {
      "text/plain": [
       "0.7586206896551724"
      ]
     },
     "execution_count": 36,
     "metadata": {},
     "output_type": "execute_result"
    }
   ],
   "source": [
    "accuracy_score(y_test_tensors, torch.argmax(test_predict, dim=1))"
   ]
  },
  {
   "cell_type": "code",
   "execution_count": 37,
   "id": "f0e11f3c",
   "metadata": {
    "ExecuteTime": {
     "end_time": "2022-06-29T18:34:51.364977Z",
     "start_time": "2022-06-29T18:34:51.353027Z"
    }
   },
   "outputs": [
    {
     "data": {
      "text/plain": [
       "0.7447368421052631"
      ]
     },
     "execution_count": 37,
     "metadata": {},
     "output_type": "execute_result"
    }
   ],
   "source": [
    "roc_auc_score(y_test_tensors, torch.argmax(test_predict, dim=1))"
   ]
  },
  {
   "cell_type": "markdown",
   "id": "8d6da328",
   "metadata": {},
   "source": [
    "Also get results for train to detest over/under training."
   ]
  },
  {
   "cell_type": "code",
   "execution_count": 38,
   "id": "353d6379",
   "metadata": {
    "ExecuteTime": {
     "end_time": "2022-06-29T18:34:51.426807Z",
     "start_time": "2022-06-29T18:34:51.367296Z"
    }
   },
   "outputs": [],
   "source": [
    "train_predict = MyCNN(X)"
   ]
  },
  {
   "cell_type": "code",
   "execution_count": 39,
   "id": "aba447df",
   "metadata": {
    "ExecuteTime": {
     "end_time": "2022-06-29T18:34:51.458526Z",
     "start_time": "2022-06-29T18:34:51.429299Z"
    }
   },
   "outputs": [
    {
     "name": "stdout",
     "output_type": "stream",
     "text": [
      "              precision    recall  f1-score   support\n",
      "\n",
      "           0       0.68      0.67      0.67        88\n",
      "           1       0.76      0.77      0.77       122\n",
      "\n",
      "    accuracy                           0.73       210\n",
      "   macro avg       0.72      0.72      0.72       210\n",
      "weighted avg       0.73      0.73      0.73       210\n",
      "\n"
     ]
    }
   ],
   "source": [
    "print(classification_report(y_train_tensors, torch.argmax(train_predict, dim=1)))"
   ]
  },
  {
   "cell_type": "code",
   "execution_count": 40,
   "id": "f735b97d",
   "metadata": {
    "ExecuteTime": {
     "end_time": "2022-06-29T18:34:51.473834Z",
     "start_time": "2022-06-29T18:34:51.461392Z"
    }
   },
   "outputs": [
    {
     "data": {
      "text/plain": [
       "0.7285714285714285"
      ]
     },
     "execution_count": 40,
     "metadata": {},
     "output_type": "execute_result"
    }
   ],
   "source": [
    "accuracy_score(y_train_tensors, torch.argmax(train_predict, dim=1))"
   ]
  },
  {
   "cell_type": "code",
   "execution_count": 41,
   "id": "22b00e92",
   "metadata": {
    "ExecuteTime": {
     "end_time": "2022-06-29T18:34:51.488777Z",
     "start_time": "2022-06-29T18:34:51.476010Z"
    }
   },
   "outputs": [
    {
     "data": {
      "text/plain": [
       "0.720473174366617"
      ]
     },
     "execution_count": 41,
     "metadata": {},
     "output_type": "execute_result"
    }
   ],
   "source": [
    "roc_auc_score(y_train_tensors, torch.argmax(train_predict, dim=1))"
   ]
  },
  {
   "cell_type": "markdown",
   "id": "999c9fee",
   "metadata": {},
   "source": [
    "All the results are compared in the presentation. Notebooks are just for the calculations."
   ]
  }
 ],
 "metadata": {
  "kernelspec": {
   "display_name": "Python (ds)",
   "language": "python",
   "name": "ds"
  },
  "language_info": {
   "codemirror_mode": {
    "name": "ipython",
    "version": 3
   },
   "file_extension": ".py",
   "mimetype": "text/x-python",
   "name": "python",
   "nbconvert_exporter": "python",
   "pygments_lexer": "ipython3",
   "version": "3.9.12"
  },
  "toc": {
   "base_numbering": 1,
   "nav_menu": {},
   "number_sections": true,
   "sideBar": true,
   "skip_h1_title": false,
   "title_cell": "Table of Contents",
   "title_sidebar": "Contents",
   "toc_cell": false,
   "toc_position": {},
   "toc_section_display": true,
   "toc_window_display": false
  }
 },
 "nbformat": 4,
 "nbformat_minor": 5
}
