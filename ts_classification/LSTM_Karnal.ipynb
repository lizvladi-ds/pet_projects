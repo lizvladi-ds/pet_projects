{
 "cells": [
  {
   "cell_type": "markdown",
   "id": "a2982813",
   "metadata": {},
   "source": [
    "All the results are compared in the presentation. Notebooks are just for the calculations."
   ]
  },
  {
   "cell_type": "code",
   "execution_count": 25,
   "id": "cf6f7080",
   "metadata": {
    "ExecuteTime": {
     "end_time": "2022-06-29T20:08:00.682074Z",
     "start_time": "2022-06-29T20:08:00.669254Z"
    }
   },
   "outputs": [],
   "source": [
    "import json\n",
    "import numpy as np\n",
    "import os\n",
    "import pandas as pd\n",
    "import torch\n",
    "import torch.nn as nn\n",
    "\n",
    "from models import MyLSTM\n",
    "from numpy.random import choice\n",
    "from random import sample\n",
    "from sklearn.metrics import f1_score, accuracy_score, roc_auc_score, classification_report\n",
    "from sklearn.model_selection import train_test_split\n",
    "from torch.autograd import Variable\n",
    "from utils import custom_split_train_test"
   ]
  },
  {
   "cell_type": "code",
   "execution_count": 2,
   "id": "91d2cf6c",
   "metadata": {
    "ExecuteTime": {
     "end_time": "2022-06-29T20:05:26.284965Z",
     "start_time": "2022-06-29T20:05:26.270845Z"
    }
   },
   "outputs": [],
   "source": [
    "district ='Karnal'"
   ]
  },
  {
   "cell_type": "code",
   "execution_count": 3,
   "id": "e7aecc13",
   "metadata": {
    "ExecuteTime": {
     "end_time": "2022-06-29T20:05:26.300190Z",
     "start_time": "2022-06-29T20:05:26.287191Z"
    }
   },
   "outputs": [
    {
     "data": {
      "text/plain": [
       "['Dewas_NDVI.csv',\n",
       " 'Dewas_points.csv',\n",
       " 'Kaithal_NDVI.csv',\n",
       " 'Kaithal_points.csv',\n",
       " 'Karnal_NDVI.csv',\n",
       " 'Karnal_points.csv']"
      ]
     },
     "execution_count": 3,
     "metadata": {},
     "output_type": "execute_result"
    }
   ],
   "source": [
    "os.listdir('data')    "
   ]
  },
  {
   "cell_type": "code",
   "execution_count": 4,
   "id": "d86b8c49",
   "metadata": {
    "ExecuteTime": {
     "end_time": "2022-06-29T20:05:26.316198Z",
     "start_time": "2022-06-29T20:05:26.301195Z"
    }
   },
   "outputs": [],
   "source": [
    "data_points = pd.read_csv(f'data/{district}_points.csv')"
   ]
  },
  {
   "cell_type": "code",
   "execution_count": 5,
   "id": "afeb444e",
   "metadata": {
    "ExecuteTime": {
     "end_time": "2022-06-29T20:05:26.346567Z",
     "start_time": "2022-06-29T20:05:26.319197Z"
    }
   },
   "outputs": [],
   "source": [
    "data_ndvi = pd.read_csv(f'data/{district}_NDVI.csv')"
   ]
  },
  {
   "cell_type": "code",
   "execution_count": 6,
   "id": "a2c474ab",
   "metadata": {
    "ExecuteTime": {
     "end_time": "2022-06-29T20:05:26.377637Z",
     "start_time": "2022-06-29T20:05:26.348678Z"
    }
   },
   "outputs": [],
   "source": [
    "data = data_points.merge(data_ndvi, left_on='gfid', right_on='gfid')"
   ]
  },
  {
   "cell_type": "code",
   "execution_count": 7,
   "id": "86428c4d",
   "metadata": {
    "ExecuteTime": {
     "end_time": "2022-06-29T20:05:26.393522Z",
     "start_time": "2022-06-29T20:05:26.379521Z"
    }
   },
   "outputs": [
    {
     "data": {
      "text/html": [
       "<div>\n",
       "<style scoped>\n",
       "    .dataframe tbody tr th:only-of-type {\n",
       "        vertical-align: middle;\n",
       "    }\n",
       "\n",
       "    .dataframe tbody tr th {\n",
       "        vertical-align: top;\n",
       "    }\n",
       "\n",
       "    .dataframe thead th {\n",
       "        text-align: right;\n",
       "    }\n",
       "</style>\n",
       "<table border=\"1\" class=\"dataframe\">\n",
       "  <thead>\n",
       "    <tr style=\"text-align: right;\">\n",
       "      <th></th>\n",
       "      <th>gfid</th>\n",
       "      <th>state</th>\n",
       "      <th>district</th>\n",
       "      <th>village</th>\n",
       "      <th>lon</th>\n",
       "      <th>lat</th>\n",
       "      <th>wheat</th>\n",
       "      <th>datenum</th>\n",
       "      <th>date</th>\n",
       "      <th>ndvi</th>\n",
       "    </tr>\n",
       "  </thead>\n",
       "  <tbody>\n",
       "    <tr>\n",
       "      <th>0</th>\n",
       "      <td>54001</td>\n",
       "      <td>Haryana</td>\n",
       "      <td>Karnal</td>\n",
       "      <td>Kabulpur Khera</td>\n",
       "      <td>76.707176</td>\n",
       "      <td>29.55072</td>\n",
       "      <td>1</td>\n",
       "      <td>0</td>\n",
       "      <td>2020-10-20</td>\n",
       "      <td>0.737</td>\n",
       "    </tr>\n",
       "    <tr>\n",
       "      <th>1</th>\n",
       "      <td>54001</td>\n",
       "      <td>Haryana</td>\n",
       "      <td>Karnal</td>\n",
       "      <td>Kabulpur Khera</td>\n",
       "      <td>76.707176</td>\n",
       "      <td>29.55072</td>\n",
       "      <td>1</td>\n",
       "      <td>1</td>\n",
       "      <td>2020-10-21</td>\n",
       "      <td>0.727</td>\n",
       "    </tr>\n",
       "    <tr>\n",
       "      <th>2</th>\n",
       "      <td>54001</td>\n",
       "      <td>Haryana</td>\n",
       "      <td>Karnal</td>\n",
       "      <td>Kabulpur Khera</td>\n",
       "      <td>76.707176</td>\n",
       "      <td>29.55072</td>\n",
       "      <td>1</td>\n",
       "      <td>2</td>\n",
       "      <td>2020-10-22</td>\n",
       "      <td>0.714</td>\n",
       "    </tr>\n",
       "    <tr>\n",
       "      <th>3</th>\n",
       "      <td>54001</td>\n",
       "      <td>Haryana</td>\n",
       "      <td>Karnal</td>\n",
       "      <td>Kabulpur Khera</td>\n",
       "      <td>76.707176</td>\n",
       "      <td>29.55072</td>\n",
       "      <td>1</td>\n",
       "      <td>3</td>\n",
       "      <td>2020-10-23</td>\n",
       "      <td>0.697</td>\n",
       "    </tr>\n",
       "    <tr>\n",
       "      <th>4</th>\n",
       "      <td>54001</td>\n",
       "      <td>Haryana</td>\n",
       "      <td>Karnal</td>\n",
       "      <td>Kabulpur Khera</td>\n",
       "      <td>76.707176</td>\n",
       "      <td>29.55072</td>\n",
       "      <td>1</td>\n",
       "      <td>4</td>\n",
       "      <td>2020-10-24</td>\n",
       "      <td>0.676</td>\n",
       "    </tr>\n",
       "  </tbody>\n",
       "</table>\n",
       "</div>"
      ],
      "text/plain": [
       "    gfid     state district         village        lon       lat  wheat  \\\n",
       "0  54001  Haryana   Karnal   Kabulpur Khera  76.707176  29.55072      1   \n",
       "1  54001  Haryana   Karnal   Kabulpur Khera  76.707176  29.55072      1   \n",
       "2  54001  Haryana   Karnal   Kabulpur Khera  76.707176  29.55072      1   \n",
       "3  54001  Haryana   Karnal   Kabulpur Khera  76.707176  29.55072      1   \n",
       "4  54001  Haryana   Karnal   Kabulpur Khera  76.707176  29.55072      1   \n",
       "\n",
       "   datenum        date   ndvi  \n",
       "0        0  2020-10-20  0.737  \n",
       "1        1  2020-10-21  0.727  \n",
       "2        2  2020-10-22  0.714  \n",
       "3        3  2020-10-23  0.697  \n",
       "4        4  2020-10-24  0.676  "
      ]
     },
     "execution_count": 7,
     "metadata": {},
     "output_type": "execute_result"
    }
   ],
   "source": [
    "data.head()"
   ]
  },
  {
   "cell_type": "code",
   "execution_count": 8,
   "id": "e758f1cb",
   "metadata": {
    "ExecuteTime": {
     "end_time": "2022-06-29T20:05:26.409522Z",
     "start_time": "2022-06-29T20:05:26.395517Z"
    }
   },
   "outputs": [
    {
     "data": {
      "text/html": [
       "<div>\n",
       "<style scoped>\n",
       "    .dataframe tbody tr th:only-of-type {\n",
       "        vertical-align: middle;\n",
       "    }\n",
       "\n",
       "    .dataframe tbody tr th {\n",
       "        vertical-align: top;\n",
       "    }\n",
       "\n",
       "    .dataframe thead th {\n",
       "        text-align: right;\n",
       "    }\n",
       "</style>\n",
       "<table border=\"1\" class=\"dataframe\">\n",
       "  <thead>\n",
       "    <tr style=\"text-align: right;\">\n",
       "      <th></th>\n",
       "      <th>gfid</th>\n",
       "      <th>datenum</th>\n",
       "      <th>date</th>\n",
       "      <th>ndvi</th>\n",
       "    </tr>\n",
       "  </thead>\n",
       "  <tbody>\n",
       "    <tr>\n",
       "      <th>0</th>\n",
       "      <td>54001</td>\n",
       "      <td>0</td>\n",
       "      <td>2020-10-20</td>\n",
       "      <td>0.737</td>\n",
       "    </tr>\n",
       "    <tr>\n",
       "      <th>1</th>\n",
       "      <td>54001</td>\n",
       "      <td>1</td>\n",
       "      <td>2020-10-21</td>\n",
       "      <td>0.727</td>\n",
       "    </tr>\n",
       "    <tr>\n",
       "      <th>2</th>\n",
       "      <td>54001</td>\n",
       "      <td>2</td>\n",
       "      <td>2020-10-22</td>\n",
       "      <td>0.714</td>\n",
       "    </tr>\n",
       "    <tr>\n",
       "      <th>3</th>\n",
       "      <td>54001</td>\n",
       "      <td>3</td>\n",
       "      <td>2020-10-23</td>\n",
       "      <td>0.697</td>\n",
       "    </tr>\n",
       "    <tr>\n",
       "      <th>4</th>\n",
       "      <td>54001</td>\n",
       "      <td>4</td>\n",
       "      <td>2020-10-24</td>\n",
       "      <td>0.676</td>\n",
       "    </tr>\n",
       "  </tbody>\n",
       "</table>\n",
       "</div>"
      ],
      "text/plain": [
       "    gfid  datenum        date   ndvi\n",
       "0  54001        0  2020-10-20  0.737\n",
       "1  54001        1  2020-10-21  0.727\n",
       "2  54001        2  2020-10-22  0.714\n",
       "3  54001        3  2020-10-23  0.697\n",
       "4  54001        4  2020-10-24  0.676"
      ]
     },
     "execution_count": 8,
     "metadata": {},
     "output_type": "execute_result"
    }
   ],
   "source": [
    "data_ndvi.head()"
   ]
  },
  {
   "cell_type": "code",
   "execution_count": 9,
   "id": "e5490efd",
   "metadata": {
    "ExecuteTime": {
     "end_time": "2022-06-29T20:05:26.424689Z",
     "start_time": "2022-06-29T20:05:26.411522Z"
    }
   },
   "outputs": [],
   "source": [
    "# Same inidicies as for CNN.\n",
    "with open(f'{district}.json') as json_file:\n",
    "    indices= json.load(json_file)\n",
    "train = indices['train']\n",
    "test = indices['test']"
   ]
  },
  {
   "cell_type": "code",
   "execution_count": 10,
   "id": "2da8aeff",
   "metadata": {
    "ExecuteTime": {
     "end_time": "2022-06-29T20:05:26.440080Z",
     "start_time": "2022-06-29T20:05:26.426909Z"
    }
   },
   "outputs": [],
   "source": [
    "features = ['ndvi']\n",
    "target = ['wheat']"
   ]
  },
  {
   "cell_type": "code",
   "execution_count": 11,
   "id": "6167afc8",
   "metadata": {
    "ExecuteTime": {
     "end_time": "2022-06-29T20:05:26.645425Z",
     "start_time": "2022-06-29T20:05:26.442076Z"
    }
   },
   "outputs": [],
   "source": [
    "# Take first 150 values for each time series as train data.\n",
    "X_train = []\n",
    "X_test = []\n",
    "for id_ in train:\n",
    "    d = data.loc[data['gfid']==id_, features].iloc[:150]\n",
    "    X_train.append(d)\n",
    "for id_ in test:\n",
    "    d = data.loc[data['gfid']==id_, features].iloc[:150]\n",
    "    X_test.append(d)\n",
    "X_train = pd.concat(X_train)\n",
    "X_test = pd.concat(X_test)"
   ]
  },
  {
   "cell_type": "code",
   "execution_count": 12,
   "id": "4ce24f53",
   "metadata": {
    "ExecuteTime": {
     "end_time": "2022-06-29T20:05:26.660889Z",
     "start_time": "2022-06-29T20:05:26.647435Z"
    }
   },
   "outputs": [],
   "source": [
    "# Reshape data for LSTM.\n",
    "h_1 = len(train)\n",
    "h_2 = len(test)\n",
    "w = 150\n",
    "c = len(features)\n",
    "\n",
    "X_train_tensors = Variable(torch.Tensor(X_train.values.reshape(h_1, w, c)))\n",
    "X_test_tensors = Variable(torch.Tensor(X_test.values.reshape(h_2, w, c)))\n",
    "\n",
    "y_train_tensors = Variable(torch.Tensor(data_points.loc[data_points['gfid'].isin(train), 'wheat'].values))\n",
    "y_test_tensors = Variable(torch.Tensor(data_points.loc[data_points['gfid'].isin(test), 'wheat'].values)) \n",
    "\n",
    "y_train_tensors = y_train_tensors.type(torch.LongTensor)\n",
    "y_test_tensors = y_test_tensors.type(torch.LongTensor)"
   ]
  },
  {
   "cell_type": "code",
   "execution_count": 14,
   "id": "ccac640d",
   "metadata": {
    "ExecuteTime": {
     "end_time": "2022-06-29T20:05:26.692701Z",
     "start_time": "2022-06-29T20:05:26.679032Z"
    }
   },
   "outputs": [],
   "source": [
    "input_size = len(features) #number of features\n",
    "hidden_size = 32 #number of features in hidden state\n",
    "num_layers = 1 #number of stacked lstm layers\n",
    "\n",
    "num_classes = 2 #number of output classes \n",
    "batch_size = 10"
   ]
  },
  {
   "cell_type": "code",
   "execution_count": 15,
   "id": "cc12c06a",
   "metadata": {
    "ExecuteTime": {
     "end_time": "2022-06-29T20:05:26.708370Z",
     "start_time": "2022-06-29T20:05:26.695214Z"
    }
   },
   "outputs": [],
   "source": [
    "lstm = MyLSTM(num_classes, input_size, hidden_size, num_layers, X_train_tensors.shape[1])"
   ]
  },
  {
   "cell_type": "code",
   "execution_count": 16,
   "id": "cd100dfc",
   "metadata": {
    "ExecuteTime": {
     "end_time": "2022-06-29T20:05:26.723577Z",
     "start_time": "2022-06-29T20:05:26.709377Z"
    }
   },
   "outputs": [],
   "source": [
    "criterion = torch.nn.CrossEntropyLoss() \n",
    "optimizer = torch.optim.SGD(lstm1.parameters(), lr=0.001, momentum=0.9)"
   ]
  },
  {
   "cell_type": "code",
   "execution_count": 17,
   "id": "8e3d220a",
   "metadata": {
    "ExecuteTime": {
     "end_time": "2022-06-29T20:05:48.385583Z",
     "start_time": "2022-06-29T20:05:26.725095Z"
    }
   },
   "outputs": [
    {
     "name": "stdout",
     "output_type": "stream",
     "text": [
      "Epoch: 0, loss: 0.69407\n",
      "Epoch: 10, loss: 0.69409\n",
      "Epoch: 20, loss: 0.69392\n",
      "Epoch: 30, loss: 0.69371\n",
      "Epoch: 40, loss: 0.69330\n",
      "Epoch: 50, loss: 0.69346\n",
      "Epoch: 60, loss: 0.69342\n",
      "Epoch: 70, loss: 0.69329\n",
      "Epoch: 80, loss: 0.69315\n",
      "Epoch: 90, loss: 0.69291\n"
     ]
    }
   ],
   "source": [
    "num_epochs = 100\n",
    "for epoch in range(num_epochs):\n",
    "    \n",
    "    optimizer.zero_grad() #caluclate the gradient, manually setting to 0\n",
    "    outputs = lstm.forward(X_train_tensors) #forward pass\n",
    "\n",
    "    # obtain the loss function\n",
    "    loss = criterion(outputs, y_train_tensors)\n",
    "    loss.backward() #calculates the loss of the loss function\n",
    "\n",
    "    optimizer.step() #improve from loss, i.e backprop\n",
    "    if epoch % 10 == 0:\n",
    "        print(\"Epoch: %d, loss: %1.5f\" % (epoch, loss.item())) "
   ]
  },
  {
   "cell_type": "code",
   "execution_count": 18,
   "id": "af81c214",
   "metadata": {
    "ExecuteTime": {
     "end_time": "2022-06-29T20:05:48.527714Z",
     "start_time": "2022-06-29T20:05:48.390033Z"
    }
   },
   "outputs": [],
   "source": [
    "train_predict = lstm(X_train_tensors)"
   ]
  },
  {
   "cell_type": "code",
   "execution_count": 20,
   "id": "5d464375",
   "metadata": {
    "ExecuteTime": {
     "end_time": "2022-06-29T20:05:48.580266Z",
     "start_time": "2022-06-29T20:05:48.565348Z"
    }
   },
   "outputs": [
    {
     "data": {
      "text/plain": [
       "tensor([1, 1, 1, 1, 1, 0, 0, 1, 1, 1, 1, 1, 1, 1, 0, 1, 1, 1, 1, 1, 1, 1, 1, 1,\n",
       "        1, 1, 1, 1, 1, 1, 1, 1, 1, 0, 1, 1, 1, 1, 1, 1, 1, 1, 1, 1, 1, 1, 1, 1,\n",
       "        0, 1, 1, 1, 1, 0, 1, 1, 1, 0, 0, 1, 1, 1, 1, 1, 1, 1, 1, 0, 1, 1, 1, 1,\n",
       "        1, 1, 1, 1, 0, 1, 1, 1, 1, 1, 1, 1, 1, 1, 1, 1, 1, 1, 1, 1, 1, 1, 1, 1,\n",
       "        1, 1, 1, 1, 1, 1, 1, 1, 1, 1, 1, 1, 1, 1, 1, 1, 0, 1, 1, 1, 1, 1, 1, 1,\n",
       "        1, 1, 1, 1, 1, 1, 1, 1, 1, 1, 1, 1, 1, 1, 1, 1, 1, 1, 0, 1, 1, 0, 1, 1,\n",
       "        1, 1, 1, 1, 1, 1, 1, 1, 1, 1, 1, 1, 1, 1, 1, 1, 1, 1, 1, 1, 1, 1, 1, 1,\n",
       "        1, 1, 1, 1, 1, 1, 1, 1, 1, 1, 1, 1, 1, 1, 1, 0, 1, 1, 1, 1, 1, 1, 1, 1,\n",
       "        1, 0, 0, 1, 1, 1, 1, 1, 1, 1, 1, 1, 1, 1, 0, 1, 1, 1])"
      ]
     },
     "execution_count": 20,
     "metadata": {},
     "output_type": "execute_result"
    }
   ],
   "source": [
    "train_predict.argmax(dim=1)"
   ]
  },
  {
   "cell_type": "code",
   "execution_count": 21,
   "id": "e891c9aa",
   "metadata": {
    "ExecuteTime": {
     "end_time": "2022-06-29T20:05:48.610698Z",
     "start_time": "2022-06-29T20:05:48.585774Z"
    }
   },
   "outputs": [
    {
     "name": "stdout",
     "output_type": "stream",
     "text": [
      "              precision    recall  f1-score   support\n",
      "\n",
      "           0       0.47      0.09      0.15        88\n",
      "           1       0.59      0.93      0.72       122\n",
      "\n",
      "    accuracy                           0.58       210\n",
      "   macro avg       0.53      0.51      0.43       210\n",
      "weighted avg       0.54      0.58      0.48       210\n",
      "\n"
     ]
    }
   ],
   "source": [
    "print(classification_report(y_train_tensors, torch.argmax(train_predict, dim=1)))"
   ]
  },
  {
   "cell_type": "markdown",
   "id": "5ba7bf85",
   "metadata": {},
   "source": [
    "Also get results for train to detest over/under training."
   ]
  },
  {
   "cell_type": "code",
   "execution_count": 22,
   "id": "113f2237",
   "metadata": {
    "ExecuteTime": {
     "end_time": "2022-06-29T20:05:48.673706Z",
     "start_time": "2022-06-29T20:05:48.614157Z"
    }
   },
   "outputs": [],
   "source": [
    "test_predict = lstm.forward(X_test_tensors)"
   ]
  },
  {
   "cell_type": "code",
   "execution_count": 23,
   "id": "48c7fc67",
   "metadata": {
    "ExecuteTime": {
     "end_time": "2022-06-29T20:05:48.689333Z",
     "start_time": "2022-06-29T20:05:48.675894Z"
    }
   },
   "outputs": [
    {
     "data": {
      "text/plain": [
       "tensor([1, 1, 1, 1, 1, 1, 1, 1, 1, 1, 0, 1, 1, 1, 1, 1, 1, 1, 1, 1, 1, 1, 1, 0,\n",
       "        1, 1, 1, 0, 1, 1, 1, 1, 1, 1, 1, 1, 1, 1, 1, 1, 1, 0, 1, 1, 1, 1, 1, 1,\n",
       "        1, 1, 1, 1, 1, 1, 1, 1, 1, 1])"
      ]
     },
     "execution_count": 23,
     "metadata": {},
     "output_type": "execute_result"
    }
   ],
   "source": [
    "test_predict.argmax(dim=1)"
   ]
  },
  {
   "cell_type": "code",
   "execution_count": 24,
   "id": "795bc406",
   "metadata": {
    "ExecuteTime": {
     "end_time": "2022-06-29T20:05:48.718910Z",
     "start_time": "2022-06-29T20:05:48.694372Z"
    }
   },
   "outputs": [
    {
     "name": "stdout",
     "output_type": "stream",
     "text": [
      "              precision    recall  f1-score   support\n",
      "\n",
      "           0       0.75      0.15      0.25        20\n",
      "           1       0.69      0.97      0.80        38\n",
      "\n",
      "    accuracy                           0.69        58\n",
      "   macro avg       0.72      0.56      0.53        58\n",
      "weighted avg       0.71      0.69      0.61        58\n",
      "\n"
     ]
    }
   ],
   "source": [
    "print(classification_report(y_test_tensors, torch.argmax(test_predict, dim=1)))"
   ]
  },
  {
   "cell_type": "code",
   "execution_count": 26,
   "id": "f14d1d9e",
   "metadata": {
    "ExecuteTime": {
     "end_time": "2022-06-29T20:08:08.556286Z",
     "start_time": "2022-06-29T20:08:08.540025Z"
    }
   },
   "outputs": [
    {
     "data": {
      "text/plain": [
       "0.5618421052631579"
      ]
     },
     "execution_count": 26,
     "metadata": {},
     "output_type": "execute_result"
    }
   ],
   "source": [
    "roc_auc_score(y_test_tensors, torch.argmax(test_predict, dim=1))"
   ]
  },
  {
   "cell_type": "markdown",
   "id": "1e780f1c",
   "metadata": {},
   "source": [
    "All the results are compared in the presentation. Notebooks are just for the calculations."
   ]
  }
 ],
 "metadata": {
  "kernelspec": {
   "display_name": "Python (ds)",
   "language": "python",
   "name": "ds"
  },
  "language_info": {
   "codemirror_mode": {
    "name": "ipython",
    "version": 3
   },
   "file_extension": ".py",
   "mimetype": "text/x-python",
   "name": "python",
   "nbconvert_exporter": "python",
   "pygments_lexer": "ipython3",
   "version": "3.9.12"
  },
  "toc": {
   "base_numbering": 1,
   "nav_menu": {},
   "number_sections": true,
   "sideBar": true,
   "skip_h1_title": false,
   "title_cell": "Table of Contents",
   "title_sidebar": "Contents",
   "toc_cell": false,
   "toc_position": {},
   "toc_section_display": true,
   "toc_window_display": false
  }
 },
 "nbformat": 4,
 "nbformat_minor": 5
}
