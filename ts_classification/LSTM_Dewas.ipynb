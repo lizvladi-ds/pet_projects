{
 "cells": [
  {
   "cell_type": "markdown",
   "id": "43e32f6c",
   "metadata": {},
   "source": [
    "All the results are compared in the presentation. Notebooks are just for the calculations."
   ]
  },
  {
   "cell_type": "code",
   "execution_count": 25,
   "id": "cf6f7080",
   "metadata": {
    "ExecuteTime": {
     "end_time": "2022-06-29T20:08:36.108030Z",
     "start_time": "2022-06-29T20:08:36.088338Z"
    }
   },
   "outputs": [],
   "source": [
    "import json\n",
    "import numpy as np\n",
    "import os\n",
    "import pandas as pd\n",
    "import torch\n",
    "import torch.nn as nn\n",
    "\n",
    "from models import MyLSTM\n",
    "from numpy.random import choice\n",
    "from random import sample\n",
    "from sklearn.metrics import f1_score, accuracy_score, roc_auc_score, classification_report\n",
    "from sklearn.model_selection import train_test_split\n",
    "from torch.autograd import Variable\n",
    "from utils import custom_split_train_test"
   ]
  },
  {
   "cell_type": "code",
   "execution_count": 2,
   "id": "91d2cf6c",
   "metadata": {
    "ExecuteTime": {
     "end_time": "2022-06-29T20:04:42.393541Z",
     "start_time": "2022-06-29T20:04:42.379856Z"
    }
   },
   "outputs": [],
   "source": [
    "district ='Dewas'"
   ]
  },
  {
   "cell_type": "code",
   "execution_count": 3,
   "id": "e7aecc13",
   "metadata": {
    "ExecuteTime": {
     "end_time": "2022-06-29T20:04:42.408460Z",
     "start_time": "2022-06-29T20:04:42.396159Z"
    }
   },
   "outputs": [
    {
     "data": {
      "text/plain": [
       "['Dewas_NDVI.csv',\n",
       " 'Dewas_points.csv',\n",
       " 'Kaithal_NDVI.csv',\n",
       " 'Kaithal_points.csv',\n",
       " 'Karnal_NDVI.csv',\n",
       " 'Karnal_points.csv']"
      ]
     },
     "execution_count": 3,
     "metadata": {},
     "output_type": "execute_result"
    }
   ],
   "source": [
    "os.listdir('data')    "
   ]
  },
  {
   "cell_type": "code",
   "execution_count": 4,
   "id": "d86b8c49",
   "metadata": {
    "ExecuteTime": {
     "end_time": "2022-06-29T20:04:42.424014Z",
     "start_time": "2022-06-29T20:04:42.409458Z"
    }
   },
   "outputs": [],
   "source": [
    "data_points = pd.read_csv(f'data/{district}_points.csv')"
   ]
  },
  {
   "cell_type": "code",
   "execution_count": 5,
   "id": "afeb444e",
   "metadata": {
    "ExecuteTime": {
     "end_time": "2022-06-29T20:04:42.454692Z",
     "start_time": "2022-06-29T20:04:42.425862Z"
    }
   },
   "outputs": [],
   "source": [
    "data_ndvi = pd.read_csv(f'data/{district}_NDVI.csv')"
   ]
  },
  {
   "cell_type": "code",
   "execution_count": 6,
   "id": "a2c474ab",
   "metadata": {
    "ExecuteTime": {
     "end_time": "2022-06-29T20:04:42.486487Z",
     "start_time": "2022-06-29T20:04:42.455724Z"
    }
   },
   "outputs": [],
   "source": [
    "data = data_points.merge(data_ndvi, left_on='gfid', right_on='gfid')"
   ]
  },
  {
   "cell_type": "code",
   "execution_count": 7,
   "id": "86428c4d",
   "metadata": {
    "ExecuteTime": {
     "end_time": "2022-06-29T20:04:42.501808Z",
     "start_time": "2022-06-29T20:04:42.488392Z"
    }
   },
   "outputs": [
    {
     "data": {
      "text/html": [
       "<div>\n",
       "<style scoped>\n",
       "    .dataframe tbody tr th:only-of-type {\n",
       "        vertical-align: middle;\n",
       "    }\n",
       "\n",
       "    .dataframe tbody tr th {\n",
       "        vertical-align: top;\n",
       "    }\n",
       "\n",
       "    .dataframe thead th {\n",
       "        text-align: right;\n",
       "    }\n",
       "</style>\n",
       "<table border=\"1\" class=\"dataframe\">\n",
       "  <thead>\n",
       "    <tr style=\"text-align: right;\">\n",
       "      <th></th>\n",
       "      <th>gfid</th>\n",
       "      <th>state</th>\n",
       "      <th>district</th>\n",
       "      <th>village</th>\n",
       "      <th>lon</th>\n",
       "      <th>lat</th>\n",
       "      <th>wheat</th>\n",
       "      <th>datenum</th>\n",
       "      <th>date</th>\n",
       "      <th>ndvi</th>\n",
       "    </tr>\n",
       "  </thead>\n",
       "  <tbody>\n",
       "    <tr>\n",
       "      <th>0</th>\n",
       "      <td>72001</td>\n",
       "      <td>Madhya Pradesh</td>\n",
       "      <td>Dewas</td>\n",
       "      <td>VijayaganjMandi</td>\n",
       "      <td>75.96199</td>\n",
       "      <td>23.218479</td>\n",
       "      <td>0</td>\n",
       "      <td>0</td>\n",
       "      <td>2020-10-20</td>\n",
       "      <td>0.186</td>\n",
       "    </tr>\n",
       "    <tr>\n",
       "      <th>1</th>\n",
       "      <td>72001</td>\n",
       "      <td>Madhya Pradesh</td>\n",
       "      <td>Dewas</td>\n",
       "      <td>VijayaganjMandi</td>\n",
       "      <td>75.96199</td>\n",
       "      <td>23.218479</td>\n",
       "      <td>0</td>\n",
       "      <td>1</td>\n",
       "      <td>2020-10-21</td>\n",
       "      <td>0.184</td>\n",
       "    </tr>\n",
       "    <tr>\n",
       "      <th>2</th>\n",
       "      <td>72001</td>\n",
       "      <td>Madhya Pradesh</td>\n",
       "      <td>Dewas</td>\n",
       "      <td>VijayaganjMandi</td>\n",
       "      <td>75.96199</td>\n",
       "      <td>23.218479</td>\n",
       "      <td>0</td>\n",
       "      <td>2</td>\n",
       "      <td>2020-10-22</td>\n",
       "      <td>0.183</td>\n",
       "    </tr>\n",
       "    <tr>\n",
       "      <th>3</th>\n",
       "      <td>72001</td>\n",
       "      <td>Madhya Pradesh</td>\n",
       "      <td>Dewas</td>\n",
       "      <td>VijayaganjMandi</td>\n",
       "      <td>75.96199</td>\n",
       "      <td>23.218479</td>\n",
       "      <td>0</td>\n",
       "      <td>3</td>\n",
       "      <td>2020-10-23</td>\n",
       "      <td>0.182</td>\n",
       "    </tr>\n",
       "    <tr>\n",
       "      <th>4</th>\n",
       "      <td>72001</td>\n",
       "      <td>Madhya Pradesh</td>\n",
       "      <td>Dewas</td>\n",
       "      <td>VijayaganjMandi</td>\n",
       "      <td>75.96199</td>\n",
       "      <td>23.218479</td>\n",
       "      <td>0</td>\n",
       "      <td>4</td>\n",
       "      <td>2020-10-24</td>\n",
       "      <td>0.181</td>\n",
       "    </tr>\n",
       "  </tbody>\n",
       "</table>\n",
       "</div>"
      ],
      "text/plain": [
       "    gfid            state district          village       lon        lat  \\\n",
       "0  72001  Madhya Pradesh    Dewas   VijayaganjMandi  75.96199  23.218479   \n",
       "1  72001  Madhya Pradesh    Dewas   VijayaganjMandi  75.96199  23.218479   \n",
       "2  72001  Madhya Pradesh    Dewas   VijayaganjMandi  75.96199  23.218479   \n",
       "3  72001  Madhya Pradesh    Dewas   VijayaganjMandi  75.96199  23.218479   \n",
       "4  72001  Madhya Pradesh    Dewas   VijayaganjMandi  75.96199  23.218479   \n",
       "\n",
       "   wheat  datenum        date   ndvi  \n",
       "0      0        0  2020-10-20  0.186  \n",
       "1      0        1  2020-10-21  0.184  \n",
       "2      0        2  2020-10-22  0.183  \n",
       "3      0        3  2020-10-23  0.182  \n",
       "4      0        4  2020-10-24  0.181  "
      ]
     },
     "execution_count": 7,
     "metadata": {},
     "output_type": "execute_result"
    }
   ],
   "source": [
    "data.head()"
   ]
  },
  {
   "cell_type": "code",
   "execution_count": 8,
   "id": "e758f1cb",
   "metadata": {
    "ExecuteTime": {
     "end_time": "2022-06-29T20:04:42.517134Z",
     "start_time": "2022-06-29T20:04:42.503035Z"
    }
   },
   "outputs": [
    {
     "data": {
      "text/html": [
       "<div>\n",
       "<style scoped>\n",
       "    .dataframe tbody tr th:only-of-type {\n",
       "        vertical-align: middle;\n",
       "    }\n",
       "\n",
       "    .dataframe tbody tr th {\n",
       "        vertical-align: top;\n",
       "    }\n",
       "\n",
       "    .dataframe thead th {\n",
       "        text-align: right;\n",
       "    }\n",
       "</style>\n",
       "<table border=\"1\" class=\"dataframe\">\n",
       "  <thead>\n",
       "    <tr style=\"text-align: right;\">\n",
       "      <th></th>\n",
       "      <th>gfid</th>\n",
       "      <th>datenum</th>\n",
       "      <th>date</th>\n",
       "      <th>ndvi</th>\n",
       "    </tr>\n",
       "  </thead>\n",
       "  <tbody>\n",
       "    <tr>\n",
       "      <th>0</th>\n",
       "      <td>72001</td>\n",
       "      <td>0</td>\n",
       "      <td>2020-10-20</td>\n",
       "      <td>0.186</td>\n",
       "    </tr>\n",
       "    <tr>\n",
       "      <th>1</th>\n",
       "      <td>72001</td>\n",
       "      <td>1</td>\n",
       "      <td>2020-10-21</td>\n",
       "      <td>0.184</td>\n",
       "    </tr>\n",
       "    <tr>\n",
       "      <th>2</th>\n",
       "      <td>72001</td>\n",
       "      <td>2</td>\n",
       "      <td>2020-10-22</td>\n",
       "      <td>0.183</td>\n",
       "    </tr>\n",
       "    <tr>\n",
       "      <th>3</th>\n",
       "      <td>72001</td>\n",
       "      <td>3</td>\n",
       "      <td>2020-10-23</td>\n",
       "      <td>0.182</td>\n",
       "    </tr>\n",
       "    <tr>\n",
       "      <th>4</th>\n",
       "      <td>72001</td>\n",
       "      <td>4</td>\n",
       "      <td>2020-10-24</td>\n",
       "      <td>0.181</td>\n",
       "    </tr>\n",
       "  </tbody>\n",
       "</table>\n",
       "</div>"
      ],
      "text/plain": [
       "    gfid  datenum        date   ndvi\n",
       "0  72001        0  2020-10-20  0.186\n",
       "1  72001        1  2020-10-21  0.184\n",
       "2  72001        2  2020-10-22  0.183\n",
       "3  72001        3  2020-10-23  0.182\n",
       "4  72001        4  2020-10-24  0.181"
      ]
     },
     "execution_count": 8,
     "metadata": {},
     "output_type": "execute_result"
    }
   ],
   "source": [
    "data_ndvi.head()"
   ]
  },
  {
   "cell_type": "code",
   "execution_count": 9,
   "id": "e5490efd",
   "metadata": {
    "ExecuteTime": {
     "end_time": "2022-06-29T20:04:42.532457Z",
     "start_time": "2022-06-29T20:04:42.519109Z"
    }
   },
   "outputs": [],
   "source": [
    "# Same inidicies as for CNN.\n",
    "with open(f'{district}.json') as json_file:\n",
    "    indices= json.load(json_file)\n",
    "train = indices['train']\n",
    "test = indices['test']"
   ]
  },
  {
   "cell_type": "code",
   "execution_count": 10,
   "id": "2da8aeff",
   "metadata": {
    "ExecuteTime": {
     "end_time": "2022-06-29T20:04:42.547910Z",
     "start_time": "2022-06-29T20:04:42.533556Z"
    }
   },
   "outputs": [],
   "source": [
    "features = ['ndvi']\n",
    "target = ['wheat']"
   ]
  },
  {
   "cell_type": "code",
   "execution_count": 11,
   "id": "41768ca5",
   "metadata": {
    "ExecuteTime": {
     "end_time": "2022-06-29T20:04:42.796221Z",
     "start_time": "2022-06-29T20:04:42.548919Z"
    }
   },
   "outputs": [],
   "source": [
    "# Take first 150 values for each time series as train data.\n",
    "X_train = []\n",
    "X_test = []\n",
    "for id_ in train:\n",
    "    d = data.loc[data['gfid']==id_, features].iloc[:150]\n",
    "    X_train.append(d)\n",
    "for id_ in test:\n",
    "    d = data.loc[data['gfid']==id_, features].iloc[:150]\n",
    "    X_test.append(d)\n",
    "X_train = pd.concat(X_train)\n",
    "X_test = pd.concat(X_test)"
   ]
  },
  {
   "cell_type": "code",
   "execution_count": 12,
   "id": "4ce24f53",
   "metadata": {
    "ExecuteTime": {
     "end_time": "2022-06-29T20:04:42.812223Z",
     "start_time": "2022-06-29T20:04:42.798091Z"
    }
   },
   "outputs": [],
   "source": [
    "# Reshape data for LSTM.\n",
    "h_1 = len(train)\n",
    "h_2 = len(test)\n",
    "w = 150\n",
    "c = len(features)\n",
    "\n",
    "X_train_tensors = Variable(torch.Tensor(X_train.values.reshape(h_1, w, c)))\n",
    "X_test_tensors = Variable(torch.Tensor(X_test.values.reshape(h_2, w, c)))\n",
    "\n",
    "y_train_tensors = Variable(torch.Tensor(data_points.loc[data_points['gfid'].isin(train), 'wheat'].values))\n",
    "y_test_tensors = Variable(torch.Tensor(data_points.loc[data_points['gfid'].isin(test), 'wheat'].values)) \n",
    "\n",
    "y_train_tensors = y_train_tensors.type(torch.LongTensor)\n",
    "y_test_tensors = y_test_tensors.type(torch.LongTensor)"
   ]
  },
  {
   "cell_type": "code",
   "execution_count": 14,
   "id": "ccac640d",
   "metadata": {
    "ExecuteTime": {
     "end_time": "2022-06-29T20:04:42.843014Z",
     "start_time": "2022-06-29T20:04:42.828555Z"
    }
   },
   "outputs": [],
   "source": [
    "input_size = len(features) #number of features\n",
    "hidden_size = 32 #number of features in hidden state\n",
    "num_layers = 1 #number of stacked lstm layers\n",
    "\n",
    "num_classes = 2 #number of output classes \n",
    "batch_size = 10"
   ]
  },
  {
   "cell_type": "code",
   "execution_count": 15,
   "id": "cc12c06a",
   "metadata": {
    "ExecuteTime": {
     "end_time": "2022-06-29T20:04:42.858968Z",
     "start_time": "2022-06-29T20:04:42.844578Z"
    }
   },
   "outputs": [],
   "source": [
    "lstm = MyLSTM(num_classes, input_size, hidden_size, num_layers, X_train_tensors.shape[1])"
   ]
  },
  {
   "cell_type": "code",
   "execution_count": 16,
   "id": "cd100dfc",
   "metadata": {
    "ExecuteTime": {
     "end_time": "2022-06-29T20:04:42.874310Z",
     "start_time": "2022-06-29T20:04:42.859988Z"
    }
   },
   "outputs": [],
   "source": [
    "criterion = torch.nn.CrossEntropyLoss() \n",
    "optimizer = torch.optim.SGD(lstm1.parameters(), lr=0.001, momentum=0.9)"
   ]
  },
  {
   "cell_type": "code",
   "execution_count": 17,
   "id": "8e3d220a",
   "metadata": {
    "ExecuteTime": {
     "end_time": "2022-06-29T20:05:03.448577Z",
     "start_time": "2022-06-29T20:04:42.875262Z"
    }
   },
   "outputs": [
    {
     "name": "stdout",
     "output_type": "stream",
     "text": [
      "Epoch: 0, loss: 0.69223\n",
      "Epoch: 10, loss: 0.69261\n",
      "Epoch: 20, loss: 0.69245\n",
      "Epoch: 30, loss: 0.69237\n",
      "Epoch: 40, loss: 0.69246\n",
      "Epoch: 50, loss: 0.69231\n",
      "Epoch: 60, loss: 0.69253\n",
      "Epoch: 70, loss: 0.69248\n",
      "Epoch: 80, loss: 0.69246\n",
      "Epoch: 90, loss: 0.69234\n"
     ]
    }
   ],
   "source": [
    "num_epochs = 100\n",
    "for epoch in range(num_epochs):\n",
    "    \n",
    "    optimizer.zero_grad() #caluclate the gradient, manually setting to 0\n",
    "    outputs = lstm.forward(X_train_tensors) #forward pass\n",
    "\n",
    "    # obtain the loss function\n",
    "    loss = criterion(outputs, y_train_tensors)\n",
    "    loss.backward() #calculates the loss of the loss function\n",
    "\n",
    "    optimizer.step() #improve from loss, i.e backprop\n",
    "    if epoch % 10 == 0:\n",
    "        print(\"Epoch: %d, loss: %1.5f\" % (epoch, loss.item())) "
   ]
  },
  {
   "cell_type": "code",
   "execution_count": 18,
   "id": "af81c214",
   "metadata": {
    "ExecuteTime": {
     "end_time": "2022-06-29T20:05:03.668853Z",
     "start_time": "2022-06-29T20:05:03.451578Z"
    }
   },
   "outputs": [],
   "source": [
    "train_predict = lstm(X_train_tensors)"
   ]
  },
  {
   "cell_type": "code",
   "execution_count": 20,
   "id": "5d464375",
   "metadata": {
    "ExecuteTime": {
     "end_time": "2022-06-29T20:05:03.730729Z",
     "start_time": "2022-06-29T20:05:03.720420Z"
    }
   },
   "outputs": [
    {
     "data": {
      "text/plain": [
       "tensor([0, 0, 0, 0, 0, 0, 0, 0, 0, 0, 0, 0, 0, 0, 0, 0, 0, 0, 0, 0, 0, 0, 0, 0,\n",
       "        0, 0, 0, 0, 0, 0, 0, 0, 0, 0, 0, 0, 0, 0, 0, 0, 0, 0, 0, 0, 0, 0, 0, 0,\n",
       "        0, 0, 0, 0, 0, 0, 0, 0, 0, 0, 0, 0, 0, 0, 0, 0, 0, 0, 0, 0, 0, 0, 0, 0,\n",
       "        0, 0, 0, 0, 0, 0, 0, 0, 0, 0, 0, 0, 0, 0, 0, 0, 0, 0, 0, 0, 0, 0, 0, 0,\n",
       "        0, 0, 0, 0, 0, 0, 0, 0, 0, 0, 0, 0, 0, 0, 0, 0, 0, 0, 0, 0, 0, 0, 0, 0,\n",
       "        0, 0, 0, 0, 0, 0, 0, 0, 0, 0, 0, 0, 0, 0, 0, 0, 0, 0, 0, 0, 0, 0, 0, 0,\n",
       "        0, 0, 0, 0, 0, 0, 0, 0, 0, 0, 0, 0, 0, 0, 0, 0, 0, 0, 0, 0, 0, 0, 0, 0,\n",
       "        0, 0, 0, 0, 0, 0, 0, 0, 0, 0, 0, 0, 0, 0, 0, 0, 0, 0, 0, 0, 0, 0, 0, 0,\n",
       "        0, 0, 0, 0, 0, 0, 0, 0, 0, 0, 0, 0, 0, 0, 0, 0, 0, 0, 0, 0, 0, 0, 0, 0,\n",
       "        0, 0, 0, 0, 0, 0, 0, 0, 0, 0, 0, 0, 0, 0, 0, 0, 0, 0, 0, 0, 0, 0, 0, 0,\n",
       "        0, 0, 0, 0, 0, 0, 0, 0, 0, 0, 0, 0, 0, 0, 0, 0, 0, 0, 0, 0, 0, 0, 0, 0,\n",
       "        0, 0, 0, 0, 0, 0, 0, 0, 0, 0, 0, 0, 0, 0, 0, 0, 0, 0, 0, 0, 0, 0, 0, 0,\n",
       "        0, 0, 0, 0, 0, 0, 0, 0, 0, 0, 0, 0])"
      ]
     },
     "execution_count": 20,
     "metadata": {},
     "output_type": "execute_result"
    }
   ],
   "source": [
    "train_predict.argmax(dim=1)"
   ]
  },
  {
   "cell_type": "code",
   "execution_count": 21,
   "id": "e891c9aa",
   "metadata": {
    "ExecuteTime": {
     "end_time": "2022-06-29T20:05:03.746681Z",
     "start_time": "2022-06-29T20:05:03.734692Z"
    }
   },
   "outputs": [
    {
     "name": "stdout",
     "output_type": "stream",
     "text": [
      "              precision    recall  f1-score   support\n",
      "\n",
      "           0       0.52      1.00      0.69       157\n",
      "           1       0.00      0.00      0.00       143\n",
      "\n",
      "    accuracy                           0.52       300\n",
      "   macro avg       0.26      0.50      0.34       300\n",
      "weighted avg       0.27      0.52      0.36       300\n",
      "\n"
     ]
    },
    {
     "name": "stderr",
     "output_type": "stream",
     "text": [
      "C:\\Users\\60104252\\Anaconda3\\envs\\ds\\lib\\site-packages\\sklearn\\metrics\\_classification.py:1248: UndefinedMetricWarning: Precision and F-score are ill-defined and being set to 0.0 in labels with no predicted samples. Use `zero_division` parameter to control this behavior.\n",
      "  _warn_prf(average, modifier, msg_start, len(result))\n",
      "C:\\Users\\60104252\\Anaconda3\\envs\\ds\\lib\\site-packages\\sklearn\\metrics\\_classification.py:1248: UndefinedMetricWarning: Precision and F-score are ill-defined and being set to 0.0 in labels with no predicted samples. Use `zero_division` parameter to control this behavior.\n",
      "  _warn_prf(average, modifier, msg_start, len(result))\n",
      "C:\\Users\\60104252\\Anaconda3\\envs\\ds\\lib\\site-packages\\sklearn\\metrics\\_classification.py:1248: UndefinedMetricWarning: Precision and F-score are ill-defined and being set to 0.0 in labels with no predicted samples. Use `zero_division` parameter to control this behavior.\n",
      "  _warn_prf(average, modifier, msg_start, len(result))\n"
     ]
    }
   ],
   "source": [
    "print(classification_report(y_train_tensors, torch.argmax(train_predict, dim=1)))"
   ]
  },
  {
   "cell_type": "markdown",
   "id": "21144562",
   "metadata": {},
   "source": [
    "Also get results for train to detest over/under training."
   ]
  },
  {
   "cell_type": "code",
   "execution_count": 22,
   "id": "113f2237",
   "metadata": {
    "ExecuteTime": {
     "end_time": "2022-06-29T20:05:03.839035Z",
     "start_time": "2022-06-29T20:05:03.751042Z"
    }
   },
   "outputs": [],
   "source": [
    "test_predict = lstm.forward(X_test_tensors)"
   ]
  },
  {
   "cell_type": "code",
   "execution_count": 23,
   "id": "48c7fc67",
   "metadata": {
    "ExecuteTime": {
     "end_time": "2022-06-29T20:05:03.854288Z",
     "start_time": "2022-06-29T20:05:03.843450Z"
    }
   },
   "outputs": [
    {
     "data": {
      "text/plain": [
       "tensor([0, 0, 0, 0, 0, 0, 0, 0, 0, 0, 0, 0, 0, 0, 0, 0, 0, 0, 0, 0, 0, 0, 0, 0,\n",
       "        0, 0, 0, 0, 0, 0, 0, 0, 0, 0, 0, 0, 0, 0, 0, 0, 0, 0, 0, 0, 0, 0, 0, 0,\n",
       "        0, 0, 0, 0, 0, 0, 0, 0, 0, 0, 0, 0, 0, 0, 0, 0, 0, 0, 0, 0, 0, 0, 0, 0,\n",
       "        0, 0, 0])"
      ]
     },
     "execution_count": 23,
     "metadata": {},
     "output_type": "execute_result"
    }
   ],
   "source": [
    "test_predict.argmax(dim=1)"
   ]
  },
  {
   "cell_type": "code",
   "execution_count": 24,
   "id": "795bc406",
   "metadata": {
    "ExecuteTime": {
     "end_time": "2022-06-29T20:05:03.885544Z",
     "start_time": "2022-06-29T20:05:03.858258Z"
    }
   },
   "outputs": [
    {
     "name": "stdout",
     "output_type": "stream",
     "text": [
      "              precision    recall  f1-score   support\n",
      "\n",
      "           0       0.53      1.00      0.70        40\n",
      "           1       0.00      0.00      0.00        35\n",
      "\n",
      "    accuracy                           0.53        75\n",
      "   macro avg       0.27      0.50      0.35        75\n",
      "weighted avg       0.28      0.53      0.37        75\n",
      "\n"
     ]
    },
    {
     "name": "stderr",
     "output_type": "stream",
     "text": [
      "C:\\Users\\60104252\\Anaconda3\\envs\\ds\\lib\\site-packages\\sklearn\\metrics\\_classification.py:1248: UndefinedMetricWarning: Precision and F-score are ill-defined and being set to 0.0 in labels with no predicted samples. Use `zero_division` parameter to control this behavior.\n",
      "  _warn_prf(average, modifier, msg_start, len(result))\n",
      "C:\\Users\\60104252\\Anaconda3\\envs\\ds\\lib\\site-packages\\sklearn\\metrics\\_classification.py:1248: UndefinedMetricWarning: Precision and F-score are ill-defined and being set to 0.0 in labels with no predicted samples. Use `zero_division` parameter to control this behavior.\n",
      "  _warn_prf(average, modifier, msg_start, len(result))\n",
      "C:\\Users\\60104252\\Anaconda3\\envs\\ds\\lib\\site-packages\\sklearn\\metrics\\_classification.py:1248: UndefinedMetricWarning: Precision and F-score are ill-defined and being set to 0.0 in labels with no predicted samples. Use `zero_division` parameter to control this behavior.\n",
      "  _warn_prf(average, modifier, msg_start, len(result))\n"
     ]
    }
   ],
   "source": [
    "print(classification_report(y_test_tensors, torch.argmax(test_predict, dim=1)))"
   ]
  },
  {
   "cell_type": "code",
   "execution_count": 26,
   "id": "22986329",
   "metadata": {
    "ExecuteTime": {
     "end_time": "2022-06-29T20:08:39.425027Z",
     "start_time": "2022-06-29T20:08:39.403924Z"
    }
   },
   "outputs": [
    {
     "data": {
      "text/plain": [
       "0.5"
      ]
     },
     "execution_count": 26,
     "metadata": {},
     "output_type": "execute_result"
    }
   ],
   "source": [
    "roc_auc_score(y_test_tensors, torch.argmax(test_predict, dim=1))"
   ]
  },
  {
   "cell_type": "markdown",
   "id": "671c7607",
   "metadata": {},
   "source": [
    "All the results are compared in the presentation. Notebooks are just for the calculations."
   ]
  }
 ],
 "metadata": {
  "kernelspec": {
   "display_name": "Python (ds)",
   "language": "python",
   "name": "ds"
  },
  "language_info": {
   "codemirror_mode": {
    "name": "ipython",
    "version": 3
   },
   "file_extension": ".py",
   "mimetype": "text/x-python",
   "name": "python",
   "nbconvert_exporter": "python",
   "pygments_lexer": "ipython3",
   "version": "3.9.12"
  },
  "toc": {
   "base_numbering": 1,
   "nav_menu": {},
   "number_sections": true,
   "sideBar": true,
   "skip_h1_title": false,
   "title_cell": "Table of Contents",
   "title_sidebar": "Contents",
   "toc_cell": false,
   "toc_position": {},
   "toc_section_display": true,
   "toc_window_display": false
  }
 },
 "nbformat": 4,
 "nbformat_minor": 5
}
