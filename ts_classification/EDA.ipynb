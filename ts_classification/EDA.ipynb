{
 "cells": [
  {
   "cell_type": "code",
   "execution_count": 1,
   "id": "ef740468",
   "metadata": {
    "ExecuteTime": {
     "end_time": "2022-06-13T13:19:20.835098Z",
     "start_time": "2022-06-13T13:19:19.585231Z"
    }
   },
   "outputs": [],
   "source": [
    "import matplotlib.pyplot as plt\n",
    "import matplotlib.dates as mdates\n",
    "import os\n",
    "import pandas as pd\n",
    "import seaborn as sns"
   ]
  },
  {
   "cell_type": "code",
   "execution_count": 2,
   "id": "3de26416",
   "metadata": {
    "ExecuteTime": {
     "end_time": "2022-06-13T13:19:20.850657Z",
     "start_time": "2022-06-13T13:19:20.837613Z"
    }
   },
   "outputs": [],
   "source": [
    "sns.set_theme()\n",
    "sns.set_palette('Paired')"
   ]
  },
  {
   "cell_type": "code",
   "execution_count": 3,
   "id": "1395a3f5",
   "metadata": {
    "ExecuteTime": {
     "end_time": "2022-06-13T13:19:20.865800Z",
     "start_time": "2022-06-13T13:19:20.853525Z"
    }
   },
   "outputs": [
    {
     "data": {
      "text/plain": [
       "['Dewas_NDVI.csv',\n",
       " 'Dewas_points.csv',\n",
       " 'Kaithal_NDVI.csv',\n",
       " 'Kaithal_points.csv',\n",
       " 'Karnal_NDVI.csv',\n",
       " 'Karnal_points.csv']"
      ]
     },
     "execution_count": 3,
     "metadata": {},
     "output_type": "execute_result"
    }
   ],
   "source": [
    "os.listdir('data')"
   ]
  },
  {
   "cell_type": "code",
   "execution_count": 4,
   "id": "c28cbf5a",
   "metadata": {
    "ExecuteTime": {
     "end_time": "2022-06-13T13:19:20.881279Z",
     "start_time": "2022-06-13T13:19:20.868961Z"
    }
   },
   "outputs": [],
   "source": [
    "districts = ['Dewas', 'Kaithal', 'Karnal']"
   ]
  },
  {
   "cell_type": "code",
   "execution_count": 5,
   "id": "8e55dcad",
   "metadata": {
    "ExecuteTime": {
     "end_time": "2022-06-13T13:19:21.023437Z",
     "start_time": "2022-06-13T13:19:20.884801Z"
    }
   },
   "outputs": [],
   "source": [
    "data = dict(zip(districts, [{}, {}, {}]))\n",
    "for district in districts:\n",
    "    points = pd.read_csv(f'data/{district}_points.csv')\n",
    "    ndvi = pd.read_csv(f'data/{district}_NDVI.csv')\n",
    "    data[district]['points'] = points\n",
    "    data[district]['NDVI'] = ndvi\n",
    "    data[district]['merged'] = points.merge(ndvi,\n",
    "                                            left_on='gfid',\n",
    "                                            right_on='gfid')"
   ]
  },
  {
   "cell_type": "code",
   "execution_count": 6,
   "id": "b100190b",
   "metadata": {
    "ExecuteTime": {
     "end_time": "2022-06-13T13:19:21.039413Z",
     "start_time": "2022-06-13T13:19:21.024698Z"
    }
   },
   "outputs": [
    {
     "data": {
      "text/html": [
       "<div>\n",
       "<style scoped>\n",
       "    .dataframe tbody tr th:only-of-type {\n",
       "        vertical-align: middle;\n",
       "    }\n",
       "\n",
       "    .dataframe tbody tr th {\n",
       "        vertical-align: top;\n",
       "    }\n",
       "\n",
       "    .dataframe thead th {\n",
       "        text-align: right;\n",
       "    }\n",
       "</style>\n",
       "<table border=\"1\" class=\"dataframe\">\n",
       "  <thead>\n",
       "    <tr style=\"text-align: right;\">\n",
       "      <th></th>\n",
       "      <th>gfid</th>\n",
       "      <th>state</th>\n",
       "      <th>district</th>\n",
       "      <th>village</th>\n",
       "      <th>lon</th>\n",
       "      <th>lat</th>\n",
       "      <th>wheat</th>\n",
       "    </tr>\n",
       "  </thead>\n",
       "  <tbody>\n",
       "    <tr>\n",
       "      <th>0</th>\n",
       "      <td>72001</td>\n",
       "      <td>Madhya Pradesh</td>\n",
       "      <td>Dewas</td>\n",
       "      <td>VijayaganjMandi</td>\n",
       "      <td>75.961990</td>\n",
       "      <td>23.218479</td>\n",
       "      <td>0</td>\n",
       "    </tr>\n",
       "    <tr>\n",
       "      <th>1</th>\n",
       "      <td>72002</td>\n",
       "      <td>Madhya Pradesh</td>\n",
       "      <td>Dewas</td>\n",
       "      <td>VijayaganjMandi</td>\n",
       "      <td>75.967369</td>\n",
       "      <td>23.216789</td>\n",
       "      <td>0</td>\n",
       "    </tr>\n",
       "    <tr>\n",
       "      <th>2</th>\n",
       "      <td>72003</td>\n",
       "      <td>Madhya Pradesh</td>\n",
       "      <td>Dewas</td>\n",
       "      <td>VijayaganjMandi</td>\n",
       "      <td>75.969818</td>\n",
       "      <td>23.215910</td>\n",
       "      <td>1</td>\n",
       "    </tr>\n",
       "    <tr>\n",
       "      <th>3</th>\n",
       "      <td>72004</td>\n",
       "      <td>Madhya Pradesh</td>\n",
       "      <td>Dewas</td>\n",
       "      <td>VijayaganjMandi</td>\n",
       "      <td>75.965042</td>\n",
       "      <td>23.220369</td>\n",
       "      <td>0</td>\n",
       "    </tr>\n",
       "    <tr>\n",
       "      <th>4</th>\n",
       "      <td>72005</td>\n",
       "      <td>Madhya Pradesh</td>\n",
       "      <td>Dewas</td>\n",
       "      <td>VijayaganjMandi</td>\n",
       "      <td>75.965652</td>\n",
       "      <td>23.224600</td>\n",
       "      <td>0</td>\n",
       "    </tr>\n",
       "  </tbody>\n",
       "</table>\n",
       "</div>"
      ],
      "text/plain": [
       "    gfid            state district          village        lon        lat  \\\n",
       "0  72001  Madhya Pradesh    Dewas   VijayaganjMandi  75.961990  23.218479   \n",
       "1  72002  Madhya Pradesh    Dewas   VijayaganjMandi  75.967369  23.216789   \n",
       "2  72003  Madhya Pradesh    Dewas   VijayaganjMandi  75.969818  23.215910   \n",
       "3  72004  Madhya Pradesh    Dewas   VijayaganjMandi  75.965042  23.220369   \n",
       "4  72005  Madhya Pradesh    Dewas   VijayaganjMandi  75.965652  23.224600   \n",
       "\n",
       "   wheat  \n",
       "0      0  \n",
       "1      0  \n",
       "2      1  \n",
       "3      0  \n",
       "4      0  "
      ]
     },
     "execution_count": 6,
     "metadata": {},
     "output_type": "execute_result"
    }
   ],
   "source": [
    "data['Dewas']['points'].head()"
   ]
  },
  {
   "cell_type": "code",
   "execution_count": 7,
   "id": "31c278e9",
   "metadata": {
    "ExecuteTime": {
     "end_time": "2022-06-13T13:19:21.054539Z",
     "start_time": "2022-06-13T13:19:21.040362Z"
    }
   },
   "outputs": [
    {
     "data": {
      "text/html": [
       "<div>\n",
       "<style scoped>\n",
       "    .dataframe tbody tr th:only-of-type {\n",
       "        vertical-align: middle;\n",
       "    }\n",
       "\n",
       "    .dataframe tbody tr th {\n",
       "        vertical-align: top;\n",
       "    }\n",
       "\n",
       "    .dataframe thead th {\n",
       "        text-align: right;\n",
       "    }\n",
       "</style>\n",
       "<table border=\"1\" class=\"dataframe\">\n",
       "  <thead>\n",
       "    <tr style=\"text-align: right;\">\n",
       "      <th></th>\n",
       "      <th>gfid</th>\n",
       "      <th>datenum</th>\n",
       "      <th>date</th>\n",
       "      <th>ndvi</th>\n",
       "    </tr>\n",
       "  </thead>\n",
       "  <tbody>\n",
       "    <tr>\n",
       "      <th>0</th>\n",
       "      <td>52001</td>\n",
       "      <td>0</td>\n",
       "      <td>2020-10-20</td>\n",
       "      <td>0.238</td>\n",
       "    </tr>\n",
       "    <tr>\n",
       "      <th>1</th>\n",
       "      <td>52001</td>\n",
       "      <td>1</td>\n",
       "      <td>2020-10-21</td>\n",
       "      <td>0.235</td>\n",
       "    </tr>\n",
       "    <tr>\n",
       "      <th>2</th>\n",
       "      <td>52001</td>\n",
       "      <td>2</td>\n",
       "      <td>2020-10-22</td>\n",
       "      <td>0.233</td>\n",
       "    </tr>\n",
       "    <tr>\n",
       "      <th>3</th>\n",
       "      <td>52001</td>\n",
       "      <td>3</td>\n",
       "      <td>2020-10-23</td>\n",
       "      <td>0.231</td>\n",
       "    </tr>\n",
       "    <tr>\n",
       "      <th>4</th>\n",
       "      <td>52001</td>\n",
       "      <td>4</td>\n",
       "      <td>2020-10-24</td>\n",
       "      <td>0.228</td>\n",
       "    </tr>\n",
       "  </tbody>\n",
       "</table>\n",
       "</div>"
      ],
      "text/plain": [
       "    gfid  datenum        date   ndvi\n",
       "0  52001        0  2020-10-20  0.238\n",
       "1  52001        1  2020-10-21  0.235\n",
       "2  52001        2  2020-10-22  0.233\n",
       "3  52001        3  2020-10-23  0.231\n",
       "4  52001        4  2020-10-24  0.228"
      ]
     },
     "execution_count": 7,
     "metadata": {},
     "output_type": "execute_result"
    }
   ],
   "source": [
    "data['Kaithal']['NDVI'].head()"
   ]
  },
  {
   "cell_type": "code",
   "execution_count": 8,
   "id": "075454b1",
   "metadata": {
    "ExecuteTime": {
     "end_time": "2022-06-13T13:19:21.070141Z",
     "start_time": "2022-06-13T13:19:21.056652Z"
    }
   },
   "outputs": [
    {
     "name": "stdout",
     "output_type": "stream",
     "text": [
      "Dewas   (85231,)\n",
      "Kaithal   (38417,)\n",
      "Karnal   (53505,)\n"
     ]
    }
   ],
   "source": [
    "for district in districts:\n",
    "    print(district, ' ', data[district]['NDVI']['date'].shape)"
   ]
  },
  {
   "cell_type": "code",
   "execution_count": 9,
   "id": "5767da7e",
   "metadata": {
    "ExecuteTime": {
     "end_time": "2022-06-13T13:19:21.116062Z",
     "start_time": "2022-06-13T13:19:21.074163Z"
    }
   },
   "outputs": [
    {
     "name": "stdout",
     "output_type": "stream",
     "text": [
      "Dewas   2020-10-20 2021-05-10\n",
      "Kaithal   2020-10-20 2021-05-10\n",
      "Karnal   2020-10-20 2021-05-10\n"
     ]
    }
   ],
   "source": [
    "for district in districts:\n",
    "    print(district, ' ', data[district]['NDVI']['date'].min(),\n",
    "          data[district]['NDVI']['date'].max())"
   ]
  },
  {
   "cell_type": "code",
   "execution_count": 10,
   "id": "eb436933",
   "metadata": {
    "ExecuteTime": {
     "end_time": "2022-06-13T13:19:21.132424Z",
     "start_time": "2022-06-13T13:19:21.118022Z"
    }
   },
   "outputs": [
    {
     "name": "stdout",
     "output_type": "stream",
     "text": [
      "Dewas   100\n",
      "Kaithal   83\n",
      "Karnal   75\n"
     ]
    }
   ],
   "source": [
    "for district in districts:\n",
    "    print(district, ' ', data[district]['points']['village'].nunique())"
   ]
  },
  {
   "cell_type": "code",
   "execution_count": 11,
   "id": "767a6eb6",
   "metadata": {
    "ExecuteTime": {
     "end_time": "2022-06-13T13:19:21.147502Z",
     "start_time": "2022-06-13T13:19:21.133934Z"
    }
   },
   "outputs": [
    {
     "name": "stdout",
     "output_type": "stream",
     "text": [
      "\u001b[1mDewas\u001b[0m\n",
      "Banasri        15\n",
      "Donta          14\n",
      "Khareli        14\n",
      "Amuna          12\n",
      "BagliChapda    12\n",
      "               ..\n",
      "Amina           1\n",
      "Murviya         1\n",
      "Pipalrava       1\n",
      "Shkli           1\n",
      "Rajoda          1\n",
      "Name: village, Length: 100, dtype: int64\n",
      "\n",
      "\u001b[1mKaithal\u001b[0m\n",
      "Gyong            8\n",
      "Pharal           6\n",
      "Sakra Khedi      6\n",
      "Narar            5\n",
      "Dherdu           5\n",
      "                ..\n",
      "Kakhedhi         1\n",
      "Gobindpura       1\n",
      "Gobndpura        1\n",
      "Dharatarasing    1\n",
      "Jadula           1\n",
      "Name: village, Length: 83, dtype: int64\n",
      "\n",
      "\u001b[1mKarnal\u001b[0m\n",
      "Shekhanpur        9\n",
      "Kabulpur Khera    8\n",
      "Bambradi          8\n",
      "Poyat             8\n",
      "Panori            7\n",
      "                 ..\n",
      "Tarori            1\n",
      "Landors           1\n",
      "Kurak             1\n",
      "Ramba             1\n",
      "Barshi            1\n",
      "Name: village, Length: 75, dtype: int64\n",
      "\n"
     ]
    }
   ],
   "source": [
    "for district in districts:\n",
    "    print('\\033[1m' + district + '\\033[0m')\n",
    "    print(data[district]['points']['village'].value_counts(), end='\\n\\n')"
   ]
  },
  {
   "cell_type": "code",
   "execution_count": 12,
   "id": "c430111c",
   "metadata": {
    "ExecuteTime": {
     "end_time": "2022-06-13T13:19:21.163453Z",
     "start_time": "2022-06-13T13:19:21.151168Z"
    }
   },
   "outputs": [
    {
     "name": "stdout",
     "output_type": "stream",
     "text": [
      "Dewas   ['Madhya Pradesh ']\n",
      "Kaithal   ['Haryana ']\n",
      "Karnal   ['Haryana ']\n"
     ]
    }
   ],
   "source": [
    "for district in districts:\n",
    "    print(district, ' ', data[district]['points']['state'].unique())"
   ]
  },
  {
   "cell_type": "code",
   "execution_count": 13,
   "id": "cae421a5",
   "metadata": {
    "ExecuteTime": {
     "end_time": "2022-06-13T13:19:21.178523Z",
     "start_time": "2022-06-13T13:19:21.166473Z"
    }
   },
   "outputs": [
    {
     "name": "stdout",
     "output_type": "stream",
     "text": [
      "Dewas   ['Dewas ']\n",
      "Kaithal   ['Kaithal ']\n",
      "Karnal   ['Karnal ']\n"
     ]
    }
   ],
   "source": [
    "for district in districts:\n",
    "    print(district, ' ', data[district]['points']['district'].unique())"
   ]
  },
  {
   "cell_type": "code",
   "execution_count": 14,
   "id": "02cea65b",
   "metadata": {
    "ExecuteTime": {
     "end_time": "2022-06-13T13:19:21.194374Z",
     "start_time": "2022-06-13T13:19:21.180358Z"
    }
   },
   "outputs": [
    {
     "name": "stdout",
     "output_type": "stream",
     "text": [
      "\u001b[1mDewas\u001b[0m\n",
      "0    51.415094\n",
      "1    48.584906\n",
      "Name: wheat, dtype: float64\n",
      "\n",
      "\u001b[1mKaithal\u001b[0m\n",
      "1    54.166667\n",
      "0    45.833333\n",
      "Name: wheat, dtype: float64\n",
      "\n",
      "\u001b[1mKarnal\u001b[0m\n",
      "1    59.701493\n",
      "0    40.298507\n",
      "Name: wheat, dtype: float64\n",
      "\n"
     ]
    }
   ],
   "source": [
    "for district in districts:\n",
    "    print('\\033[1m' + district + '\\033[0m')\n",
    "    print(data[district]['points']['wheat'].value_counts(normalize=True) * 100,\n",
    "          end='\\n\\n')"
   ]
  },
  {
   "cell_type": "code",
   "execution_count": 15,
   "id": "165a5748",
   "metadata": {
    "ExecuteTime": {
     "end_time": "2022-06-13T13:19:21.490683Z",
     "start_time": "2022-06-13T13:19:21.196274Z"
    }
   },
   "outputs": [
    {
     "data": {
      "image/png": "[encoded data removed]",
      "text/plain": [
       "<Figure size 1080x288 with 3 Axes>"
      ]
     },
     "metadata": {
      "needs_background": "light"
     },
     "output_type": "display_data"
    }
   ],
   "source": [
    "fig, axs = plt.subplots(figsize=(15, 4), ncols=3)\n",
    "for i, district in enumerate(districts):\n",
    "    plot = sns.countplot(x='wheat', data=data[district]['points'], ax=axs[i])\n",
    "    plot.set_title(district)"
   ]
  },
  {
   "cell_type": "code",
   "execution_count": 16,
   "id": "95e3f147",
   "metadata": {
    "ExecuteTime": {
     "end_time": "2022-06-13T13:19:21.582857Z",
     "start_time": "2022-06-13T13:19:21.492685Z"
    }
   },
   "outputs": [
    {
     "data": {
      "image/png": "[encoded data removed]",
      "text/plain": [
       "<Figure size 432x288 with 1 Axes>"
      ]
     },
     "metadata": {
      "needs_background": "light"
     },
     "output_type": "display_data"
    }
   ],
   "source": [
    "sns.countplot(x='wheat',\n",
    "              data=pd.concat(\n",
    "                  [data[district]['points'] for district in districts]))\n",
    "plt.suptitle('Concatenated dataset')\n",
    "plt.show()"
   ]
  },
  {
   "cell_type": "code",
   "execution_count": 17,
   "id": "4da306b1",
   "metadata": {
    "ExecuteTime": {
     "end_time": "2022-06-13T13:19:21.598021Z",
     "start_time": "2022-06-13T13:19:21.583864Z"
    }
   },
   "outputs": [
    {
     "name": "stdout",
     "output_type": "stream",
     "text": [
      "Unweighted average of label 1 is: 54.33%\n"
     ]
    }
   ],
   "source": [
    "print('Unweighted average of label 1 is:', \"{:.2%}\".format(\n",
    "    (0.49 + 0.54 + 0.6) / 3))"
   ]
  },
  {
   "cell_type": "code",
   "execution_count": 18,
   "id": "25ddaca0",
   "metadata": {
    "ExecuteTime": {
     "end_time": "2022-06-13T13:19:21.613943Z",
     "start_time": "2022-06-13T13:19:21.599891Z"
    }
   },
   "outputs": [
    {
     "name": "stdout",
     "output_type": "stream",
     "text": [
      "Weighted average of label 1 is: 53.85%\n"
     ]
    }
   ],
   "source": [
    "print(\n",
    "    'Weighted average of label 1 is:',\n",
    "    \"{:.2%}\".format(0.49 * (206 / 470) + 0.54 * (104 / 470) + 0.6 *\n",
    "                    (160 / 470)))"
   ]
  },
  {
   "cell_type": "code",
   "execution_count": 19,
   "id": "3764864a",
   "metadata": {
    "ExecuteTime": {
     "end_time": "2022-06-13T13:19:21.850267Z",
     "start_time": "2022-06-13T13:19:21.615903Z"
    }
   },
   "outputs": [
    {
     "name": "stdout",
     "output_type": "stream",
     "text": [
      "Missing values:\n",
      "72012 187\n",
      "72013 187\n",
      "72014 187\n",
      "72034 202\n",
      "72035 186\n",
      "72037 186\n",
      "72059 187\n",
      "72077 187\n",
      "72078 187\n",
      "72107 197\n",
      "72111 152\n",
      "72119 187\n",
      "72128 187\n",
      "72130 187\n",
      "72132 197\n",
      "72133 187\n",
      "72139 187\n",
      "72140 187\n",
      "72142 187\n",
      "72148 187\n",
      "72150 187\n",
      "72153 187\n",
      "72154 187\n",
      "72155 187\n",
      "72156 177\n",
      "72157 202\n",
      "72187 187\n",
      "72188 187\n",
      "72191 187\n",
      "72222 187\n",
      "72250 187\n",
      "72280 152\n",
      "72282 187\n",
      "72283 187\n",
      "72284 187\n",
      "72292 187\n",
      "72293 187\n",
      "72305 187\n",
      "72310 137\n",
      "72314 197\n",
      "72315 192\n",
      "72320 187\n",
      "72322 187\n",
      "72327 187\n",
      "72328 202\n",
      "72387 197\n",
      "72407 197\n",
      "72408 197\n",
      "72416 152\n",
      "Dewas 50 16.666666666666668\n",
      "52001 192\n",
      "52002 192\n",
      "52009 192\n",
      "52010 202\n",
      "52011 197\n",
      "52012 192\n",
      "52013 197\n",
      "52016 192\n",
      "52017 202\n",
      "52019 202\n",
      "52021 202\n",
      "52023 202\n",
      "52028 177\n",
      "52029 202\n",
      "52040 192\n",
      "52042 202\n",
      "52043 202\n",
      "52052 192\n",
      "52071 202\n",
      "52072 200\n",
      "52074 202\n",
      "52076 200\n",
      "52077 200\n",
      "52078 192\n",
      "52079 192\n",
      "52082 202\n",
      "52087 172\n",
      "52088 177\n",
      "52093 167\n",
      "52096 202\n",
      "52103 202\n",
      "52105 202\n",
      "52107 192\n",
      "52108 202\n",
      "52120 202\n",
      "52121 202\n",
      "52122 202\n",
      "52124 202\n",
      "52126 202\n",
      "52127 172\n",
      "52128 192\n",
      "52137 177\n",
      "52149 172\n",
      "52152 202\n",
      "52153 202\n",
      "52161 197\n",
      "52169 177\n",
      "52172 202\n",
      "52181 172\n",
      "52182 172\n",
      "52187 172\n",
      "52189 172\n",
      "52191 172\n",
      "Kaithal 54 18.0\n",
      "54001 172\n",
      "54002 202\n",
      "54007 202\n",
      "54008 182\n",
      "54009 192\n",
      "54010 192\n",
      "54021 202\n",
      "54023 202\n",
      "54025 202\n",
      "54026 202\n",
      "54027 172\n",
      "54028 202\n",
      "54033 192\n",
      "54034 192\n",
      "54035 192\n",
      "54036 202\n",
      "54040 202\n",
      "54046 202\n",
      "54048 202\n",
      "54051 202\n",
      "54052 202\n",
      "54057 182\n",
      "54060 202\n",
      "54062 182\n",
      "54070 202\n",
      "54073 192\n",
      "54074 192\n",
      "54075 192\n",
      "54076 192\n",
      "54078 192\n",
      "54084 192\n",
      "54085 192\n",
      "54087 202\n",
      "54091 202\n",
      "54092 172\n",
      "54093 202\n",
      "54099 192\n",
      "54101 172\n",
      "54103 172\n",
      "54105 202\n",
      "54107 202\n",
      "54110 172\n",
      "54115 202\n",
      "54117 202\n",
      "54118 202\n",
      "54120 202\n",
      "54123 192\n",
      "54127 202\n",
      "54129 202\n",
      "54131 202\n",
      "54133 192\n",
      "54141 192\n",
      "54142 202\n",
      "54146 202\n",
      "54147 172\n",
      "54150 172\n",
      "54154 192\n",
      "54164 202\n",
      "54167 192\n",
      "54168 192\n",
      "54174 202\n",
      "54181 202\n",
      "54183 202\n",
      "54185 192\n",
      "54190 202\n",
      "54191 192\n",
      "54192 192\n",
      "54193 192\n",
      "54198 202\n",
      "54202 202\n",
      "54204 182\n",
      "54205 202\n",
      "54212 172\n",
      "54214 172\n",
      "54216 167\n",
      "54219 177\n",
      "54220 192\n",
      "54221 172\n",
      "54224 192\n",
      "54226 177\n",
      "54234 192\n",
      "54235 202\n",
      "54240 202\n",
      "54247 202\n",
      "54250 202\n",
      "54252 202\n",
      "54257 192\n",
      "54258 192\n",
      "54259 202\n",
      "54263 192\n",
      "54264 192\n",
      "54265 202\n",
      "54267 202\n",
      "54268 192\n",
      "Karnal 95 31.666666666666668\n"
     ]
    }
   ],
   "source": [
    "print('Missing values:')\n",
    "for district in districts:\n",
    "    i = 1\n",
    "    for id_ in data[district]['points']['gfid'].values:\n",
    "        shp = data[district]['NDVI'][data[district]['NDVI']['gfid'] ==\n",
    "                                     id_].shape[0]\n",
    "        if shp != 203:\n",
    "            i += 1\n",
    "            print(id_, shp)\n",
    "    print(district, i, i / len(data[district]))"
   ]
  },
  {
   "cell_type": "code",
   "execution_count": 20,
   "id": "8e2dacc2",
   "metadata": {
    "ExecuteTime": {
     "end_time": "2022-06-13T13:19:21.865457Z",
     "start_time": "2022-06-13T13:19:21.853491Z"
    }
   },
   "outputs": [
    {
     "data": {
      "text/plain": [
       "'2020-10-20'"
      ]
     },
     "execution_count": 20,
     "metadata": {},
     "output_type": "execute_result"
    }
   ],
   "source": [
    "data['Dewas']['merged'].loc[data['Dewas']['merged']['gfid'] == 72111,\n",
    "                            'date'].min()"
   ]
  },
  {
   "cell_type": "code",
   "execution_count": 21,
   "id": "576845d1",
   "metadata": {
    "ExecuteTime": {
     "end_time": "2022-06-13T13:19:21.880837Z",
     "start_time": "2022-06-13T13:19:21.867454Z"
    }
   },
   "outputs": [
    {
     "data": {
      "text/plain": [
       "'2021-03-20'"
      ]
     },
     "execution_count": 21,
     "metadata": {},
     "output_type": "execute_result"
    }
   ],
   "source": [
    "data['Dewas']['merged'].loc[data['Dewas']['merged']['gfid'] == 72111,\n",
    "                            'date'].max()"
   ]
  },
  {
   "cell_type": "code",
   "execution_count": 22,
   "id": "e7936603",
   "metadata": {
    "ExecuteTime": {
     "end_time": "2022-06-13T13:19:21.888005Z",
     "start_time": "2022-06-13T13:19:21.882854Z"
    }
   },
   "outputs": [
    {
     "data": {
      "text/plain": [
       "'2020-10-20'"
      ]
     },
     "execution_count": 22,
     "metadata": {},
     "output_type": "execute_result"
    }
   ],
   "source": [
    "data['Dewas']['merged'].loc[data['Dewas']['merged']['gfid'] == 72416,\n",
    "                            'date'].min()"
   ]
  },
  {
   "cell_type": "code",
   "execution_count": 23,
   "id": "03343f91",
   "metadata": {
    "ExecuteTime": {
     "end_time": "2022-06-13T13:19:21.895996Z",
     "start_time": "2022-06-13T13:19:21.891001Z"
    }
   },
   "outputs": [
    {
     "data": {
      "text/plain": [
       "'2021-03-20'"
      ]
     },
     "execution_count": 23,
     "metadata": {},
     "output_type": "execute_result"
    }
   ],
   "source": [
    "data['Dewas']['merged'].loc[data['Dewas']['merged']['gfid'] == 72416,\n",
    "                            'date'].max()"
   ]
  },
  {
   "cell_type": "code",
   "execution_count": 24,
   "id": "3531aa93",
   "metadata": {
    "ExecuteTime": {
     "end_time": "2022-06-13T13:19:21.912138Z",
     "start_time": "2022-06-13T13:19:21.898863Z"
    }
   },
   "outputs": [
    {
     "data": {
      "text/plain": [
       "'2020-10-20'"
      ]
     },
     "execution_count": 24,
     "metadata": {},
     "output_type": "execute_result"
    }
   ],
   "source": [
    "data['Dewas']['merged'].loc[data['Dewas']['merged']['gfid'] == 72310,\n",
    "                            'date'].min()"
   ]
  },
  {
   "cell_type": "code",
   "execution_count": 25,
   "id": "5550cdb4",
   "metadata": {
    "ExecuteTime": {
     "end_time": "2022-06-13T13:19:21.927357Z",
     "start_time": "2022-06-13T13:19:21.913734Z"
    }
   },
   "outputs": [
    {
     "data": {
      "text/plain": [
       "'2021-03-05'"
      ]
     },
     "execution_count": 25,
     "metadata": {},
     "output_type": "execute_result"
    }
   ],
   "source": [
    "data['Dewas']['merged'].loc[data['Dewas']['merged']['gfid'] == 72310,\n",
    "                            'date'].max()"
   ]
  },
  {
   "cell_type": "code",
   "execution_count": 26,
   "id": "3e67f37b",
   "metadata": {
    "ExecuteTime": {
     "end_time": "2022-06-13T13:19:22.411095Z",
     "start_time": "2022-06-13T13:19:21.929323Z"
    },
    "scrolled": false
   },
   "outputs": [
    {
     "data": {
      "image/png": "[encoded data removed]",
      "text/plain": [
       "<Figure size 720x288 with 1 Axes>"
      ]
     },
     "metadata": {
      "needs_background": "light"
     },
     "output_type": "display_data"
    },
    {
     "data": {
      "image/png": "[encoded data removed]",
      "text/plain": [
       "<Figure size 720x288 with 1 Axes>"
      ]
     },
     "metadata": {
      "needs_background": "light"
     },
     "output_type": "display_data"
    },
    {
     "data": {
      "image/png": "[encoded data removed]",
      "text/plain": [
       "<Figure size 720x288 with 1 Axes>"
      ]
     },
     "metadata": {
      "needs_background": "light"
     },
     "output_type": "display_data"
    }
   ],
   "source": [
    "for district in districts:\n",
    "    fig, ax = plt.subplots(figsize=(10, 4))\n",
    "    ax.plot(data[district]['merged'].groupby('date').agg({'ndvi': 'mean'}))\n",
    "    ax.xaxis.set_major_locator(mdates.MonthLocator())\n",
    "    for label in ax.get_xticklabels(which='major'):\n",
    "        label.set(rotation=45, horizontalalignment='right')\n",
    "    plt.xlabel('Date')\n",
    "    plt.ylabel('NDVI')\n",
    "    plt.suptitle(district)\n",
    "    plt.show()"
   ]
  }
 ],
 "metadata": {
  "kernelspec": {
   "display_name": "Python (ds)",
   "language": "python",
   "name": "ds"
  },
  "language_info": {
   "codemirror_mode": {
    "name": "ipython",
    "version": 3
   },
   "file_extension": ".py",
   "mimetype": "text/x-python",
   "name": "python",
   "nbconvert_exporter": "python",
   "pygments_lexer": "ipython3",
   "version": "3.9.12"
  },
  "toc": {
   "base_numbering": 1,
   "nav_menu": {},
   "number_sections": true,
   "sideBar": true,
   "skip_h1_title": false,
   "title_cell": "Table of Contents",
   "title_sidebar": "Contents",
   "toc_cell": false,
   "toc_position": {},
   "toc_section_display": true,
   "toc_window_display": false
  }
 },
 "nbformat": 4,
 "nbformat_minor": 5
}
