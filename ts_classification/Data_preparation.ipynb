{
 "cells": [
  {
   "cell_type": "code",
   "execution_count": 1,
   "id": "ef740468",
   "metadata": {
    "ExecuteTime": {
     "end_time": "2022-06-13T13:17:12.987080Z",
     "start_time": "2022-06-13T13:17:11.331631Z"
    }
   },
   "outputs": [],
   "source": [
    "import os\n",
    "import matplotlib.pyplot as plt\n",
    "import pandas as pd\n",
    "import seaborn as sns\n",
    "import statsmodels.api as sm\n",
    "import warnings\n",
    "\n",
    "from catboost import CatBoostClassifier\n",
    "from scipy import stats\n",
    "from sklearn.metrics import classification_report\n",
    "from sklearn.model_selection import train_test_split\n",
    "from statsmodels.graphics.api import qqplot\n",
    "from statsmodels.tsa.arima.model import ARIMA"
   ]
  },
  {
   "cell_type": "code",
   "execution_count": 2,
   "id": "f2c16c19",
   "metadata": {
    "ExecuteTime": {
     "end_time": "2022-06-13T13:17:13.002929Z",
     "start_time": "2022-06-13T13:17:12.989831Z"
    }
   },
   "outputs": [],
   "source": [
    "warnings.filterwarnings('ignore')"
   ]
  },
  {
   "cell_type": "code",
   "execution_count": 3,
   "id": "ce7d7713",
   "metadata": {
    "ExecuteTime": {
     "end_time": "2022-06-13T13:17:13.018572Z",
     "start_time": "2022-06-13T13:17:13.006198Z"
    }
   },
   "outputs": [],
   "source": [
    "sns.set_theme()\n",
    "sns.set_palette('Paired')"
   ]
  },
  {
   "cell_type": "code",
   "execution_count": 4,
   "id": "1395a3f5",
   "metadata": {
    "ExecuteTime": {
     "end_time": "2022-06-13T13:17:13.033991Z",
     "start_time": "2022-06-13T13:17:13.021030Z"
    }
   },
   "outputs": [
    {
     "data": {
      "text/plain": [
       "['Dewas_NDVI.csv',\n",
       " 'Dewas_points.csv',\n",
       " 'Kaithal_NDVI.csv',\n",
       " 'Kaithal_points.csv',\n",
       " 'Karnal_NDVI.csv',\n",
       " 'Karnal_points.csv']"
      ]
     },
     "execution_count": 4,
     "metadata": {},
     "output_type": "execute_result"
    }
   ],
   "source": [
    "os.listdir('data')"
   ]
  },
  {
   "cell_type": "code",
   "execution_count": 5,
   "id": "c28cbf5a",
   "metadata": {
    "ExecuteTime": {
     "end_time": "2022-06-13T13:17:13.049547Z",
     "start_time": "2022-06-13T13:17:13.036263Z"
    }
   },
   "outputs": [],
   "source": [
    "districts = ['Dewas', 'Kaithal', 'Karnal']"
   ]
  },
  {
   "cell_type": "code",
   "execution_count": 6,
   "id": "8e55dcad",
   "metadata": {
    "ExecuteTime": {
     "end_time": "2022-06-13T13:17:13.189533Z",
     "start_time": "2022-06-13T13:17:13.051490Z"
    }
   },
   "outputs": [],
   "source": [
    "data = dict(zip(districts, [{}, {}, {}]))\n",
    "for district in districts:\n",
    "    points = pd.read_csv(f'data/{district}_points.csv')\n",
    "    ndvi = pd.read_csv(f'data/{district}_NDVI.csv')\n",
    "    data[district]['points'] = points\n",
    "    data[district]['NDVI'] = ndvi\n",
    "    data[district]['merged'] = points.merge(ndvi,\n",
    "                                            left_on='gfid',\n",
    "                                            right_on='gfid')"
   ]
  },
  {
   "cell_type": "code",
   "execution_count": 7,
   "id": "b100190b",
   "metadata": {
    "ExecuteTime": {
     "end_time": "2022-06-13T13:17:13.204541Z",
     "start_time": "2022-06-13T13:17:13.191534Z"
    }
   },
   "outputs": [
    {
     "data": {
      "text/html": [
       "<div>\n",
       "<style scoped>\n",
       "    .dataframe tbody tr th:only-of-type {\n",
       "        vertical-align: middle;\n",
       "    }\n",
       "\n",
       "    .dataframe tbody tr th {\n",
       "        vertical-align: top;\n",
       "    }\n",
       "\n",
       "    .dataframe thead th {\n",
       "        text-align: right;\n",
       "    }\n",
       "</style>\n",
       "<table border=\"1\" class=\"dataframe\">\n",
       "  <thead>\n",
       "    <tr style=\"text-align: right;\">\n",
       "      <th></th>\n",
       "      <th>gfid</th>\n",
       "      <th>state</th>\n",
       "      <th>district</th>\n",
       "      <th>village</th>\n",
       "      <th>lon</th>\n",
       "      <th>lat</th>\n",
       "      <th>wheat</th>\n",
       "      <th>datenum</th>\n",
       "      <th>date</th>\n",
       "      <th>ndvi</th>\n",
       "    </tr>\n",
       "  </thead>\n",
       "  <tbody>\n",
       "    <tr>\n",
       "      <th>0</th>\n",
       "      <td>72001</td>\n",
       "      <td>Madhya Pradesh</td>\n",
       "      <td>Dewas</td>\n",
       "      <td>VijayaganjMandi</td>\n",
       "      <td>75.96199</td>\n",
       "      <td>23.218479</td>\n",
       "      <td>0</td>\n",
       "      <td>0</td>\n",
       "      <td>2020-10-20</td>\n",
       "      <td>0.186</td>\n",
       "    </tr>\n",
       "    <tr>\n",
       "      <th>1</th>\n",
       "      <td>72001</td>\n",
       "      <td>Madhya Pradesh</td>\n",
       "      <td>Dewas</td>\n",
       "      <td>VijayaganjMandi</td>\n",
       "      <td>75.96199</td>\n",
       "      <td>23.218479</td>\n",
       "      <td>0</td>\n",
       "      <td>1</td>\n",
       "      <td>2020-10-21</td>\n",
       "      <td>0.184</td>\n",
       "    </tr>\n",
       "    <tr>\n",
       "      <th>2</th>\n",
       "      <td>72001</td>\n",
       "      <td>Madhya Pradesh</td>\n",
       "      <td>Dewas</td>\n",
       "      <td>VijayaganjMandi</td>\n",
       "      <td>75.96199</td>\n",
       "      <td>23.218479</td>\n",
       "      <td>0</td>\n",
       "      <td>2</td>\n",
       "      <td>2020-10-22</td>\n",
       "      <td>0.183</td>\n",
       "    </tr>\n",
       "    <tr>\n",
       "      <th>3</th>\n",
       "      <td>72001</td>\n",
       "      <td>Madhya Pradesh</td>\n",
       "      <td>Dewas</td>\n",
       "      <td>VijayaganjMandi</td>\n",
       "      <td>75.96199</td>\n",
       "      <td>23.218479</td>\n",
       "      <td>0</td>\n",
       "      <td>3</td>\n",
       "      <td>2020-10-23</td>\n",
       "      <td>0.182</td>\n",
       "    </tr>\n",
       "    <tr>\n",
       "      <th>4</th>\n",
       "      <td>72001</td>\n",
       "      <td>Madhya Pradesh</td>\n",
       "      <td>Dewas</td>\n",
       "      <td>VijayaganjMandi</td>\n",
       "      <td>75.96199</td>\n",
       "      <td>23.218479</td>\n",
       "      <td>0</td>\n",
       "      <td>4</td>\n",
       "      <td>2020-10-24</td>\n",
       "      <td>0.181</td>\n",
       "    </tr>\n",
       "  </tbody>\n",
       "</table>\n",
       "</div>"
      ],
      "text/plain": [
       "    gfid            state district          village       lon        lat  \\\n",
       "0  72001  Madhya Pradesh    Dewas   VijayaganjMandi  75.96199  23.218479   \n",
       "1  72001  Madhya Pradesh    Dewas   VijayaganjMandi  75.96199  23.218479   \n",
       "2  72001  Madhya Pradesh    Dewas   VijayaganjMandi  75.96199  23.218479   \n",
       "3  72001  Madhya Pradesh    Dewas   VijayaganjMandi  75.96199  23.218479   \n",
       "4  72001  Madhya Pradesh    Dewas   VijayaganjMandi  75.96199  23.218479   \n",
       "\n",
       "   wheat  datenum        date   ndvi  \n",
       "0      0        0  2020-10-20  0.186  \n",
       "1      0        1  2020-10-21  0.184  \n",
       "2      0        2  2020-10-22  0.183  \n",
       "3      0        3  2020-10-23  0.182  \n",
       "4      0        4  2020-10-24  0.181  "
      ]
     },
     "execution_count": 7,
     "metadata": {},
     "output_type": "execute_result"
    }
   ],
   "source": [
    "data['Dewas']['merged'].head()"
   ]
  },
  {
   "cell_type": "code",
   "execution_count": 8,
   "id": "058ae0c1",
   "metadata": {
    "ExecuteTime": {
     "end_time": "2022-06-13T13:17:13.235198Z",
     "start_time": "2022-06-13T13:17:13.207683Z"
    }
   },
   "outputs": [],
   "source": [
    "dewas_avg = data['Dewas']['merged'].groupby('date').agg({'ndvi': 'mean'})\n",
    "karnal_avg = data['Karnal']['merged'].groupby('date').agg({'ndvi': 'mean'})\n",
    "kaithal_avg = data['Kaithal']['merged'].groupby('date').agg({'ndvi': 'mean'})"
   ]
  },
  {
   "cell_type": "markdown",
   "id": "95846f93",
   "metadata": {},
   "source": [
    "# Dewas"
   ]
  },
  {
   "cell_type": "code",
   "execution_count": 9,
   "id": "0d58bc39",
   "metadata": {
    "ExecuteTime": {
     "end_time": "2022-06-13T13:17:13.251102Z",
     "start_time": "2022-06-13T13:17:13.239929Z"
    }
   },
   "outputs": [
    {
     "data": {
      "text/plain": [
       "(-2.6969944006215316,\n",
       " 0.07455981464921177,\n",
       " 2,\n",
       " 200,\n",
       " {'1%': -3.463476079125, '5%': -2.876102355, '10%': -2.574532225},\n",
       " -2446.811841581606)"
      ]
     },
     "execution_count": 9,
     "metadata": {},
     "output_type": "execute_result"
    }
   ],
   "source": [
    "sm.tsa.adfuller(dewas_avg, 2)"
   ]
  },
  {
   "cell_type": "code",
   "execution_count": 10,
   "id": "91a920f0",
   "metadata": {
    "ExecuteTime": {
     "end_time": "2022-06-13T13:17:13.266748Z",
     "start_time": "2022-06-13T13:17:13.252437Z"
    }
   },
   "outputs": [
    {
     "data": {
      "text/plain": [
       "(-5.77413598650406,\n",
       " 5.307746836798032e-07,\n",
       " 1,\n",
       " 201,\n",
       " {'1%': -3.4633090972761744,\n",
       "  '5%': -2.876029332045744,\n",
       "  '10%': -2.5744932593252643},\n",
       " -2382.894825735602)"
      ]
     },
     "execution_count": 10,
     "metadata": {},
     "output_type": "execute_result"
    }
   ],
   "source": [
    "sm.tsa.adfuller(dewas_avg, 1)"
   ]
  },
  {
   "cell_type": "code",
   "execution_count": 11,
   "id": "cae82af9",
   "metadata": {
    "ExecuteTime": {
     "end_time": "2022-06-13T13:17:13.281880Z",
     "start_time": "2022-06-13T13:17:13.268257Z"
    }
   },
   "outputs": [
    {
     "data": {
      "text/plain": [
       "(-1.689024461365378,\n",
       " 0.4367760918393596,\n",
       " 3,\n",
       " 199,\n",
       " {'1%': -3.4636447617687436,\n",
       "  '5%': -2.8761761179270766,\n",
       "  '10%': -2.57457158581854},\n",
       " -2305.0285988049677)"
      ]
     },
     "execution_count": 11,
     "metadata": {},
     "output_type": "execute_result"
    }
   ],
   "source": [
    "sm.tsa.adfuller(dewas_avg)"
   ]
  },
  {
   "cell_type": "code",
   "execution_count": 12,
   "id": "ec819a39",
   "metadata": {
    "ExecuteTime": {
     "end_time": "2022-06-13T13:17:13.571069Z",
     "start_time": "2022-06-13T13:17:13.282987Z"
    }
   },
   "outputs": [
    {
     "data": {
      "image/png": "[encoded data removed]",
      "text/plain": [
       "<Figure size 864x576 with 2 Axes>"
      ]
     },
     "metadata": {
      "needs_background": "light"
     },
     "output_type": "display_data"
    }
   ],
   "source": [
    "fig = plt.figure(figsize=(12, 8))\n",
    "ax1 = fig.add_subplot(211)\n",
    "fig = sm.graphics.tsa.plot_acf(\n",
    "    dewas_avg.diff(periods=1).dropna().values.squeeze(), lags=25, ax=ax1)\n",
    "ax2 = fig.add_subplot(212)\n",
    "fig = sm.graphics.tsa.plot_pacf(\n",
    "    dewas_avg.diff(periods=1).dropna().values.squeeze(), lags=25, ax=ax2)"
   ]
  },
  {
   "cell_type": "code",
   "execution_count": 13,
   "id": "0929093f",
   "metadata": {
    "ExecuteTime": {
     "end_time": "2022-06-13T13:17:14.199164Z",
     "start_time": "2022-06-13T13:17:13.573152Z"
    }
   },
   "outputs": [],
   "source": [
    "arima = ARIMA(dewas_avg, order=(5, 1, 5)).fit()"
   ]
  },
  {
   "cell_type": "code",
   "execution_count": 14,
   "id": "2c31ce2c",
   "metadata": {
    "ExecuteTime": {
     "end_time": "2022-06-13T13:17:14.214994Z",
     "start_time": "2022-06-13T13:17:14.200200Z"
    }
   },
   "outputs": [
    {
     "data": {
      "text/plain": [
       "ar.L1    -8.610992e-01\n",
       "ar.L2    -2.231459e-01\n",
       "ar.L3     5.812678e-01\n",
       "ar.L4     9.009038e-01\n",
       "ar.L5     5.928267e-01\n",
       "ma.L1     2.088232e+00\n",
       "ma.L2     2.793424e+00\n",
       "ma.L3     2.575692e+00\n",
       "ma.L4     1.615284e+00\n",
       "ma.L5     5.863422e-01\n",
       "sigma2    3.424780e-07\n",
       "dtype: float64"
      ]
     },
     "execution_count": 14,
     "metadata": {},
     "output_type": "execute_result"
    }
   ],
   "source": [
    "arima.params"
   ]
  },
  {
   "cell_type": "code",
   "execution_count": 15,
   "id": "b4568df5",
   "metadata": {
    "ExecuteTime": {
     "end_time": "2022-06-13T13:17:14.232341Z",
     "start_time": "2022-06-13T13:17:14.217149Z"
    }
   },
   "outputs": [
    {
     "data": {
      "text/html": [
       "<table class=\"simpletable\">\n",
       "<caption>SARIMAX Results</caption>\n",
       "<tr>\n",
       "  <th>Dep. Variable:</th>         <td>ndvi</td>       <th>  No. Observations:  </th>    <td>203</td>   \n",
       "</tr>\n",
       "<tr>\n",
       "  <th>Model:</th>            <td>ARIMA(5, 1, 5)</td>  <th>  Log Likelihood     </th> <td>1212.233</td> \n",
       "</tr>\n",
       "<tr>\n",
       "  <th>Date:</th>            <td>Mon, 13 Jun 2022</td> <th>  AIC                </th> <td>-2402.465</td>\n",
       "</tr>\n",
       "<tr>\n",
       "  <th>Time:</th>                <td>16:17:14</td>     <th>  BIC                </th> <td>-2366.074</td>\n",
       "</tr>\n",
       "<tr>\n",
       "  <th>Sample:</th>             <td>10-20-2020</td>    <th>  HQIC               </th> <td>-2387.741</td>\n",
       "</tr>\n",
       "<tr>\n",
       "  <th></th>                   <td>- 05-10-2021</td>   <th>                     </th>     <td> </td>    \n",
       "</tr>\n",
       "<tr>\n",
       "  <th>Covariance Type:</th>        <td>opg</td>       <th>                     </th>     <td> </td>    \n",
       "</tr>\n",
       "</table>\n",
       "<table class=\"simpletable\">\n",
       "<tr>\n",
       "     <td></td>       <th>coef</th>     <th>std err</th>      <th>z</th>      <th>P>|z|</th>  <th>[0.025</th>    <th>0.975]</th>  \n",
       "</tr>\n",
       "<tr>\n",
       "  <th>ar.L1</th>  <td>   -0.8611</td> <td>    0.078</td> <td>  -11.050</td> <td> 0.000</td> <td>   -1.014</td> <td>   -0.708</td>\n",
       "</tr>\n",
       "<tr>\n",
       "  <th>ar.L2</th>  <td>   -0.2231</td> <td>    0.092</td> <td>   -2.415</td> <td> 0.016</td> <td>   -0.404</td> <td>   -0.042</td>\n",
       "</tr>\n",
       "<tr>\n",
       "  <th>ar.L3</th>  <td>    0.5813</td> <td>    0.082</td> <td>    7.060</td> <td> 0.000</td> <td>    0.420</td> <td>    0.743</td>\n",
       "</tr>\n",
       "<tr>\n",
       "  <th>ar.L4</th>  <td>    0.9009</td> <td>    0.099</td> <td>    9.060</td> <td> 0.000</td> <td>    0.706</td> <td>    1.096</td>\n",
       "</tr>\n",
       "<tr>\n",
       "  <th>ar.L5</th>  <td>    0.5928</td> <td>    0.105</td> <td>    5.629</td> <td> 0.000</td> <td>    0.386</td> <td>    0.799</td>\n",
       "</tr>\n",
       "<tr>\n",
       "  <th>ma.L1</th>  <td>    2.0882</td> <td>    0.085</td> <td>   24.654</td> <td> 0.000</td> <td>    1.922</td> <td>    2.254</td>\n",
       "</tr>\n",
       "<tr>\n",
       "  <th>ma.L2</th>  <td>    2.7934</td> <td>    0.133</td> <td>   21.031</td> <td> 0.000</td> <td>    2.533</td> <td>    3.054</td>\n",
       "</tr>\n",
       "<tr>\n",
       "  <th>ma.L3</th>  <td>    2.5757</td> <td>    0.158</td> <td>   16.302</td> <td> 0.000</td> <td>    2.266</td> <td>    2.885</td>\n",
       "</tr>\n",
       "<tr>\n",
       "  <th>ma.L4</th>  <td>    1.6153</td> <td>    0.110</td> <td>   14.739</td> <td> 0.000</td> <td>    1.400</td> <td>    1.830</td>\n",
       "</tr>\n",
       "<tr>\n",
       "  <th>ma.L5</th>  <td>    0.5863</td> <td>    0.046</td> <td>   12.802</td> <td> 0.000</td> <td>    0.497</td> <td>    0.676</td>\n",
       "</tr>\n",
       "<tr>\n",
       "  <th>sigma2</th> <td> 3.425e-07</td> <td> 2.23e-08</td> <td>   15.365</td> <td> 0.000</td> <td> 2.99e-07</td> <td> 3.86e-07</td>\n",
       "</tr>\n",
       "</table>\n",
       "<table class=\"simpletable\">\n",
       "<tr>\n",
       "  <th>Ljung-Box (L1) (Q):</th>     <td>9.64</td> <th>  Jarque-Bera (JB):  </th> <td>594.34</td>\n",
       "</tr>\n",
       "<tr>\n",
       "  <th>Prob(Q):</th>                <td>0.00</td> <th>  Prob(JB):          </th>  <td>0.00</td> \n",
       "</tr>\n",
       "<tr>\n",
       "  <th>Heteroskedasticity (H):</th> <td>0.17</td> <th>  Skew:              </th>  <td>0.54</td> \n",
       "</tr>\n",
       "<tr>\n",
       "  <th>Prob(H) (two-sided):</th>    <td>0.00</td> <th>  Kurtosis:          </th>  <td>11.33</td>\n",
       "</tr>\n",
       "</table><br/><br/>Warnings:<br/>[1] Covariance matrix calculated using the outer product of gradients (complex-step)."
      ],
      "text/plain": [
       "<class 'statsmodels.iolib.summary.Summary'>\n",
       "\"\"\"\n",
       "                               SARIMAX Results                                \n",
       "==============================================================================\n",
       "Dep. Variable:                   ndvi   No. Observations:                  203\n",
       "Model:                 ARIMA(5, 1, 5)   Log Likelihood                1212.233\n",
       "Date:                Mon, 13 Jun 2022   AIC                          -2402.465\n",
       "Time:                        16:17:14   BIC                          -2366.074\n",
       "Sample:                    10-20-2020   HQIC                         -2387.741\n",
       "                         - 05-10-2021                                         \n",
       "Covariance Type:                  opg                                         \n",
       "==============================================================================\n",
       "                 coef    std err          z      P>|z|      [0.025      0.975]\n",
       "------------------------------------------------------------------------------\n",
       "ar.L1         -0.8611      0.078    -11.050      0.000      -1.014      -0.708\n",
       "ar.L2         -0.2231      0.092     -2.415      0.016      -0.404      -0.042\n",
       "ar.L3          0.5813      0.082      7.060      0.000       0.420       0.743\n",
       "ar.L4          0.9009      0.099      9.060      0.000       0.706       1.096\n",
       "ar.L5          0.5928      0.105      5.629      0.000       0.386       0.799\n",
       "ma.L1          2.0882      0.085     24.654      0.000       1.922       2.254\n",
       "ma.L2          2.7934      0.133     21.031      0.000       2.533       3.054\n",
       "ma.L3          2.5757      0.158     16.302      0.000       2.266       2.885\n",
       "ma.L4          1.6153      0.110     14.739      0.000       1.400       1.830\n",
       "ma.L5          0.5863      0.046     12.802      0.000       0.497       0.676\n",
       "sigma2      3.425e-07   2.23e-08     15.365      0.000    2.99e-07    3.86e-07\n",
       "===================================================================================\n",
       "Ljung-Box (L1) (Q):                   9.64   Jarque-Bera (JB):               594.34\n",
       "Prob(Q):                              0.00   Prob(JB):                         0.00\n",
       "Heteroskedasticity (H):               0.17   Skew:                             0.54\n",
       "Prob(H) (two-sided):                  0.00   Kurtosis:                        11.33\n",
       "===================================================================================\n",
       "\n",
       "Warnings:\n",
       "[1] Covariance matrix calculated using the outer product of gradients (complex-step).\n",
       "\"\"\""
      ]
     },
     "execution_count": 15,
     "metadata": {},
     "output_type": "execute_result"
    }
   ],
   "source": [
    "arima.summary()"
   ]
  },
  {
   "cell_type": "code",
   "execution_count": 16,
   "id": "742ea772",
   "metadata": {
    "ExecuteTime": {
     "end_time": "2022-06-13T13:17:14.247731Z",
     "start_time": "2022-06-13T13:17:14.233950Z"
    }
   },
   "outputs": [
    {
     "data": {
      "text/plain": [
       "NormaltestResult(statistic=450.54679600557665, pvalue=1.4621984789488071e-98)"
      ]
     },
     "execution_count": 16,
     "metadata": {},
     "output_type": "execute_result"
    }
   ],
   "source": [
    "stats.normaltest(arima.resid.values)"
   ]
  },
  {
   "cell_type": "code",
   "execution_count": 17,
   "id": "7aaf2b23",
   "metadata": {
    "ExecuteTime": {
     "end_time": "2022-06-13T13:17:14.387963Z",
     "start_time": "2022-06-13T13:17:14.249523Z"
    }
   },
   "outputs": [
    {
     "data": {
      "image/png": "[encoded data removed]",
      "text/plain": [
       "<Figure size 360x360 with 1 Axes>"
      ]
     },
     "metadata": {
      "needs_background": "light"
     },
     "output_type": "display_data"
    }
   ],
   "source": [
    "fig = plt.figure(figsize=(5, 5))\n",
    "ax = fig.add_subplot(111)\n",
    "fig = qqplot(arima.resid.values[1:-1], line=\"q\", ax=ax, fit=True)"
   ]
  },
  {
   "cell_type": "code",
   "execution_count": 18,
   "id": "c1b490dd",
   "metadata": {
    "ExecuteTime": {
     "end_time": "2022-06-13T13:17:14.403063Z",
     "start_time": "2022-06-13T13:17:14.389963Z"
    }
   },
   "outputs": [
    {
     "name": "stdout",
     "output_type": "stream",
     "text": [
      "      Q-stat   p-value\n",
      "0   0.052775  0.818302\n",
      "1   0.053287  0.973708\n",
      "2   0.054251  0.996694\n",
      "3   0.054509  0.999635\n",
      "4   0.054776  0.999963\n",
      "5   0.058802  0.999996\n",
      "6   0.059439  1.000000\n",
      "7   0.059872  1.000000\n",
      "8   0.060499  1.000000\n",
      "9   0.060540  1.000000\n",
      "10  0.060678  1.000000\n",
      "11  0.060723  1.000000\n",
      "12  0.060957  1.000000\n",
      "13  0.061898  1.000000\n",
      "14  0.061925  1.000000\n",
      "15  0.095970  1.000000\n",
      "16  0.133616  1.000000\n",
      "17  0.135004  1.000000\n",
      "18  0.141736  1.000000\n",
      "19  0.143148  1.000000\n",
      "20  0.143153  1.000000\n",
      "21  0.145162  1.000000\n",
      "22  0.147274  1.000000\n"
     ]
    }
   ],
   "source": [
    "q_test = sm.tsa.stattools.acf(arima.resid, qstat=True)\n",
    "print(pd.DataFrame({'Q-stat': q_test[1], 'p-value': q_test[2]}))"
   ]
  },
  {
   "cell_type": "code",
   "execution_count": 19,
   "id": "d0ac64ba",
   "metadata": {
    "ExecuteTime": {
     "end_time": "2022-06-13T13:17:14.662742Z",
     "start_time": "2022-06-13T13:17:14.404584Z"
    }
   },
   "outputs": [
    {
     "data": {
      "image/png": "[encoded data removed]",
      "text/plain": [
       "<Figure size 864x576 with 2 Axes>"
      ]
     },
     "metadata": {
      "needs_background": "light"
     },
     "output_type": "display_data"
    }
   ],
   "source": [
    "fig = plt.figure(figsize=(12, 8))\n",
    "ax1 = fig.add_subplot(211)\n",
    "fig = sm.graphics.tsa.plot_acf(arima.resid.values.squeeze(), lags=40, ax=ax1)\n",
    "ax2 = fig.add_subplot(212)\n",
    "fig = sm.graphics.tsa.plot_pacf(arima.resid.values, lags=40, ax=ax2)"
   ]
  },
  {
   "cell_type": "markdown",
   "id": "327c7247",
   "metadata": {},
   "source": [
    "# Kaithal"
   ]
  },
  {
   "cell_type": "code",
   "execution_count": 20,
   "id": "87f94785",
   "metadata": {
    "ExecuteTime": {
     "end_time": "2022-06-13T13:17:14.678196Z",
     "start_time": "2022-06-13T13:17:14.664080Z"
    }
   },
   "outputs": [
    {
     "data": {
      "text/plain": [
       "(-2.654937472246509,\n",
       " 0.08216587616641641,\n",
       " 2,\n",
       " 200,\n",
       " {'1%': -3.463476079125, '5%': -2.876102355, '10%': -2.574532225},\n",
       " -2157.158323358947)"
      ]
     },
     "execution_count": 20,
     "metadata": {},
     "output_type": "execute_result"
    }
   ],
   "source": [
    "sm.tsa.adfuller(kaithal_avg, 2)"
   ]
  },
  {
   "cell_type": "code",
   "execution_count": 21,
   "id": "e68db5d3",
   "metadata": {
    "ExecuteTime": {
     "end_time": "2022-06-13T13:17:14.693493Z",
     "start_time": "2022-06-13T13:17:14.680251Z"
    }
   },
   "outputs": [
    {
     "data": {
      "text/plain": [
       "(-5.51232291564173,\n",
       " 1.9595299038324714e-06,\n",
       " 1,\n",
       " 201,\n",
       " {'1%': -3.4633090972761744,\n",
       "  '5%': -2.876029332045744,\n",
       "  '10%': -2.5744932593252643},\n",
       " -2107.205940141206)"
      ]
     },
     "execution_count": 21,
     "metadata": {},
     "output_type": "execute_result"
    }
   ],
   "source": [
    "sm.tsa.adfuller(kaithal_avg, 1)"
   ]
  },
  {
   "cell_type": "code",
   "execution_count": 22,
   "id": "bbd2cfd7",
   "metadata": {
    "ExecuteTime": {
     "end_time": "2022-06-13T13:17:14.709175Z",
     "start_time": "2022-06-13T13:17:14.695290Z"
    }
   },
   "outputs": [
    {
     "data": {
      "text/plain": [
       "(-2.828055541120112,\n",
       " 0.05437663787757806,\n",
       " 11,\n",
       " 191,\n",
       " {'1%': -3.465058702600837,\n",
       "  '5%': -2.8767942675230356,\n",
       "  '10%': -2.5749014492475535},\n",
       " -2104.495454232945)"
      ]
     },
     "execution_count": 22,
     "metadata": {},
     "output_type": "execute_result"
    }
   ],
   "source": [
    "sm.tsa.adfuller(kaithal_avg, )"
   ]
  },
  {
   "cell_type": "code",
   "execution_count": 23,
   "id": "7e037eff",
   "metadata": {
    "ExecuteTime": {
     "end_time": "2022-06-13T13:17:15.030044Z",
     "start_time": "2022-06-13T13:17:14.710636Z"
    }
   },
   "outputs": [
    {
     "data": {
      "image/png": "[encoded data removed]",
      "text/plain": [
       "<Figure size 864x576 with 2 Axes>"
      ]
     },
     "metadata": {
      "needs_background": "light"
     },
     "output_type": "display_data"
    }
   ],
   "source": [
    "fig = plt.figure(figsize=(12, 8))\n",
    "ax1 = fig.add_subplot(211)\n",
    "fig = sm.graphics.tsa.plot_acf(kaithal_avg.diff(1).dropna().values.squeeze(),\n",
    "                               lags=25,\n",
    "                               ax=ax1)\n",
    "ax2 = fig.add_subplot(212)\n",
    "fig = sm.graphics.tsa.plot_pacf(kaithal_avg.diff(1).dropna().values.squeeze(),\n",
    "                                lags=25,\n",
    "                                ax=ax2)"
   ]
  },
  {
   "cell_type": "code",
   "execution_count": 24,
   "id": "77d7c77a",
   "metadata": {
    "ExecuteTime": {
     "end_time": "2022-06-13T13:17:15.287020Z",
     "start_time": "2022-06-13T13:17:15.031970Z"
    }
   },
   "outputs": [],
   "source": [
    "arima = ARIMA(kaithal_avg, order=(1, 1, 5)).fit()"
   ]
  },
  {
   "cell_type": "code",
   "execution_count": 25,
   "id": "3d4c701b",
   "metadata": {
    "ExecuteTime": {
     "end_time": "2022-06-13T13:17:15.303383Z",
     "start_time": "2022-06-13T13:17:15.287732Z"
    }
   },
   "outputs": [
    {
     "data": {
      "text/plain": [
       "ar.L1     0.963972\n",
       "ma.L1     0.493424\n",
       "ma.L2     0.640992\n",
       "ma.L3     0.529514\n",
       "ma.L4     0.592428\n",
       "ma.L5     0.541466\n",
       "sigma2    0.000001\n",
       "dtype: float64"
      ]
     },
     "execution_count": 25,
     "metadata": {},
     "output_type": "execute_result"
    }
   ],
   "source": [
    "arima.params"
   ]
  },
  {
   "cell_type": "code",
   "execution_count": 26,
   "id": "d833eb11",
   "metadata": {
    "ExecuteTime": {
     "end_time": "2022-06-13T13:17:15.323536Z",
     "start_time": "2022-06-13T13:17:15.304262Z"
    }
   },
   "outputs": [
    {
     "data": {
      "text/html": [
       "<table class=\"simpletable\">\n",
       "<caption>SARIMAX Results</caption>\n",
       "<tr>\n",
       "  <th>Dep. Variable:</th>         <td>ndvi</td>       <th>  No. Observations:  </th>    <td>203</td>   \n",
       "</tr>\n",
       "<tr>\n",
       "  <th>Model:</th>            <td>ARIMA(1, 1, 5)</td>  <th>  Log Likelihood     </th> <td>1092.731</td> \n",
       "</tr>\n",
       "<tr>\n",
       "  <th>Date:</th>            <td>Mon, 13 Jun 2022</td> <th>  AIC                </th> <td>-2171.462</td>\n",
       "</tr>\n",
       "<tr>\n",
       "  <th>Time:</th>                <td>16:17:15</td>     <th>  BIC                </th> <td>-2148.304</td>\n",
       "</tr>\n",
       "<tr>\n",
       "  <th>Sample:</th>             <td>10-20-2020</td>    <th>  HQIC               </th> <td>-2162.092</td>\n",
       "</tr>\n",
       "<tr>\n",
       "  <th></th>                   <td>- 05-10-2021</td>   <th>                     </th>     <td> </td>    \n",
       "</tr>\n",
       "<tr>\n",
       "  <th>Covariance Type:</th>        <td>opg</td>       <th>                     </th>     <td> </td>    \n",
       "</tr>\n",
       "</table>\n",
       "<table class=\"simpletable\">\n",
       "<tr>\n",
       "     <td></td>       <th>coef</th>     <th>std err</th>      <th>z</th>      <th>P>|z|</th>  <th>[0.025</th>    <th>0.975]</th>  \n",
       "</tr>\n",
       "<tr>\n",
       "  <th>ar.L1</th>  <td>    0.9640</td> <td>    0.040</td> <td>   24.248</td> <td> 0.000</td> <td>    0.886</td> <td>    1.042</td>\n",
       "</tr>\n",
       "<tr>\n",
       "  <th>ma.L1</th>  <td>    0.4934</td> <td>    0.094</td> <td>    5.276</td> <td> 0.000</td> <td>    0.310</td> <td>    0.677</td>\n",
       "</tr>\n",
       "<tr>\n",
       "  <th>ma.L2</th>  <td>    0.6410</td> <td>    0.075</td> <td>    8.593</td> <td> 0.000</td> <td>    0.495</td> <td>    0.787</td>\n",
       "</tr>\n",
       "<tr>\n",
       "  <th>ma.L3</th>  <td>    0.5295</td> <td>    0.076</td> <td>    6.923</td> <td> 0.000</td> <td>    0.380</td> <td>    0.679</td>\n",
       "</tr>\n",
       "<tr>\n",
       "  <th>ma.L4</th>  <td>    0.5924</td> <td>    0.060</td> <td>    9.798</td> <td> 0.000</td> <td>    0.474</td> <td>    0.711</td>\n",
       "</tr>\n",
       "<tr>\n",
       "  <th>ma.L5</th>  <td>    0.5415</td> <td>    0.116</td> <td>    4.678</td> <td> 0.000</td> <td>    0.315</td> <td>    0.768</td>\n",
       "</tr>\n",
       "<tr>\n",
       "  <th>sigma2</th> <td> 1.124e-06</td> <td>  8.9e-08</td> <td>   12.636</td> <td> 0.000</td> <td>  9.5e-07</td> <td>  1.3e-06</td>\n",
       "</tr>\n",
       "</table>\n",
       "<table class=\"simpletable\">\n",
       "<tr>\n",
       "  <th>Ljung-Box (L1) (Q):</th>     <td>0.01</td>  <th>  Jarque-Bera (JB):  </th> <td>25650.61</td>\n",
       "</tr>\n",
       "<tr>\n",
       "  <th>Prob(Q):</th>                <td>0.94</td>  <th>  Prob(JB):          </th>   <td>0.00</td>  \n",
       "</tr>\n",
       "<tr>\n",
       "  <th>Heteroskedasticity (H):</th> <td>35.02</td> <th>  Skew:              </th>   <td>4.70</td>  \n",
       "</tr>\n",
       "<tr>\n",
       "  <th>Prob(H) (two-sided):</th>    <td>0.00</td>  <th>  Kurtosis:          </th>   <td>57.40</td> \n",
       "</tr>\n",
       "</table><br/><br/>Warnings:<br/>[1] Covariance matrix calculated using the outer product of gradients (complex-step)."
      ],
      "text/plain": [
       "<class 'statsmodels.iolib.summary.Summary'>\n",
       "\"\"\"\n",
       "                               SARIMAX Results                                \n",
       "==============================================================================\n",
       "Dep. Variable:                   ndvi   No. Observations:                  203\n",
       "Model:                 ARIMA(1, 1, 5)   Log Likelihood                1092.731\n",
       "Date:                Mon, 13 Jun 2022   AIC                          -2171.462\n",
       "Time:                        16:17:15   BIC                          -2148.304\n",
       "Sample:                    10-20-2020   HQIC                         -2162.092\n",
       "                         - 05-10-2021                                         \n",
       "Covariance Type:                  opg                                         \n",
       "==============================================================================\n",
       "                 coef    std err          z      P>|z|      [0.025      0.975]\n",
       "------------------------------------------------------------------------------\n",
       "ar.L1          0.9640      0.040     24.248      0.000       0.886       1.042\n",
       "ma.L1          0.4934      0.094      5.276      0.000       0.310       0.677\n",
       "ma.L2          0.6410      0.075      8.593      0.000       0.495       0.787\n",
       "ma.L3          0.5295      0.076      6.923      0.000       0.380       0.679\n",
       "ma.L4          0.5924      0.060      9.798      0.000       0.474       0.711\n",
       "ma.L5          0.5415      0.116      4.678      0.000       0.315       0.768\n",
       "sigma2      1.124e-06    8.9e-08     12.636      0.000     9.5e-07     1.3e-06\n",
       "===================================================================================\n",
       "Ljung-Box (L1) (Q):                   0.01   Jarque-Bera (JB):             25650.61\n",
       "Prob(Q):                              0.94   Prob(JB):                         0.00\n",
       "Heteroskedasticity (H):              35.02   Skew:                             4.70\n",
       "Prob(H) (two-sided):                  0.00   Kurtosis:                        57.40\n",
       "===================================================================================\n",
       "\n",
       "Warnings:\n",
       "[1] Covariance matrix calculated using the outer product of gradients (complex-step).\n",
       "\"\"\""
      ]
     },
     "execution_count": 26,
     "metadata": {},
     "output_type": "execute_result"
    }
   ],
   "source": [
    "arima.summary()"
   ]
  },
  {
   "cell_type": "code",
   "execution_count": 27,
   "id": "d50654ef",
   "metadata": {
    "ExecuteTime": {
     "end_time": "2022-06-13T13:17:15.348170Z",
     "start_time": "2022-06-13T13:17:15.324568Z"
    }
   },
   "outputs": [
    {
     "data": {
      "text/plain": [
       "NormaltestResult(statistic=449.96694216757925, pvalue=1.9539794362244418e-98)"
      ]
     },
     "execution_count": 27,
     "metadata": {},
     "output_type": "execute_result"
    }
   ],
   "source": [
    "stats.normaltest(arima.resid.values)"
   ]
  },
  {
   "cell_type": "code",
   "execution_count": 28,
   "id": "c02632db",
   "metadata": {
    "ExecuteTime": {
     "end_time": "2022-06-13T13:17:15.464636Z",
     "start_time": "2022-06-13T13:17:15.348551Z"
    }
   },
   "outputs": [
    {
     "data": {
      "image/png": "[encoded data removed]",
      "text/plain": [
       "<Figure size 360x360 with 1 Axes>"
      ]
     },
     "metadata": {
      "needs_background": "light"
     },
     "output_type": "display_data"
    }
   ],
   "source": [
    "fig = plt.figure(figsize=(5, 5))\n",
    "ax = fig.add_subplot(111)\n",
    "fig = qqplot(arima.resid.values[1:-1], line=\"q\", ax=ax, fit=True)"
   ]
  },
  {
   "cell_type": "code",
   "execution_count": 29,
   "id": "9fd44770",
   "metadata": {
    "ExecuteTime": {
     "end_time": "2022-06-13T13:17:15.479975Z",
     "start_time": "2022-06-13T13:17:15.466250Z"
    }
   },
   "outputs": [
    {
     "name": "stdout",
     "output_type": "stream",
     "text": [
      "      Q-stat   p-value\n",
      "0   0.266884  0.605430\n",
      "1   0.267482  0.874817\n",
      "2   0.267492  0.966022\n",
      "3   0.267525  0.991813\n",
      "4   0.267589  0.998209\n",
      "5   0.267738  0.999638\n",
      "6   0.267741  0.999932\n",
      "7   0.268034  0.999988\n",
      "8   0.268048  0.999998\n",
      "9   0.268054  1.000000\n",
      "10  0.268054  1.000000\n",
      "11  0.268062  1.000000\n",
      "12  0.268177  1.000000\n",
      "13  0.268263  1.000000\n",
      "14  0.268279  1.000000\n",
      "15  0.268303  1.000000\n",
      "16  0.268426  1.000000\n",
      "17  0.268515  1.000000\n",
      "18  0.268686  1.000000\n",
      "19  0.268705  1.000000\n",
      "20  0.268705  1.000000\n",
      "21  0.268705  1.000000\n",
      "22  0.268707  1.000000\n"
     ]
    }
   ],
   "source": [
    "q_test = sm.tsa.stattools.acf(arima.resid, qstat=True)\n",
    "print(pd.DataFrame({'Q-stat': q_test[1], 'p-value': q_test[2]}))"
   ]
  },
  {
   "cell_type": "code",
   "execution_count": 30,
   "id": "2167e077",
   "metadata": {
    "ExecuteTime": {
     "end_time": "2022-06-13T13:17:15.708962Z",
     "start_time": "2022-06-13T13:17:15.480346Z"
    }
   },
   "outputs": [
    {
     "data": {
      "image/png": "[encoded data removed]",
      "text/plain": [
       "<Figure size 864x576 with 2 Axes>"
      ]
     },
     "metadata": {
      "needs_background": "light"
     },
     "output_type": "display_data"
    }
   ],
   "source": [
    "fig = plt.figure(figsize=(12, 8))\n",
    "ax1 = fig.add_subplot(211)\n",
    "fig = sm.graphics.tsa.plot_acf(arima.resid.values.squeeze(), lags=40, ax=ax1)\n",
    "ax2 = fig.add_subplot(212)\n",
    "fig = sm.graphics.tsa.plot_pacf(arima.resid.values, lags=40, ax=ax2)"
   ]
  },
  {
   "cell_type": "markdown",
   "id": "3326569d",
   "metadata": {},
   "source": [
    "# Karnal"
   ]
  },
  {
   "cell_type": "code",
   "execution_count": 31,
   "id": "f2093f45",
   "metadata": {
    "ExecuteTime": {
     "end_time": "2022-06-13T13:17:15.724702Z",
     "start_time": "2022-06-13T13:17:15.710488Z"
    }
   },
   "outputs": [
    {
     "data": {
      "text/plain": [
       "(-4.219124419763842,\n",
       " 0.0006114697063027501,\n",
       " 1,\n",
       " 201,\n",
       " {'1%': -3.4633090972761744,\n",
       "  '5%': -2.876029332045744,\n",
       "  '10%': -2.5744932593252643},\n",
       " -1975.8910322271295)"
      ]
     },
     "execution_count": 31,
     "metadata": {},
     "output_type": "execute_result"
    }
   ],
   "source": [
    "sm.tsa.adfuller(karnal_avg, 2)"
   ]
  },
  {
   "cell_type": "code",
   "execution_count": 32,
   "id": "579799d9",
   "metadata": {
    "ExecuteTime": {
     "end_time": "2022-06-13T13:17:15.736571Z",
     "start_time": "2022-06-13T13:17:15.726464Z"
    }
   },
   "outputs": [
    {
     "data": {
      "text/plain": [
       "(-4.219124419763842,\n",
       " 0.0006114697063027501,\n",
       " 1,\n",
       " 201,\n",
       " {'1%': -3.4633090972761744,\n",
       "  '5%': -2.876029332045744,\n",
       "  '10%': -2.5744932593252643},\n",
       " -1986.6979896061616)"
      ]
     },
     "execution_count": 32,
     "metadata": {},
     "output_type": "execute_result"
    }
   ],
   "source": [
    "sm.tsa.adfuller(karnal_avg, 1)"
   ]
  },
  {
   "cell_type": "code",
   "execution_count": 33,
   "id": "9a826678",
   "metadata": {
    "ExecuteTime": {
     "end_time": "2022-06-13T13:17:15.751539Z",
     "start_time": "2022-06-13T13:17:15.737571Z"
    }
   },
   "outputs": [
    {
     "data": {
      "text/plain": [
       "(-2.898836743493376,\n",
       " 0.04548343569368321,\n",
       " 13,\n",
       " 189,\n",
       " {'1%': -3.4654311561944873,\n",
       "  '5%': -2.8769570530458792,\n",
       "  '10%': -2.574988319755886},\n",
       " -2046.1607199948676)"
      ]
     },
     "execution_count": 33,
     "metadata": {},
     "output_type": "execute_result"
    }
   ],
   "source": [
    "sm.tsa.adfuller(karnal_avg)"
   ]
  },
  {
   "cell_type": "code",
   "execution_count": 34,
   "id": "0c6fc2f3",
   "metadata": {
    "ExecuteTime": {
     "end_time": "2022-06-13T13:17:16.025743Z",
     "start_time": "2022-06-13T13:17:15.751539Z"
    }
   },
   "outputs": [
    {
     "data": {
      "image/png": "[encoded data removed]",
      "text/plain": [
       "<Figure size 864x576 with 2 Axes>"
      ]
     },
     "metadata": {
      "needs_background": "light"
     },
     "output_type": "display_data"
    }
   ],
   "source": [
    "fig = plt.figure(figsize=(12, 8))\n",
    "ax1 = fig.add_subplot(211)\n",
    "fig = sm.graphics.tsa.plot_acf(karnal_avg.dropna().values.squeeze(),\n",
    "                               lags=25,\n",
    "                               ax=ax1)\n",
    "ax2 = fig.add_subplot(212)\n",
    "fig = sm.graphics.tsa.plot_pacf(karnal_avg.dropna().values.squeeze(),\n",
    "                                lags=25,\n",
    "                                ax=ax2)"
   ]
  },
  {
   "cell_type": "code",
   "execution_count": 35,
   "id": "a41250c6",
   "metadata": {
    "ExecuteTime": {
     "end_time": "2022-06-13T13:17:16.464065Z",
     "start_time": "2022-06-13T13:17:16.027124Z"
    }
   },
   "outputs": [],
   "source": [
    "arima = ARIMA(karnal_avg, order=(1, 0, 5)).fit()"
   ]
  },
  {
   "cell_type": "code",
   "execution_count": 36,
   "id": "05d39e26",
   "metadata": {
    "ExecuteTime": {
     "end_time": "2022-06-13T13:17:16.477098Z",
     "start_time": "2022-06-13T13:17:16.464065Z"
    }
   },
   "outputs": [
    {
     "data": {
      "text/plain": [
       "const     0.369970\n",
       "ar.L1     0.996280\n",
       "ma.L1     1.469795\n",
       "ma.L2     2.008296\n",
       "ma.L3     1.879304\n",
       "ma.L4     1.458710\n",
       "ma.L5     0.786150\n",
       "sigma2    0.000003\n",
       "dtype: float64"
      ]
     },
     "execution_count": 36,
     "metadata": {},
     "output_type": "execute_result"
    }
   ],
   "source": [
    "arima.params"
   ]
  },
  {
   "cell_type": "code",
   "execution_count": 37,
   "id": "c8f611aa",
   "metadata": {
    "ExecuteTime": {
     "end_time": "2022-06-13T13:17:16.498710Z",
     "start_time": "2022-06-13T13:17:16.478732Z"
    }
   },
   "outputs": [
    {
     "data": {
      "text/html": [
       "<table class=\"simpletable\">\n",
       "<caption>SARIMAX Results</caption>\n",
       "<tr>\n",
       "  <th>Dep. Variable:</th>         <td>ndvi</td>       <th>  No. Observations:  </th>    <td>203</td>   \n",
       "</tr>\n",
       "<tr>\n",
       "  <th>Model:</th>            <td>ARIMA(1, 0, 5)</td>  <th>  Log Likelihood     </th>  <td>989.232</td> \n",
       "</tr>\n",
       "<tr>\n",
       "  <th>Date:</th>            <td>Mon, 13 Jun 2022</td> <th>  AIC                </th> <td>-1962.464</td>\n",
       "</tr>\n",
       "<tr>\n",
       "  <th>Time:</th>                <td>16:17:16</td>     <th>  BIC                </th> <td>-1935.959</td>\n",
       "</tr>\n",
       "<tr>\n",
       "  <th>Sample:</th>             <td>10-20-2020</td>    <th>  HQIC               </th> <td>-1951.741</td>\n",
       "</tr>\n",
       "<tr>\n",
       "  <th></th>                   <td>- 05-10-2021</td>   <th>                     </th>     <td> </td>    \n",
       "</tr>\n",
       "<tr>\n",
       "  <th>Covariance Type:</th>        <td>opg</td>       <th>                     </th>     <td> </td>    \n",
       "</tr>\n",
       "</table>\n",
       "<table class=\"simpletable\">\n",
       "<tr>\n",
       "     <td></td>       <th>coef</th>     <th>std err</th>      <th>z</th>      <th>P>|z|</th>  <th>[0.025</th>    <th>0.975]</th>  \n",
       "</tr>\n",
       "<tr>\n",
       "  <th>const</th>  <td>    0.3700</td> <td>    0.344</td> <td>    1.077</td> <td> 0.282</td> <td>   -0.303</td> <td>    1.043</td>\n",
       "</tr>\n",
       "<tr>\n",
       "  <th>ar.L1</th>  <td>    0.9963</td> <td>    0.006</td> <td>  169.567</td> <td> 0.000</td> <td>    0.985</td> <td>    1.008</td>\n",
       "</tr>\n",
       "<tr>\n",
       "  <th>ma.L1</th>  <td>    1.4698</td> <td>    0.051</td> <td>   28.801</td> <td> 0.000</td> <td>    1.370</td> <td>    1.570</td>\n",
       "</tr>\n",
       "<tr>\n",
       "  <th>ma.L2</th>  <td>    2.0083</td> <td>    0.067</td> <td>   29.835</td> <td> 0.000</td> <td>    1.876</td> <td>    2.140</td>\n",
       "</tr>\n",
       "<tr>\n",
       "  <th>ma.L3</th>  <td>    1.8793</td> <td>    0.102</td> <td>   18.499</td> <td> 0.000</td> <td>    1.680</td> <td>    2.078</td>\n",
       "</tr>\n",
       "<tr>\n",
       "  <th>ma.L4</th>  <td>    1.4587</td> <td>    0.072</td> <td>   20.151</td> <td> 0.000</td> <td>    1.317</td> <td>    1.601</td>\n",
       "</tr>\n",
       "<tr>\n",
       "  <th>ma.L5</th>  <td>    0.7861</td> <td>    0.072</td> <td>   10.920</td> <td> 0.000</td> <td>    0.645</td> <td>    0.927</td>\n",
       "</tr>\n",
       "<tr>\n",
       "  <th>sigma2</th> <td> 3.171e-06</td> <td> 2.08e-07</td> <td>   15.238</td> <td> 0.000</td> <td> 2.76e-06</td> <td> 3.58e-06</td>\n",
       "</tr>\n",
       "</table>\n",
       "<table class=\"simpletable\">\n",
       "<tr>\n",
       "  <th>Ljung-Box (L1) (Q):</th>     <td>7.11</td> <th>  Jarque-Bera (JB):  </th> <td>9019.18</td>\n",
       "</tr>\n",
       "<tr>\n",
       "  <th>Prob(Q):</th>                <td>0.01</td> <th>  Prob(JB):          </th>  <td>0.00</td>  \n",
       "</tr>\n",
       "<tr>\n",
       "  <th>Heteroskedasticity (H):</th> <td>8.78</td> <th>  Skew:              </th>  <td>3.07</td>  \n",
       "</tr>\n",
       "<tr>\n",
       "  <th>Prob(H) (two-sided):</th>    <td>0.00</td> <th>  Kurtosis:          </th>  <td>35.07</td> \n",
       "</tr>\n",
       "</table><br/><br/>Warnings:<br/>[1] Covariance matrix calculated using the outer product of gradients (complex-step)."
      ],
      "text/plain": [
       "<class 'statsmodels.iolib.summary.Summary'>\n",
       "\"\"\"\n",
       "                               SARIMAX Results                                \n",
       "==============================================================================\n",
       "Dep. Variable:                   ndvi   No. Observations:                  203\n",
       "Model:                 ARIMA(1, 0, 5)   Log Likelihood                 989.232\n",
       "Date:                Mon, 13 Jun 2022   AIC                          -1962.464\n",
       "Time:                        16:17:16   BIC                          -1935.959\n",
       "Sample:                    10-20-2020   HQIC                         -1951.741\n",
       "                         - 05-10-2021                                         \n",
       "Covariance Type:                  opg                                         \n",
       "==============================================================================\n",
       "                 coef    std err          z      P>|z|      [0.025      0.975]\n",
       "------------------------------------------------------------------------------\n",
       "const          0.3700      0.344      1.077      0.282      -0.303       1.043\n",
       "ar.L1          0.9963      0.006    169.567      0.000       0.985       1.008\n",
       "ma.L1          1.4698      0.051     28.801      0.000       1.370       1.570\n",
       "ma.L2          2.0083      0.067     29.835      0.000       1.876       2.140\n",
       "ma.L3          1.8793      0.102     18.499      0.000       1.680       2.078\n",
       "ma.L4          1.4587      0.072     20.151      0.000       1.317       1.601\n",
       "ma.L5          0.7861      0.072     10.920      0.000       0.645       0.927\n",
       "sigma2      3.171e-06   2.08e-07     15.238      0.000    2.76e-06    3.58e-06\n",
       "===================================================================================\n",
       "Ljung-Box (L1) (Q):                   7.11   Jarque-Bera (JB):              9019.18\n",
       "Prob(Q):                              0.01   Prob(JB):                         0.00\n",
       "Heteroskedasticity (H):               8.78   Skew:                             3.07\n",
       "Prob(H) (two-sided):                  0.00   Kurtosis:                        35.07\n",
       "===================================================================================\n",
       "\n",
       "Warnings:\n",
       "[1] Covariance matrix calculated using the outer product of gradients (complex-step).\n",
       "\"\"\""
      ]
     },
     "execution_count": 37,
     "metadata": {},
     "output_type": "execute_result"
    }
   ],
   "source": [
    "arima.summary()"
   ]
  },
  {
   "cell_type": "code",
   "execution_count": 38,
   "id": "f3e2b0c0",
   "metadata": {
    "ExecuteTime": {
     "end_time": "2022-06-13T13:17:16.513995Z",
     "start_time": "2022-06-13T13:17:16.499994Z"
    }
   },
   "outputs": [
    {
     "data": {
      "text/plain": [
       "NormaltestResult(statistic=327.23157528867375, pvalue=8.761254051220596e-72)"
      ]
     },
     "execution_count": 38,
     "metadata": {},
     "output_type": "execute_result"
    }
   ],
   "source": [
    "stats.normaltest(arima.resid.values)"
   ]
  },
  {
   "cell_type": "code",
   "execution_count": 39,
   "id": "d0b749f2",
   "metadata": {
    "ExecuteTime": {
     "end_time": "2022-06-13T13:17:16.638522Z",
     "start_time": "2022-06-13T13:17:16.516257Z"
    }
   },
   "outputs": [
    {
     "data": {
      "image/png": "[encoded data removed]",
      "text/plain": [
       "<Figure size 360x360 with 1 Axes>"
      ]
     },
     "metadata": {
      "needs_background": "light"
     },
     "output_type": "display_data"
    }
   ],
   "source": [
    "fig = plt.figure(figsize=(5, 5))\n",
    "ax = fig.add_subplot(111)\n",
    "fig = qqplot(arima.resid.values[1:-1], line=\"q\", ax=ax, fit=True)"
   ]
  },
  {
   "cell_type": "code",
   "execution_count": 40,
   "id": "449502af",
   "metadata": {
    "ExecuteTime": {
     "end_time": "2022-06-13T13:17:16.654350Z",
     "start_time": "2022-06-13T13:17:16.640343Z"
    }
   },
   "outputs": [
    {
     "name": "stdout",
     "output_type": "stream",
     "text": [
      "       Q-stat   p-value\n",
      "0    9.097581  0.002559\n",
      "1   11.095806  0.003896\n",
      "2   13.336379  0.003963\n",
      "3   15.866401  0.003204\n",
      "4   17.142648  0.004237\n",
      "5   19.084346  0.004024\n",
      "6   20.523574  0.004543\n",
      "7   22.251957  0.004470\n",
      "8   22.323449  0.007908\n",
      "9   24.719622  0.005903\n",
      "10  25.241558  0.008402\n",
      "11  26.085915  0.010437\n",
      "12  26.545077  0.014351\n",
      "13  27.277774  0.017713\n",
      "14  27.602537  0.024194\n",
      "15  27.804541  0.033361\n",
      "16  28.218863  0.042445\n",
      "17  28.558710  0.054046\n",
      "18  28.560192  0.073225\n",
      "19  28.812797  0.091511\n",
      "20  28.819774  0.118396\n",
      "21  28.884040  0.148201\n",
      "22  28.891753  0.183926\n"
     ]
    }
   ],
   "source": [
    "q_test = sm.tsa.stattools.acf(arima.resid, qstat=True)\n",
    "print(pd.DataFrame({'Q-stat': q_test[1], 'p-value': q_test[2]}))"
   ]
  },
  {
   "cell_type": "code",
   "execution_count": 41,
   "id": "43730769",
   "metadata": {
    "ExecuteTime": {
     "end_time": "2022-06-13T13:17:17.048558Z",
     "start_time": "2022-06-13T13:17:16.657372Z"
    }
   },
   "outputs": [
    {
     "data": {
      "image/png": "[encoded data removed]",
      "text/plain": [
       "<Figure size 864x576 with 2 Axes>"
      ]
     },
     "metadata": {
      "needs_background": "light"
     },
     "output_type": "display_data"
    }
   ],
   "source": [
    "fig = plt.figure(figsize=(12, 8))\n",
    "ax1 = fig.add_subplot(211)\n",
    "fig = sm.graphics.tsa.plot_acf(arima.resid.values.squeeze(), lags=40, ax=ax1)\n",
    "ax2 = fig.add_subplot(212)\n",
    "fig = sm.graphics.tsa.plot_pacf(arima.resid.values, lags=40, ax=ax2)"
   ]
  }
 ],
 "metadata": {
  "kernelspec": {
   "display_name": "Python (ds)",
   "language": "python",
   "name": "ds"
  },
  "language_info": {
   "codemirror_mode": {
    "name": "ipython",
    "version": 3
   },
   "file_extension": ".py",
   "mimetype": "text/x-python",
   "name": "python",
   "nbconvert_exporter": "python",
   "pygments_lexer": "ipython3",
   "version": "3.9.12"
  },
  "toc": {
   "base_numbering": 1,
   "nav_menu": {},
   "number_sections": true,
   "sideBar": true,
   "skip_h1_title": false,
   "title_cell": "Table of Contents",
   "title_sidebar": "Contents",
   "toc_cell": false,
   "toc_position": {},
   "toc_section_display": true,
   "toc_window_display": false
  }
 },
 "nbformat": 4,
 "nbformat_minor": 5
}
