{
 "cells": [
  {
   "cell_type": "markdown",
   "id": "2682c2aa",
   "metadata": {},
   "source": [
    "All the results are compared in the presentation. Notebooks are just for the calculations."
   ]
  },
  {
   "cell_type": "code",
   "execution_count": 17,
   "id": "cf6f7080",
   "metadata": {
    "ExecuteTime": {
     "end_time": "2022-06-29T19:50:28.240556Z",
     "start_time": "2022-06-29T19:50:28.226280Z"
    }
   },
   "outputs": [],
   "source": [
    "import json\n",
    "import numpy as np\n",
    "import os\n",
    "import pandas as pd\n",
    "import torch\n",
    "import torch.nn as nn\n",
    "\n",
    "from models import MyCNN\n",
    "from numpy.random import choice\n",
    "from random import sample\n",
    "from sklearn.metrics import f1_score, accuracy_score, roc_auc_score, classification_report\n",
    "from sklearn.model_selection import train_test_split\n",
    "from torch.autograd import Variable\n",
    "from utils import custom_split_train_test"
   ]
  },
  {
   "cell_type": "code",
   "execution_count": 18,
   "id": "e7aecc13",
   "metadata": {
    "ExecuteTime": {
     "end_time": "2022-06-29T19:50:28.584261Z",
     "start_time": "2022-06-29T19:50:28.571389Z"
    }
   },
   "outputs": [
    {
     "data": {
      "text/plain": [
       "['Dewas_NDVI.csv',\n",
       " 'Dewas_points.csv',\n",
       " 'Kaithal_NDVI.csv',\n",
       " 'Kaithal_points.csv',\n",
       " 'Karnal_NDVI.csv',\n",
       " 'Karnal_points.csv']"
      ]
     },
     "execution_count": 18,
     "metadata": {},
     "output_type": "execute_result"
    }
   ],
   "source": [
    "os.listdir('data')    "
   ]
  },
  {
   "cell_type": "code",
   "execution_count": 19,
   "id": "d86b8c49",
   "metadata": {
    "ExecuteTime": {
     "end_time": "2022-06-29T19:50:28.755007Z",
     "start_time": "2022-06-29T19:50:28.735565Z"
    }
   },
   "outputs": [],
   "source": [
    "data_points = pd.read_csv('data/Kaithal_points.csv')"
   ]
  },
  {
   "cell_type": "code",
   "execution_count": 20,
   "id": "afeb444e",
   "metadata": {
    "ExecuteTime": {
     "end_time": "2022-06-29T19:50:28.940849Z",
     "start_time": "2022-06-29T19:50:28.911237Z"
    }
   },
   "outputs": [],
   "source": [
    "data_ndvi = pd.read_csv('data/Kaithal_NDVI.csv')"
   ]
  },
  {
   "cell_type": "code",
   "execution_count": 21,
   "id": "a2c474ab",
   "metadata": {
    "ExecuteTime": {
     "end_time": "2022-06-29T19:50:29.127719Z",
     "start_time": "2022-06-29T19:50:29.098815Z"
    }
   },
   "outputs": [],
   "source": [
    "data = data_points.merge(data_ndvi, left_on='gfid', right_on='gfid')"
   ]
  },
  {
   "cell_type": "code",
   "execution_count": 22,
   "id": "86428c4d",
   "metadata": {
    "ExecuteTime": {
     "end_time": "2022-06-29T19:50:37.203648Z",
     "start_time": "2022-06-29T19:50:29.538946Z"
    }
   },
   "outputs": [],
   "source": [
    "data['month'] = data['date'].apply(pd.to_datetime).dt.month\n",
    "data['day'] = data['date'].apply(pd.to_datetime).dt.day"
   ]
  },
  {
   "cell_type": "code",
   "execution_count": 23,
   "id": "e758f1cb",
   "metadata": {
    "ExecuteTime": {
     "end_time": "2022-06-29T19:50:37.218952Z",
     "start_time": "2022-06-29T19:50:37.206917Z"
    }
   },
   "outputs": [
    {
     "data": {
      "text/html": [
       "<div>\n",
       "<style scoped>\n",
       "    .dataframe tbody tr th:only-of-type {\n",
       "        vertical-align: middle;\n",
       "    }\n",
       "\n",
       "    .dataframe tbody tr th {\n",
       "        vertical-align: top;\n",
       "    }\n",
       "\n",
       "    .dataframe thead th {\n",
       "        text-align: right;\n",
       "    }\n",
       "</style>\n",
       "<table border=\"1\" class=\"dataframe\">\n",
       "  <thead>\n",
       "    <tr style=\"text-align: right;\">\n",
       "      <th></th>\n",
       "      <th>gfid</th>\n",
       "      <th>datenum</th>\n",
       "      <th>date</th>\n",
       "      <th>ndvi</th>\n",
       "    </tr>\n",
       "  </thead>\n",
       "  <tbody>\n",
       "    <tr>\n",
       "      <th>0</th>\n",
       "      <td>52001</td>\n",
       "      <td>0</td>\n",
       "      <td>2020-10-20</td>\n",
       "      <td>0.238</td>\n",
       "    </tr>\n",
       "    <tr>\n",
       "      <th>1</th>\n",
       "      <td>52001</td>\n",
       "      <td>1</td>\n",
       "      <td>2020-10-21</td>\n",
       "      <td>0.235</td>\n",
       "    </tr>\n",
       "    <tr>\n",
       "      <th>2</th>\n",
       "      <td>52001</td>\n",
       "      <td>2</td>\n",
       "      <td>2020-10-22</td>\n",
       "      <td>0.233</td>\n",
       "    </tr>\n",
       "    <tr>\n",
       "      <th>3</th>\n",
       "      <td>52001</td>\n",
       "      <td>3</td>\n",
       "      <td>2020-10-23</td>\n",
       "      <td>0.231</td>\n",
       "    </tr>\n",
       "    <tr>\n",
       "      <th>4</th>\n",
       "      <td>52001</td>\n",
       "      <td>4</td>\n",
       "      <td>2020-10-24</td>\n",
       "      <td>0.228</td>\n",
       "    </tr>\n",
       "  </tbody>\n",
       "</table>\n",
       "</div>"
      ],
      "text/plain": [
       "    gfid  datenum        date   ndvi\n",
       "0  52001        0  2020-10-20  0.238\n",
       "1  52001        1  2020-10-21  0.235\n",
       "2  52001        2  2020-10-22  0.233\n",
       "3  52001        3  2020-10-23  0.231\n",
       "4  52001        4  2020-10-24  0.228"
      ]
     },
     "execution_count": 23,
     "metadata": {},
     "output_type": "execute_result"
    }
   ],
   "source": [
    "data_ndvi.head()"
   ]
  },
  {
   "cell_type": "markdown",
   "id": "fcd99ff6",
   "metadata": {},
   "source": [
    "We will take only data with at least 160 values at a time series."
   ]
  },
  {
   "cell_type": "code",
   "execution_count": 24,
   "id": "8e4f02bf",
   "metadata": {
    "ExecuteTime": {
     "end_time": "2022-06-29T19:50:37.298330Z",
     "start_time": "2022-06-29T19:50:37.221954Z"
    }
   },
   "outputs": [],
   "source": [
    "i = 1\n",
    "ids_not_full = []\n",
    "for id_ in data_points['gfid'].values:\n",
    "    shp = data_ndvi[data_ndvi['gfid'] == id_].shape[0]\n",
    "    if shp <= 160:\n",
    "        i += 1\n",
    "        ids_not_full += [id_]"
   ]
  },
  {
   "cell_type": "code",
   "execution_count": 25,
   "id": "b36f497f",
   "metadata": {
    "ExecuteTime": {
     "end_time": "2022-06-29T19:50:37.344771Z",
     "start_time": "2022-06-29T19:50:37.301569Z"
    }
   },
   "outputs": [],
   "source": [
    "# Take only gfids with at least 160 values.\n",
    "data2 = data[~data['gfid'].isin(ids_not_full)]"
   ]
  },
  {
   "cell_type": "code",
   "execution_count": 26,
   "id": "cc81dbb0",
   "metadata": {
    "ExecuteTime": {
     "end_time": "2022-06-29T19:50:37.360494Z",
     "start_time": "2022-06-29T19:50:37.346744Z"
    }
   },
   "outputs": [],
   "source": [
    "# Remember those gfids.\n",
    "gfids = data2['gfid'].unique()"
   ]
  },
  {
   "cell_type": "code",
   "execution_count": 31,
   "id": "32cb54de",
   "metadata": {
    "ExecuteTime": {
     "end_time": "2022-06-29T19:50:37.437465Z",
     "start_time": "2022-06-29T19:50:37.424264Z"
    }
   },
   "outputs": [],
   "source": [
    "np.random.seed(42)\n",
    "np.random.shuffle(gfids)\n",
    "\n",
    "# Randomly split data into train and test.\n",
    "train_ids = gfids[:150]\n",
    "test_ids = gfids[150:]"
   ]
  },
  {
   "cell_type": "code",
   "execution_count": 32,
   "id": "ef435cdc",
   "metadata": {
    "ExecuteTime": {
     "end_time": "2022-06-29T19:50:37.453496Z",
     "start_time": "2022-06-29T19:50:37.439406Z"
    }
   },
   "outputs": [],
   "source": [
    "# Save train and test gfids for classic ML experiments.\n",
    "indices = {}\n",
    "indices['train'] = list([int(x) for x in train_ids])\n",
    "indices['test'] = list([int(x) for x in test_ids])\n",
    "\n",
    "with open('Kaithal.json', 'w') as f:\n",
    "    json.dump(indices, f)"
   ]
  },
  {
   "cell_type": "code",
   "execution_count": 17,
   "id": "8b0240ea",
   "metadata": {
    "ExecuteTime": {
     "end_time": "2022-06-29T18:01:43.804015Z",
     "start_time": "2022-06-29T18:01:43.774217Z"
    }
   },
   "outputs": [
    {
     "data": {
      "text/html": [
       "<div>\n",
       "<style scoped>\n",
       "    .dataframe tbody tr th:only-of-type {\n",
       "        vertical-align: middle;\n",
       "    }\n",
       "\n",
       "    .dataframe tbody tr th {\n",
       "        vertical-align: top;\n",
       "    }\n",
       "\n",
       "    .dataframe thead th {\n",
       "        text-align: right;\n",
       "    }\n",
       "</style>\n",
       "<table border=\"1\" class=\"dataframe\">\n",
       "  <thead>\n",
       "    <tr style=\"text-align: right;\">\n",
       "      <th></th>\n",
       "      <th>gfid</th>\n",
       "      <th>state</th>\n",
       "      <th>district</th>\n",
       "      <th>village</th>\n",
       "      <th>lon</th>\n",
       "      <th>lat</th>\n",
       "      <th>wheat</th>\n",
       "      <th>datenum</th>\n",
       "      <th>date</th>\n",
       "      <th>ndvi</th>\n",
       "      <th>month</th>\n",
       "      <th>day</th>\n",
       "    </tr>\n",
       "  </thead>\n",
       "  <tbody>\n",
       "    <tr>\n",
       "      <th>0</th>\n",
       "      <td>52001</td>\n",
       "      <td>Haryana</td>\n",
       "      <td>Kaithal</td>\n",
       "      <td>Sirghar</td>\n",
       "      <td>76.420677</td>\n",
       "      <td>29.782459</td>\n",
       "      <td>1</td>\n",
       "      <td>0</td>\n",
       "      <td>2020-10-20</td>\n",
       "      <td>0.238</td>\n",
       "      <td>10</td>\n",
       "      <td>20</td>\n",
       "    </tr>\n",
       "    <tr>\n",
       "      <th>1</th>\n",
       "      <td>52001</td>\n",
       "      <td>Haryana</td>\n",
       "      <td>Kaithal</td>\n",
       "      <td>Sirghar</td>\n",
       "      <td>76.420677</td>\n",
       "      <td>29.782459</td>\n",
       "      <td>1</td>\n",
       "      <td>1</td>\n",
       "      <td>2020-10-21</td>\n",
       "      <td>0.235</td>\n",
       "      <td>10</td>\n",
       "      <td>21</td>\n",
       "    </tr>\n",
       "    <tr>\n",
       "      <th>2</th>\n",
       "      <td>52001</td>\n",
       "      <td>Haryana</td>\n",
       "      <td>Kaithal</td>\n",
       "      <td>Sirghar</td>\n",
       "      <td>76.420677</td>\n",
       "      <td>29.782459</td>\n",
       "      <td>1</td>\n",
       "      <td>2</td>\n",
       "      <td>2020-10-22</td>\n",
       "      <td>0.233</td>\n",
       "      <td>10</td>\n",
       "      <td>22</td>\n",
       "    </tr>\n",
       "    <tr>\n",
       "      <th>3</th>\n",
       "      <td>52001</td>\n",
       "      <td>Haryana</td>\n",
       "      <td>Kaithal</td>\n",
       "      <td>Sirghar</td>\n",
       "      <td>76.420677</td>\n",
       "      <td>29.782459</td>\n",
       "      <td>1</td>\n",
       "      <td>3</td>\n",
       "      <td>2020-10-23</td>\n",
       "      <td>0.231</td>\n",
       "      <td>10</td>\n",
       "      <td>23</td>\n",
       "    </tr>\n",
       "    <tr>\n",
       "      <th>4</th>\n",
       "      <td>52001</td>\n",
       "      <td>Haryana</td>\n",
       "      <td>Kaithal</td>\n",
       "      <td>Sirghar</td>\n",
       "      <td>76.420677</td>\n",
       "      <td>29.782459</td>\n",
       "      <td>1</td>\n",
       "      <td>4</td>\n",
       "      <td>2020-10-24</td>\n",
       "      <td>0.228</td>\n",
       "      <td>10</td>\n",
       "      <td>24</td>\n",
       "    </tr>\n",
       "  </tbody>\n",
       "</table>\n",
       "</div>"
      ],
      "text/plain": [
       "    gfid     state  district  village        lon        lat  wheat  datenum  \\\n",
       "0  52001  Haryana   Kaithal   Sirghar  76.420677  29.782459      1        0   \n",
       "1  52001  Haryana   Kaithal   Sirghar  76.420677  29.782459      1        1   \n",
       "2  52001  Haryana   Kaithal   Sirghar  76.420677  29.782459      1        2   \n",
       "3  52001  Haryana   Kaithal   Sirghar  76.420677  29.782459      1        3   \n",
       "4  52001  Haryana   Kaithal   Sirghar  76.420677  29.782459      1        4   \n",
       "\n",
       "         date   ndvi  month  day  \n",
       "0  2020-10-20  0.238     10   20  \n",
       "1  2020-10-21  0.235     10   21  \n",
       "2  2020-10-22  0.233     10   22  \n",
       "3  2020-10-23  0.231     10   23  \n",
       "4  2020-10-24  0.228     10   24  "
      ]
     },
     "execution_count": 17,
     "metadata": {},
     "output_type": "execute_result"
    }
   ],
   "source": [
    "data2.head()"
   ]
  },
  {
   "cell_type": "code",
   "execution_count": 18,
   "id": "fc453285",
   "metadata": {
    "ExecuteTime": {
     "end_time": "2022-06-29T18:01:43.834656Z",
     "start_time": "2022-06-29T18:01:43.807154Z"
    }
   },
   "outputs": [],
   "source": [
    "data2 = data2.dropna()"
   ]
  },
  {
   "cell_type": "code",
   "execution_count": 19,
   "id": "695dc8d6",
   "metadata": {
    "ExecuteTime": {
     "end_time": "2022-06-29T18:01:43.849533Z",
     "start_time": "2022-06-29T18:01:43.837638Z"
    }
   },
   "outputs": [
    {
     "data": {
      "text/plain": [
       "(38417, 12)"
      ]
     },
     "execution_count": 19,
     "metadata": {},
     "output_type": "execute_result"
    }
   ],
   "source": [
    "data2.shape"
   ]
  },
  {
   "cell_type": "code",
   "execution_count": 21,
   "id": "33f7bf95",
   "metadata": {
    "ExecuteTime": {
     "end_time": "2022-06-29T18:01:47.425232Z",
     "start_time": "2022-06-29T18:01:43.867984Z"
    }
   },
   "outputs": [],
   "source": [
    "datasets_train, datasets_test, y_train, y_test = custom_split_train_test(data2, data_points, train_ids, test_ids)"
   ]
  },
  {
   "cell_type": "code",
   "execution_count": 22,
   "id": "3465e581",
   "metadata": {
    "ExecuteTime": {
     "end_time": "2022-06-29T18:01:47.456889Z",
     "start_time": "2022-06-29T18:01:47.428258Z"
    }
   },
   "outputs": [],
   "source": [
    "data_train = torch.stack([torch.Tensor(dataset) for dataset in datasets_train])\n",
    "data_test = torch.stack([torch.Tensor(dataset) for dataset in datasets_test])"
   ]
  },
  {
   "cell_type": "code",
   "execution_count": 25,
   "id": "cc12c06a",
   "metadata": {
    "ExecuteTime": {
     "end_time": "2022-06-29T18:01:47.519503Z",
     "start_time": "2022-06-29T18:01:47.505753Z"
    }
   },
   "outputs": [],
   "source": [
    "# Initialize CNN for 2 classes.\n",
    "MyCNN = MyCNN(num_classes=2)"
   ]
  },
  {
   "cell_type": "code",
   "execution_count": 26,
   "id": "cd100dfc",
   "metadata": {
    "ExecuteTime": {
     "end_time": "2022-06-29T18:01:47.535008Z",
     "start_time": "2022-06-29T18:01:47.523389Z"
    }
   },
   "outputs": [],
   "source": [
    "criterion = torch.nn.CrossEntropyLoss() \n",
    "optimizer = torch.optim.Adam(params=MyCNN.parameters(), lr=0.0001)"
   ]
  },
  {
   "cell_type": "code",
   "execution_count": 27,
   "id": "a362f55e",
   "metadata": {
    "ExecuteTime": {
     "end_time": "2022-06-29T18:01:47.550422Z",
     "start_time": "2022-06-29T18:01:47.543371Z"
    }
   },
   "outputs": [
    {
     "data": {
      "text/plain": [
       "<torch.autograd.anomaly_mode.set_detect_anomaly at 0x156a12fc6d0>"
      ]
     },
     "execution_count": 27,
     "metadata": {},
     "output_type": "execute_result"
    }
   ],
   "source": [
    "torch.autograd.set_detect_anomaly(True)"
   ]
  },
  {
   "cell_type": "code",
   "execution_count": 28,
   "id": "8798c788",
   "metadata": {
    "ExecuteTime": {
     "end_time": "2022-06-29T18:01:47.565884Z",
     "start_time": "2022-06-29T18:01:47.552830Z"
    }
   },
   "outputs": [],
   "source": [
    "y_train_tensors = Variable(torch.Tensor(y_train))\n",
    "y_test_tensors = Variable(torch.Tensor(y_test))\n",
    "\n",
    "y_train_tensors = y_train_tensors.type(torch.LongTensor)\n",
    "y_test_tensors = y_test_tensors.type(torch.LongTensor)"
   ]
  },
  {
   "cell_type": "code",
   "execution_count": 29,
   "id": "adaf010e",
   "metadata": {
    "ExecuteTime": {
     "end_time": "2022-06-29T18:01:47.580949Z",
     "start_time": "2022-06-29T18:01:47.568645Z"
    }
   },
   "outputs": [],
   "source": [
    "X = data_train\n",
    "y = y_train_tensors"
   ]
  },
  {
   "cell_type": "code",
   "execution_count": 30,
   "id": "05f0d4e5",
   "metadata": {
    "ExecuteTime": {
     "end_time": "2022-06-29T18:02:07.010857Z",
     "start_time": "2022-06-29T18:01:47.583707Z"
    },
    "scrolled": true
   },
   "outputs": [
    {
     "name": "stdout",
     "output_type": "stream",
     "text": [
      "Epoch: 0, loss: 0.69290\n",
      "Epoch: 1, loss: 0.69343\n",
      "Epoch: 2, loss: 0.69161\n",
      "Epoch: 3, loss: 0.69159\n",
      "Epoch: 4, loss: 0.69002\n",
      "Epoch: 5, loss: 0.69269\n",
      "Epoch: 6, loss: 0.69548\n",
      "Epoch: 7, loss: 0.68522\n",
      "Epoch: 8, loss: 0.68994\n",
      "Epoch: 9, loss: 0.68749\n",
      "Epoch: 10, loss: 0.69264\n",
      "Epoch: 11, loss: 0.68804\n",
      "Epoch: 12, loss: 0.69150\n",
      "Epoch: 13, loss: 0.69480\n",
      "Epoch: 14, loss: 0.68881\n",
      "Epoch: 15, loss: 0.68533\n",
      "Epoch: 16, loss: 0.67475\n",
      "Epoch: 17, loss: 0.68363\n",
      "Epoch: 18, loss: 0.66822\n",
      "Epoch: 19, loss: 0.66564\n",
      "Epoch: 20, loss: 0.67542\n",
      "Epoch: 21, loss: 0.67078\n",
      "Epoch: 22, loss: 0.67319\n",
      "Epoch: 23, loss: 0.65149\n",
      "Epoch: 24, loss: 0.64525\n",
      "Epoch: 25, loss: 0.65516\n",
      "Epoch: 26, loss: 0.66336\n",
      "Epoch: 27, loss: 0.67866\n",
      "Epoch: 28, loss: 0.68821\n",
      "Epoch: 29, loss: 0.68315\n",
      "Epoch: 30, loss: 0.64467\n",
      "Epoch: 31, loss: 0.61441\n",
      "Epoch: 32, loss: 0.66381\n",
      "Epoch: 33, loss: 0.65487\n",
      "Epoch: 34, loss: 0.65365\n",
      "Epoch: 35, loss: 0.66326\n",
      "Epoch: 36, loss: 0.63450\n",
      "Epoch: 37, loss: 0.68182\n",
      "Epoch: 38, loss: 0.63868\n",
      "Epoch: 39, loss: 0.63957\n",
      "Epoch: 40, loss: 0.66806\n",
      "Epoch: 41, loss: 0.65706\n",
      "Epoch: 42, loss: 0.63144\n",
      "Epoch: 43, loss: 0.75241\n",
      "Epoch: 44, loss: 0.67417\n",
      "Epoch: 45, loss: 0.54725\n",
      "Epoch: 46, loss: 0.59509\n",
      "Epoch: 47, loss: 0.59115\n",
      "Epoch: 48, loss: 0.65002\n",
      "Epoch: 49, loss: 0.61440\n",
      "Epoch: 50, loss: 0.57184\n",
      "Epoch: 51, loss: 0.65633\n",
      "Epoch: 52, loss: 0.64111\n",
      "Epoch: 53, loss: 0.66885\n",
      "Epoch: 54, loss: 0.67961\n",
      "Epoch: 55, loss: 0.66646\n",
      "Epoch: 56, loss: 0.63159\n",
      "Epoch: 57, loss: 0.72264\n",
      "Epoch: 58, loss: 0.64488\n",
      "Epoch: 59, loss: 0.62829\n",
      "Epoch: 60, loss: 0.58280\n",
      "Epoch: 61, loss: 0.64850\n",
      "Epoch: 62, loss: 0.60804\n",
      "Epoch: 63, loss: 0.58097\n",
      "Epoch: 64, loss: 0.69082\n",
      "Epoch: 65, loss: 0.65354\n",
      "Epoch: 66, loss: 0.59279\n",
      "Epoch: 67, loss: 0.67510\n",
      "Epoch: 68, loss: 0.68266\n",
      "Epoch: 69, loss: 0.65573\n",
      "Epoch: 70, loss: 0.56968\n",
      "Epoch: 71, loss: 0.67646\n",
      "Epoch: 72, loss: 0.57082\n",
      "Epoch: 73, loss: 0.64719\n",
      "Epoch: 74, loss: 0.63701\n",
      "Epoch: 75, loss: 0.60956\n",
      "Epoch: 76, loss: 0.57112\n",
      "Epoch: 77, loss: 0.63574\n",
      "Epoch: 78, loss: 0.60492\n",
      "Epoch: 79, loss: 0.59602\n",
      "Epoch: 80, loss: 0.52297\n",
      "Epoch: 81, loss: 0.59870\n",
      "Epoch: 82, loss: 0.62594\n",
      "Epoch: 83, loss: 0.57198\n",
      "Epoch: 84, loss: 0.57561\n",
      "Epoch: 85, loss: 0.65356\n",
      "Epoch: 86, loss: 0.66299\n",
      "Epoch: 87, loss: 0.57377\n",
      "Epoch: 88, loss: 0.63210\n",
      "Epoch: 89, loss: 0.57712\n",
      "Epoch: 90, loss: 0.58805\n",
      "Epoch: 91, loss: 0.63340\n",
      "Epoch: 92, loss: 0.67679\n",
      "Epoch: 93, loss: 0.55847\n",
      "Epoch: 94, loss: 0.54196\n",
      "Epoch: 95, loss: 0.64772\n",
      "Epoch: 96, loss: 0.61130\n",
      "Epoch: 97, loss: 0.57159\n",
      "Epoch: 98, loss: 0.60198\n",
      "Epoch: 99, loss: 0.64808\n"
     ]
    }
   ],
   "source": [
    "# Train 100 epochs with batch size 30.\n",
    "res = []\n",
    "n_epochs = 100\n",
    "batch_size = 30\n",
    "\n",
    "for epoch in range(n_epochs):\n",
    "\n",
    "    # X is a torch Variable\n",
    "    permutation = torch.randperm(X.size()[0])\n",
    "\n",
    "    for i in range(0, X.size()[0], batch_size):\n",
    "        optimizer.zero_grad()\n",
    "\n",
    "        indices = permutation[i:i + batch_size]\n",
    "        batch_x, batch_y = X[indices], y[indices]\n",
    "\n",
    "        outputs = MyCNN.forward(batch_x) #forward pass\n",
    "\n",
    "        # obtain the loss function\n",
    "        loss = criterion(outputs, batch_y)\n",
    "        res.append(loss)\n",
    "        loss.backward() #calculates the loss of the loss function\n",
    "\n",
    "        optimizer.step() #improve from loss, i.e backprop\n",
    "    print(\"Epoch: %d, loss: %1.5f\" % (epoch, loss.item())) "
   ]
  },
  {
   "cell_type": "code",
   "execution_count": 31,
   "id": "68b3b17e",
   "metadata": {
    "ExecuteTime": {
     "end_time": "2022-06-29T18:02:07.023572Z",
     "start_time": "2022-06-29T18:02:07.015737Z"
    }
   },
   "outputs": [],
   "source": [
    "X_test_tensors = data_test"
   ]
  },
  {
   "cell_type": "code",
   "execution_count": 32,
   "id": "af81c214",
   "metadata": {
    "ExecuteTime": {
     "end_time": "2022-06-29T18:02:07.070778Z",
     "start_time": "2022-06-29T18:02:07.026709Z"
    }
   },
   "outputs": [],
   "source": [
    "test_predict = MyCNN(X_test_tensors)"
   ]
  },
  {
   "cell_type": "code",
   "execution_count": 34,
   "id": "5d464375",
   "metadata": {
    "ExecuteTime": {
     "end_time": "2022-06-29T18:02:07.132975Z",
     "start_time": "2022-06-29T18:02:07.107842Z"
    }
   },
   "outputs": [
    {
     "data": {
      "text/plain": [
       "tensor([0, 1, 1, 1, 1, 1, 0, 1, 0, 1, 1, 1, 0, 1, 1, 0, 1, 0, 1, 1, 0, 1, 1, 1,\n",
       "        0, 0, 1, 1, 1, 0, 1, 1, 1, 1, 0, 0, 1, 0, 1, 1, 0, 1])"
      ]
     },
     "execution_count": 34,
     "metadata": {},
     "output_type": "execute_result"
    }
   ],
   "source": [
    "test_predict.argmax(dim=1)"
   ]
  },
  {
   "cell_type": "code",
   "execution_count": 35,
   "id": "e891c9aa",
   "metadata": {
    "ExecuteTime": {
     "end_time": "2022-06-29T18:02:07.163703Z",
     "start_time": "2022-06-29T18:02:07.140016Z"
    }
   },
   "outputs": [
    {
     "name": "stdout",
     "output_type": "stream",
     "text": [
      "              precision    recall  f1-score   support\n",
      "\n",
      "           0       0.50      0.39      0.44        18\n",
      "           1       0.61      0.71      0.65        24\n",
      "\n",
      "    accuracy                           0.57        42\n",
      "   macro avg       0.55      0.55      0.55        42\n",
      "weighted avg       0.56      0.57      0.56        42\n",
      "\n"
     ]
    }
   ],
   "source": [
    "print(classification_report(y_test_tensors, torch.argmax(test_predict, dim=1)))"
   ]
  },
  {
   "cell_type": "code",
   "execution_count": 36,
   "id": "0d856c39",
   "metadata": {
    "ExecuteTime": {
     "end_time": "2022-06-29T18:02:07.194328Z",
     "start_time": "2022-06-29T18:02:07.167717Z"
    }
   },
   "outputs": [
    {
     "data": {
      "text/plain": [
       "0.5714285714285714"
      ]
     },
     "execution_count": 36,
     "metadata": {},
     "output_type": "execute_result"
    }
   ],
   "source": [
    "accuracy_score(y_test_tensors, torch.argmax(test_predict, dim=1))"
   ]
  },
  {
   "cell_type": "code",
   "execution_count": 37,
   "id": "a564d586",
   "metadata": {
    "ExecuteTime": {
     "end_time": "2022-06-29T18:02:07.224576Z",
     "start_time": "2022-06-29T18:02:07.202182Z"
    }
   },
   "outputs": [
    {
     "data": {
      "text/plain": [
       "0.5486111111111112"
      ]
     },
     "execution_count": 37,
     "metadata": {},
     "output_type": "execute_result"
    }
   ],
   "source": [
    "roc_auc_score(y_test_tensors, torch.argmax(test_predict, dim=1))"
   ]
  },
  {
   "cell_type": "markdown",
   "id": "76fd7bed",
   "metadata": {},
   "source": [
    "Also get results for train to detest over/under training."
   ]
  },
  {
   "cell_type": "code",
   "execution_count": 38,
   "id": "353d6379",
   "metadata": {
    "ExecuteTime": {
     "end_time": "2022-06-29T18:02:07.286212Z",
     "start_time": "2022-06-29T18:02:07.229340Z"
    }
   },
   "outputs": [],
   "source": [
    "train_predict = MyCNN(X)"
   ]
  },
  {
   "cell_type": "code",
   "execution_count": 39,
   "id": "aba447df",
   "metadata": {
    "ExecuteTime": {
     "end_time": "2022-06-29T18:02:07.317525Z",
     "start_time": "2022-06-29T18:02:07.289600Z"
    }
   },
   "outputs": [
    {
     "name": "stdout",
     "output_type": "stream",
     "text": [
      "              precision    recall  f1-score   support\n",
      "\n",
      "           0       0.74      0.49      0.59        70\n",
      "           1       0.65      0.85      0.74        80\n",
      "\n",
      "    accuracy                           0.68       150\n",
      "   macro avg       0.70      0.67      0.66       150\n",
      "weighted avg       0.69      0.68      0.67       150\n",
      "\n"
     ]
    }
   ],
   "source": [
    "print(classification_report(y_train_tensors, torch.argmax(train_predict, dim=1)))"
   ]
  },
  {
   "cell_type": "code",
   "execution_count": 40,
   "id": "af482ac6",
   "metadata": {
    "ExecuteTime": {
     "end_time": "2022-06-29T18:02:07.347443Z",
     "start_time": "2022-06-29T18:02:07.321264Z"
    }
   },
   "outputs": [
    {
     "data": {
      "text/plain": [
       "0.68"
      ]
     },
     "execution_count": 40,
     "metadata": {},
     "output_type": "execute_result"
    }
   ],
   "source": [
    "accuracy_score(y_train_tensors, torch.argmax(train_predict, dim=1))"
   ]
  },
  {
   "cell_type": "code",
   "execution_count": 41,
   "id": "dfcf6ef2",
   "metadata": {
    "ExecuteTime": {
     "end_time": "2022-06-29T18:02:07.378708Z",
     "start_time": "2022-06-29T18:02:07.352362Z"
    }
   },
   "outputs": [
    {
     "data": {
      "text/plain": [
       "0.6678571428571429"
      ]
     },
     "execution_count": 41,
     "metadata": {},
     "output_type": "execute_result"
    }
   ],
   "source": [
    "roc_auc_score(y_train_tensors, torch.argmax(train_predict, dim=1))"
   ]
  },
  {
   "cell_type": "markdown",
   "id": "29bc7e4b",
   "metadata": {},
   "source": [
    "All the results are compared in the presentation. Notebooks are just for the calculations."
   ]
  }
 ],
 "metadata": {
  "kernelspec": {
   "display_name": "Python (ds)",
   "language": "python",
   "name": "ds"
  },
  "language_info": {
   "codemirror_mode": {
    "name": "ipython",
    "version": 3
   },
   "file_extension": ".py",
   "mimetype": "text/x-python",
   "name": "python",
   "nbconvert_exporter": "python",
   "pygments_lexer": "ipython3",
   "version": "3.9.12"
  },
  "toc": {
   "base_numbering": 1,
   "nav_menu": {},
   "number_sections": true,
   "sideBar": true,
   "skip_h1_title": false,
   "title_cell": "Table of Contents",
   "title_sidebar": "Contents",
   "toc_cell": false,
   "toc_position": {},
   "toc_section_display": true,
   "toc_window_display": false
  }
 },
 "nbformat": 4,
 "nbformat_minor": 5
}
