{
 "cells": [
  {
   "cell_type": "markdown",
   "metadata": {},
   "source": [
    "The dataset was collected in Taiwan in 2005, when the credit card issuers faced the cash and credit card debt crisis. In order to increase market share, card-issuing banks over-issued cash and credit cards to unqualified applicants. At the same time, most cardholders, irrespective of their repayment ability, overused credit card for consumption and accumulated heavy credit and cash–card debts. The crisis caused the blow to consumer finance confidence and was a big challenge for both banks and cardholders.\n",
    "\n",
    "Variables the dataset contains are:\n",
    "\n",
    "  - LIMIT_BAL: credit limit in NT dollars (including for client's family)\n",
    "  - GENDER: 1 = male, 2 = female\n",
    "  - EDUCATION: 0 = doctorate, 1 = masters; 2 = bachelor; 3 = school graduate; 4 = elementary education; 5= other; 6 = no data.\n",
    "  - MARITAL: marital status: 0 = no answer; 1 = married; 2 = single; 3 = no data. \n",
    "  - AGE: age in years\n",
    "  - PAY_APR – PAY_SEP : history of past monthly payments, from April (PAY_APR) to September (PAY_SEP) 2005. The measurement scale for the repayment status is 0 = pay duly; 1 = payment delay for one month; 2 = payment delay for two months; . . .; 8 = payment delay for eight months; 9 = payment delay for nine months and above.\n",
    "  - BILL_APR – BILL_SEP: the amount of bill statement (NT dollars) each month\n",
    "  - PAY_APR – PAY_SEP: the amount of previous payment (NT dollar) \n",
    "  - default: binary indicator of a default (1 = Yes, 0 = No)\n",
    "  \n",
    "We would like to explore whether there are differences between customers who defaulted and did not.<br>\n",
    "Significance level for all the experiments is 0.95."
   ]
  },
  {
   "cell_type": "markdown",
   "metadata": {
    "toc": true
   },
   "source": [
    "<h1>Table of Contents<span class=\"tocSkip\"></span></h1>\n",
    "<div class=\"toc\"><ul class=\"toc-item\"><li><span><a href=\"#Read-data\" data-toc-modified-id=\"Read-data-1\">Read data</a></span></li><li><span><a href=\"#Credit-limit\" data-toc-modified-id=\"Credit-limit-2\">Credit limit</a></span></li><li><span><a href=\"#Gender\" data-toc-modified-id=\"Gender-3\">Gender</a></span></li><li><span><a href=\"#Education\" data-toc-modified-id=\"Education-4\">Education</a></span></li><li><span><a href=\"#Marital-status\" data-toc-modified-id=\"Marital-status-5\">Marital status</a></span></li><li><span><a href=\"#Age\" data-toc-modified-id=\"Age-6\">Age</a></span></li></ul></div>"
   ]
  },
  {
   "cell_type": "code",
   "execution_count": 1,
   "metadata": {
    "ExecuteTime": {
     "end_time": "2021-04-28T14:46:02.343115Z",
     "start_time": "2021-04-28T14:46:01.141216Z"
    }
   },
   "outputs": [],
   "source": [
    "import numpy as np\n",
    "import pandas as pd\n",
    "import seaborn as sns\n",
    "import matplotlib.pyplot as plt\n",
    "\n",
    "from scipy.stats import median_test, mannwhitneyu, chi2_contingency, fisher_exact, ansari\n",
    "from statsmodels.stats.proportion import test_proportions_2indep"
   ]
  },
  {
   "cell_type": "code",
   "execution_count": 2,
   "metadata": {
    "ExecuteTime": {
     "end_time": "2021-04-28T14:46:02.353069Z",
     "start_time": "2021-04-28T14:46:02.345065Z"
    }
   },
   "outputs": [],
   "source": [
    "def get_bootstrap_samples(x, n_resamples):\n",
    "    indices = np.random.randint(0, len(x), (n_resamples, len(x)))\n",
    "    resamples = x[indices]\n",
    "    return resamples\n",
    "\n",
    "\n",
    "def percentile_interval(stat, alpha):\n",
    "    boundaries = np.percentile(stat, [100 * alpha / 2., 100 * (1 - alpha / 2.)])\n",
    "    return boundaries\n",
    "\n",
    "\n",
    "def plot_density(data, position):\n",
    "    sns.kdeplot(data, ax=position, shade=True)\n",
    "    position.axvline(data.median(), linestyle='dashed', linewidth=2)"
   ]
  },
  {
   "cell_type": "markdown",
   "metadata": {
    "ExecuteTime": {
     "end_time": "2021-02-04T15:03:05.753220Z",
     "start_time": "2021-02-04T15:02:56.638719Z"
    }
   },
   "source": [
    "# Read data"
   ]
  },
  {
   "cell_type": "code",
   "execution_count": 3,
   "metadata": {
    "ExecuteTime": {
     "end_time": "2021-04-28T14:46:02.749349Z",
     "start_time": "2021-04-28T14:46:02.357072Z"
    }
   },
   "outputs": [
    {
     "name": "stdout",
     "output_type": "stream",
     "text": [
      "(30000, 25)\n"
     ]
    },
    {
     "data": {
      "text/html": [
       "<div>\n",
       "<style scoped>\n",
       "    .dataframe tbody tr th:only-of-type {\n",
       "        vertical-align: middle;\n",
       "    }\n",
       "\n",
       "    .dataframe tbody tr th {\n",
       "        vertical-align: top;\n",
       "    }\n",
       "\n",
       "    .dataframe thead th {\n",
       "        text-align: right;\n",
       "    }\n",
       "</style>\n",
       "<table border=\"1\" class=\"dataframe\">\n",
       "  <thead>\n",
       "    <tr style=\"text-align: right;\">\n",
       "      <th></th>\n",
       "      <th>ID</th>\n",
       "      <th>LIMIT_BAL</th>\n",
       "      <th>GENDER</th>\n",
       "      <th>EDUCATION</th>\n",
       "      <th>MARITAL</th>\n",
       "      <th>AGE</th>\n",
       "      <th>PAY_SEP</th>\n",
       "      <th>PAY_AUG</th>\n",
       "      <th>PAY_JUL</th>\n",
       "      <th>PAY_JUN</th>\n",
       "      <th>...</th>\n",
       "      <th>BILL_JUN</th>\n",
       "      <th>BILL_MAY</th>\n",
       "      <th>BILL_APR</th>\n",
       "      <th>PAY_SEP.1</th>\n",
       "      <th>PAY_AUG.1</th>\n",
       "      <th>PAY_JUL.1</th>\n",
       "      <th>PAY_JUN.1</th>\n",
       "      <th>PAY_MAY.1</th>\n",
       "      <th>PAY_APR.1</th>\n",
       "      <th>default</th>\n",
       "    </tr>\n",
       "  </thead>\n",
       "  <tbody>\n",
       "    <tr>\n",
       "      <th>0</th>\n",
       "      <td>1</td>\n",
       "      <td>20000</td>\n",
       "      <td>2</td>\n",
       "      <td>2</td>\n",
       "      <td>1</td>\n",
       "      <td>24</td>\n",
       "      <td>2</td>\n",
       "      <td>2</td>\n",
       "      <td>0</td>\n",
       "      <td>0</td>\n",
       "      <td>...</td>\n",
       "      <td>0</td>\n",
       "      <td>0</td>\n",
       "      <td>0</td>\n",
       "      <td>0</td>\n",
       "      <td>689</td>\n",
       "      <td>0</td>\n",
       "      <td>0</td>\n",
       "      <td>0</td>\n",
       "      <td>0</td>\n",
       "      <td>1</td>\n",
       "    </tr>\n",
       "    <tr>\n",
       "      <th>1</th>\n",
       "      <td>2</td>\n",
       "      <td>120000</td>\n",
       "      <td>2</td>\n",
       "      <td>2</td>\n",
       "      <td>2</td>\n",
       "      <td>26</td>\n",
       "      <td>0</td>\n",
       "      <td>2</td>\n",
       "      <td>0</td>\n",
       "      <td>0</td>\n",
       "      <td>...</td>\n",
       "      <td>3272</td>\n",
       "      <td>3455</td>\n",
       "      <td>3261</td>\n",
       "      <td>0</td>\n",
       "      <td>1000</td>\n",
       "      <td>1000</td>\n",
       "      <td>1000</td>\n",
       "      <td>0</td>\n",
       "      <td>2000</td>\n",
       "      <td>1</td>\n",
       "    </tr>\n",
       "    <tr>\n",
       "      <th>2</th>\n",
       "      <td>3</td>\n",
       "      <td>90000</td>\n",
       "      <td>2</td>\n",
       "      <td>2</td>\n",
       "      <td>2</td>\n",
       "      <td>34</td>\n",
       "      <td>0</td>\n",
       "      <td>0</td>\n",
       "      <td>0</td>\n",
       "      <td>0</td>\n",
       "      <td>...</td>\n",
       "      <td>14331</td>\n",
       "      <td>14948</td>\n",
       "      <td>15549</td>\n",
       "      <td>1518</td>\n",
       "      <td>1500</td>\n",
       "      <td>1000</td>\n",
       "      <td>1000</td>\n",
       "      <td>1000</td>\n",
       "      <td>5000</td>\n",
       "      <td>0</td>\n",
       "    </tr>\n",
       "    <tr>\n",
       "      <th>3</th>\n",
       "      <td>4</td>\n",
       "      <td>50000</td>\n",
       "      <td>2</td>\n",
       "      <td>2</td>\n",
       "      <td>1</td>\n",
       "      <td>37</td>\n",
       "      <td>0</td>\n",
       "      <td>0</td>\n",
       "      <td>0</td>\n",
       "      <td>0</td>\n",
       "      <td>...</td>\n",
       "      <td>28314</td>\n",
       "      <td>28959</td>\n",
       "      <td>29547</td>\n",
       "      <td>2000</td>\n",
       "      <td>2019</td>\n",
       "      <td>1200</td>\n",
       "      <td>1100</td>\n",
       "      <td>1069</td>\n",
       "      <td>1000</td>\n",
       "      <td>0</td>\n",
       "    </tr>\n",
       "    <tr>\n",
       "      <th>4</th>\n",
       "      <td>5</td>\n",
       "      <td>50000</td>\n",
       "      <td>1</td>\n",
       "      <td>2</td>\n",
       "      <td>1</td>\n",
       "      <td>57</td>\n",
       "      <td>0</td>\n",
       "      <td>0</td>\n",
       "      <td>0</td>\n",
       "      <td>0</td>\n",
       "      <td>...</td>\n",
       "      <td>20940</td>\n",
       "      <td>19146</td>\n",
       "      <td>19131</td>\n",
       "      <td>2000</td>\n",
       "      <td>36681</td>\n",
       "      <td>10000</td>\n",
       "      <td>9000</td>\n",
       "      <td>689</td>\n",
       "      <td>679</td>\n",
       "      <td>0</td>\n",
       "    </tr>\n",
       "  </tbody>\n",
       "</table>\n",
       "<p>5 rows × 25 columns</p>\n",
       "</div>"
      ],
      "text/plain": [
       "   ID  LIMIT_BAL  GENDER  EDUCATION  MARITAL  AGE  PAY_SEP  PAY_AUG  PAY_JUL  \\\n",
       "0   1      20000       2          2        1   24        2        2        0   \n",
       "1   2     120000       2          2        2   26        0        2        0   \n",
       "2   3      90000       2          2        2   34        0        0        0   \n",
       "3   4      50000       2          2        1   37        0        0        0   \n",
       "4   5      50000       1          2        1   57        0        0        0   \n",
       "\n",
       "   PAY_JUN  ...  BILL_JUN  BILL_MAY  BILL_APR  PAY_SEP.1  PAY_AUG.1  \\\n",
       "0        0  ...         0         0         0          0        689   \n",
       "1        0  ...      3272      3455      3261          0       1000   \n",
       "2        0  ...     14331     14948     15549       1518       1500   \n",
       "3        0  ...     28314     28959     29547       2000       2019   \n",
       "4        0  ...     20940     19146     19131       2000      36681   \n",
       "\n",
       "   PAY_JUL.1  PAY_JUN.1  PAY_MAY.1  PAY_APR.1  default  \n",
       "0          0          0          0          0        1  \n",
       "1       1000       1000          0       2000        1  \n",
       "2       1000       1000       1000       5000        0  \n",
       "3       1200       1100       1069       1000        0  \n",
       "4      10000       9000        689        679        0  \n",
       "\n",
       "[5 rows x 25 columns]"
      ]
     },
     "execution_count": 3,
     "metadata": {},
     "output_type": "execute_result"
    }
   ],
   "source": [
    "data = pd.read_csv('credit_card_default_analysis.csv')\n",
    "print(data.shape)\n",
    "data.head()"
   ]
  },
  {
   "cell_type": "code",
   "execution_count": 4,
   "metadata": {
    "ExecuteTime": {
     "end_time": "2021-04-28T14:46:02.761357Z",
     "start_time": "2021-04-28T14:46:02.752353Z"
    }
   },
   "outputs": [
    {
     "data": {
      "text/plain": [
       "ID           0\n",
       "LIMIT_BAL    0\n",
       "GENDER       0\n",
       "EDUCATION    0\n",
       "MARITAL      0\n",
       "AGE          0\n",
       "PAY_SEP      0\n",
       "PAY_AUG      0\n",
       "PAY_JUL      0\n",
       "PAY_JUN      0\n",
       "PAY_MAY      0\n",
       "PAY_APR      0\n",
       "BILL_SEP     0\n",
       "BILL_AUG     0\n",
       "BILL_JUL     0\n",
       "BILL_JUN     0\n",
       "BILL_MAY     0\n",
       "BILL_APR     0\n",
       "PAY_SEP.1    0\n",
       "PAY_AUG.1    0\n",
       "PAY_JUL.1    0\n",
       "PAY_JUN.1    0\n",
       "PAY_MAY.1    0\n",
       "PAY_APR.1    0\n",
       "default      0\n",
       "dtype: int64"
      ]
     },
     "execution_count": 4,
     "metadata": {},
     "output_type": "execute_result"
    }
   ],
   "source": [
    "# Check for missing values\n",
    "data.isna().sum()"
   ]
  },
  {
   "cell_type": "code",
   "execution_count": 5,
   "metadata": {
    "ExecuteTime": {
     "end_time": "2021-04-28T14:46:02.869434Z",
     "start_time": "2021-04-28T14:46:02.763359Z"
    }
   },
   "outputs": [
    {
     "name": "stdout",
     "output_type": "stream",
     "text": [
      "<class 'pandas.core.frame.DataFrame'>\n",
      "RangeIndex: 30000 entries, 0 to 29999\n",
      "Data columns (total 25 columns):\n",
      " #   Column     Non-Null Count  Dtype\n",
      "---  ------     --------------  -----\n",
      " 0   ID         30000 non-null  int64\n",
      " 1   LIMIT_BAL  30000 non-null  int64\n",
      " 2   GENDER     30000 non-null  int64\n",
      " 3   EDUCATION  30000 non-null  int64\n",
      " 4   MARITAL    30000 non-null  int64\n",
      " 5   AGE        30000 non-null  int64\n",
      " 6   PAY_SEP    30000 non-null  int64\n",
      " 7   PAY_AUG    30000 non-null  int64\n",
      " 8   PAY_JUL    30000 non-null  int64\n",
      " 9   PAY_JUN    30000 non-null  int64\n",
      " 10  PAY_MAY    30000 non-null  int64\n",
      " 11  PAY_APR    30000 non-null  int64\n",
      " 12  BILL_SEP   30000 non-null  int64\n",
      " 13  BILL_AUG   30000 non-null  int64\n",
      " 14  BILL_JUL   30000 non-null  int64\n",
      " 15  BILL_JUN   30000 non-null  int64\n",
      " 16  BILL_MAY   30000 non-null  int64\n",
      " 17  BILL_APR   30000 non-null  int64\n",
      " 18  PAY_SEP.1  30000 non-null  int64\n",
      " 19  PAY_AUG.1  30000 non-null  int64\n",
      " 20  PAY_JUL.1  30000 non-null  int64\n",
      " 21  PAY_JUN.1  30000 non-null  int64\n",
      " 22  PAY_MAY.1  30000 non-null  int64\n",
      " 23  PAY_APR.1  30000 non-null  int64\n",
      " 24  default    30000 non-null  int64\n",
      "dtypes: int64(25)\n",
      "memory usage: 5.7 MB\n"
     ]
    }
   ],
   "source": [
    "data.info()"
   ]
  },
  {
   "cell_type": "code",
   "execution_count": 6,
   "metadata": {
    "ExecuteTime": {
     "end_time": "2021-04-28T14:46:03.122613Z",
     "start_time": "2021-04-28T14:46:02.871435Z"
    }
   },
   "outputs": [
    {
     "name": "stdout",
     "output_type": "stream",
     "text": [
      "There are 6636 default observations and 23364 non-default.\n"
     ]
    }
   ],
   "source": [
    "data_default = data[data['default']==1]\n",
    "data_no_default = data[data['default']==0]\n",
    "print(f'There are {data_default.shape[0]} default observations and {data_no_default.shape[0]} non-default.')"
   ]
  },
  {
   "cell_type": "markdown",
   "metadata": {},
   "source": [
    "# Credit limit"
   ]
  },
  {
   "cell_type": "markdown",
   "metadata": {},
   "source": [
    "Credit limit: test whether there are differences between median credit limits of two groups. "
   ]
  },
  {
   "cell_type": "markdown",
   "metadata": {},
   "source": [
    "First of all, let's just observe the distributions and medians for better understanding the situation."
   ]
  },
  {
   "cell_type": "code",
   "execution_count": 7,
   "metadata": {
    "ExecuteTime": {
     "end_time": "2021-04-28T14:46:03.819103Z",
     "start_time": "2021-04-28T14:46:03.124615Z"
    }
   },
   "outputs": [
    {
     "data": {
      "image/png": "[encoded data removed]",
      "text/plain": [
       "<Figure size 1080x360 with 2 Axes>"
      ]
     },
     "metadata": {
      "needs_background": "light"
     },
     "output_type": "display_data"
    }
   ],
   "source": [
    "fig, axes = plt.subplots(1, 2, sharex=True, figsize=(15,5))\n",
    "\n",
    "plot_density(data_default['LIMIT_BAL'], axes[0])\n",
    "axes[0].set_title('Default')\n",
    "plot_density(data_no_default['LIMIT_BAL'], axes[1])\n",
    "axes[1].set_title('Non-Default')\n",
    "\n",
    "plt.ticklabel_format(style='plain', axis='x')\n",
    "plt.show()"
   ]
  },
  {
   "cell_type": "code",
   "execution_count": 8,
   "metadata": {
    "ExecuteTime": {
     "end_time": "2021-04-28T14:46:03.828111Z",
     "start_time": "2021-04-28T14:46:03.822106Z"
    }
   },
   "outputs": [
    {
     "data": {
      "text/plain": [
       "90000.0"
      ]
     },
     "execution_count": 8,
     "metadata": {},
     "output_type": "execute_result"
    }
   ],
   "source": [
    "data_default['LIMIT_BAL'].median()"
   ]
  },
  {
   "cell_type": "code",
   "execution_count": 9,
   "metadata": {
    "ExecuteTime": {
     "end_time": "2021-04-28T14:46:03.937187Z",
     "start_time": "2021-04-28T14:46:03.831112Z"
    }
   },
   "outputs": [
    {
     "data": {
      "text/plain": [
       "150000.0"
      ]
     },
     "execution_count": 9,
     "metadata": {},
     "output_type": "execute_result"
    }
   ],
   "source": [
    "data_no_default['LIMIT_BAL'].median()"
   ]
  },
  {
   "cell_type": "markdown",
   "metadata": {},
   "source": [
    "We can see the 60000 difference in credit limit medians for 2 samples, but is it statistically significant? To answer this question, we can use either Mood's test or bootstrap confidence intervals. We can not use any parametric criterion because we don't know the distribution(from the picture) and more over we don't know parametric tests for medians."
   ]
  },
  {
   "cell_type": "markdown",
   "metadata": {},
   "source": [
    "Let's do the Mood's test first."
   ]
  },
  {
   "cell_type": "code",
   "execution_count": 10,
   "metadata": {
    "ExecuteTime": {
     "end_time": "2021-04-28T14:46:04.116330Z",
     "start_time": "2021-04-28T14:46:03.939188Z"
    }
   },
   "outputs": [
    {
     "data": {
      "text/plain": [
       "(683.1982729785927,\n",
       " 1.3471418011496707e-150,\n",
       " 140000.0,\n",
       " array([[ 2314, 12396],\n",
       "        [ 4322, 10968]], dtype=int64))"
      ]
     },
     "execution_count": 10,
     "metadata": {},
     "output_type": "execute_result"
    }
   ],
   "source": [
    "median_test(data_default['LIMIT_BAL'].values, data_no_default['LIMIT_BAL'].values)"
   ]
  },
  {
   "cell_type": "markdown",
   "metadata": {},
   "source": [
    "Mood’s median test p-value is 1.347e-150, much smaller than 0.05 (at 0.95 significance level), so there is enough evidence to **reject** the null hypothesis that the difference in medians equals to 0, so the medians are different(from practical point of view, the difference is significant also)."
   ]
  },
  {
   "cell_type": "code",
   "execution_count": 11,
   "metadata": {
    "ExecuteTime": {
     "end_time": "2021-04-28T14:46:04.292438Z",
     "start_time": "2021-04-28T14:46:04.118314Z"
    }
   },
   "outputs": [
    {
     "name": "stdout",
     "output_type": "stream",
     "text": [
      "The odds ratio is: 0.474 the outcome in the default group is 50% less than in the non-default group.\n"
     ]
    }
   ],
   "source": [
    "print(f\"The odds ratio is: {(2314*10968)/(4322*12396):.3f}\", \"the outcome in the default group is 50% less than in the non-default group.\")"
   ]
  },
  {
   "cell_type": "markdown",
   "metadata": {},
   "source": [
    "Let's do build bootstrap confidence intervals now. What exactly are we going to build interval for? Let's do it for the absolute difference in medians - we will check whether it contains zero(-> difference in medians is insignificant) or not.\n",
    "Another way to do is to build 2 confidence intervals for both medians and see if they intersect."
   ]
  },
  {
   "cell_type": "code",
   "execution_count": 12,
   "metadata": {
    "ExecuteTime": {
     "end_time": "2021-04-28T14:46:05.278132Z",
     "start_time": "2021-04-28T14:46:04.294438Z"
    }
   },
   "outputs": [],
   "source": [
    "# create bootstraped samples\n",
    "default_bs = get_bootstrap_samples(data_default['LIMIT_BAL'].values,1000)\n",
    "non_default_bs = get_bootstrap_samples(data_no_default['LIMIT_BAL'].values,1000)"
   ]
  },
  {
   "cell_type": "code",
   "execution_count": 13,
   "metadata": {
    "ExecuteTime": {
     "end_time": "2021-04-28T14:46:05.642389Z",
     "start_time": "2021-04-28T14:46:05.280134Z"
    }
   },
   "outputs": [
    {
     "name": "stdout",
     "output_type": "stream",
     "text": [
      "95% confidence interval for the absolute median difference: [60000. 70000.]\n"
     ]
    }
   ],
   "source": [
    "np.random.seed(0)\n",
    "# count absolute difference in medians for bootstraped samples\n",
    "median_scores = [abs(np.median(default) - np.median(non_default)) for default,non_default in zip(default_bs,non_default_bs)]\n",
    "print(\"95% confidence interval for the absolute median difference:\",  percentile_interval(median_scores, 0.05))"
   ]
  },
  {
   "cell_type": "markdown",
   "metadata": {},
   "source": [
    "We can see that the confidence interval of absolute difference of median credit limits between 2 groups does not contain 0 (and actually is far away from it), so the medians are different."
   ]
  },
  {
   "cell_type": "code",
   "execution_count": 14,
   "metadata": {
    "ExecuteTime": {
     "end_time": "2021-04-28T14:46:06.026659Z",
     "start_time": "2021-04-28T14:46:05.644390Z"
    }
   },
   "outputs": [],
   "source": [
    "# count medians for bootstraped samples\n",
    "median_d = [np.median(x) for x in default_bs]\n",
    "median_nd = [np.median(x) for x in non_default_bs]"
   ]
  },
  {
   "cell_type": "code",
   "execution_count": 15,
   "metadata": {
    "ExecuteTime": {
     "end_time": "2021-04-28T14:46:06.038669Z",
     "start_time": "2021-04-28T14:46:06.029663Z"
    }
   },
   "outputs": [
    {
     "name": "stdout",
     "output_type": "stream",
     "text": [
      "95% confidence interval for median credit limit for default group: [80000. 90000.]\n",
      "95% confidence interval for median credit limit for non-default group: [150000. 150000.]\n"
     ]
    }
   ],
   "source": [
    "print(\"95% confidence interval for median credit limit for default group:\",  percentile_interval(median_d, 0.05))\n",
    "print(\"95% confidence interval for median credit limit for non-default group:\",  percentile_interval(median_nd, 0.05))"
   ]
  },
  {
   "cell_type": "markdown",
   "metadata": {},
   "source": [
    "We can see that the confidence intervals of median credit limit do not intersect for default and non-default groups. So we can say that median credit limits of two groups differ."
   ]
  },
  {
   "cell_type": "markdown",
   "metadata": {},
   "source": [
    "# Gender"
   ]
  },
  {
   "cell_type": "markdown",
   "metadata": {},
   "source": [
    "Gender: test whether gender composition of two groups differ. "
   ]
  },
  {
   "cell_type": "markdown",
   "metadata": {},
   "source": [
    "Let's put the data on chart for better unerstanding the situation."
   ]
  },
  {
   "cell_type": "code",
   "execution_count": 16,
   "metadata": {
    "ExecuteTime": {
     "end_time": "2021-04-28T14:46:06.222852Z",
     "start_time": "2021-04-28T14:46:06.042672Z"
    }
   },
   "outputs": [],
   "source": [
    "data['GENDER'] = data['GENDER'].replace({1:'male', 2:'female'})"
   ]
  },
  {
   "cell_type": "code",
   "execution_count": 17,
   "metadata": {
    "ExecuteTime": {
     "end_time": "2021-04-28T14:46:06.514005Z",
     "start_time": "2021-04-28T14:46:06.226803Z"
    }
   },
   "outputs": [
    {
     "data": {
      "image/png": "[encoded data removed]",
      "text/plain": [
       "<Figure size 432x288 with 1 Axes>"
      ]
     },
     "metadata": {
      "needs_background": "light"
     },
     "output_type": "display_data"
    }
   ],
   "source": [
    "g = sns.countplot(data=data,hue='GENDER', x='default', palette='Accent')\n",
    "\n",
    "for p in g.patches:\n",
    "    g.annotate(p.get_height(), (p.get_x()+0.12, p.get_height()+1))\n",
    "    \n",
    "plt.show()"
   ]
  },
  {
   "cell_type": "code",
   "execution_count": 18,
   "metadata": {
    "ExecuteTime": {
     "end_time": "2021-04-28T14:46:06.525013Z",
     "start_time": "2021-04-28T14:46:06.516006Z"
    }
   },
   "outputs": [
    {
     "name": "stdout",
     "output_type": "stream",
     "text": [
      "Percentage of men for default: 43.29%\n",
      "Percentage of women for default: 56.71%\n"
     ]
    }
   ],
   "source": [
    "m = data_default[data_default['GENDER'] == 1].shape[0] / data_default.shape[0]\n",
    "w = data_default[data_default['GENDER'] == 2].shape[0] / data_default.shape[0]\n",
    "print(f'Percentage of men for default: {m:.2%}')\n",
    "print(f'Percentage of women for default: {w:.2%}')"
   ]
  },
  {
   "cell_type": "code",
   "execution_count": 19,
   "metadata": {
    "ExecuteTime": {
     "end_time": "2021-04-28T14:46:06.749169Z",
     "start_time": "2021-04-28T14:46:06.528013Z"
    }
   },
   "outputs": [
    {
     "name": "stdout",
     "output_type": "stream",
     "text": [
      "Percentage of men ofor default: 38.59%\n",
      "Percentage of women for default: 61.41%\n"
     ]
    }
   ],
   "source": [
    "m = data_no_default[data_no_default['GENDER'] == 1].shape[0] / data_no_default.shape[0]\n",
    "w = data_no_default[data_no_default['GENDER'] == 2].shape[0] / data_no_default.shape[0]\n",
    "print(f'Percentage of men ofor default: {m:.2%}')\n",
    "print(f'Percentage of women for default: {w:.2%}')"
   ]
  },
  {
   "cell_type": "markdown",
   "metadata": {},
   "source": [
    "The gender composition seems to vary in 2 groups, but let's check if it's statistically significant. To do this we need a test for proportions. These tests are parametric(distribution is Bernoulli's). Let's use the basic Z test and the also the Wilson's interval based test. We can choose one proportion, for example, for men."
   ]
  },
  {
   "cell_type": "markdown",
   "metadata": {},
   "source": [
    "$𝐻_0$ : the proportion of men is the same for default and non-default groups ($p_1=p_2$).\n",
    "\n",
    "$𝐻_1$ : men proportion is grater for the default group ($p_1>p_2$)."
   ]
  },
  {
   "cell_type": "code",
   "execution_count": 20,
   "metadata": {
    "ExecuteTime": {
     "end_time": "2021-04-28T14:46:06.936312Z",
     "start_time": "2021-04-28T14:46:06.751172Z"
    }
   },
   "outputs": [],
   "source": [
    "count1 = data_default[data_default['GENDER'] == 1].shape[0]\n",
    "nobs1 = data_default.shape[0]\n",
    "count2 = data_no_default[data_no_default['GENDER'] == 1].shape[0]\n",
    "nobs2 = data_no_default.shape[0]"
   ]
  },
  {
   "cell_type": "code",
   "execution_count": 21,
   "metadata": {
    "ExecuteTime": {
     "end_time": "2021-04-28T14:46:07.142449Z",
     "start_time": "2021-04-28T14:46:06.938304Z"
    }
   },
   "outputs": [
    {
     "name": "stdout",
     "output_type": "stream",
     "text": [
      "Z test: statistics 6.86, p-value 3.47e-12\n"
     ]
    }
   ],
   "source": [
    "print(\"Z test: statistics {0:.2f}, p-value {1:.2e}\".format(\n",
    "    *test_proportions_2indep(count1,\n",
    "                             nobs1,\n",
    "                             count2,\n",
    "                             nobs2,\n",
    "                             alternative='larger',\n",
    "                             method='wald',\n",
    "                             return_results=False)))"
   ]
  },
  {
   "cell_type": "code",
   "execution_count": 22,
   "metadata": {
    "ExecuteTime": {
     "end_time": "2021-04-28T14:46:07.297556Z",
     "start_time": "2021-04-28T14:46:07.144448Z"
    }
   },
   "outputs": [
    {
     "name": "stdout",
     "output_type": "stream",
     "text": [
      "Wilson's interval based test statistics 6.92, p-value 2.24e-12\n"
     ]
    }
   ],
   "source": [
    "print(\"Wilson's interval based test statistics {0:.2f}, p-value {1:.2e}\".\n",
    "      format(*test_proportions_2indep(count1,\n",
    "                                      nobs1,\n",
    "                                      count2,\n",
    "                                      nobs2,\n",
    "                                      alternative='larger',\n",
    "                                      method='score',\n",
    "                                      correction=False,\n",
    "                                      return_results=False)))"
   ]
  },
  {
   "cell_type": "markdown",
   "metadata": {},
   "source": [
    "𝑝=2.24e-12 < 0.05 <br>\n",
    "𝑝=3.47e-12 < 0.05 <br>\n",
    "    – null hypothesis is **rejected**, gender proportion differs between two groups. From practical point of view, the difference is not so significant, especially taking into account the effect size counted below."
   ]
  },
  {
   "cell_type": "code",
   "execution_count": 23,
   "metadata": {
    "ExecuteTime": {
     "end_time": "2021-04-28T14:46:07.477684Z",
     "start_time": "2021-04-28T14:46:07.302561Z"
    }
   },
   "outputs": [
    {
     "name": "stdout",
     "output_type": "stream",
     "text": [
      "Effect size is: 0.040\n"
     ]
    }
   ],
   "source": [
    "print(f\"Effect size is: {6.86/np.sqrt(nobs1+nobs2):.3f}\")"
   ]
  },
  {
   "cell_type": "code",
   "execution_count": 24,
   "metadata": {
    "ExecuteTime": {
     "end_time": "2021-04-28T14:46:07.624840Z",
     "start_time": "2021-04-28T14:46:07.479685Z"
    }
   },
   "outputs": [],
   "source": [
    "a = data[(data['GENDER']=='male') & (data['default']==1)].shape[0]\n",
    "d = data[(data['GENDER']=='female') & (data['default']==0)].shape[0]\n",
    "\n",
    "b = data[(data['GENDER']=='male') & (data['default']==0)].shape[0]\n",
    "c = data[(data['GENDER']=='female') & (data['default']==1)].shape[0]"
   ]
  },
  {
   "cell_type": "code",
   "execution_count": 25,
   "metadata": {
    "ExecuteTime": {
     "end_time": "2021-04-28T14:46:07.744888Z",
     "start_time": "2021-04-28T14:46:07.626805Z"
    }
   },
   "outputs": [
    {
     "name": "stdout",
     "output_type": "stream",
     "text": [
      "Chances of men with default relative to the odds of women with default is not very high, only 1.22 higher. So, the effect size is not big.\n"
     ]
    }
   ],
   "source": [
    "print(f'Chances of men with default relative to the odds of women with default is not very high, only {(a*d)/(b*c):.2f} higher. So, the effect size is not big.')"
   ]
  },
  {
   "cell_type": "markdown",
   "metadata": {},
   "source": [
    "# Education"
   ]
  },
  {
   "cell_type": "markdown",
   "metadata": {},
   "source": [
    "Education: test whether education levels differs between two groups. If it does, then how exactly?"
   ]
  },
  {
   "cell_type": "code",
   "execution_count": 26,
   "metadata": {
    "ExecuteTime": {
     "end_time": "2021-04-28T14:46:08.108128Z",
     "start_time": "2021-04-28T14:46:07.746875Z"
    }
   },
   "outputs": [
    {
     "data": {
      "image/png": "[encoded data removed]",
      "text/plain": [
       "<Figure size 1080x360 with 1 Axes>"
      ]
     },
     "metadata": {
      "needs_background": "light"
     },
     "output_type": "display_data"
    }
   ],
   "source": [
    "plt.figure(figsize=(15,5))\n",
    "sns.countplot(data=data, x='EDUCATION', hue='default', palette='Accent')\n",
    "plt.show()"
   ]
  },
  {
   "cell_type": "markdown",
   "metadata": {},
   "source": [
    "From the first glance, the education level have the same pattern for both groups, but let's check (assuming groups are independent)  if the samples are really taken from the same population, just the scale is different. For this purpose we are going to use non-parametric scale test. The whole class of non-parametric scale tests check the null hypothesis like: if there are 2 samples with pdfs $F_{X}$ and $\\frac{1}{\\lambda}*F_{\\frac{X}{\\lambda}}$, then $H_0$: $\\lambda=0$ "
   ]
  },
  {
   "cell_type": "markdown",
   "metadata": {
    "ExecuteTime": {
     "end_time": "2021-04-28T14:38:52.044647Z",
     "start_time": "2021-04-28T14:38:52.040661Z"
    }
   },
   "source": [
    "For the Ansari Test we are going to make, the hypothesis look like:"
   ]
  },
  {
   "cell_type": "markdown",
   "metadata": {},
   "source": [
    "$H_0$: $\\sigma_{1}^2 = \\sigma_{2}^2;$ eduaction level distribution is equal for both groups\n",
    "  \n",
    "$H_1$: $\\sigma_{1}^2 = \\lambda * \\sigma_{2}^2, \\lambda\\neq0;$  eduaction level distribution is different for both groups"
   ]
  },
  {
   "cell_type": "markdown",
   "metadata": {},
   "source": [
    "Discreteness can be neglected due to big n1 and n2."
   ]
  },
  {
   "cell_type": "code",
   "execution_count": 27,
   "metadata": {
    "ExecuteTime": {
     "end_time": "2021-04-28T14:46:08.121138Z",
     "start_time": "2021-04-28T14:46:08.110129Z"
    }
   },
   "outputs": [
    {
     "data": {
      "text/plain": [
       "AnsariResult(statistic=55661884.0, pvalue=2.438864643285091e-56)"
      ]
     },
     "execution_count": 27,
     "metadata": {},
     "output_type": "execute_result"
    }
   ],
   "source": [
    "ansari(data_default['EDUCATION'].values, data_no_default['EDUCATION'].values)"
   ]
  },
  {
   "cell_type": "markdown",
   "metadata": {
    "ExecuteTime": {
     "end_time": "2021-02-05T11:36:57.150609Z",
     "start_time": "2021-02-05T11:36:57.121583Z"
    }
   },
   "source": [
    "𝑝=2.44×10−56 < 0.05  – null hypothesis is **rejected**, education levels differs between two groups. From practical point of view, the difference is not so significant, especially taking into account the affect size counted below."
   ]
  },
  {
   "cell_type": "code",
   "execution_count": 28,
   "metadata": {
    "ExecuteTime": {
     "end_time": "2021-04-28T14:46:08.251230Z",
     "start_time": "2021-04-28T14:46:08.124141Z"
    }
   },
   "outputs": [
    {
     "name": "stdout",
     "output_type": "stream",
     "text": [
      "Rank-biserial effect size is 0.057\n"
     ]
    }
   ],
   "source": [
    "rank_biserial = 2*81931254/(len(data_default['EDUCATION'])*len(data_no_default['EDUCATION']))-1\n",
    "print(f\"Rank-biserial effect size is {rank_biserial:.3f}\") "
   ]
  },
  {
   "cell_type": "markdown",
   "metadata": {},
   "source": [
    "# Marital status"
   ]
  },
  {
   "cell_type": "markdown",
   "metadata": {},
   "source": [
    "Now we want to check if marital status and default indicator are dependent."
   ]
  },
  {
   "cell_type": "code",
   "execution_count": 29,
   "metadata": {
    "ExecuteTime": {
     "end_time": "2021-04-28T14:46:08.573472Z",
     "start_time": "2021-04-28T14:46:08.253230Z"
    }
   },
   "outputs": [
    {
     "data": {
      "image/png": "[encoded data removed]",
      "text/plain": [
       "<Figure size 720x360 with 1 Axes>"
      ]
     },
     "metadata": {
      "needs_background": "light"
     },
     "output_type": "display_data"
    }
   ],
   "source": [
    "plt.figure(figsize=(10,5))\n",
    "sns.countplot(data=data, x='MARITAL', hue='default', palette='Accent')\n",
    "plt.show()"
   ]
  },
  {
   "cell_type": "markdown",
   "metadata": {},
   "source": [
    "Here we need to handle with categorical data, which is why we choose the Chi-squared test for independence checking."
   ]
  },
  {
   "cell_type": "markdown",
   "metadata": {
    "ExecuteTime": {
     "end_time": "2021-02-05T11:29:35.522122Z",
     "start_time": "2021-02-05T11:29:35.517119Z"
    }
   },
   "source": [
    "$H_0$: marital status and default indicator are independent\n",
    "\n",
    "$H_1$: $H_0$ is false"
   ]
  },
  {
   "cell_type": "code",
   "execution_count": 30,
   "metadata": {
    "ExecuteTime": {
     "end_time": "2021-04-28T14:46:08.814628Z",
     "start_time": "2021-04-28T14:46:08.575460Z"
    }
   },
   "outputs": [
    {
     "data": {
      "text/html": [
       "<div>\n",
       "<style scoped>\n",
       "    .dataframe tbody tr th:only-of-type {\n",
       "        vertical-align: middle;\n",
       "    }\n",
       "\n",
       "    .dataframe tbody tr th {\n",
       "        vertical-align: top;\n",
       "    }\n",
       "\n",
       "    .dataframe thead th {\n",
       "        text-align: right;\n",
       "    }\n",
       "</style>\n",
       "<table border=\"1\" class=\"dataframe\">\n",
       "  <thead>\n",
       "    <tr style=\"text-align: right;\">\n",
       "      <th>default</th>\n",
       "      <th>0</th>\n",
       "      <th>1</th>\n",
       "    </tr>\n",
       "    <tr>\n",
       "      <th>MARITAL</th>\n",
       "      <th></th>\n",
       "      <th></th>\n",
       "    </tr>\n",
       "  </thead>\n",
       "  <tbody>\n",
       "    <tr>\n",
       "      <th>0</th>\n",
       "      <td>49</td>\n",
       "      <td>5</td>\n",
       "    </tr>\n",
       "    <tr>\n",
       "      <th>1</th>\n",
       "      <td>10453</td>\n",
       "      <td>3206</td>\n",
       "    </tr>\n",
       "    <tr>\n",
       "      <th>2</th>\n",
       "      <td>12623</td>\n",
       "      <td>3341</td>\n",
       "    </tr>\n",
       "    <tr>\n",
       "      <th>3</th>\n",
       "      <td>239</td>\n",
       "      <td>84</td>\n",
       "    </tr>\n",
       "  </tbody>\n",
       "</table>\n",
       "</div>"
      ],
      "text/plain": [
       "default      0     1\n",
       "MARITAL             \n",
       "0           49     5\n",
       "1        10453  3206\n",
       "2        12623  3341\n",
       "3          239    84"
      ]
     },
     "execution_count": 30,
     "metadata": {},
     "output_type": "execute_result"
    }
   ],
   "source": [
    "ct = pd.crosstab(data.MARITAL, data.default)\n",
    "ct"
   ]
  },
  {
   "cell_type": "code",
   "execution_count": 31,
   "metadata": {
    "ExecuteTime": {
     "end_time": "2021-04-28T14:46:08.820647Z",
     "start_time": "2021-04-28T14:46:08.816628Z"
    }
   },
   "outputs": [],
   "source": [
    "np.set_printoptions(suppress=True)"
   ]
  },
  {
   "cell_type": "code",
   "execution_count": 32,
   "metadata": {
    "ExecuteTime": {
     "end_time": "2021-04-28T14:46:09.014771Z",
     "start_time": "2021-04-28T14:46:08.824635Z"
    }
   },
   "outputs": [
    {
     "data": {
      "text/plain": [
       "(35.66239583433609,\n",
       " 8.825862457577375e-08,\n",
       " 3,\n",
       " array([[   42.0552,    11.9448],\n",
       "        [10637.6292,  3021.3708],\n",
       "        [12432.7632,  3531.2368],\n",
       "        [  251.5524,    71.4476]]))"
      ]
     },
     "execution_count": 32,
     "metadata": {},
     "output_type": "execute_result"
    }
   ],
   "source": [
    "chi2_contingency(ct)"
   ]
  },
  {
   "cell_type": "markdown",
   "metadata": {},
   "source": [
    "𝑝=8.8×10−8 < 0.05  – null hypothesis is **rejected**,  marital status and default indicator are dependent. <br> None of the expected counts (the array returned above) are below 5, so chi-squared test is accurate and we don't need any more tests."
   ]
  },
  {
   "cell_type": "markdown",
   "metadata": {},
   "source": [
    "# Age"
   ]
  },
  {
   "cell_type": "markdown",
   "metadata": {},
   "source": [
    "Age: test whether there are differences between mean ages of clients in two groups. "
   ]
  },
  {
   "cell_type": "markdown",
   "metadata": {},
   "source": [
    "If the age is distributed normally. we can use t-test to check means. If it is not, we will need some non-parametric test. So, let's start with checking the normality of the distributions."
   ]
  },
  {
   "cell_type": "code",
   "execution_count": 33,
   "metadata": {
    "ExecuteTime": {
     "end_time": "2021-04-28T14:46:09.175916Z",
     "start_time": "2021-04-28T14:46:09.016768Z"
    }
   },
   "outputs": [],
   "source": [
    "age_default = data_default['AGE'].values\n",
    "age_non_default = data_no_default['AGE'].values"
   ]
  },
  {
   "cell_type": "code",
   "execution_count": 34,
   "metadata": {
    "ExecuteTime": {
     "end_time": "2021-04-28T14:46:09.844353Z",
     "start_time": "2021-04-28T14:46:09.177881Z"
    }
   },
   "outputs": [
    {
     "data": {
      "image/png": "[encoded data removed]",
      "text/plain": [
       "<Figure size 1080x360 with 2 Axes>"
      ]
     },
     "metadata": {
      "needs_background": "light"
     },
     "output_type": "display_data"
    }
   ],
   "source": [
    "fig, axes = plt.subplots(1, 2, figsize=(15,5))\n",
    "sns.kdeplot(data=age_default, ax=axes[0])\n",
    "axes[0].set_title('Default')\n",
    "sns.kdeplot(data=age_non_default, ax=axes[1])\n",
    "axes[1].set_title('No default')\n",
    "plt.show()"
   ]
  },
  {
   "cell_type": "markdown",
   "metadata": {},
   "source": [
    "Well, it is pretty obvious from the charts that the age is not distributed normally (I don't really think that any more formal tests are needed here)."
   ]
  },
  {
   "cell_type": "markdown",
   "metadata": {},
   "source": [
    "So, we need a non-parametric test. Which one to choose? We could use popular Kolmogorov-Smirnov even though the age variable is not exactly continuous, it can be considered as ordinal (due to big n1 and n2). However we also assume that the observed groups are independent. So we can either choose the Mann-Whitney U test, or do a permutation test."
   ]
  },
  {
   "cell_type": "markdown",
   "metadata": {
    "ExecuteTime": {
     "end_time": "2021-02-06T15:21:41.820421Z",
     "start_time": "2021-02-06T15:21:41.815418Z"
    }
   },
   "source": [
    "$H_0\\colon F_{X_1}(x) = F_{X_2}(x);$    samples are taken from the same population, so their means are the same\n",
    "\n",
    "$H_1\\colon F_{X_1}(x) = F_{X_2}(x + \\Delta), \\Delta<0;$    the first mean is greater"
   ]
  },
  {
   "cell_type": "code",
   "execution_count": 35,
   "metadata": {
    "ExecuteTime": {
     "end_time": "2021-04-28T14:46:09.856360Z",
     "start_time": "2021-04-28T14:46:09.847355Z"
    }
   },
   "outputs": [
    {
     "data": {
      "text/plain": [
       "35.72573839662447"
      ]
     },
     "execution_count": 35,
     "metadata": {},
     "output_type": "execute_result"
    }
   ],
   "source": [
    "age_default.mean()"
   ]
  },
  {
   "cell_type": "code",
   "execution_count": 36,
   "metadata": {
    "ExecuteTime": {
     "end_time": "2021-04-28T14:46:10.049496Z",
     "start_time": "2021-04-28T14:46:09.858363Z"
    }
   },
   "outputs": [
    {
     "data": {
      "text/plain": [
       "35.417265879130284"
      ]
     },
     "execution_count": 36,
     "metadata": {},
     "output_type": "execute_result"
    }
   ],
   "source": [
    "age_non_default.mean()"
   ]
  },
  {
   "cell_type": "code",
   "execution_count": 37,
   "metadata": {
    "ExecuteTime": {
     "end_time": "2021-04-28T14:46:10.259646Z",
     "start_time": "2021-04-28T14:46:10.051498Z"
    }
   },
   "outputs": [
    {
     "data": {
      "text/plain": [
       "MannwhitneyuResult(statistic=78076624.5, pvalue=0.1862517717449308)"
      ]
     },
     "execution_count": 37,
     "metadata": {},
     "output_type": "execute_result"
    }
   ],
   "source": [
    "mannwhitneyu(age_default, age_non_default, alternative='greater')"
   ]
  },
  {
   "cell_type": "markdown",
   "metadata": {},
   "source": [
    "𝑝=0.186 > 0.05 – there is **not enough evidence** to reject the null hypothesis, so the mean age doesn't differ for 2 groups. From practical point of view, the difference is not significant at all."
   ]
  },
  {
   "cell_type": "code",
   "execution_count": 38,
   "metadata": {
    "ExecuteTime": {
     "end_time": "2021-04-28T14:46:10.396741Z",
     "start_time": "2021-04-28T14:46:10.261648Z"
    }
   },
   "outputs": [
    {
     "name": "stdout",
     "output_type": "stream",
     "text": [
      "Rank-biserial effect size is 0.007\n"
     ]
    }
   ],
   "source": [
    "rank_biserial = 2*78076624.5/(len(age_default)*len(age_non_default))-1\n",
    "print(f\"Rank-biserial effect size is {rank_biserial:.3f}\") "
   ]
  }
 ],
 "metadata": {
  "kernelspec": {
   "display_name": "Python 3",
   "language": "python",
   "name": "python3"
  },
  "language_info": {
   "codemirror_mode": {
    "name": "ipython",
    "version": 3
   },
   "file_extension": ".py",
   "mimetype": "text/x-python",
   "name": "python",
   "nbconvert_exporter": "python",
   "pygments_lexer": "ipython3",
   "version": "3.8.8"
  },
  "toc": {
   "base_numbering": 1,
   "nav_menu": {},
   "number_sections": false,
   "sideBar": true,
   "skip_h1_title": false,
   "title_cell": "Table of Contents",
   "title_sidebar": "Contents",
   "toc_cell": true,
   "toc_position": {
    "height": "calc(100% - 180px)",
    "left": "10px",
    "top": "150px",
    "width": "165px"
   },
   "toc_section_display": true,
   "toc_window_display": true
  }
 },
 "nbformat": 4,
 "nbformat_minor": 4
}
