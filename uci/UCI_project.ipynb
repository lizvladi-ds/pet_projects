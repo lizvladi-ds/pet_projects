{
 "cells": [
  {
   "cell_type": "markdown",
   "metadata": {
    "toc": true
   },
   "source": [
    "<h1>Table of Contents<span class=\"tocSkip\"></span></h1>\n",
    "<div class=\"toc\"><ul class=\"toc-item\"><li><span><a href=\"#Description-of-the-project\" data-toc-modified-id=\"Description-of-the-project-1\">Description of the project</a></span><ul class=\"toc-item\"><li><span><a href=\"#Introduction\" data-toc-modified-id=\"Introduction-1.1\">Introduction</a></span></li><li><span><a href=\"#Plan\" data-toc-modified-id=\"Plan-1.2\">Plan</a></span></li></ul></li><li><span><a href=\"#1-Data-exploration\" data-toc-modified-id=\"1-Data-exploration-2\">1 Data exploration</a></span><ul class=\"toc-item\"><li><span><a href=\"#Categorical-features\" data-toc-modified-id=\"Categorical-features-2.1\">Categorical features</a></span></li><li><span><a href=\"#Numerical-features\" data-toc-modified-id=\"Numerical-features-2.2\">Numerical features</a></span></li></ul></li><li><span><a href=\"#2-Data-preprocessing\" data-toc-modified-id=\"2-Data-preprocessing-3\">2 Data preprocessing</a></span></li><li><span><a href=\"#3-Model-training\" data-toc-modified-id=\"3-Model-training-4\">3 Model training</a></span><ul class=\"toc-item\"><li><span><a href=\"#Imbalance\" data-toc-modified-id=\"Imbalance-4.1\">Imbalance</a></span></li><li><span><a href=\"#Modelling\" data-toc-modified-id=\"Modelling-4.2\">Modelling</a></span><ul class=\"toc-item\"><li><span><a href=\"#LGBM\" data-toc-modified-id=\"LGBM-4.2.1\">LGBM</a></span></li><li><span><a href=\"#RF\" data-toc-modified-id=\"RF-4.2.2\">RF</a></span></li></ul></li><li><span><a href=\"#Tune-ensemble-weights\" data-toc-modified-id=\"Tune-ensemble-weights-4.3\">Tune ensemble weights</a></span></li><li><span><a href=\"#Get-results-on-test\" data-toc-modified-id=\"Get-results-on-test-4.4\">Get results on test</a></span></li></ul></li><li><span><a href=\"#4-Summary\" data-toc-modified-id=\"4-Summary-5\">4 Summary</a></span></li></ul></div>"
   ]
  },
  {
   "cell_type": "markdown",
   "metadata": {
    "id": "7dmwLGm98h9w"
   },
   "source": [
    "# Description of the project\n",
    "\n",
    "## Introduction\n",
    "\n",
    "In this project, we work with the dataset based on the census data extracted from the 1994 and 1995 current population surveys conducted by the U.S. Census Bureau. Our goal is to predict level of income of a person: \"- 50000\" (means less than \\$50k/year)  or \"50000+\" (means more than \\$50k/year). \n",
    "\n",
    "The description of the data is available here: https://archive.ics.uci.edu/ml/datasets/Census-Income+%28KDD%29\n",
    "\n",
    "_Citation:_\n",
    "\n",
    "* _Dua, D. and Graff, C. (2019). UCI Machine Learning Repository [http://archive.ics.uci.edu/ml]. Irvine, CA: University of California, School of Information and Computer Science._\n",
    "\n",
    "## Plan\n",
    "So, what is going to be done during the project?<br>\n",
    "  - First of all, we are going to explore features, get some business insights from the exploration and help ourselves to develop preprocessing strategy.<br>\n",
    "  - Secondly, we are going to create preprocessing pipeline based on the information about the features that we got earlier.<br>\n",
    "  - Then we are going to try imbalance avoid technique.<br>\n",
    "  - After that comes modelling. We are going to do some grid search for a gradient boosting model and a random forest. For the fitted models we will create very simple stack. <br>\n",
    "  - Finally, we are going to explore feature importance and describe the results. "
   ]
  },
  {
   "cell_type": "code",
   "execution_count": 1,
   "metadata": {
    "ExecuteTime": {
     "end_time": "2021-04-28T10:17:07.366853Z",
     "start_time": "2021-04-28T10:17:05.054223Z"
    }
   },
   "outputs": [],
   "source": [
    "%load_ext autoreload\n",
    "%autoreload 2\n",
    "\n",
    "import helper as hlp\n",
    "import matplotlib.pyplot as plt\n",
    "import numpy as np\n",
    "import pandas as pd\n",
    "import seaborn as sns\n",
    "\n",
    "from imblearn.over_sampling import SMOTE\n",
    "from pandas_profiling import ProfileReport\n",
    "from sklearn.compose import ColumnTransformer\n",
    "from sklearn.decomposition import PCA\n",
    "from sklearn.ensemble import RandomForestClassifier\n",
    "from sklearn.impute import SimpleImputer\n",
    "from sklearn.manifold import TSNE\n",
    "from sklearn.model_selection import train_test_split, GridSearchCV\n",
    "from sklearn.pipeline import Pipeline\n",
    "from sklearn.preprocessing import OneHotEncoder, StandardScaler, FunctionTransformer\n",
    "\n",
    "from lightgbm import LGBMClassifier, plot_importance\n",
    "\n",
    "%matplotlib inline\n",
    "sns.set()\n",
    "\n",
    "from sklearn import set_config\n",
    "set_config(display='diagram')"
   ]
  },
  {
   "cell_type": "markdown",
   "metadata": {},
   "source": [
    "# 1 Data exploration"
   ]
  },
  {
   "cell_type": "code",
   "execution_count": 2,
   "metadata": {
    "ExecuteTime": {
     "end_time": "2021-04-28T10:17:07.820174Z",
     "start_time": "2021-04-28T10:17:07.368856Z"
    }
   },
   "outputs": [],
   "source": [
    "train = pd.read_csv('train.csv')\n",
    "test = pd.read_csv('test.csv')"
   ]
  },
  {
   "cell_type": "code",
   "execution_count": 3,
   "metadata": {
    "ExecuteTime": {
     "end_time": "2021-04-28T10:17:08.015311Z",
     "start_time": "2021-04-28T10:17:07.822176Z"
    }
   },
   "outputs": [
    {
     "data": {
      "text/html": [
       "<div>\n",
       "<style scoped>\n",
       "    .dataframe tbody tr th:only-of-type {\n",
       "        vertical-align: middle;\n",
       "    }\n",
       "\n",
       "    .dataframe tbody tr th {\n",
       "        vertical-align: top;\n",
       "    }\n",
       "\n",
       "    .dataframe thead th {\n",
       "        text-align: right;\n",
       "    }\n",
       "</style>\n",
       "<table border=\"1\" class=\"dataframe\">\n",
       "  <thead>\n",
       "    <tr style=\"text-align: right;\">\n",
       "      <th></th>\n",
       "      <th>AAGE</th>\n",
       "      <th>ACLSWKR</th>\n",
       "      <th>ADTIND</th>\n",
       "      <th>ADTOCC</th>\n",
       "      <th>AHGA</th>\n",
       "      <th>AHRSPAY</th>\n",
       "      <th>AHSCOL</th>\n",
       "      <th>AMARITL</th>\n",
       "      <th>AMJIND</th>\n",
       "      <th>AMJOCC</th>\n",
       "      <th>...</th>\n",
       "      <th>PARENT</th>\n",
       "      <th>PEFNTVTY</th>\n",
       "      <th>PEMNTVTY</th>\n",
       "      <th>PENATVTY</th>\n",
       "      <th>PRCITSHP</th>\n",
       "      <th>SEOTR</th>\n",
       "      <th>VETQVA</th>\n",
       "      <th>VETYN</th>\n",
       "      <th>WKSWORK</th>\n",
       "      <th>target</th>\n",
       "    </tr>\n",
       "  </thead>\n",
       "  <tbody>\n",
       "    <tr>\n",
       "      <th>0</th>\n",
       "      <td>30</td>\n",
       "      <td>Self-employed-incorporated</td>\n",
       "      <td>39</td>\n",
       "      <td>32</td>\n",
       "      <td>High school graduate</td>\n",
       "      <td>0</td>\n",
       "      <td>Not in universe</td>\n",
       "      <td>Divorced</td>\n",
       "      <td>Personal services except private HH</td>\n",
       "      <td>Other service</td>\n",
       "      <td>...</td>\n",
       "      <td>Not in universe</td>\n",
       "      <td>Greece</td>\n",
       "      <td>England</td>\n",
       "      <td>United-States</td>\n",
       "      <td>Native- Born in the United States</td>\n",
       "      <td>0</td>\n",
       "      <td>Not in universe</td>\n",
       "      <td>2</td>\n",
       "      <td>52</td>\n",
       "      <td>- 50000.</td>\n",
       "    </tr>\n",
       "    <tr>\n",
       "      <th>1</th>\n",
       "      <td>7</td>\n",
       "      <td>Not in universe</td>\n",
       "      <td>0</td>\n",
       "      <td>0</td>\n",
       "      <td>Children</td>\n",
       "      <td>0</td>\n",
       "      <td>Not in universe</td>\n",
       "      <td>Never married</td>\n",
       "      <td>Not in universe or children</td>\n",
       "      <td>Not in universe</td>\n",
       "      <td>...</td>\n",
       "      <td>Both parents present</td>\n",
       "      <td>Mexico</td>\n",
       "      <td>Mexico</td>\n",
       "      <td>Mexico</td>\n",
       "      <td>Foreign born- Not a citizen of U S</td>\n",
       "      <td>0</td>\n",
       "      <td>Not in universe</td>\n",
       "      <td>0</td>\n",
       "      <td>0</td>\n",
       "      <td>- 50000.</td>\n",
       "    </tr>\n",
       "    <tr>\n",
       "      <th>2</th>\n",
       "      <td>26</td>\n",
       "      <td>Private</td>\n",
       "      <td>2</td>\n",
       "      <td>44</td>\n",
       "      <td>11th grade</td>\n",
       "      <td>0</td>\n",
       "      <td>Not in universe</td>\n",
       "      <td>Never married</td>\n",
       "      <td>Agriculture</td>\n",
       "      <td>Farming forestry and fishing</td>\n",
       "      <td>...</td>\n",
       "      <td>Not in universe</td>\n",
       "      <td>United-States</td>\n",
       "      <td>United-States</td>\n",
       "      <td>United-States</td>\n",
       "      <td>Native- Born in the United States</td>\n",
       "      <td>0</td>\n",
       "      <td>Not in universe</td>\n",
       "      <td>2</td>\n",
       "      <td>52</td>\n",
       "      <td>- 50000.</td>\n",
       "    </tr>\n",
       "    <tr>\n",
       "      <th>3</th>\n",
       "      <td>47</td>\n",
       "      <td>Private</td>\n",
       "      <td>45</td>\n",
       "      <td>23</td>\n",
       "      <td>Some college but no degree</td>\n",
       "      <td>0</td>\n",
       "      <td>Not in universe</td>\n",
       "      <td>Married-civilian spouse present</td>\n",
       "      <td>Other professional services</td>\n",
       "      <td>Adm support including clerical</td>\n",
       "      <td>...</td>\n",
       "      <td>Not in universe</td>\n",
       "      <td>United-States</td>\n",
       "      <td>United-States</td>\n",
       "      <td>United-States</td>\n",
       "      <td>Native- Born in the United States</td>\n",
       "      <td>0</td>\n",
       "      <td>Not in universe</td>\n",
       "      <td>2</td>\n",
       "      <td>52</td>\n",
       "      <td>- 50000.</td>\n",
       "    </tr>\n",
       "    <tr>\n",
       "      <th>4</th>\n",
       "      <td>29</td>\n",
       "      <td>Private</td>\n",
       "      <td>4</td>\n",
       "      <td>23</td>\n",
       "      <td>High school graduate</td>\n",
       "      <td>0</td>\n",
       "      <td>Not in universe</td>\n",
       "      <td>Married-civilian spouse present</td>\n",
       "      <td>Construction</td>\n",
       "      <td>Adm support including clerical</td>\n",
       "      <td>...</td>\n",
       "      <td>Not in universe</td>\n",
       "      <td>United-States</td>\n",
       "      <td>United-States</td>\n",
       "      <td>United-States</td>\n",
       "      <td>Native- Born in the United States</td>\n",
       "      <td>0</td>\n",
       "      <td>Not in universe</td>\n",
       "      <td>2</td>\n",
       "      <td>52</td>\n",
       "      <td>- 50000.</td>\n",
       "    </tr>\n",
       "  </tbody>\n",
       "</table>\n",
       "<p>5 rows × 40 columns</p>\n",
       "</div>"
      ],
      "text/plain": [
       "   AAGE                      ACLSWKR  ADTIND  ADTOCC  \\\n",
       "0    30   Self-employed-incorporated      39      32   \n",
       "1     7              Not in universe       0       0   \n",
       "2    26                      Private       2      44   \n",
       "3    47                      Private      45      23   \n",
       "4    29                      Private       4      23   \n",
       "\n",
       "                          AHGA  AHRSPAY            AHSCOL  \\\n",
       "0         High school graduate        0   Not in universe   \n",
       "1                     Children        0   Not in universe   \n",
       "2                   11th grade        0   Not in universe   \n",
       "3   Some college but no degree        0   Not in universe   \n",
       "4         High school graduate        0   Not in universe   \n",
       "\n",
       "                            AMARITL                                AMJIND  \\\n",
       "0                          Divorced   Personal services except private HH   \n",
       "1                     Never married           Not in universe or children   \n",
       "2                     Never married                           Agriculture   \n",
       "3   Married-civilian spouse present           Other professional services   \n",
       "4   Married-civilian spouse present                          Construction   \n",
       "\n",
       "                            AMJOCC  ...                 PARENT  \\\n",
       "0                    Other service  ...        Not in universe   \n",
       "1                  Not in universe  ...   Both parents present   \n",
       "2     Farming forestry and fishing  ...        Not in universe   \n",
       "3   Adm support including clerical  ...        Not in universe   \n",
       "4   Adm support including clerical  ...        Not in universe   \n",
       "\n",
       "         PEFNTVTY        PEMNTVTY        PENATVTY  \\\n",
       "0          Greece         England   United-States   \n",
       "1          Mexico          Mexico          Mexico   \n",
       "2   United-States   United-States   United-States   \n",
       "3   United-States   United-States   United-States   \n",
       "4   United-States   United-States   United-States   \n",
       "\n",
       "                               PRCITSHP SEOTR            VETQVA  VETYN  \\\n",
       "0     Native- Born in the United States     0   Not in universe      2   \n",
       "1   Foreign born- Not a citizen of U S      0   Not in universe      0   \n",
       "2     Native- Born in the United States     0   Not in universe      2   \n",
       "3     Native- Born in the United States     0   Not in universe      2   \n",
       "4     Native- Born in the United States     0   Not in universe      2   \n",
       "\n",
       "   WKSWORK     target  \n",
       "0       52   - 50000.  \n",
       "1        0   - 50000.  \n",
       "2       52   - 50000.  \n",
       "3       52   - 50000.  \n",
       "4       52   - 50000.  \n",
       "\n",
       "[5 rows x 40 columns]"
      ]
     },
     "execution_count": 3,
     "metadata": {},
     "output_type": "execute_result"
    }
   ],
   "source": [
    "train.head()"
   ]
  },
  {
   "cell_type": "code",
   "execution_count": 4,
   "metadata": {
    "ExecuteTime": {
     "end_time": "2021-04-28T10:17:08.329533Z",
     "start_time": "2021-04-28T10:17:08.017313Z"
    }
   },
   "outputs": [
    {
     "name": "stdout",
     "output_type": "stream",
     "text": [
      "<class 'pandas.core.frame.DataFrame'>\n",
      "RangeIndex: 20000 entries, 0 to 19999\n",
      "Data columns (total 40 columns):\n",
      " #   Column    Non-Null Count  Dtype \n",
      "---  ------    --------------  ----- \n",
      " 0   AAGE      20000 non-null  int64 \n",
      " 1   ACLSWKR   20000 non-null  object\n",
      " 2   ADTIND    20000 non-null  int64 \n",
      " 3   ADTOCC    20000 non-null  int64 \n",
      " 4   AHGA      20000 non-null  object\n",
      " 5   AHRSPAY   20000 non-null  int64 \n",
      " 6   AHSCOL    20000 non-null  object\n",
      " 7   AMARITL   20000 non-null  object\n",
      " 8   AMJIND    20000 non-null  object\n",
      " 9   AMJOCC    20000 non-null  object\n",
      " 10  ARACE     20000 non-null  object\n",
      " 11  AREORGN   20000 non-null  object\n",
      " 12  ASEX      20000 non-null  object\n",
      " 13  AUNMEM    20000 non-null  object\n",
      " 14  AUNTYPE   20000 non-null  object\n",
      " 15  AWKSTAT   20000 non-null  object\n",
      " 16  CAPGAIN   20000 non-null  int64 \n",
      " 17  CAPLOSS   20000 non-null  int64 \n",
      " 18  DIVVAL    20000 non-null  int64 \n",
      " 19  FILESTAT  20000 non-null  object\n",
      " 20  GRINREG   20000 non-null  object\n",
      " 21  GRINST    20000 non-null  object\n",
      " 22  HHDFMX    20000 non-null  object\n",
      " 23  HHDREL    20000 non-null  object\n",
      " 24  MIGMTR1   20000 non-null  object\n",
      " 25  MIGMTR3   20000 non-null  object\n",
      " 26  MIGMTR4   20000 non-null  object\n",
      " 27  MIGSAME   20000 non-null  object\n",
      " 28  MIGSUN    20000 non-null  object\n",
      " 29  NOEMP     20000 non-null  int64 \n",
      " 30  PARENT    20000 non-null  object\n",
      " 31  PEFNTVTY  20000 non-null  object\n",
      " 32  PEMNTVTY  20000 non-null  object\n",
      " 33  PENATVTY  20000 non-null  object\n",
      " 34  PRCITSHP  20000 non-null  object\n",
      " 35  SEOTR     20000 non-null  int64 \n",
      " 36  VETQVA    20000 non-null  object\n",
      " 37  VETYN     20000 non-null  int64 \n",
      " 38  WKSWORK   20000 non-null  int64 \n",
      " 39  target    20000 non-null  object\n",
      "dtypes: int64(11), object(29)\n",
      "memory usage: 6.1+ MB\n"
     ]
    }
   ],
   "source": [
    "# Features types.\n",
    "train.info()"
   ]
  },
  {
   "cell_type": "markdown",
   "metadata": {},
   "source": [
    "We can see that we have either integer or categorical features. Let's devide them into 2 lists for feature convenience."
   ]
  },
  {
   "cell_type": "code",
   "execution_count": 5,
   "metadata": {
    "ExecuteTime": {
     "end_time": "2021-04-28T10:17:08.518666Z",
     "start_time": "2021-04-28T10:17:08.331534Z"
    }
   },
   "outputs": [],
   "source": [
    "# Devide features into numerical and categorical.\n",
    "cat_fs = []\n",
    "num_fs = []\n",
    "for feature, f_type in train.dtypes.to_dict().items():\n",
    "    if feature != 'target':\n",
    "        if f_type == 'object':\n",
    "            cat_fs.append(feature)\n",
    "        else:\n",
    "            num_fs.append(feature)"
   ]
  },
  {
   "cell_type": "code",
   "execution_count": 6,
   "metadata": {
    "ExecuteTime": {
     "end_time": "2021-04-28T10:17:08.797864Z",
     "start_time": "2021-04-28T10:17:08.520667Z"
    }
   },
   "outputs": [
    {
     "data": {
      "text/html": [
       "<div>\n",
       "<style scoped>\n",
       "    .dataframe tbody tr th:only-of-type {\n",
       "        vertical-align: middle;\n",
       "    }\n",
       "\n",
       "    .dataframe tbody tr th {\n",
       "        vertical-align: top;\n",
       "    }\n",
       "\n",
       "    .dataframe thead th {\n",
       "        text-align: right;\n",
       "    }\n",
       "</style>\n",
       "<table border=\"1\" class=\"dataframe\">\n",
       "  <thead>\n",
       "    <tr style=\"text-align: right;\">\n",
       "      <th></th>\n",
       "      <th>AAGE</th>\n",
       "      <th>ADTIND</th>\n",
       "      <th>ADTOCC</th>\n",
       "      <th>AHRSPAY</th>\n",
       "      <th>CAPGAIN</th>\n",
       "      <th>CAPLOSS</th>\n",
       "      <th>DIVVAL</th>\n",
       "      <th>NOEMP</th>\n",
       "      <th>SEOTR</th>\n",
       "      <th>VETYN</th>\n",
       "      <th>WKSWORK</th>\n",
       "    </tr>\n",
       "  </thead>\n",
       "  <tbody>\n",
       "    <tr>\n",
       "      <th>count</th>\n",
       "      <td>20000.000000</td>\n",
       "      <td>20000.00000</td>\n",
       "      <td>20000.000000</td>\n",
       "      <td>20000.000000</td>\n",
       "      <td>20000.000000</td>\n",
       "      <td>20000.000000</td>\n",
       "      <td>20000.00000</td>\n",
       "      <td>20000.000000</td>\n",
       "      <td>20000.000000</td>\n",
       "      <td>20000.00000</td>\n",
       "      <td>20000.000000</td>\n",
       "    </tr>\n",
       "    <tr>\n",
       "      <th>mean</th>\n",
       "      <td>34.311650</td>\n",
       "      <td>15.06725</td>\n",
       "      <td>11.198000</td>\n",
       "      <td>57.491600</td>\n",
       "      <td>446.020700</td>\n",
       "      <td>38.419400</td>\n",
       "      <td>190.14890</td>\n",
       "      <td>1.937100</td>\n",
       "      <td>0.169550</td>\n",
       "      <td>1.51040</td>\n",
       "      <td>22.936100</td>\n",
       "    </tr>\n",
       "    <tr>\n",
       "      <th>std</th>\n",
       "      <td>22.282696</td>\n",
       "      <td>17.95761</td>\n",
       "      <td>14.423228</td>\n",
       "      <td>291.888256</td>\n",
       "      <td>4653.231295</td>\n",
       "      <td>274.692375</td>\n",
       "      <td>1888.16004</td>\n",
       "      <td>2.362165</td>\n",
       "      <td>0.546276</td>\n",
       "      <td>0.85389</td>\n",
       "      <td>24.415192</td>\n",
       "    </tr>\n",
       "    <tr>\n",
       "      <th>min</th>\n",
       "      <td>0.000000</td>\n",
       "      <td>0.00000</td>\n",
       "      <td>0.000000</td>\n",
       "      <td>0.000000</td>\n",
       "      <td>0.000000</td>\n",
       "      <td>0.000000</td>\n",
       "      <td>0.00000</td>\n",
       "      <td>0.000000</td>\n",
       "      <td>0.000000</td>\n",
       "      <td>0.00000</td>\n",
       "      <td>0.000000</td>\n",
       "    </tr>\n",
       "    <tr>\n",
       "      <th>25%</th>\n",
       "      <td>15.000000</td>\n",
       "      <td>0.00000</td>\n",
       "      <td>0.000000</td>\n",
       "      <td>0.000000</td>\n",
       "      <td>0.000000</td>\n",
       "      <td>0.000000</td>\n",
       "      <td>0.00000</td>\n",
       "      <td>0.000000</td>\n",
       "      <td>0.000000</td>\n",
       "      <td>1.75000</td>\n",
       "      <td>0.000000</td>\n",
       "    </tr>\n",
       "    <tr>\n",
       "      <th>50%</th>\n",
       "      <td>33.000000</td>\n",
       "      <td>0.00000</td>\n",
       "      <td>0.000000</td>\n",
       "      <td>0.000000</td>\n",
       "      <td>0.000000</td>\n",
       "      <td>0.000000</td>\n",
       "      <td>0.00000</td>\n",
       "      <td>1.000000</td>\n",
       "      <td>0.000000</td>\n",
       "      <td>2.00000</td>\n",
       "      <td>6.000000</td>\n",
       "    </tr>\n",
       "    <tr>\n",
       "      <th>75%</th>\n",
       "      <td>50.000000</td>\n",
       "      <td>33.00000</td>\n",
       "      <td>26.000000</td>\n",
       "      <td>0.000000</td>\n",
       "      <td>0.000000</td>\n",
       "      <td>0.000000</td>\n",
       "      <td>0.00000</td>\n",
       "      <td>4.000000</td>\n",
       "      <td>0.000000</td>\n",
       "      <td>2.00000</td>\n",
       "      <td>52.000000</td>\n",
       "    </tr>\n",
       "    <tr>\n",
       "      <th>max</th>\n",
       "      <td>90.000000</td>\n",
       "      <td>51.00000</td>\n",
       "      <td>46.000000</td>\n",
       "      <td>9916.000000</td>\n",
       "      <td>99999.000000</td>\n",
       "      <td>4356.000000</td>\n",
       "      <td>99999.00000</td>\n",
       "      <td>6.000000</td>\n",
       "      <td>2.000000</td>\n",
       "      <td>2.00000</td>\n",
       "      <td>52.000000</td>\n",
       "    </tr>\n",
       "  </tbody>\n",
       "</table>\n",
       "</div>"
      ],
      "text/plain": [
       "               AAGE       ADTIND        ADTOCC       AHRSPAY       CAPGAIN  \\\n",
       "count  20000.000000  20000.00000  20000.000000  20000.000000  20000.000000   \n",
       "mean      34.311650     15.06725     11.198000     57.491600    446.020700   \n",
       "std       22.282696     17.95761     14.423228    291.888256   4653.231295   \n",
       "min        0.000000      0.00000      0.000000      0.000000      0.000000   \n",
       "25%       15.000000      0.00000      0.000000      0.000000      0.000000   \n",
       "50%       33.000000      0.00000      0.000000      0.000000      0.000000   \n",
       "75%       50.000000     33.00000     26.000000      0.000000      0.000000   \n",
       "max       90.000000     51.00000     46.000000   9916.000000  99999.000000   \n",
       "\n",
       "            CAPLOSS       DIVVAL         NOEMP         SEOTR        VETYN  \\\n",
       "count  20000.000000  20000.00000  20000.000000  20000.000000  20000.00000   \n",
       "mean      38.419400    190.14890      1.937100      0.169550      1.51040   \n",
       "std      274.692375   1888.16004      2.362165      0.546276      0.85389   \n",
       "min        0.000000      0.00000      0.000000      0.000000      0.00000   \n",
       "25%        0.000000      0.00000      0.000000      0.000000      1.75000   \n",
       "50%        0.000000      0.00000      1.000000      0.000000      2.00000   \n",
       "75%        0.000000      0.00000      4.000000      0.000000      2.00000   \n",
       "max     4356.000000  99999.00000      6.000000      2.000000      2.00000   \n",
       "\n",
       "            WKSWORK  \n",
       "count  20000.000000  \n",
       "mean      22.936100  \n",
       "std       24.415192  \n",
       "min        0.000000  \n",
       "25%        0.000000  \n",
       "50%        6.000000  \n",
       "75%       52.000000  \n",
       "max       52.000000  "
      ]
     },
     "execution_count": 6,
     "metadata": {},
     "output_type": "execute_result"
    }
   ],
   "source": [
    "# Basic statistics for numerical features.\n",
    "train.describe()"
   ]
  },
  {
   "cell_type": "code",
   "execution_count": 7,
   "metadata": {
    "ExecuteTime": {
     "end_time": "2021-04-28T10:17:09.303235Z",
     "start_time": "2021-04-28T10:17:08.799864Z"
    }
   },
   "outputs": [],
   "source": [
    "# Strip whitespaces from categotical columns\n",
    "for col in cat_fs:\n",
    "    train[col] = train[col].str.strip()\n",
    "    test[col] = test[col].str.strip()"
   ]
  },
  {
   "cell_type": "code",
   "execution_count": 8,
   "metadata": {
    "ExecuteTime": {
     "end_time": "2021-04-28T10:17:09.511367Z",
     "start_time": "2021-04-28T10:17:09.306221Z"
    }
   },
   "outputs": [],
   "source": [
    "# Devide data into features and target.\n",
    "Y = train['target'].copy()\n",
    "X = train.drop('target', axis=1).copy()\n",
    "del train"
   ]
  },
  {
   "cell_type": "code",
   "execution_count": 9,
   "metadata": {
    "ExecuteTime": {
     "end_time": "2021-04-28T10:17:09.729520Z",
     "start_time": "2021-04-28T10:17:09.514368Z"
    }
   },
   "outputs": [
    {
     "name": "stdout",
     "output_type": "stream",
     "text": [
      "Train size: 16000 \n",
      "Validation size: 4000 \n",
      "Test size: 10000\n"
     ]
    }
   ],
   "source": [
    "# Devide data into train, validation and test\n",
    "X_train, X_val, y_train, y_val = train_test_split(X, Y, test_size=0.2, stratify=Y, random_state=42)\n",
    "\n",
    "print(f'Train size: {X_train.shape[0]} \\nValidation size: {X_val.shape[0]} \\nTest size: {test.shape[0]}')"
   ]
  },
  {
   "cell_type": "code",
   "execution_count": 10,
   "metadata": {
    "ExecuteTime": {
     "end_time": "2021-04-28T10:17:10.177837Z",
     "start_time": "2021-04-28T10:17:09.731523Z"
    }
   },
   "outputs": [
    {
     "data": {
      "image/png": "[encoded data removed]",
      "text/plain": [
       "<Figure size 1080x360 with 2 Axes>"
      ]
     },
     "metadata": {},
     "output_type": "display_data"
    }
   ],
   "source": [
    "# Plot target distribution.\n",
    "fig, ax = plt.subplots(figsize=(15, 5), ncols=2, nrows=1, sharex=True)\n",
    "\n",
    "sns.countplot(x=Y, palette='Spectral', ax=ax[0])\n",
    "ax[0].set_xticklabels(['<50.000', '>=50.000'])\n",
    "ax[0].set_title('Train')\n",
    "\n",
    "sns.countplot(x=test['target'], palette='Spectral', ax=ax[1])\n",
    "ax[1].set_xticklabels(['<50.000', '>=50.000'])\n",
    "ax[1].set_title('Test')\n",
    "\n",
    "plt.suptitle('Target distribution')\n",
    "plt.show()"
   ]
  },
  {
   "cell_type": "markdown",
   "metadata": {},
   "source": [
    "We can see that the target is highly imbalanced. Which is why we need stratification during splitting data into train and validation and during the validation process itself. <br> Besides, let's think about metrics in advance also. For our task we want to correctly predict both, TN and TP, so we need some metric that also considers TN(not all of them do). So we can choose simple balanced accuracy and MCC to check for qualities of the models. Balanced accuracy is just a mean on precision of both classes. MCC is a difference between geometric means of precision and recall of both classes. <br> Finally, we will plot classification report for better understanding model results .<br>\n",
    "Also we are going to try some imbalance preventing techniques during preprocessing and training. "
   ]
  },
  {
   "cell_type": "markdown",
   "metadata": {},
   "source": [
    "## Categorical features"
   ]
  },
  {
   "cell_type": "code",
   "execution_count": 11,
   "metadata": {
    "ExecuteTime": {
     "end_time": "2021-04-28T10:17:10.397991Z",
     "start_time": "2021-04-28T10:17:10.179838Z"
    }
   },
   "outputs": [
    {
     "data": {
      "text/html": [
       "<div>\n",
       "<style scoped>\n",
       "    .dataframe tbody tr th:only-of-type {\n",
       "        vertical-align: middle;\n",
       "    }\n",
       "\n",
       "    .dataframe tbody tr th {\n",
       "        vertical-align: top;\n",
       "    }\n",
       "\n",
       "    .dataframe thead th {\n",
       "        text-align: right;\n",
       "    }\n",
       "</style>\n",
       "<table border=\"1\" class=\"dataframe\">\n",
       "  <thead>\n",
       "    <tr style=\"text-align: right;\">\n",
       "      <th></th>\n",
       "      <th>ACLSWKR</th>\n",
       "      <th>AHGA</th>\n",
       "      <th>AHSCOL</th>\n",
       "      <th>AMARITL</th>\n",
       "      <th>AMJIND</th>\n",
       "      <th>AMJOCC</th>\n",
       "      <th>ARACE</th>\n",
       "      <th>AREORGN</th>\n",
       "      <th>ASEX</th>\n",
       "      <th>AUNMEM</th>\n",
       "      <th>...</th>\n",
       "      <th>MIGMTR3</th>\n",
       "      <th>MIGMTR4</th>\n",
       "      <th>MIGSAME</th>\n",
       "      <th>MIGSUN</th>\n",
       "      <th>PARENT</th>\n",
       "      <th>PEFNTVTY</th>\n",
       "      <th>PEMNTVTY</th>\n",
       "      <th>PENATVTY</th>\n",
       "      <th>PRCITSHP</th>\n",
       "      <th>VETQVA</th>\n",
       "    </tr>\n",
       "  </thead>\n",
       "  <tbody>\n",
       "    <tr>\n",
       "      <th>0</th>\n",
       "      <td>Self-employed-incorporated</td>\n",
       "      <td>High school graduate</td>\n",
       "      <td>Not in universe</td>\n",
       "      <td>Divorced</td>\n",
       "      <td>Personal services except private HH</td>\n",
       "      <td>Other service</td>\n",
       "      <td>White</td>\n",
       "      <td>All other</td>\n",
       "      <td>Female</td>\n",
       "      <td>Not in universe</td>\n",
       "      <td>...</td>\n",
       "      <td>Different state same division</td>\n",
       "      <td>Different state in South</td>\n",
       "      <td>No</td>\n",
       "      <td>No</td>\n",
       "      <td>Not in universe</td>\n",
       "      <td>Greece</td>\n",
       "      <td>England</td>\n",
       "      <td>United-States</td>\n",
       "      <td>Native- Born in the United States</td>\n",
       "      <td>Not in universe</td>\n",
       "    </tr>\n",
       "    <tr>\n",
       "      <th>1</th>\n",
       "      <td>Not in universe</td>\n",
       "      <td>Children</td>\n",
       "      <td>Not in universe</td>\n",
       "      <td>Never married</td>\n",
       "      <td>Not in universe or children</td>\n",
       "      <td>Not in universe</td>\n",
       "      <td>White</td>\n",
       "      <td>Mexican (Mexicano)</td>\n",
       "      <td>Male</td>\n",
       "      <td>Not in universe</td>\n",
       "      <td>...</td>\n",
       "      <td>Nonmover</td>\n",
       "      <td>Nonmover</td>\n",
       "      <td>Yes</td>\n",
       "      <td>Not in universe</td>\n",
       "      <td>Both parents present</td>\n",
       "      <td>Mexico</td>\n",
       "      <td>Mexico</td>\n",
       "      <td>Mexico</td>\n",
       "      <td>Foreign born- Not a citizen of U S</td>\n",
       "      <td>Not in universe</td>\n",
       "    </tr>\n",
       "    <tr>\n",
       "      <th>2</th>\n",
       "      <td>Private</td>\n",
       "      <td>11th grade</td>\n",
       "      <td>Not in universe</td>\n",
       "      <td>Never married</td>\n",
       "      <td>Agriculture</td>\n",
       "      <td>Farming forestry and fishing</td>\n",
       "      <td>White</td>\n",
       "      <td>All other</td>\n",
       "      <td>Male</td>\n",
       "      <td>Not in universe</td>\n",
       "      <td>...</td>\n",
       "      <td>Nonmover</td>\n",
       "      <td>Nonmover</td>\n",
       "      <td>Yes</td>\n",
       "      <td>Not in universe</td>\n",
       "      <td>Not in universe</td>\n",
       "      <td>United-States</td>\n",
       "      <td>United-States</td>\n",
       "      <td>United-States</td>\n",
       "      <td>Native- Born in the United States</td>\n",
       "      <td>Not in universe</td>\n",
       "    </tr>\n",
       "  </tbody>\n",
       "</table>\n",
       "<p>3 rows × 28 columns</p>\n",
       "</div>"
      ],
      "text/plain": [
       "                      ACLSWKR                  AHGA           AHSCOL  \\\n",
       "0  Self-employed-incorporated  High school graduate  Not in universe   \n",
       "1             Not in universe              Children  Not in universe   \n",
       "2                     Private            11th grade  Not in universe   \n",
       "\n",
       "         AMARITL                               AMJIND  \\\n",
       "0       Divorced  Personal services except private HH   \n",
       "1  Never married          Not in universe or children   \n",
       "2  Never married                          Agriculture   \n",
       "\n",
       "                         AMJOCC  ARACE             AREORGN    ASEX  \\\n",
       "0                 Other service  White           All other  Female   \n",
       "1               Not in universe  White  Mexican (Mexicano)    Male   \n",
       "2  Farming forestry and fishing  White           All other    Male   \n",
       "\n",
       "            AUNMEM  ...                        MIGMTR3  \\\n",
       "0  Not in universe  ...  Different state same division   \n",
       "1  Not in universe  ...                       Nonmover   \n",
       "2  Not in universe  ...                       Nonmover   \n",
       "\n",
       "                    MIGMTR4 MIGSAME           MIGSUN                PARENT  \\\n",
       "0  Different state in South      No               No       Not in universe   \n",
       "1                  Nonmover     Yes  Not in universe  Both parents present   \n",
       "2                  Nonmover     Yes  Not in universe       Not in universe   \n",
       "\n",
       "        PEFNTVTY       PEMNTVTY       PENATVTY  \\\n",
       "0         Greece        England  United-States   \n",
       "1         Mexico         Mexico         Mexico   \n",
       "2  United-States  United-States  United-States   \n",
       "\n",
       "                             PRCITSHP           VETQVA  \n",
       "0   Native- Born in the United States  Not in universe  \n",
       "1  Foreign born- Not a citizen of U S  Not in universe  \n",
       "2   Native- Born in the United States  Not in universe  \n",
       "\n",
       "[3 rows x 28 columns]"
      ]
     },
     "execution_count": 11,
     "metadata": {},
     "output_type": "execute_result"
    }
   ],
   "source": [
    "X[cat_fs].head(3)"
   ]
  },
  {
   "cell_type": "markdown",
   "metadata": {},
   "source": [
    "There are no None values in the datset, however we can see '?' which we assume equals the same. There is also 'Not in universe' value, which means that some particular feature can't be considered for the observed person."
   ]
  },
  {
   "cell_type": "code",
   "execution_count": 12,
   "metadata": {
    "ExecuteTime": {
     "end_time": "2021-04-28T10:17:10.849309Z",
     "start_time": "2021-04-28T10:17:10.398991Z"
    }
   },
   "outputs": [
    {
     "data": {
      "text/plain": [
       "ACLSWKR      0.000\n",
       "AHGA         0.000\n",
       "AHSCOL       0.000\n",
       "AMARITL      0.000\n",
       "AMJIND       0.000\n",
       "AMJOCC       0.000\n",
       "ARACE        0.000\n",
       "AREORGN      0.000\n",
       "ASEX         0.000\n",
       "AUNMEM       0.000\n",
       "AUNTYPE      0.000\n",
       "AWKSTAT      0.000\n",
       "FILESTAT     0.000\n",
       "GRINREG      0.000\n",
       "GRINST       0.370\n",
       "HHDFMX       0.000\n",
       "HHDREL       0.000\n",
       "MIGMTR1     50.180\n",
       "MIGMTR3     50.180\n",
       "MIGMTR4     50.180\n",
       "MIGSAME      0.000\n",
       "MIGSUN      50.180\n",
       "PARENT       0.000\n",
       "PEFNTVTY     3.235\n",
       "PEMNTVTY     3.065\n",
       "PENATVTY     1.705\n",
       "PRCITSHP     0.000\n",
       "VETQVA       0.000\n",
       "dtype: float64"
      ]
     },
     "execution_count": 12,
     "metadata": {},
     "output_type": "execute_result"
    }
   ],
   "source": [
    "X[cat_fs].replace({'?' : None}).isna().sum() / X[cat_fs].shape[0]*100"
   ]
  },
  {
   "cell_type": "markdown",
   "metadata": {},
   "source": [
    "Features with about 50% of missing values can't be properly preprocessed, an attempt to fill in the missing values will generate ambiguity, so we are going to drop these columns."
   ]
  },
  {
   "cell_type": "code",
   "execution_count": 13,
   "metadata": {
    "ExecuteTime": {
     "end_time": "2021-04-28T10:17:11.209563Z",
     "start_time": "2021-04-28T10:17:10.851310Z"
    }
   },
   "outputs": [
    {
     "name": "stderr",
     "output_type": "stream",
     "text": [
      "C:\\Anaconda3\\envs\\ds37\\lib\\site-packages\\pandas\\core\\frame.py:3990: SettingWithCopyWarning: \n",
      "A value is trying to be set on a copy of a slice from a DataFrame\n",
      "\n",
      "See the caveats in the documentation: https://pandas.pydata.org/pandas-docs/stable/user_guide/indexing.html#returning-a-view-versus-a-copy\n",
      "  return super().drop(\n"
     ]
    }
   ],
   "source": [
    "cols_to_remove = ['MIGMTR1', 'MIGMTR3', 'MIGMTR4']\n",
    "hlp.remove_features(cols_to_remove, [X_train, X_val, test])\n",
    "for col in cols_to_remove:\n",
    "    cat_fs.remove(col)"
   ]
  },
  {
   "cell_type": "markdown",
   "metadata": {},
   "source": [
    "For the rest of the columns with empty values the empty value sratio is quite low, so we can just use simple mean imputing technic."
   ]
  },
  {
   "cell_type": "markdown",
   "metadata": {},
   "source": [
    "Now, let's take a look on the categorical features distribution to define best encoding strategies."
   ]
  },
  {
   "cell_type": "code",
   "execution_count": 14,
   "metadata": {
    "ExecuteTime": {
     "end_time": "2021-04-28T10:17:15.775782Z",
     "start_time": "2021-04-28T10:17:11.212565Z"
    }
   },
   "outputs": [
    {
     "data": {
      "image/png": "[encoded data removed]",
      "text/plain": [
       "<Figure size 1440x1080 with 12 Axes>"
      ]
     },
     "metadata": {},
     "output_type": "display_data"
    }
   ],
   "source": [
    "# Plot numerical features distribuiton\n",
    "fig, ax = plt.subplots(figsize=(20,15), ncols=3, nrows=4)\n",
    "ax = ax.flatten()\n",
    "\n",
    "for ax_i, col in zip(ax, cat_fs):\n",
    "    g = sns.countplot(y=X_train[col], ax=ax_i)\n",
    "    \n",
    "fig.tight_layout()\n",
    "\n",
    "plt.suptitle('Categorical features distribution', y=1)\n",
    "plt.show()"
   ]
  },
  {
   "cell_type": "markdown",
   "metadata": {},
   "source": [
    "First of all, features 'AHSCOL', 'AUNTYPE' and 'AREORGN' are not informative at all, most of values there are 'Not in universe', so we can just remove them."
   ]
  },
  {
   "cell_type": "code",
   "execution_count": 15,
   "metadata": {
    "ExecuteTime": {
     "end_time": "2021-04-28T10:17:16.023958Z",
     "start_time": "2021-04-28T10:17:15.777784Z"
    }
   },
   "outputs": [
    {
     "name": "stderr",
     "output_type": "stream",
     "text": [
      "C:\\Anaconda3\\envs\\ds37\\lib\\site-packages\\pandas\\core\\frame.py:3990: SettingWithCopyWarning: \n",
      "A value is trying to be set on a copy of a slice from a DataFrame\n",
      "\n",
      "See the caveats in the documentation: https://pandas.pydata.org/pandas-docs/stable/user_guide/indexing.html#returning-a-view-versus-a-copy\n",
      "  return super().drop(\n"
     ]
    }
   ],
   "source": [
    "cols_to_remove = ['AHSCOL', 'AUNTYPE','AREORGN'] #, 'AMJIND']\n",
    "hlp.remove_features(cols_to_remove, [X_train, X_val, test])\n",
    "for col in cols_to_remove:\n",
    "    cat_fs.remove(col)"
   ]
  },
  {
   "cell_type": "markdown",
   "metadata": {},
   "source": [
    "Secondly, some features are too diversity, while this devirsification is not informative due to the fact that some classes are poorly presented. So, we are going to merge some classes for 'AWKSTAT', 'AMJOCC', 'AHGA', 'ACLSWKR' based on common sence. The merging scheme is represented below in the dicts, while it will be applied during preprocessing pipeline."
   ]
  },
  {
   "cell_type": "code",
   "execution_count": 16,
   "metadata": {
    "ExecuteTime": {
     "end_time": "2021-04-28T10:17:16.207140Z",
     "start_time": "2021-04-28T10:17:16.026960Z"
    }
   },
   "outputs": [],
   "source": [
    "# AWKSTAT\n",
    "employment_map = {'PT for econ reasons usually FT':'PT',\n",
    " 'PT for econ reasons usually PT': 'PT',\n",
    " 'PT for non-econ reasons usually FT':'PT',\n",
    " 'Unemployed full-time':'Unemployed',\n",
    " 'Unemployed part- time':'Unemployed'\n",
    "}"
   ]
  },
  {
   "cell_type": "code",
   "execution_count": 17,
   "metadata": {
    "ExecuteTime": {
     "end_time": "2021-04-28T10:17:16.362210Z",
     "start_time": "2021-04-28T10:17:16.209088Z"
    }
   },
   "outputs": [],
   "source": [
    "# AMJOCC\n",
    "occupation_map = dict(\n",
    "    zip([\n",
    "        'Private household services', 'Transportation and material moving',\n",
    "        'Farming forestry and fishing', 'Technicians and related support',\n",
    "        'Handlers equip cleaners etc', 'Protective services',\n",
    "        'Armed Forces'\n",
    "    ], ['Other service'] * 7))"
   ]
  },
  {
   "cell_type": "code",
   "execution_count": 18,
   "metadata": {
    "ExecuteTime": {
     "end_time": "2021-04-28T10:17:16.657459Z",
     "start_time": "2021-04-28T10:17:16.363196Z"
    }
   },
   "outputs": [],
   "source": [
    "# AHGA\n",
    "degree_map = {\n",
    "    'Less than 1st grade': '1-6',\n",
    "    '1st 2nd 3rd or 4th grade': '1-6',\n",
    "    '5th or 6th grade': '1-6',\n",
    "    'Prof school degree (MD DDS DVM LLB JD)': 'Prof school or doc',\n",
    "    'Doctorate degree(PhD EdD)': 'Prof school or doc',\n",
    "    '9th grade': '9-12',\n",
    "    '10th grade': '9-12',\n",
    "    '11th grade': '9-12',\n",
    "    '12th grade no diploma': '9-12',\n",
    "}"
   ]
  },
  {
   "cell_type": "code",
   "execution_count": 19,
   "metadata": {
    "ExecuteTime": {
     "end_time": "2021-04-28T10:17:17.062707Z",
     "start_time": "2021-04-28T10:17:16.659406Z"
    }
   },
   "outputs": [],
   "source": [
    "# ACLSWKR\n",
    "class_map = {\n",
    "    'Local government': 'Government',\n",
    "    'Federal government': 'Government',\n",
    "    'State government': 'Government',\n",
    "    'Self-employed-incorporated': 'Self-employed',\n",
    "    'Self-employed-not incorporated': 'Self-employed',\n",
    "    'Never worked': 'Other',\n",
    "    'Without pay': 'Other'\n",
    "}"
   ]
  },
  {
   "cell_type": "markdown",
   "metadata": {},
   "source": [
    "Based on the unique values that a feature have we can choose encoding strategy. <br>\n",
    "Feature AHGA is ordinal, so we can encode it as a sorted range. <br>\n",
    "Features AHSCOL, ASEX, AUNMEM, MIGSAME, MIGSUN and VETQVA are almost binary (they have Yes/No/NA values), so we can encode them as binary+NA. <br>\n",
    "All other features are categorical, so we will use one-hot-encoding for them."
   ]
  },
  {
   "cell_type": "code",
   "execution_count": 20,
   "metadata": {
    "ExecuteTime": {
     "end_time": "2021-04-28T10:17:17.375928Z",
     "start_time": "2021-04-28T10:17:17.064692Z"
    }
   },
   "outputs": [],
   "source": [
    "# Devide categorical features into binay, ordinal and other\n",
    "binary_cat = ['ASEX', 'AUNMEM', 'MIGSAME', 'MIGSUN', 'VETQVA']\n",
    "ordinal_cat = ['AHGA']\n",
    "other_cat = list(set(cat_fs).difference(set(binary_cat+ordinal_cat)))\n",
    "assert len(binary_cat) + len(ordinal_cat) + len(other_cat) == len(cat_fs)"
   ]
  },
  {
   "cell_type": "markdown",
   "metadata": {},
   "source": [
    "## Numerical features"
   ]
  },
  {
   "cell_type": "code",
   "execution_count": 21,
   "metadata": {
    "ExecuteTime": {
     "end_time": "2021-04-28T10:17:21.197605Z",
     "start_time": "2021-04-28T10:17:17.377912Z"
    }
   },
   "outputs": [
    {
     "data": {
      "image/png": "[encoded data removed]",
      "text/plain": [
       "<Figure size 1080x1080 with 12 Axes>"
      ]
     },
     "metadata": {},
     "output_type": "display_data"
    }
   ],
   "source": [
    "# Plot numerical features distribuiton\n",
    "fig, ax = plt.subplots(figsize=(15,15), ncols=3, nrows=4)\n",
    "ax = ax.flatten()\n",
    "\n",
    "for ax_i, col in zip(ax, num_fs):\n",
    "    sns.histplot(X_train[col], ax=ax_i)\n",
    "    \n",
    "fig.tight_layout()\n",
    "\n",
    "plt.suptitle('Numerical features distribution', y=1)\n",
    "plt.show()"
   ]
  },
  {
   "cell_type": "markdown",
   "metadata": {},
   "source": [
    "We again can see that features 'AHRSPAY', 'CAPGAIN', 'CAPLOSS', 'DIVVAL' are not informative at all, however know we are not going to just drop them, but use PCA."
   ]
  },
  {
   "cell_type": "code",
   "execution_count": 22,
   "metadata": {
    "ExecuteTime": {
     "end_time": "2021-04-28T10:17:21.352715Z",
     "start_time": "2021-04-28T10:17:21.198606Z"
    }
   },
   "outputs": [],
   "source": [
    "scaler = StandardScaler()\n",
    "X_num_scaled = scaler.fit_transform(X_train[num_fs].copy())"
   ]
  },
  {
   "cell_type": "code",
   "execution_count": 23,
   "metadata": {
    "ExecuteTime": {
     "end_time": "2021-04-28T10:17:21.711968Z",
     "start_time": "2021-04-28T10:17:21.356719Z"
    }
   },
   "outputs": [
    {
     "data": {
      "image/png": "[encoded data removed]",
      "text/plain": [
       "<Figure size 432x288 with 1 Axes>"
      ]
     },
     "metadata": {},
     "output_type": "display_data"
    }
   ],
   "source": [
    "pca = PCA().fit(X_num_scaled)\n",
    "\n",
    "sns.lineplot(y = np.cumsum(pca.explained_variance_ratio_), x = range(1,12))\n",
    "plt.xticks(range(1, 12))\n",
    "plt.xlabel('Number of components')\n",
    "plt.ylabel('Cumulative explained variance')\n",
    "plt.suptitle('PCA for numerical features')\n",
    "plt.show()"
   ]
  },
  {
   "cell_type": "markdown",
   "metadata": {},
   "source": [
    "This curve quantifies how much of the total, 11-dimensional variance is contained within the first N components. For our case we can say that 7 components describe about 90% of the variance. However, based on this chart we can say that PCA-decomposition is not effective, because we can reduce only 4 dimensions out of 11, so we are not going to use it further."
   ]
  },
  {
   "cell_type": "markdown",
   "metadata": {},
   "source": [
    "# 2 Data preprocessing"
   ]
  },
  {
   "cell_type": "markdown",
   "metadata": {},
   "source": [
    "Based on the data exploration step the following preprocessing plan was created:\n",
    "    - Categorical columns:\n",
    "        - impute empty values if any\n",
    "        - encode 'AHGA' as ordinal\n",
    "        - encode 'AHSCOL', 'ASEX', 'AUNMEM', 'MIGSAME', 'MIGSUN', 'VETQVA' as binary\n",
    "        - encode all others with OHE\n",
    "        \n",
    "    - Numerical columns:\n",
    "        - fill empty values\n",
    "        - scale data (standardize)\n",
    "        - apply PCA for 7 components"
   ]
  },
  {
   "cell_type": "code",
   "execution_count": 24,
   "metadata": {
    "ExecuteTime": {
     "end_time": "2021-04-28T10:17:21.874136Z",
     "start_time": "2021-04-28T10:17:21.714971Z"
    }
   },
   "outputs": [],
   "source": [
    "# Devide data into features and target.\n",
    "y_test = test['target'].copy()\n",
    "X_test = test.drop('target', axis=1).copy()\n",
    "del test"
   ]
  },
  {
   "cell_type": "code",
   "execution_count": 25,
   "metadata": {
    "ExecuteTime": {
     "end_time": "2021-04-28T10:17:22.036213Z",
     "start_time": "2021-04-28T10:17:21.876088Z"
    }
   },
   "outputs": [],
   "source": [
    "cols_merge_cats = ['AWKSTAT', 'AMJOCC', 'ACLSWKR']\n",
    "categories_merger = dict(\n",
    "    zip(cols_merge_cats,\n",
    "        [employment_map, occupation_map, class_map]))"
   ]
  },
  {
   "cell_type": "code",
   "execution_count": 26,
   "metadata": {
    "ExecuteTime": {
     "end_time": "2021-04-28T10:17:22.180315Z",
     "start_time": "2021-04-28T10:17:22.037197Z"
    }
   },
   "outputs": [],
   "source": [
    "ordinal_codes = {\n",
    "    'AHGA': {\n",
    "        'Children': 0,\n",
    "        '1-6': 1,\n",
    "        '7th and 8th grade': 2,\n",
    "        '9-12': 3,\n",
    "        'High school graduate': 4,\n",
    "        'Some college but no degree': 5,\n",
    "        'Associates degree-occup /vocational': 6,\n",
    "        'Associates degree-academic program': 7,\n",
    "        'Bachelors degree(BA AB BS)': 8,\n",
    "        'Masters degree(MA MS MEng MEd MSW MBA)': 9,\n",
    "        'Prof school or doc': 10,\n",
    "    }\n",
    "}"
   ]
  },
  {
   "cell_type": "code",
   "execution_count": 27,
   "metadata": {
    "ExecuteTime": {
     "end_time": "2021-04-28T10:17:22.321414Z",
     "start_time": "2021-04-28T10:17:22.181299Z"
    }
   },
   "outputs": [],
   "source": [
    "na_values = ['Not in universe under 1 year old', 'Not in universe']"
   ]
  },
  {
   "cell_type": "code",
   "execution_count": 28,
   "metadata": {
    "ExecuteTime": {
     "end_time": "2021-04-28T10:17:22.504582Z",
     "start_time": "2021-04-28T10:17:22.322399Z"
    }
   },
   "outputs": [],
   "source": [
    "numeric_transformer = Pipeline(steps=[\n",
    "    ('imputer', SimpleImputer(strategy='median')),\n",
    "    ('scaler', StandardScaler()),\n",
    "    #('pca', PCA(7))\n",
    "])\n",
    "\n",
    "cat_binary_transformer = Pipeline(steps=[\n",
    "    ('imputer', SimpleImputer(missing_values = '?', strategy='most_frequent')),\n",
    "    ('pandarizer',FunctionTransformer(lambda x: pd.DataFrame(x, columns = binary_cat))),\n",
    "    ('bin_enc', hlp.BinaryEncoder(na_values))\n",
    "])\n",
    "\n",
    "cat_ordinal_transformer = Pipeline(steps=[\n",
    "    ('imputer', SimpleImputer(missing_values = '?', strategy='most_frequent')),\n",
    "    ('pandarizer',FunctionTransformer(lambda x: pd.DataFrame(x, columns = ordinal_cat))),\n",
    "    ('merger', hlp.CustomEncoder({'AHGA':degree_map})),\n",
    "    ('ord_enc', hlp.CustomEncoder(ordinal_codes))\n",
    "])\n",
    "\n",
    "cat_other_transformer = Pipeline(steps=[\n",
    "    ('imputer', SimpleImputer(missing_values = '?', strategy='most_frequent')),\n",
    "    ('pandarizer', FunctionTransformer(lambda x: pd.DataFrame(x, columns = other_cat))),\n",
    "    ('merger', hlp.CustomEncoder(categories_merger)),\n",
    "    ('ohe', OneHotEncoder(handle_unknown='ignore', sparse=False))\n",
    "])\n",
    "\n",
    "preprocessor = ColumnTransformer(\n",
    "    transformers=[\n",
    "        ('numeric', numeric_transformer, num_fs),\n",
    "        ('categorical_binary', cat_binary_transformer, binary_cat),\n",
    "        ('categorical_ordinal', cat_ordinal_transformer, ordinal_cat),\n",
    "        ('categorical_other', cat_other_transformer, other_cat)])"
   ]
  },
  {
   "cell_type": "code",
   "execution_count": 29,
   "metadata": {
    "ExecuteTime": {
     "end_time": "2021-04-28T10:17:23.513239Z",
     "start_time": "2021-04-28T10:17:22.506528Z"
    }
   },
   "outputs": [
    {
     "data": {
      "text/html": [
       "<style>div.sk-top-container {color: black;background-color: white;}div.sk-toggleable {background-color: white;}label.sk-toggleable__label {cursor: pointer;display: block;width: 100%;margin-bottom: 0;padding: 0.2em 0.3em;box-sizing: border-box;text-align: center;}div.sk-toggleable__content {max-height: 0;max-width: 0;overflow: hidden;text-align: left;background-color: #f0f8ff;}div.sk-toggleable__content pre {margin: 0.2em;color: black;border-radius: 0.25em;background-color: #f0f8ff;}input.sk-toggleable__control:checked~div.sk-toggleable__content {max-height: 200px;max-width: 100%;overflow: auto;}div.sk-estimator input.sk-toggleable__control:checked~label.sk-toggleable__label {background-color: #d4ebff;}div.sk-label input.sk-toggleable__control:checked~label.sk-toggleable__label {background-color: #d4ebff;}input.sk-hidden--visually {border: 0;clip: rect(1px 1px 1px 1px);clip: rect(1px, 1px, 1px, 1px);height: 1px;margin: -1px;overflow: hidden;padding: 0;position: absolute;width: 1px;}div.sk-estimator {font-family: monospace;background-color: #f0f8ff;margin: 0.25em 0.25em;border: 1px dotted black;border-radius: 0.25em;box-sizing: border-box;}div.sk-estimator:hover {background-color: #d4ebff;}div.sk-parallel-item::after {content: \"\";width: 100%;border-bottom: 1px solid gray;flex-grow: 1;}div.sk-label:hover label.sk-toggleable__label {background-color: #d4ebff;}div.sk-serial::before {content: \"\";position: absolute;border-left: 1px solid gray;box-sizing: border-box;top: 2em;bottom: 0;left: 50%;}div.sk-serial {display: flex;flex-direction: column;align-items: center;background-color: white;}div.sk-item {z-index: 1;}div.sk-parallel {display: flex;align-items: stretch;justify-content: center;background-color: white;}div.sk-parallel-item {display: flex;flex-direction: column;position: relative;background-color: white;}div.sk-parallel-item:first-child::after {align-self: flex-end;width: 50%;}div.sk-parallel-item:last-child::after {align-self: flex-start;width: 50%;}div.sk-parallel-item:only-child::after {width: 0;}div.sk-dashed-wrapped {border: 1px dashed gray;margin: 0.2em;box-sizing: border-box;padding-bottom: 0.1em;background-color: white;position: relative;}div.sk-label label {font-family: monospace;font-weight: bold;background-color: white;display: inline-block;line-height: 1.2em;}div.sk-label-container {position: relative;z-index: 2;text-align: center;}div.sk-container {display: inline-block;position: relative;}</style><div class=\"sk-top-container\"><div class=\"sk-container\"><div class=\"sk-item sk-dashed-wrapped\"><div class=\"sk-label-container\"><div class=\"sk-label sk-toggleable\"><input class=\"sk-toggleable__control sk-hidden--visually\" id=\"6ee95258-4fe4-4732-94c3-52791fb28011\" type=\"checkbox\" ><label class=\"sk-toggleable__label\" for=\"6ee95258-4fe4-4732-94c3-52791fb28011\">ColumnTransformer</label><div class=\"sk-toggleable__content\"><pre>ColumnTransformer(transformers=[('numeric',\n",
       "                                 Pipeline(steps=[('imputer',\n",
       "                                                  SimpleImputer(strategy='median')),\n",
       "                                                 ('scaler', StandardScaler())]),\n",
       "                                 ['AAGE', 'ADTIND', 'ADTOCC', 'AHRSPAY',\n",
       "                                  'CAPGAIN', 'CAPLOSS', 'DIVVAL', 'NOEMP',\n",
       "                                  'SEOTR', 'VETYN', 'WKSWORK']),\n",
       "                                ('categorical_binary',\n",
       "                                 Pipeline(steps=[('imputer',\n",
       "                                                  SimpleImputer(missing_values='?',\n",
       "                                                                strategy='most_frequent')),\n",
       "                                                 ('pand...\n",
       "                                                                                     'PT for econ reasons usually PT': 'PT',\n",
       "                                                                                     'PT for non-econ reasons usually FT': 'PT',\n",
       "                                                                                     'Unemployed full-time': 'Unemployed',\n",
       "                                                                                     'Unemployed part- time': 'Unemployed'}})),\n",
       "                                                 ('ohe',\n",
       "                                                  OneHotEncoder(handle_unknown='ignore',\n",
       "                                                                sparse=False))]),\n",
       "                                 ['AMJIND', 'HHDFMX', 'AWKSTAT', 'ACLSWKR',\n",
       "                                  'PENATVTY', 'GRINST', 'ARACE', 'PARENT',\n",
       "                                  'HHDREL', 'AMJOCC', 'FILESTAT', 'PEMNTVTY',\n",
       "                                  'AMARITL', 'PEFNTVTY', 'PRCITSHP',\n",
       "                                  'GRINREG'])])</pre></div></div></div><div class=\"sk-parallel\"><div class=\"sk-parallel-item\"><div class=\"sk-item\"><div class=\"sk-label-container\"><div class=\"sk-label sk-toggleable\"><input class=\"sk-toggleable__control sk-hidden--visually\" id=\"4c400d9e-96a2-4053-8922-75bfc2dc8d7d\" type=\"checkbox\" ><label class=\"sk-toggleable__label\" for=\"4c400d9e-96a2-4053-8922-75bfc2dc8d7d\">numeric</label><div class=\"sk-toggleable__content\"><pre>['AAGE', 'ADTIND', 'ADTOCC', 'AHRSPAY', 'CAPGAIN', 'CAPLOSS', 'DIVVAL', 'NOEMP', 'SEOTR', 'VETYN', 'WKSWORK']</pre></div></div></div><div class=\"sk-serial\"><div class=\"sk-item\"><div class=\"sk-serial\"><div class=\"sk-item\"><div class=\"sk-estimator sk-toggleable\"><input class=\"sk-toggleable__control sk-hidden--visually\" id=\"76bff4e0-43af-4d0e-aab6-e4b7c23095f6\" type=\"checkbox\" ><label class=\"sk-toggleable__label\" for=\"76bff4e0-43af-4d0e-aab6-e4b7c23095f6\">SimpleImputer</label><div class=\"sk-toggleable__content\"><pre>SimpleImputer(strategy='median')</pre></div></div></div><div class=\"sk-item\"><div class=\"sk-estimator sk-toggleable\"><input class=\"sk-toggleable__control sk-hidden--visually\" id=\"e029b892-aa1c-40d7-a6f2-1660ef99a25c\" type=\"checkbox\" ><label class=\"sk-toggleable__label\" for=\"e029b892-aa1c-40d7-a6f2-1660ef99a25c\">StandardScaler</label><div class=\"sk-toggleable__content\"><pre>StandardScaler()</pre></div></div></div></div></div></div></div></div><div class=\"sk-parallel-item\"><div class=\"sk-item\"><div class=\"sk-label-container\"><div class=\"sk-label sk-toggleable\"><input class=\"sk-toggleable__control sk-hidden--visually\" id=\"d95a1b57-f226-43bd-84a5-1ed263532ed7\" type=\"checkbox\" ><label class=\"sk-toggleable__label\" for=\"d95a1b57-f226-43bd-84a5-1ed263532ed7\">categorical_binary</label><div class=\"sk-toggleable__content\"><pre>['ASEX', 'AUNMEM', 'MIGSAME', 'MIGSUN', 'VETQVA']</pre></div></div></div><div class=\"sk-serial\"><div class=\"sk-item\"><div class=\"sk-serial\"><div class=\"sk-item\"><div class=\"sk-estimator sk-toggleable\"><input class=\"sk-toggleable__control sk-hidden--visually\" id=\"af923807-ed6e-434e-be5d-cd5b89ab030a\" type=\"checkbox\" ><label class=\"sk-toggleable__label\" for=\"af923807-ed6e-434e-be5d-cd5b89ab030a\">SimpleImputer</label><div class=\"sk-toggleable__content\"><pre>SimpleImputer(missing_values='?', strategy='most_frequent')</pre></div></div></div><div class=\"sk-item\"><div class=\"sk-estimator sk-toggleable\"><input class=\"sk-toggleable__control sk-hidden--visually\" id=\"88ac688f-202c-461d-acc7-8059898414e5\" type=\"checkbox\" ><label class=\"sk-toggleable__label\" for=\"88ac688f-202c-461d-acc7-8059898414e5\">FunctionTransformer</label><div class=\"sk-toggleable__content\"><pre>FunctionTransformer(func=<function <lambda> at 0x00000085C730E3A0>)</pre></div></div></div><div class=\"sk-item\"><div class=\"sk-estimator sk-toggleable\"><input class=\"sk-toggleable__control sk-hidden--visually\" id=\"199191fd-67f6-49d6-84ac-546f0d75daa1\" type=\"checkbox\" ><label class=\"sk-toggleable__label\" for=\"199191fd-67f6-49d6-84ac-546f0d75daa1\">BinaryEncoder</label><div class=\"sk-toggleable__content\"><pre>BinaryEncoder(na_values=['Not in universe under 1 year old', 'Not in universe'])</pre></div></div></div></div></div></div></div></div><div class=\"sk-parallel-item\"><div class=\"sk-item\"><div class=\"sk-label-container\"><div class=\"sk-label sk-toggleable\"><input class=\"sk-toggleable__control sk-hidden--visually\" id=\"49fdc157-aac3-4f35-b4f2-8eb7c92331fe\" type=\"checkbox\" ><label class=\"sk-toggleable__label\" for=\"49fdc157-aac3-4f35-b4f2-8eb7c92331fe\">categorical_ordinal</label><div class=\"sk-toggleable__content\"><pre>['AHGA']</pre></div></div></div><div class=\"sk-serial\"><div class=\"sk-item\"><div class=\"sk-serial\"><div class=\"sk-item\"><div class=\"sk-estimator sk-toggleable\"><input class=\"sk-toggleable__control sk-hidden--visually\" id=\"d6dc5d04-1618-4778-a896-e6fd44b5bf93\" type=\"checkbox\" ><label class=\"sk-toggleable__label\" for=\"d6dc5d04-1618-4778-a896-e6fd44b5bf93\">SimpleImputer</label><div class=\"sk-toggleable__content\"><pre>SimpleImputer(missing_values='?', strategy='most_frequent')</pre></div></div></div><div class=\"sk-item\"><div class=\"sk-estimator sk-toggleable\"><input class=\"sk-toggleable__control sk-hidden--visually\" id=\"45dfd0f2-1eaf-47b8-95dd-ad0443292bc3\" type=\"checkbox\" ><label class=\"sk-toggleable__label\" for=\"45dfd0f2-1eaf-47b8-95dd-ad0443292bc3\">FunctionTransformer</label><div class=\"sk-toggleable__content\"><pre>FunctionTransformer(func=<function <lambda> at 0x00000085C730EF70>)</pre></div></div></div><div class=\"sk-item\"><div class=\"sk-estimator sk-toggleable\"><input class=\"sk-toggleable__control sk-hidden--visually\" id=\"1a93c9cb-4587-4b53-b053-282c5a5828d4\" type=\"checkbox\" ><label class=\"sk-toggleable__label\" for=\"1a93c9cb-4587-4b53-b053-282c5a5828d4\">CustomEncoder</label><div class=\"sk-toggleable__content\"><pre>CustomEncoder(mapping={'AHGA': {'10th grade': '9-12', '11th grade': '9-12',\n",
       "                                '12th grade no diploma': '9-12',\n",
       "                                '1st 2nd 3rd or 4th grade': '1-6',\n",
       "                                '5th or 6th grade': '1-6', '9th grade': '9-12',\n",
       "                                'Doctorate degree(PhD EdD)': 'Prof school or '\n",
       "                                                             'doc',\n",
       "                                'Less than 1st grade': '1-6',\n",
       "                                'Prof school degree (MD DDS DVM LLB JD)': 'Prof '\n",
       "                                                                          'school '\n",
       "                                                                          'or '\n",
       "                                                                          'doc'}})</pre></div></div></div><div class=\"sk-item\"><div class=\"sk-estimator sk-toggleable\"><input class=\"sk-toggleable__control sk-hidden--visually\" id=\"4dfea59a-1eec-4f0f-8bc8-c8f645b4e090\" type=\"checkbox\" ><label class=\"sk-toggleable__label\" for=\"4dfea59a-1eec-4f0f-8bc8-c8f645b4e090\">CustomEncoder</label><div class=\"sk-toggleable__content\"><pre>CustomEncoder(mapping={'AHGA': {'1-6': 1, '7th and 8th grade': 2, '9-12': 3,\n",
       "                                'Associates degree-academic program': 7,\n",
       "                                'Associates degree-occup /vocational': 6,\n",
       "                                'Bachelors degree(BA AB BS)': 8, 'Children': 0,\n",
       "                                'High school graduate': 4,\n",
       "                                'Masters degree(MA MS MEng MEd MSW MBA)': 9,\n",
       "                                'Prof school or doc': 10,\n",
       "                                'Some college but no degree': 5}})</pre></div></div></div></div></div></div></div></div><div class=\"sk-parallel-item\"><div class=\"sk-item\"><div class=\"sk-label-container\"><div class=\"sk-label sk-toggleable\"><input class=\"sk-toggleable__control sk-hidden--visually\" id=\"576eb7bc-9a22-4271-aef7-8b1ae07e6b22\" type=\"checkbox\" ><label class=\"sk-toggleable__label\" for=\"576eb7bc-9a22-4271-aef7-8b1ae07e6b22\">categorical_other</label><div class=\"sk-toggleable__content\"><pre>['AMJIND', 'HHDFMX', 'AWKSTAT', 'ACLSWKR', 'PENATVTY', 'GRINST', 'ARACE', 'PARENT', 'HHDREL', 'AMJOCC', 'FILESTAT', 'PEMNTVTY', 'AMARITL', 'PEFNTVTY', 'PRCITSHP', 'GRINREG']</pre></div></div></div><div class=\"sk-serial\"><div class=\"sk-item\"><div class=\"sk-serial\"><div class=\"sk-item\"><div class=\"sk-estimator sk-toggleable\"><input class=\"sk-toggleable__control sk-hidden--visually\" id=\"7848701a-4a2c-4222-bbbe-1843af9957f5\" type=\"checkbox\" ><label class=\"sk-toggleable__label\" for=\"7848701a-4a2c-4222-bbbe-1843af9957f5\">SimpleImputer</label><div class=\"sk-toggleable__content\"><pre>SimpleImputer(missing_values='?', strategy='most_frequent')</pre></div></div></div><div class=\"sk-item\"><div class=\"sk-estimator sk-toggleable\"><input class=\"sk-toggleable__control sk-hidden--visually\" id=\"bccadd00-5a75-466e-afb4-569c9b441ccf\" type=\"checkbox\" ><label class=\"sk-toggleable__label\" for=\"bccadd00-5a75-466e-afb4-569c9b441ccf\">FunctionTransformer</label><div class=\"sk-toggleable__content\"><pre>FunctionTransformer(func=<function <lambda> at 0x00000085BB865C10>)</pre></div></div></div><div class=\"sk-item\"><div class=\"sk-estimator sk-toggleable\"><input class=\"sk-toggleable__control sk-hidden--visually\" id=\"f4f42416-6e4c-493a-ba57-1c1de250ba50\" type=\"checkbox\" ><label class=\"sk-toggleable__label\" for=\"f4f42416-6e4c-493a-ba57-1c1de250ba50\">CustomEncoder</label><div class=\"sk-toggleable__content\"><pre>CustomEncoder(mapping={'ACLSWKR': {'Federal government': 'Government',\n",
       "                                   'Local government': 'Government',\n",
       "                                   'Never worked': 'Other',\n",
       "                                   'Self-employed-incorporated': 'Self-employed',\n",
       "                                   'Self-employed-not incorporated': 'Self-employed',\n",
       "                                   'State government': 'Government',\n",
       "                                   'Without pay': 'Other'},\n",
       "                       'AMJOCC': {'Armed Forces': 'Other service',\n",
       "                                  'Farming forestry and fishing': 'Other '\n",
       "                                                                  'service',...\n",
       "                                  'Private household services': 'Other service',\n",
       "                                  'Protective services': 'Other service',\n",
       "                                  'Technicians and related support': 'Other '\n",
       "                                                                     'service',\n",
       "                                  'Transportation and material moving': 'Other '\n",
       "                                                                        'service'},\n",
       "                       'AWKSTAT': {'PT for econ reasons usually FT': 'PT',\n",
       "                                   'PT for econ reasons usually PT': 'PT',\n",
       "                                   'PT for non-econ reasons usually FT': 'PT',\n",
       "                                   'Unemployed full-time': 'Unemployed',\n",
       "                                   'Unemployed part- time': 'Unemployed'}})</pre></div></div></div><div class=\"sk-item\"><div class=\"sk-estimator sk-toggleable\"><input class=\"sk-toggleable__control sk-hidden--visually\" id=\"72066f97-7cdb-47e8-93de-c2a3592f63ba\" type=\"checkbox\" ><label class=\"sk-toggleable__label\" for=\"72066f97-7cdb-47e8-93de-c2a3592f63ba\">OneHotEncoder</label><div class=\"sk-toggleable__content\"><pre>OneHotEncoder(handle_unknown='ignore', sparse=False)</pre></div></div></div></div></div></div></div></div></div></div></div></div>"
      ],
      "text/plain": [
       "ColumnTransformer(transformers=[('numeric',\n",
       "                                 Pipeline(steps=[('imputer',\n",
       "                                                  SimpleImputer(strategy='median')),\n",
       "                                                 ('scaler', StandardScaler())]),\n",
       "                                 ['AAGE', 'ADTIND', 'ADTOCC', 'AHRSPAY',\n",
       "                                  'CAPGAIN', 'CAPLOSS', 'DIVVAL', 'NOEMP',\n",
       "                                  'SEOTR', 'VETYN', 'WKSWORK']),\n",
       "                                ('categorical_binary',\n",
       "                                 Pipeline(steps=[('imputer',\n",
       "                                                  SimpleImputer(missing_values='?',\n",
       "                                                                strategy='most_frequent')),\n",
       "                                                 ('pand...\n",
       "                                                                                     'PT for econ reasons usually PT': 'PT',\n",
       "                                                                                     'PT for non-econ reasons usually FT': 'PT',\n",
       "                                                                                     'Unemployed full-time': 'Unemployed',\n",
       "                                                                                     'Unemployed part- time': 'Unemployed'}})),\n",
       "                                                 ('ohe',\n",
       "                                                  OneHotEncoder(handle_unknown='ignore',\n",
       "                                                                sparse=False))]),\n",
       "                                 ['AMJIND', 'HHDFMX', 'AWKSTAT', 'ACLSWKR',\n",
       "                                  'PENATVTY', 'GRINST', 'ARACE', 'PARENT',\n",
       "                                  'HHDREL', 'AMJOCC', 'FILESTAT', 'PEMNTVTY',\n",
       "                                  'AMARITL', 'PEFNTVTY', 'PRCITSHP',\n",
       "                                  'GRINREG'])])"
      ]
     },
     "execution_count": 29,
     "metadata": {},
     "output_type": "execute_result"
    }
   ],
   "source": [
    "preprocessor.fit(X_train)"
   ]
  },
  {
   "cell_type": "code",
   "execution_count": 30,
   "metadata": {
    "ExecuteTime": {
     "end_time": "2021-04-28T10:17:25.021319Z",
     "start_time": "2021-04-28T10:17:23.515240Z"
    }
   },
   "outputs": [],
   "source": [
    "X_train_fitted = preprocessor.transform(X_train)\n",
    "X_val_fitted = preprocessor.transform(X_val)\n",
    "X_test_fitted = preprocessor.transform(X_test)"
   ]
  },
  {
   "cell_type": "code",
   "execution_count": 31,
   "metadata": {
    "ExecuteTime": {
     "end_time": "2021-04-28T10:17:25.193425Z",
     "start_time": "2021-04-28T10:17:25.023303Z"
    },
    "scrolled": true
   },
   "outputs": [
    {
     "name": "stdout",
     "output_type": "stream",
     "text": [
      "Train size: (16000, 307) \n",
      "Validation size: (4000, 307) \n",
      "Test size: (10000, 307)\n"
     ]
    }
   ],
   "source": [
    "print(f'Train size: {X_train_fitted.shape} \\nValidation size: {X_val_fitted.shape} \\nTest size: {X_test_fitted.shape}')"
   ]
  },
  {
   "cell_type": "code",
   "execution_count": 32,
   "metadata": {
    "ExecuteTime": {
     "end_time": "2021-04-28T10:17:25.420583Z",
     "start_time": "2021-04-28T10:17:25.195424Z"
    }
   },
   "outputs": [],
   "source": [
    "# Get columns names after OHE\n",
    "cat_other_ohe_cols = preprocessor.named_transformers_['categorical_other']['ohe'].get_feature_names().tolist()\n",
    "# Collect all new preprocessed columns names into one list\n",
    "#fitted_columns = ['pca_'+str(i) for i in range(1,8)] + binary_cat + ordinal_cat + cat_other_ohe_cols\n",
    "fitted_columns = num_fs + binary_cat + ordinal_cat + cat_other_ohe_cols\n",
    "# Replace symbols that can't be in column name\n",
    "fitted_columns = [x.replace('<','st').replace(' ','_') for x in fitted_columns]"
   ]
  },
  {
   "cell_type": "code",
   "execution_count": 33,
   "metadata": {
    "ExecuteTime": {
     "end_time": "2021-04-28T10:17:25.678767Z",
     "start_time": "2021-04-28T10:17:25.423586Z"
    }
   },
   "outputs": [],
   "source": [
    "assert len(fitted_columns) == X_train_fitted.shape[1], 'Something is wrong with number of fitted columns or their names'"
   ]
  },
  {
   "cell_type": "code",
   "execution_count": 34,
   "metadata": {
    "ExecuteTime": {
     "end_time": "2021-04-28T10:17:28.520785Z",
     "start_time": "2021-04-28T10:17:25.682777Z"
    }
   },
   "outputs": [],
   "source": [
    "# Transform data from numpies to dataframes with the column names we have just created\n",
    "X_train_fitted = pd.DataFrame(X_train_fitted, columns = fitted_columns).astype(float)\n",
    "X_val_fitted = pd.DataFrame(X_val_fitted, columns = fitted_columns).astype(float)\n",
    "X_test_fitted = pd.DataFrame(X_test_fitted, columns = fitted_columns).astype(float)"
   ]
  },
  {
   "cell_type": "markdown",
   "metadata": {},
   "source": [
    "Also we create another version of transformations, it is very basic, we just impute empty values, scale numeric featues and do OHE for categorical ones."
   ]
  },
  {
   "cell_type": "code",
   "execution_count": 35,
   "metadata": {
    "ExecuteTime": {
     "end_time": "2021-04-28T10:17:29.555514Z",
     "start_time": "2021-04-28T10:17:28.521770Z"
    }
   },
   "outputs": [],
   "source": [
    "numeric_transformer = Pipeline(steps=[\n",
    "    ('imputer', SimpleImputer(strategy='median')),\n",
    "    ('scaler', StandardScaler()),\n",
    "])\n",
    "\n",
    "\n",
    "cat_transformer = Pipeline(steps=[\n",
    "    ('imputer', SimpleImputer(missing_values = '?', strategy='most_frequent')),\n",
    "    ('ohe', OneHotEncoder(handle_unknown='ignore', sparse=False))\n",
    "])\n",
    "\n",
    "preprocessor_base = ColumnTransformer(\n",
    "    transformers=[\n",
    "        ('numeric', numeric_transformer, num_fs),\n",
    "        ('categorical', cat_transformer, cat_fs)\n",
    "    ])\n",
    "\n",
    "preprocessor_base.fit(X_train)\n",
    "\n",
    "X_train_fitted_base = preprocessor_base.transform(X_train)\n",
    "X_val_fitted_base = preprocessor_base.transform(X_val)\n",
    "X_test_fitted_base = preprocessor_base.transform(X_test)"
   ]
  },
  {
   "cell_type": "markdown",
   "metadata": {},
   "source": [
    "Now let's choose the preprocessing pipeline based on its performance on metrics. We are going to train LightGBM model because we have very sparse data due to the OHE and LightGBM operates an exclusive feature bundling technique to improve time on sparse data. "
   ]
  },
  {
   "cell_type": "code",
   "execution_count": 36,
   "metadata": {
    "ExecuteTime": {
     "end_time": "2021-04-28T10:17:30.211961Z",
     "start_time": "2021-04-28T10:17:29.556499Z"
    }
   },
   "outputs": [
    {
     "data": {
      "text/html": [
       "<div>\n",
       "<style scoped>\n",
       "    .dataframe tbody tr th:only-of-type {\n",
       "        vertical-align: middle;\n",
       "    }\n",
       "\n",
       "    .dataframe tbody tr th {\n",
       "        vertical-align: top;\n",
       "    }\n",
       "\n",
       "    .dataframe thead th {\n",
       "        text-align: right;\n",
       "    }\n",
       "</style>\n",
       "<table border=\"1\" class=\"dataframe\">\n",
       "  <thead>\n",
       "    <tr style=\"text-align: right;\">\n",
       "      <th></th>\n",
       "      <th>result</th>\n",
       "    </tr>\n",
       "  </thead>\n",
       "  <tbody>\n",
       "    <tr>\n",
       "      <th>Balanced_Accuracy</th>\n",
       "      <td>0.708</td>\n",
       "    </tr>\n",
       "    <tr>\n",
       "      <th>MCC</th>\n",
       "      <td>0.528</td>\n",
       "    </tr>\n",
       "  </tbody>\n",
       "</table>\n",
       "</div>"
      ],
      "text/plain": [
       "                   result\n",
       "Balanced_Accuracy   0.708\n",
       "MCC                 0.528"
      ]
     },
     "execution_count": 36,
     "metadata": {},
     "output_type": "execute_result"
    }
   ],
   "source": [
    "# Baseline preprocessing to compare with\n",
    "lgbm_clf = LGBMClassifier()\n",
    "lgbm_clf.fit(X_train_fitted_base, y_train)\n",
    "y_pred = lgbm_clf.predict(X_val_fitted_base)\n",
    "hlp.compute_metrics(y_val, y_pred, [' - 50000.', ' 50000+.'], ' 50000+.')"
   ]
  },
  {
   "cell_type": "code",
   "execution_count": 37,
   "metadata": {
    "ExecuteTime": {
     "end_time": "2021-04-28T10:17:30.606240Z",
     "start_time": "2021-04-28T10:17:30.213964Z"
    }
   },
   "outputs": [
    {
     "data": {
      "text/html": [
       "<div>\n",
       "<style scoped>\n",
       "    .dataframe tbody tr th:only-of-type {\n",
       "        vertical-align: middle;\n",
       "    }\n",
       "\n",
       "    .dataframe tbody tr th {\n",
       "        vertical-align: top;\n",
       "    }\n",
       "\n",
       "    .dataframe thead th {\n",
       "        text-align: right;\n",
       "    }\n",
       "</style>\n",
       "<table border=\"1\" class=\"dataframe\">\n",
       "  <thead>\n",
       "    <tr style=\"text-align: right;\">\n",
       "      <th></th>\n",
       "      <th>result</th>\n",
       "    </tr>\n",
       "  </thead>\n",
       "  <tbody>\n",
       "    <tr>\n",
       "      <th>Balanced_Accuracy</th>\n",
       "      <td>0.840</td>\n",
       "    </tr>\n",
       "    <tr>\n",
       "      <th>MCC</th>\n",
       "      <td>0.785</td>\n",
       "    </tr>\n",
       "  </tbody>\n",
       "</table>\n",
       "</div>"
      ],
      "text/plain": [
       "                   result\n",
       "Balanced_Accuracy   0.840\n",
       "MCC                 0.785"
      ]
     },
     "execution_count": 37,
     "metadata": {},
     "output_type": "execute_result"
    }
   ],
   "source": [
    "y_pred = lgbm_clf.predict(X_train_fitted_base)\n",
    "hlp.compute_metrics(y_train, y_pred, [' - 50000.', ' 50000+.'], ' 50000+.')"
   ]
  },
  {
   "cell_type": "code",
   "execution_count": 38,
   "metadata": {
    "ExecuteTime": {
     "end_time": "2021-04-28T10:17:31.340757Z",
     "start_time": "2021-04-28T10:17:30.608242Z"
    }
   },
   "outputs": [
    {
     "data": {
      "text/html": [
       "<div>\n",
       "<style scoped>\n",
       "    .dataframe tbody tr th:only-of-type {\n",
       "        vertical-align: middle;\n",
       "    }\n",
       "\n",
       "    .dataframe tbody tr th {\n",
       "        vertical-align: top;\n",
       "    }\n",
       "\n",
       "    .dataframe thead th {\n",
       "        text-align: right;\n",
       "    }\n",
       "</style>\n",
       "<table border=\"1\" class=\"dataframe\">\n",
       "  <thead>\n",
       "    <tr style=\"text-align: right;\">\n",
       "      <th></th>\n",
       "      <th>y &gt; 50.000</th>\n",
       "      <th>y &lt; 50.000</th>\n",
       "    </tr>\n",
       "  </thead>\n",
       "  <tbody>\n",
       "    <tr>\n",
       "      <th>a(x) &gt; 50.000</th>\n",
       "      <td>105</td>\n",
       "      <td>49</td>\n",
       "    </tr>\n",
       "    <tr>\n",
       "      <th>a(x) &lt; 50.000</th>\n",
       "      <td>140</td>\n",
       "      <td>3706</td>\n",
       "    </tr>\n",
       "  </tbody>\n",
       "</table>\n",
       "</div>"
      ],
      "text/plain": [
       "               y > 50.000   y < 50.000 \n",
       "a(x) > 50.000          105           49\n",
       "a(x) < 50.000          140         3706"
      ]
     },
     "execution_count": 38,
     "metadata": {},
     "output_type": "execute_result"
    }
   ],
   "source": [
    "# Custom preprocessing\n",
    "lgbm_clf = LGBMClassifier()\n",
    "lgbm_clf.fit(X_train_fitted, y_train)\n",
    "y_pred = lgbm_clf.predict(X_val_fitted)\n",
    "hlp.compute_confusion_matrix(y_val, y_pred, [' - 50000.', ' 50000+.'], ' 50000+.')"
   ]
  },
  {
   "cell_type": "code",
   "execution_count": 39,
   "metadata": {
    "ExecuteTime": {
     "end_time": "2021-04-28T10:17:31.564916Z",
     "start_time": "2021-04-28T10:17:31.342759Z"
    }
   },
   "outputs": [
    {
     "data": {
      "text/html": [
       "<div>\n",
       "<style scoped>\n",
       "    .dataframe tbody tr th:only-of-type {\n",
       "        vertical-align: middle;\n",
       "    }\n",
       "\n",
       "    .dataframe tbody tr th {\n",
       "        vertical-align: top;\n",
       "    }\n",
       "\n",
       "    .dataframe thead th {\n",
       "        text-align: right;\n",
       "    }\n",
       "</style>\n",
       "<table border=\"1\" class=\"dataframe\">\n",
       "  <thead>\n",
       "    <tr style=\"text-align: right;\">\n",
       "      <th></th>\n",
       "      <th>result</th>\n",
       "    </tr>\n",
       "  </thead>\n",
       "  <tbody>\n",
       "    <tr>\n",
       "      <th>Balanced_Accuracy</th>\n",
       "      <td>0.708</td>\n",
       "    </tr>\n",
       "    <tr>\n",
       "      <th>MCC</th>\n",
       "      <td>0.518</td>\n",
       "    </tr>\n",
       "  </tbody>\n",
       "</table>\n",
       "</div>"
      ],
      "text/plain": [
       "                   result\n",
       "Balanced_Accuracy   0.708\n",
       "MCC                 0.518"
      ]
     },
     "execution_count": 39,
     "metadata": {},
     "output_type": "execute_result"
    }
   ],
   "source": [
    "hlp.compute_metrics(y_val, y_pred, [' - 50000.', ' 50000+.'], ' 50000+.')"
   ]
  },
  {
   "cell_type": "code",
   "execution_count": 40,
   "metadata": {
    "ExecuteTime": {
     "end_time": "2021-04-28T10:17:32.009230Z",
     "start_time": "2021-04-28T10:17:31.566918Z"
    }
   },
   "outputs": [
    {
     "data": {
      "text/html": [
       "<div>\n",
       "<style scoped>\n",
       "    .dataframe tbody tr th:only-of-type {\n",
       "        vertical-align: middle;\n",
       "    }\n",
       "\n",
       "    .dataframe tbody tr th {\n",
       "        vertical-align: top;\n",
       "    }\n",
       "\n",
       "    .dataframe thead th {\n",
       "        text-align: right;\n",
       "    }\n",
       "</style>\n",
       "<table border=\"1\" class=\"dataframe\">\n",
       "  <thead>\n",
       "    <tr style=\"text-align: right;\">\n",
       "      <th></th>\n",
       "      <th>result</th>\n",
       "    </tr>\n",
       "  </thead>\n",
       "  <tbody>\n",
       "    <tr>\n",
       "      <th>Balanced_Accuracy</th>\n",
       "      <td>0.841</td>\n",
       "    </tr>\n",
       "    <tr>\n",
       "      <th>MCC</th>\n",
       "      <td>0.782</td>\n",
       "    </tr>\n",
       "  </tbody>\n",
       "</table>\n",
       "</div>"
      ],
      "text/plain": [
       "                   result\n",
       "Balanced_Accuracy   0.841\n",
       "MCC                 0.782"
      ]
     },
     "execution_count": 40,
     "metadata": {},
     "output_type": "execute_result"
    }
   ],
   "source": [
    "y_pred = lgbm_clf.predict(X_train_fitted)\n",
    "hlp.compute_metrics(y_train, y_pred, [' - 50000.', ' 50000+.'], ' 50000+.')"
   ]
  },
  {
   "cell_type": "markdown",
   "metadata": {},
   "source": [
    "Interesting that the base preprocessing works a little better than the custom one. So the further modelling is going to be done on he data that is preprocessed with the base transformations."
   ]
  },
  {
   "cell_type": "markdown",
   "metadata": {},
   "source": [
    "# 3 Model training"
   ]
  },
  {
   "cell_type": "markdown",
   "metadata": {},
   "source": [
    "## Imbalance"
   ]
  },
  {
   "cell_type": "markdown",
   "metadata": {},
   "source": [
    "Taking into account that our sample is not so big to do some undersampling, we are going to use oversampling technique for imbalance improvement. The SMOTE technique logic is the following: First some random example from minority class is chosen. Then its neighbours are found(like in KNN). After that, synthetic example is created for a randomly selected point between the a randomly selected neighbor the original random example."
   ]
  },
  {
   "cell_type": "markdown",
   "metadata": {},
   "source": [
    "We are not going to fight the class disbalance sever to still be able to predict the validation and test samples."
   ]
  },
  {
   "cell_type": "code",
   "execution_count": 41,
   "metadata": {
    "ExecuteTime": {
     "end_time": "2021-04-28T10:17:32.621661Z",
     "start_time": "2021-04-28T10:17:32.011231Z"
    }
   },
   "outputs": [
    {
     "data": {
      "text/html": [
       "<div>\n",
       "<style scoped>\n",
       "    .dataframe tbody tr th:only-of-type {\n",
       "        vertical-align: middle;\n",
       "    }\n",
       "\n",
       "    .dataframe tbody tr th {\n",
       "        vertical-align: top;\n",
       "    }\n",
       "\n",
       "    .dataframe thead th {\n",
       "        text-align: right;\n",
       "    }\n",
       "</style>\n",
       "<table border=\"1\" class=\"dataframe\">\n",
       "  <thead>\n",
       "    <tr style=\"text-align: right;\">\n",
       "      <th></th>\n",
       "      <th>%_orig</th>\n",
       "      <th>%_fitted</th>\n",
       "      <th>count_orig</th>\n",
       "      <th>count_fitted</th>\n",
       "    </tr>\n",
       "  </thead>\n",
       "  <tbody>\n",
       "    <tr>\n",
       "      <th>&lt;50.000</th>\n",
       "      <td>0.94</td>\n",
       "      <td>0.71</td>\n",
       "      <td>15022</td>\n",
       "      <td>15022</td>\n",
       "    </tr>\n",
       "    <tr>\n",
       "      <th>&gt;50.000</th>\n",
       "      <td>0.06</td>\n",
       "      <td>0.29</td>\n",
       "      <td>978</td>\n",
       "      <td>6008</td>\n",
       "    </tr>\n",
       "  </tbody>\n",
       "</table>\n",
       "</div>"
      ],
      "text/plain": [
       "         %_orig  %_fitted  count_orig  count_fitted\n",
       "<50.000    0.94      0.71       15022         15022\n",
       ">50.000    0.06      0.29         978          6008"
      ]
     },
     "execution_count": 41,
     "metadata": {},
     "output_type": "execute_result"
    }
   ],
   "source": [
    "# Use SMOTE techinque for oversampling the minority class\n",
    "smote = SMOTE(sampling_strategy=0.4, random_state=42)\n",
    "X_train_smote, y_train_smote = smote.fit_resample(X_train_fitted, y_train)\n",
    "hlp.get_resample_results(y_train, y_train_smote)"
   ]
  },
  {
   "cell_type": "markdown",
   "metadata": {},
   "source": [
    "We can see that after SMOTE transformation the minority class grew up from 6% to 17%. That's exactly what we wanted - to adjust the minority class just a little."
   ]
  },
  {
   "cell_type": "code",
   "execution_count": 42,
   "metadata": {
    "ExecuteTime": {
     "end_time": "2021-04-28T10:17:33.919576Z",
     "start_time": "2021-04-28T10:17:32.623664Z"
    }
   },
   "outputs": [
    {
     "name": "stdout",
     "output_type": "stream",
     "text": [
      "Metrics on validation:\n"
     ]
    },
    {
     "data": {
      "text/html": [
       "<div>\n",
       "<style scoped>\n",
       "    .dataframe tbody tr th:only-of-type {\n",
       "        vertical-align: middle;\n",
       "    }\n",
       "\n",
       "    .dataframe tbody tr th {\n",
       "        vertical-align: top;\n",
       "    }\n",
       "\n",
       "    .dataframe thead th {\n",
       "        text-align: right;\n",
       "    }\n",
       "</style>\n",
       "<table border=\"1\" class=\"dataframe\">\n",
       "  <thead>\n",
       "    <tr style=\"text-align: right;\">\n",
       "      <th></th>\n",
       "      <th>result</th>\n",
       "    </tr>\n",
       "  </thead>\n",
       "  <tbody>\n",
       "    <tr>\n",
       "      <th>Balanced_Accuracy</th>\n",
       "      <td>0.768</td>\n",
       "    </tr>\n",
       "    <tr>\n",
       "      <th>MCC</th>\n",
       "      <td>0.598</td>\n",
       "    </tr>\n",
       "  </tbody>\n",
       "</table>\n",
       "</div>"
      ],
      "text/plain": [
       "                   result\n",
       "Balanced_Accuracy   0.768\n",
       "MCC                 0.598"
      ]
     },
     "execution_count": 42,
     "metadata": {},
     "output_type": "execute_result"
    }
   ],
   "source": [
    "# Fit model for the oversampled data\n",
    "lgbm_clf = LGBMClassifier()\n",
    "lgbm_clf.fit(X_train_smote, y_train_smote)\n",
    "y_pred = lgbm_clf.predict(X_val_fitted)\n",
    "print('Metrics on validation:')\n",
    "hlp.compute_metrics(y_val, y_pred, [' - 50000.', ' 50000+.'], ' 50000+.')"
   ]
  },
  {
   "cell_type": "code",
   "execution_count": 43,
   "metadata": {
    "ExecuteTime": {
     "end_time": "2021-04-28T10:17:34.390909Z",
     "start_time": "2021-04-28T10:17:33.921577Z"
    }
   },
   "outputs": [
    {
     "name": "stdout",
     "output_type": "stream",
     "text": [
      "Metrics on train:\n"
     ]
    },
    {
     "data": {
      "text/html": [
       "<div>\n",
       "<style scoped>\n",
       "    .dataframe tbody tr th:only-of-type {\n",
       "        vertical-align: middle;\n",
       "    }\n",
       "\n",
       "    .dataframe tbody tr th {\n",
       "        vertical-align: top;\n",
       "    }\n",
       "\n",
       "    .dataframe thead th {\n",
       "        text-align: right;\n",
       "    }\n",
       "</style>\n",
       "<table border=\"1\" class=\"dataframe\">\n",
       "  <thead>\n",
       "    <tr style=\"text-align: right;\">\n",
       "      <th></th>\n",
       "      <th>result</th>\n",
       "    </tr>\n",
       "  </thead>\n",
       "  <tbody>\n",
       "    <tr>\n",
       "      <th>Balanced_Accuracy</th>\n",
       "      <td>0.831</td>\n",
       "    </tr>\n",
       "    <tr>\n",
       "      <th>MCC</th>\n",
       "      <td>0.722</td>\n",
       "    </tr>\n",
       "  </tbody>\n",
       "</table>\n",
       "</div>"
      ],
      "text/plain": [
       "                   result\n",
       "Balanced_Accuracy   0.831\n",
       "MCC                 0.722"
      ]
     },
     "execution_count": 43,
     "metadata": {},
     "output_type": "execute_result"
    }
   ],
   "source": [
    "y_pred = lgbm_clf.predict(X_train_fitted)\n",
    "print('Metrics on train:')\n",
    "hlp.compute_metrics(y_train, y_pred, [' - 50000.', ' 50000+.'], ' 50000+.')"
   ]
  },
  {
   "cell_type": "markdown",
   "metadata": {},
   "source": [
    "We can see some overfitting of the model because the metrics are 12-35 higher for train compared to validation datasets. So we are going to add regularization during grid search model fitting. Also we will eliminate features based on feature importance."
   ]
  },
  {
   "cell_type": "markdown",
   "metadata": {},
   "source": [
    "## Modelling "
   ]
  },
  {
   "cell_type": "markdown",
   "metadata": {},
   "source": [
    "### LGBM"
   ]
  },
  {
   "cell_type": "markdown",
   "metadata": {},
   "source": [
    "We are going to tune hyperparameters to improve model quality and reduce overfitting. We will add regularization, limit trees depth, increase leaf size, try Gradient-based One-Side Sampling, add featuring subsampling and try sample subsampling."
   ]
  },
  {
   "cell_type": "code",
   "execution_count": 44,
   "metadata": {
    "ExecuteTime": {
     "end_time": "2021-04-28T10:17:34.564046Z",
     "start_time": "2021-04-28T10:17:34.392911Z"
    }
   },
   "outputs": [],
   "source": [
    "parameters = {\n",
    "    'min_child_samples': [20, 30],\n",
    "    'max_depth': [3, 5, 20],\n",
    "    'learning_rate': [0.1, 0.3],\n",
    "    'boosting_type': ['gbdt', 'goss'],\n",
    "    'subsample': [0.4, 1],\n",
    "    'class_weight': [{0:0.5, 1:0.5}, {0:0.3, 1:0.7}],\n",
    "\n",
    "}\n",
    "lgbm_clf = LGBMClassifier(reg_alpha=1, reg_lambda=1, colsample_bytree =0.8, random_state =42)\n",
    "lgbm_clf_cv = GridSearchCV(lgbm_clf, parameters, scoring='balanced_accuracy')"
   ]
  },
  {
   "cell_type": "code",
   "execution_count": 45,
   "metadata": {
    "ExecuteTime": {
     "end_time": "2021-04-28T10:17:34.739169Z",
     "start_time": "2021-04-28T10:17:34.565031Z"
    }
   },
   "outputs": [],
   "source": [
    "y_train_replaced = y_train_smote.replace({\" - 50000.\":0, ' 50000+.':1})"
   ]
  },
  {
   "cell_type": "code",
   "execution_count": 46,
   "metadata": {
    "ExecuteTime": {
     "end_time": "2021-04-28T10:24:15.572793Z",
     "start_time": "2021-04-28T10:17:34.741155Z"
    },
    "scrolled": true
   },
   "outputs": [
    {
     "name": "stdout",
     "output_type": "stream",
     "text": [
      "[LightGBM] [Warning] Accuracy may be bad since you didn't explicitly set num_leaves OR 2^max_depth > num_leaves. (num_leaves=31).\n",
      "[LightGBM] [Warning] Accuracy may be bad since you didn't explicitly set num_leaves OR 2^max_depth > num_leaves. (num_leaves=31).\n",
      "[LightGBM] [Warning] Accuracy may be bad since you didn't explicitly set num_leaves OR 2^max_depth > num_leaves. (num_leaves=31).\n",
      "[LightGBM] [Warning] Accuracy may be bad since you didn't explicitly set num_leaves OR 2^max_depth > num_leaves. (num_leaves=31).\n",
      "[LightGBM] [Warning] Accuracy may be bad since you didn't explicitly set num_leaves OR 2^max_depth > num_leaves. (num_leaves=31).\n",
      "[LightGBM] [Warning] Accuracy may be bad since you didn't explicitly set num_leaves OR 2^max_depth > num_leaves. (num_leaves=31).\n",
      "[LightGBM] [Warning] Accuracy may be bad since you didn't explicitly set num_leaves OR 2^max_depth > num_leaves. (num_leaves=31).\n",
      "[LightGBM] [Warning] Accuracy may be bad since you didn't explicitly set num_leaves OR 2^max_depth > num_leaves. (num_leaves=31).\n",
      "[LightGBM] [Warning] Accuracy may be bad since you didn't explicitly set num_leaves OR 2^max_depth > num_leaves. (num_leaves=31).\n",
      "[LightGBM] [Warning] Accuracy may be bad since you didn't explicitly set num_leaves OR 2^max_depth > num_leaves. (num_leaves=31).\n",
      "[LightGBM] [Warning] Accuracy may be bad since you didn't explicitly set num_leaves OR 2^max_depth > num_leaves. (num_leaves=31).\n",
      "[LightGBM] [Warning] Accuracy may be bad since you didn't explicitly set num_leaves OR 2^max_depth > num_leaves. (num_leaves=31).\n",
      "[LightGBM] [Warning] Accuracy may be bad since you didn't explicitly set num_leaves OR 2^max_depth > num_leaves. (num_leaves=31).\n",
      "[LightGBM] [Warning] Accuracy may be bad since you didn't explicitly set num_leaves OR 2^max_depth > num_leaves. (num_leaves=31).\n",
      "[LightGBM] [Warning] Accuracy may be bad since you didn't explicitly set num_leaves OR 2^max_depth > num_leaves. (num_leaves=31).\n",
      "[LightGBM] [Warning] Accuracy may be bad since you didn't explicitly set num_leaves OR 2^max_depth > num_leaves. (num_leaves=31).\n",
      "[LightGBM] [Warning] Accuracy may be bad since you didn't explicitly set num_leaves OR 2^max_depth > num_leaves. (num_leaves=31).\n",
      "[LightGBM] [Warning] Accuracy may be bad since you didn't explicitly set num_leaves OR 2^max_depth > num_leaves. (num_leaves=31).\n",
      "[LightGBM] [Warning] Accuracy may be bad since you didn't explicitly set num_leaves OR 2^max_depth > num_leaves. (num_leaves=31).\n",
      "[LightGBM] [Warning] Accuracy may be bad since you didn't explicitly set num_leaves OR 2^max_depth > num_leaves. (num_leaves=31).\n",
      "[LightGBM] [Warning] Accuracy may be bad since you didn't explicitly set num_leaves OR 2^max_depth > num_leaves. (num_leaves=31).\n",
      "[LightGBM] [Warning] Accuracy may be bad since you didn't explicitly set num_leaves OR 2^max_depth > num_leaves. (num_leaves=31).\n",
      "[LightGBM] [Warning] Accuracy may be bad since you didn't explicitly set num_leaves OR 2^max_depth > num_leaves. (num_leaves=31).\n",
      "[LightGBM] [Warning] Accuracy may be bad since you didn't explicitly set num_leaves OR 2^max_depth > num_leaves. (num_leaves=31).\n",
      "[LightGBM] [Warning] Accuracy may be bad since you didn't explicitly set num_leaves OR 2^max_depth > num_leaves. (num_leaves=31).\n",
      "[LightGBM] [Warning] Accuracy may be bad since you didn't explicitly set num_leaves OR 2^max_depth > num_leaves. (num_leaves=31).\n",
      "[LightGBM] [Warning] Accuracy may be bad since you didn't explicitly set num_leaves OR 2^max_depth > num_leaves. (num_leaves=31).\n",
      "[LightGBM] [Warning] Accuracy may be bad since you didn't explicitly set num_leaves OR 2^max_depth > num_leaves. (num_leaves=31).\n",
      "[LightGBM] [Warning] Accuracy may be bad since you didn't explicitly set num_leaves OR 2^max_depth > num_leaves. (num_leaves=31).\n",
      "[LightGBM] [Warning] Accuracy may be bad since you didn't explicitly set num_leaves OR 2^max_depth > num_leaves. (num_leaves=31).\n",
      "[LightGBM] [Warning] Accuracy may be bad since you didn't explicitly set num_leaves OR 2^max_depth > num_leaves. (num_leaves=31).\n",
      "[LightGBM] [Warning] Accuracy may be bad since you didn't explicitly set num_leaves OR 2^max_depth > num_leaves. (num_leaves=31).\n",
      "[LightGBM] [Warning] Accuracy may be bad since you didn't explicitly set num_leaves OR 2^max_depth > num_leaves. (num_leaves=31).\n",
      "[LightGBM] [Warning] Accuracy may be bad since you didn't explicitly set num_leaves OR 2^max_depth > num_leaves. (num_leaves=31).\n",
      "[LightGBM] [Warning] Accuracy may be bad since you didn't explicitly set num_leaves OR 2^max_depth > num_leaves. (num_leaves=31).\n",
      "[LightGBM] [Warning] Accuracy may be bad since you didn't explicitly set num_leaves OR 2^max_depth > num_leaves. (num_leaves=31).\n",
      "[LightGBM] [Warning] Accuracy may be bad since you didn't explicitly set num_leaves OR 2^max_depth > num_leaves. (num_leaves=31).\n",
      "[LightGBM] [Warning] Accuracy may be bad since you didn't explicitly set num_leaves OR 2^max_depth > num_leaves. (num_leaves=31).\n",
      "[LightGBM] [Warning] Accuracy may be bad since you didn't explicitly set num_leaves OR 2^max_depth > num_leaves. (num_leaves=31).\n",
      "[LightGBM] [Warning] Accuracy may be bad since you didn't explicitly set num_leaves OR 2^max_depth > num_leaves. (num_leaves=31).\n",
      "[LightGBM] [Warning] Accuracy may be bad since you didn't explicitly set num_leaves OR 2^max_depth > num_leaves. (num_leaves=31).\n",
      "[LightGBM] [Warning] Accuracy may be bad since you didn't explicitly set num_leaves OR 2^max_depth > num_leaves. (num_leaves=31).\n",
      "[LightGBM] [Warning] Accuracy may be bad since you didn't explicitly set num_leaves OR 2^max_depth > num_leaves. (num_leaves=31).\n",
      "[LightGBM] [Warning] Accuracy may be bad since you didn't explicitly set num_leaves OR 2^max_depth > num_leaves. (num_leaves=31).\n",
      "[LightGBM] [Warning] Accuracy may be bad since you didn't explicitly set num_leaves OR 2^max_depth > num_leaves. (num_leaves=31).\n",
      "[LightGBM] [Warning] Accuracy may be bad since you didn't explicitly set num_leaves OR 2^max_depth > num_leaves. (num_leaves=31).\n",
      "[LightGBM] [Warning] Accuracy may be bad since you didn't explicitly set num_leaves OR 2^max_depth > num_leaves. (num_leaves=31).\n",
      "[LightGBM] [Warning] Accuracy may be bad since you didn't explicitly set num_leaves OR 2^max_depth > num_leaves. (num_leaves=31).\n",
      "[LightGBM] [Warning] Accuracy may be bad since you didn't explicitly set num_leaves OR 2^max_depth > num_leaves. (num_leaves=31).\n",
      "[LightGBM] [Warning] Accuracy may be bad since you didn't explicitly set num_leaves OR 2^max_depth > num_leaves. (num_leaves=31).\n",
      "[LightGBM] [Warning] Accuracy may be bad since you didn't explicitly set num_leaves OR 2^max_depth > num_leaves. (num_leaves=31).\n",
      "[LightGBM] [Warning] Accuracy may be bad since you didn't explicitly set num_leaves OR 2^max_depth > num_leaves. (num_leaves=31).\n",
      "[LightGBM] [Warning] Accuracy may be bad since you didn't explicitly set num_leaves OR 2^max_depth > num_leaves. (num_leaves=31).\n",
      "[LightGBM] [Warning] Accuracy may be bad since you didn't explicitly set num_leaves OR 2^max_depth > num_leaves. (num_leaves=31).\n",
      "[LightGBM] [Warning] Accuracy may be bad since you didn't explicitly set num_leaves OR 2^max_depth > num_leaves. (num_leaves=31).\n",
      "[LightGBM] [Warning] Accuracy may be bad since you didn't explicitly set num_leaves OR 2^max_depth > num_leaves. (num_leaves=31).\n",
      "[LightGBM] [Warning] Accuracy may be bad since you didn't explicitly set num_leaves OR 2^max_depth > num_leaves. (num_leaves=31).\n",
      "[LightGBM] [Warning] Accuracy may be bad since you didn't explicitly set num_leaves OR 2^max_depth > num_leaves. (num_leaves=31).\n",
      "[LightGBM] [Warning] Accuracy may be bad since you didn't explicitly set num_leaves OR 2^max_depth > num_leaves. (num_leaves=31).\n",
      "[LightGBM] [Warning] Accuracy may be bad since you didn't explicitly set num_leaves OR 2^max_depth > num_leaves. (num_leaves=31).\n",
      "[LightGBM] [Warning] Accuracy may be bad since you didn't explicitly set num_leaves OR 2^max_depth > num_leaves. (num_leaves=31).\n",
      "[LightGBM] [Warning] Accuracy may be bad since you didn't explicitly set num_leaves OR 2^max_depth > num_leaves. (num_leaves=31).\n",
      "[LightGBM] [Warning] Accuracy may be bad since you didn't explicitly set num_leaves OR 2^max_depth > num_leaves. (num_leaves=31).\n",
      "[LightGBM] [Warning] Accuracy may be bad since you didn't explicitly set num_leaves OR 2^max_depth > num_leaves. (num_leaves=31).\n"
     ]
    },
    {
     "name": "stdout",
     "output_type": "stream",
     "text": [
      "[LightGBM] [Warning] Accuracy may be bad since you didn't explicitly set num_leaves OR 2^max_depth > num_leaves. (num_leaves=31).\n",
      "[LightGBM] [Warning] Accuracy may be bad since you didn't explicitly set num_leaves OR 2^max_depth > num_leaves. (num_leaves=31).\n",
      "[LightGBM] [Warning] Accuracy may be bad since you didn't explicitly set num_leaves OR 2^max_depth > num_leaves. (num_leaves=31).\n",
      "[LightGBM] [Warning] Accuracy may be bad since you didn't explicitly set num_leaves OR 2^max_depth > num_leaves. (num_leaves=31).\n",
      "[LightGBM] [Warning] Accuracy may be bad since you didn't explicitly set num_leaves OR 2^max_depth > num_leaves. (num_leaves=31).\n",
      "[LightGBM] [Warning] Accuracy may be bad since you didn't explicitly set num_leaves OR 2^max_depth > num_leaves. (num_leaves=31).\n",
      "[LightGBM] [Warning] Accuracy may be bad since you didn't explicitly set num_leaves OR 2^max_depth > num_leaves. (num_leaves=31).\n",
      "[LightGBM] [Warning] Accuracy may be bad since you didn't explicitly set num_leaves OR 2^max_depth > num_leaves. (num_leaves=31).\n",
      "[LightGBM] [Warning] Accuracy may be bad since you didn't explicitly set num_leaves OR 2^max_depth > num_leaves. (num_leaves=31).\n",
      "[LightGBM] [Warning] Accuracy may be bad since you didn't explicitly set num_leaves OR 2^max_depth > num_leaves. (num_leaves=31).\n",
      "[LightGBM] [Warning] Accuracy may be bad since you didn't explicitly set num_leaves OR 2^max_depth > num_leaves. (num_leaves=31).\n",
      "[LightGBM] [Warning] Accuracy may be bad since you didn't explicitly set num_leaves OR 2^max_depth > num_leaves. (num_leaves=31).\n",
      "[LightGBM] [Warning] Accuracy may be bad since you didn't explicitly set num_leaves OR 2^max_depth > num_leaves. (num_leaves=31).\n",
      "[LightGBM] [Warning] Accuracy may be bad since you didn't explicitly set num_leaves OR 2^max_depth > num_leaves. (num_leaves=31).\n",
      "[LightGBM] [Warning] Accuracy may be bad since you didn't explicitly set num_leaves OR 2^max_depth > num_leaves. (num_leaves=31).\n",
      "[LightGBM] [Warning] Accuracy may be bad since you didn't explicitly set num_leaves OR 2^max_depth > num_leaves. (num_leaves=31).\n",
      "[LightGBM] [Warning] Accuracy may be bad since you didn't explicitly set num_leaves OR 2^max_depth > num_leaves. (num_leaves=31).\n",
      "[LightGBM] [Warning] Accuracy may be bad since you didn't explicitly set num_leaves OR 2^max_depth > num_leaves. (num_leaves=31).\n",
      "[LightGBM] [Warning] Accuracy may be bad since you didn't explicitly set num_leaves OR 2^max_depth > num_leaves. (num_leaves=31).\n",
      "[LightGBM] [Warning] Accuracy may be bad since you didn't explicitly set num_leaves OR 2^max_depth > num_leaves. (num_leaves=31).\n",
      "[LightGBM] [Warning] Accuracy may be bad since you didn't explicitly set num_leaves OR 2^max_depth > num_leaves. (num_leaves=31).\n",
      "[LightGBM] [Warning] Accuracy may be bad since you didn't explicitly set num_leaves OR 2^max_depth > num_leaves. (num_leaves=31).\n",
      "[LightGBM] [Warning] Accuracy may be bad since you didn't explicitly set num_leaves OR 2^max_depth > num_leaves. (num_leaves=31).\n",
      "[LightGBM] [Warning] Accuracy may be bad since you didn't explicitly set num_leaves OR 2^max_depth > num_leaves. (num_leaves=31).\n",
      "[LightGBM] [Warning] Accuracy may be bad since you didn't explicitly set num_leaves OR 2^max_depth > num_leaves. (num_leaves=31).\n",
      "[LightGBM] [Warning] Accuracy may be bad since you didn't explicitly set num_leaves OR 2^max_depth > num_leaves. (num_leaves=31).\n",
      "[LightGBM] [Warning] Accuracy may be bad since you didn't explicitly set num_leaves OR 2^max_depth > num_leaves. (num_leaves=31).\n",
      "[LightGBM] [Warning] Accuracy may be bad since you didn't explicitly set num_leaves OR 2^max_depth > num_leaves. (num_leaves=31).\n",
      "[LightGBM] [Warning] Accuracy may be bad since you didn't explicitly set num_leaves OR 2^max_depth > num_leaves. (num_leaves=31).\n",
      "[LightGBM] [Warning] Accuracy may be bad since you didn't explicitly set num_leaves OR 2^max_depth > num_leaves. (num_leaves=31).\n",
      "[LightGBM] [Warning] Accuracy may be bad since you didn't explicitly set num_leaves OR 2^max_depth > num_leaves. (num_leaves=31).\n",
      "[LightGBM] [Warning] Accuracy may be bad since you didn't explicitly set num_leaves OR 2^max_depth > num_leaves. (num_leaves=31).\n",
      "[LightGBM] [Warning] Accuracy may be bad since you didn't explicitly set num_leaves OR 2^max_depth > num_leaves. (num_leaves=31).\n",
      "[LightGBM] [Warning] Accuracy may be bad since you didn't explicitly set num_leaves OR 2^max_depth > num_leaves. (num_leaves=31).\n",
      "[LightGBM] [Warning] Accuracy may be bad since you didn't explicitly set num_leaves OR 2^max_depth > num_leaves. (num_leaves=31).\n",
      "[LightGBM] [Warning] Accuracy may be bad since you didn't explicitly set num_leaves OR 2^max_depth > num_leaves. (num_leaves=31).\n",
      "[LightGBM] [Warning] Accuracy may be bad since you didn't explicitly set num_leaves OR 2^max_depth > num_leaves. (num_leaves=31).\n",
      "[LightGBM] [Warning] Accuracy may be bad since you didn't explicitly set num_leaves OR 2^max_depth > num_leaves. (num_leaves=31).\n",
      "[LightGBM] [Warning] Accuracy may be bad since you didn't explicitly set num_leaves OR 2^max_depth > num_leaves. (num_leaves=31).\n",
      "[LightGBM] [Warning] Accuracy may be bad since you didn't explicitly set num_leaves OR 2^max_depth > num_leaves. (num_leaves=31).\n",
      "[LightGBM] [Warning] Accuracy may be bad since you didn't explicitly set num_leaves OR 2^max_depth > num_leaves. (num_leaves=31).\n",
      "[LightGBM] [Warning] Accuracy may be bad since you didn't explicitly set num_leaves OR 2^max_depth > num_leaves. (num_leaves=31).\n",
      "[LightGBM] [Warning] Accuracy may be bad since you didn't explicitly set num_leaves OR 2^max_depth > num_leaves. (num_leaves=31).\n",
      "[LightGBM] [Warning] Accuracy may be bad since you didn't explicitly set num_leaves OR 2^max_depth > num_leaves. (num_leaves=31).\n",
      "[LightGBM] [Warning] Accuracy may be bad since you didn't explicitly set num_leaves OR 2^max_depth > num_leaves. (num_leaves=31).\n",
      "[LightGBM] [Warning] Accuracy may be bad since you didn't explicitly set num_leaves OR 2^max_depth > num_leaves. (num_leaves=31).\n",
      "[LightGBM] [Warning] Accuracy may be bad since you didn't explicitly set num_leaves OR 2^max_depth > num_leaves. (num_leaves=31).\n",
      "[LightGBM] [Warning] Accuracy may be bad since you didn't explicitly set num_leaves OR 2^max_depth > num_leaves. (num_leaves=31).\n",
      "[LightGBM] [Warning] Accuracy may be bad since you didn't explicitly set num_leaves OR 2^max_depth > num_leaves. (num_leaves=31).\n",
      "[LightGBM] [Warning] Accuracy may be bad since you didn't explicitly set num_leaves OR 2^max_depth > num_leaves. (num_leaves=31).\n",
      "[LightGBM] [Warning] Accuracy may be bad since you didn't explicitly set num_leaves OR 2^max_depth > num_leaves. (num_leaves=31).\n",
      "[LightGBM] [Warning] Accuracy may be bad since you didn't explicitly set num_leaves OR 2^max_depth > num_leaves. (num_leaves=31).\n",
      "[LightGBM] [Warning] Accuracy may be bad since you didn't explicitly set num_leaves OR 2^max_depth > num_leaves. (num_leaves=31).\n",
      "[LightGBM] [Warning] Accuracy may be bad since you didn't explicitly set num_leaves OR 2^max_depth > num_leaves. (num_leaves=31).\n",
      "[LightGBM] [Warning] Accuracy may be bad since you didn't explicitly set num_leaves OR 2^max_depth > num_leaves. (num_leaves=31).\n",
      "[LightGBM] [Warning] Accuracy may be bad since you didn't explicitly set num_leaves OR 2^max_depth > num_leaves. (num_leaves=31).\n",
      "[LightGBM] [Warning] Accuracy may be bad since you didn't explicitly set num_leaves OR 2^max_depth > num_leaves. (num_leaves=31).\n",
      "[LightGBM] [Warning] Accuracy may be bad since you didn't explicitly set num_leaves OR 2^max_depth > num_leaves. (num_leaves=31).\n",
      "[LightGBM] [Warning] Accuracy may be bad since you didn't explicitly set num_leaves OR 2^max_depth > num_leaves. (num_leaves=31).\n",
      "[LightGBM] [Warning] Accuracy may be bad since you didn't explicitly set num_leaves OR 2^max_depth > num_leaves. (num_leaves=31).\n",
      "[LightGBM] [Warning] Accuracy may be bad since you didn't explicitly set num_leaves OR 2^max_depth > num_leaves. (num_leaves=31).\n",
      "[LightGBM] [Warning] Accuracy may be bad since you didn't explicitly set num_leaves OR 2^max_depth > num_leaves. (num_leaves=31).\n",
      "[LightGBM] [Warning] Accuracy may be bad since you didn't explicitly set num_leaves OR 2^max_depth > num_leaves. (num_leaves=31).\n",
      "[LightGBM] [Warning] Accuracy may be bad since you didn't explicitly set num_leaves OR 2^max_depth > num_leaves. (num_leaves=31).\n"
     ]
    },
    {
     "name": "stdout",
     "output_type": "stream",
     "text": [
      "[LightGBM] [Warning] Accuracy may be bad since you didn't explicitly set num_leaves OR 2^max_depth > num_leaves. (num_leaves=31).\n",
      "[LightGBM] [Warning] Accuracy may be bad since you didn't explicitly set num_leaves OR 2^max_depth > num_leaves. (num_leaves=31).\n",
      "[LightGBM] [Warning] Accuracy may be bad since you didn't explicitly set num_leaves OR 2^max_depth > num_leaves. (num_leaves=31).\n",
      "[LightGBM] [Warning] Accuracy may be bad since you didn't explicitly set num_leaves OR 2^max_depth > num_leaves. (num_leaves=31).\n",
      "[LightGBM] [Warning] Accuracy may be bad since you didn't explicitly set num_leaves OR 2^max_depth > num_leaves. (num_leaves=31).\n",
      "[LightGBM] [Warning] Accuracy may be bad since you didn't explicitly set num_leaves OR 2^max_depth > num_leaves. (num_leaves=31).\n",
      "[LightGBM] [Warning] Accuracy may be bad since you didn't explicitly set num_leaves OR 2^max_depth > num_leaves. (num_leaves=31).\n",
      "[LightGBM] [Warning] Accuracy may be bad since you didn't explicitly set num_leaves OR 2^max_depth > num_leaves. (num_leaves=31).\n",
      "[LightGBM] [Warning] Accuracy may be bad since you didn't explicitly set num_leaves OR 2^max_depth > num_leaves. (num_leaves=31).\n",
      "[LightGBM] [Warning] Accuracy may be bad since you didn't explicitly set num_leaves OR 2^max_depth > num_leaves. (num_leaves=31).\n",
      "[LightGBM] [Warning] Accuracy may be bad since you didn't explicitly set num_leaves OR 2^max_depth > num_leaves. (num_leaves=31).\n",
      "[LightGBM] [Warning] Accuracy may be bad since you didn't explicitly set num_leaves OR 2^max_depth > num_leaves. (num_leaves=31).\n",
      "[LightGBM] [Warning] Accuracy may be bad since you didn't explicitly set num_leaves OR 2^max_depth > num_leaves. (num_leaves=31).\n",
      "[LightGBM] [Warning] Accuracy may be bad since you didn't explicitly set num_leaves OR 2^max_depth > num_leaves. (num_leaves=31).\n",
      "[LightGBM] [Warning] Accuracy may be bad since you didn't explicitly set num_leaves OR 2^max_depth > num_leaves. (num_leaves=31).\n",
      "[LightGBM] [Warning] Accuracy may be bad since you didn't explicitly set num_leaves OR 2^max_depth > num_leaves. (num_leaves=31).\n",
      "[LightGBM] [Warning] Accuracy may be bad since you didn't explicitly set num_leaves OR 2^max_depth > num_leaves. (num_leaves=31).\n",
      "[LightGBM] [Warning] Accuracy may be bad since you didn't explicitly set num_leaves OR 2^max_depth > num_leaves. (num_leaves=31).\n",
      "[LightGBM] [Warning] Accuracy may be bad since you didn't explicitly set num_leaves OR 2^max_depth > num_leaves. (num_leaves=31).\n",
      "[LightGBM] [Warning] Accuracy may be bad since you didn't explicitly set num_leaves OR 2^max_depth > num_leaves. (num_leaves=31).\n",
      "[LightGBM] [Warning] Accuracy may be bad since you didn't explicitly set num_leaves OR 2^max_depth > num_leaves. (num_leaves=31).\n",
      "[LightGBM] [Warning] Accuracy may be bad since you didn't explicitly set num_leaves OR 2^max_depth > num_leaves. (num_leaves=31).\n",
      "[LightGBM] [Warning] Accuracy may be bad since you didn't explicitly set num_leaves OR 2^max_depth > num_leaves. (num_leaves=31).\n",
      "[LightGBM] [Warning] Accuracy may be bad since you didn't explicitly set num_leaves OR 2^max_depth > num_leaves. (num_leaves=31).\n",
      "[LightGBM] [Warning] Accuracy may be bad since you didn't explicitly set num_leaves OR 2^max_depth > num_leaves. (num_leaves=31).\n",
      "[LightGBM] [Warning] Accuracy may be bad since you didn't explicitly set num_leaves OR 2^max_depth > num_leaves. (num_leaves=31).\n",
      "[LightGBM] [Warning] Accuracy may be bad since you didn't explicitly set num_leaves OR 2^max_depth > num_leaves. (num_leaves=31).\n",
      "[LightGBM] [Warning] Accuracy may be bad since you didn't explicitly set num_leaves OR 2^max_depth > num_leaves. (num_leaves=31).\n",
      "[LightGBM] [Warning] Accuracy may be bad since you didn't explicitly set num_leaves OR 2^max_depth > num_leaves. (num_leaves=31).\n",
      "[LightGBM] [Warning] Accuracy may be bad since you didn't explicitly set num_leaves OR 2^max_depth > num_leaves. (num_leaves=31).\n",
      "[LightGBM] [Warning] Accuracy may be bad since you didn't explicitly set num_leaves OR 2^max_depth > num_leaves. (num_leaves=31).\n",
      "[LightGBM] [Warning] Accuracy may be bad since you didn't explicitly set num_leaves OR 2^max_depth > num_leaves. (num_leaves=31).\n",
      "[LightGBM] [Warning] Accuracy may be bad since you didn't explicitly set num_leaves OR 2^max_depth > num_leaves. (num_leaves=31).\n",
      "[LightGBM] [Warning] Accuracy may be bad since you didn't explicitly set num_leaves OR 2^max_depth > num_leaves. (num_leaves=31).\n",
      "[LightGBM] [Warning] Accuracy may be bad since you didn't explicitly set num_leaves OR 2^max_depth > num_leaves. (num_leaves=31).\n",
      "[LightGBM] [Warning] Accuracy may be bad since you didn't explicitly set num_leaves OR 2^max_depth > num_leaves. (num_leaves=31).\n",
      "[LightGBM] [Warning] Accuracy may be bad since you didn't explicitly set num_leaves OR 2^max_depth > num_leaves. (num_leaves=31).\n",
      "[LightGBM] [Warning] Accuracy may be bad since you didn't explicitly set num_leaves OR 2^max_depth > num_leaves. (num_leaves=31).\n",
      "[LightGBM] [Warning] Accuracy may be bad since you didn't explicitly set num_leaves OR 2^max_depth > num_leaves. (num_leaves=31).\n",
      "[LightGBM] [Warning] Accuracy may be bad since you didn't explicitly set num_leaves OR 2^max_depth > num_leaves. (num_leaves=31).\n",
      "[LightGBM] [Warning] Accuracy may be bad since you didn't explicitly set num_leaves OR 2^max_depth > num_leaves. (num_leaves=31).\n",
      "[LightGBM] [Warning] Accuracy may be bad since you didn't explicitly set num_leaves OR 2^max_depth > num_leaves. (num_leaves=31).\n",
      "[LightGBM] [Warning] Accuracy may be bad since you didn't explicitly set num_leaves OR 2^max_depth > num_leaves. (num_leaves=31).\n",
      "[LightGBM] [Warning] Accuracy may be bad since you didn't explicitly set num_leaves OR 2^max_depth > num_leaves. (num_leaves=31).\n",
      "[LightGBM] [Warning] Accuracy may be bad since you didn't explicitly set num_leaves OR 2^max_depth > num_leaves. (num_leaves=31).\n",
      "[LightGBM] [Warning] Accuracy may be bad since you didn't explicitly set num_leaves OR 2^max_depth > num_leaves. (num_leaves=31).\n",
      "[LightGBM] [Warning] Accuracy may be bad since you didn't explicitly set num_leaves OR 2^max_depth > num_leaves. (num_leaves=31).\n",
      "[LightGBM] [Warning] Accuracy may be bad since you didn't explicitly set num_leaves OR 2^max_depth > num_leaves. (num_leaves=31).\n",
      "[LightGBM] [Warning] Accuracy may be bad since you didn't explicitly set num_leaves OR 2^max_depth > num_leaves. (num_leaves=31).\n",
      "[LightGBM] [Warning] Accuracy may be bad since you didn't explicitly set num_leaves OR 2^max_depth > num_leaves. (num_leaves=31).\n",
      "[LightGBM] [Warning] Accuracy may be bad since you didn't explicitly set num_leaves OR 2^max_depth > num_leaves. (num_leaves=31).\n",
      "[LightGBM] [Warning] Accuracy may be bad since you didn't explicitly set num_leaves OR 2^max_depth > num_leaves. (num_leaves=31).\n",
      "[LightGBM] [Warning] Accuracy may be bad since you didn't explicitly set num_leaves OR 2^max_depth > num_leaves. (num_leaves=31).\n",
      "[LightGBM] [Warning] Accuracy may be bad since you didn't explicitly set num_leaves OR 2^max_depth > num_leaves. (num_leaves=31).\n",
      "[LightGBM] [Warning] Accuracy may be bad since you didn't explicitly set num_leaves OR 2^max_depth > num_leaves. (num_leaves=31).\n",
      "[LightGBM] [Warning] Accuracy may be bad since you didn't explicitly set num_leaves OR 2^max_depth > num_leaves. (num_leaves=31).\n",
      "[LightGBM] [Warning] Accuracy may be bad since you didn't explicitly set num_leaves OR 2^max_depth > num_leaves. (num_leaves=31).\n",
      "[LightGBM] [Warning] Accuracy may be bad since you didn't explicitly set num_leaves OR 2^max_depth > num_leaves. (num_leaves=31).\n",
      "[LightGBM] [Warning] Accuracy may be bad since you didn't explicitly set num_leaves OR 2^max_depth > num_leaves. (num_leaves=31).\n",
      "[LightGBM] [Warning] Accuracy may be bad since you didn't explicitly set num_leaves OR 2^max_depth > num_leaves. (num_leaves=31).\n",
      "[LightGBM] [Warning] Accuracy may be bad since you didn't explicitly set num_leaves OR 2^max_depth > num_leaves. (num_leaves=31).\n",
      "[LightGBM] [Warning] Accuracy may be bad since you didn't explicitly set num_leaves OR 2^max_depth > num_leaves. (num_leaves=31).\n",
      "[LightGBM] [Warning] Accuracy may be bad since you didn't explicitly set num_leaves OR 2^max_depth > num_leaves. (num_leaves=31).\n",
      "[LightGBM] [Warning] Accuracy may be bad since you didn't explicitly set num_leaves OR 2^max_depth > num_leaves. (num_leaves=31).\n"
     ]
    },
    {
     "name": "stdout",
     "output_type": "stream",
     "text": [
      "[LightGBM] [Warning] Accuracy may be bad since you didn't explicitly set num_leaves OR 2^max_depth > num_leaves. (num_leaves=31).\n",
      "[LightGBM] [Warning] Accuracy may be bad since you didn't explicitly set num_leaves OR 2^max_depth > num_leaves. (num_leaves=31).\n",
      "[LightGBM] [Warning] Accuracy may be bad since you didn't explicitly set num_leaves OR 2^max_depth > num_leaves. (num_leaves=31).\n",
      "[LightGBM] [Warning] Accuracy may be bad since you didn't explicitly set num_leaves OR 2^max_depth > num_leaves. (num_leaves=31).\n",
      "[LightGBM] [Warning] Accuracy may be bad since you didn't explicitly set num_leaves OR 2^max_depth > num_leaves. (num_leaves=31).\n",
      "[LightGBM] [Warning] Accuracy may be bad since you didn't explicitly set num_leaves OR 2^max_depth > num_leaves. (num_leaves=31).\n",
      "[LightGBM] [Warning] Accuracy may be bad since you didn't explicitly set num_leaves OR 2^max_depth > num_leaves. (num_leaves=31).\n",
      "[LightGBM] [Warning] Accuracy may be bad since you didn't explicitly set num_leaves OR 2^max_depth > num_leaves. (num_leaves=31).\n",
      "[LightGBM] [Warning] Accuracy may be bad since you didn't explicitly set num_leaves OR 2^max_depth > num_leaves. (num_leaves=31).\n",
      "[LightGBM] [Warning] Accuracy may be bad since you didn't explicitly set num_leaves OR 2^max_depth > num_leaves. (num_leaves=31).\n",
      "[LightGBM] [Warning] Accuracy may be bad since you didn't explicitly set num_leaves OR 2^max_depth > num_leaves. (num_leaves=31).\n",
      "[LightGBM] [Warning] Accuracy may be bad since you didn't explicitly set num_leaves OR 2^max_depth > num_leaves. (num_leaves=31).\n",
      "[LightGBM] [Warning] Accuracy may be bad since you didn't explicitly set num_leaves OR 2^max_depth > num_leaves. (num_leaves=31).\n",
      "[LightGBM] [Warning] Accuracy may be bad since you didn't explicitly set num_leaves OR 2^max_depth > num_leaves. (num_leaves=31).\n",
      "[LightGBM] [Warning] Accuracy may be bad since you didn't explicitly set num_leaves OR 2^max_depth > num_leaves. (num_leaves=31).\n",
      "[LightGBM] [Warning] Accuracy may be bad since you didn't explicitly set num_leaves OR 2^max_depth > num_leaves. (num_leaves=31).\n",
      "[LightGBM] [Warning] Accuracy may be bad since you didn't explicitly set num_leaves OR 2^max_depth > num_leaves. (num_leaves=31).\n",
      "[LightGBM] [Warning] Accuracy may be bad since you didn't explicitly set num_leaves OR 2^max_depth > num_leaves. (num_leaves=31).\n",
      "[LightGBM] [Warning] Accuracy may be bad since you didn't explicitly set num_leaves OR 2^max_depth > num_leaves. (num_leaves=31).\n",
      "[LightGBM] [Warning] Accuracy may be bad since you didn't explicitly set num_leaves OR 2^max_depth > num_leaves. (num_leaves=31).\n",
      "[LightGBM] [Warning] Accuracy may be bad since you didn't explicitly set num_leaves OR 2^max_depth > num_leaves. (num_leaves=31).\n",
      "[LightGBM] [Warning] Accuracy may be bad since you didn't explicitly set num_leaves OR 2^max_depth > num_leaves. (num_leaves=31).\n",
      "[LightGBM] [Warning] Accuracy may be bad since you didn't explicitly set num_leaves OR 2^max_depth > num_leaves. (num_leaves=31).\n",
      "[LightGBM] [Warning] Accuracy may be bad since you didn't explicitly set num_leaves OR 2^max_depth > num_leaves. (num_leaves=31).\n",
      "[LightGBM] [Warning] Accuracy may be bad since you didn't explicitly set num_leaves OR 2^max_depth > num_leaves. (num_leaves=31).\n",
      "[LightGBM] [Warning] Accuracy may be bad since you didn't explicitly set num_leaves OR 2^max_depth > num_leaves. (num_leaves=31).\n",
      "[LightGBM] [Warning] Accuracy may be bad since you didn't explicitly set num_leaves OR 2^max_depth > num_leaves. (num_leaves=31).\n",
      "[LightGBM] [Warning] Accuracy may be bad since you didn't explicitly set num_leaves OR 2^max_depth > num_leaves. (num_leaves=31).\n",
      "[LightGBM] [Warning] Accuracy may be bad since you didn't explicitly set num_leaves OR 2^max_depth > num_leaves. (num_leaves=31).\n",
      "[LightGBM] [Warning] Accuracy may be bad since you didn't explicitly set num_leaves OR 2^max_depth > num_leaves. (num_leaves=31).\n",
      "[LightGBM] [Warning] Accuracy may be bad since you didn't explicitly set num_leaves OR 2^max_depth > num_leaves. (num_leaves=31).\n",
      "[LightGBM] [Warning] Accuracy may be bad since you didn't explicitly set num_leaves OR 2^max_depth > num_leaves. (num_leaves=31).\n",
      "[LightGBM] [Warning] Accuracy may be bad since you didn't explicitly set num_leaves OR 2^max_depth > num_leaves. (num_leaves=31).\n",
      "[LightGBM] [Warning] Accuracy may be bad since you didn't explicitly set num_leaves OR 2^max_depth > num_leaves. (num_leaves=31).\n",
      "[LightGBM] [Warning] Accuracy may be bad since you didn't explicitly set num_leaves OR 2^max_depth > num_leaves. (num_leaves=31).\n",
      "[LightGBM] [Warning] Accuracy may be bad since you didn't explicitly set num_leaves OR 2^max_depth > num_leaves. (num_leaves=31).\n",
      "[LightGBM] [Warning] Accuracy may be bad since you didn't explicitly set num_leaves OR 2^max_depth > num_leaves. (num_leaves=31).\n",
      "[LightGBM] [Warning] Accuracy may be bad since you didn't explicitly set num_leaves OR 2^max_depth > num_leaves. (num_leaves=31).\n",
      "[LightGBM] [Warning] Accuracy may be bad since you didn't explicitly set num_leaves OR 2^max_depth > num_leaves. (num_leaves=31).\n",
      "[LightGBM] [Warning] Accuracy may be bad since you didn't explicitly set num_leaves OR 2^max_depth > num_leaves. (num_leaves=31).\n",
      "[LightGBM] [Warning] Accuracy may be bad since you didn't explicitly set num_leaves OR 2^max_depth > num_leaves. (num_leaves=31).\n",
      "[LightGBM] [Warning] Accuracy may be bad since you didn't explicitly set num_leaves OR 2^max_depth > num_leaves. (num_leaves=31).\n",
      "[LightGBM] [Warning] Accuracy may be bad since you didn't explicitly set num_leaves OR 2^max_depth > num_leaves. (num_leaves=31).\n",
      "[LightGBM] [Warning] Accuracy may be bad since you didn't explicitly set num_leaves OR 2^max_depth > num_leaves. (num_leaves=31).\n",
      "[LightGBM] [Warning] Accuracy may be bad since you didn't explicitly set num_leaves OR 2^max_depth > num_leaves. (num_leaves=31).\n",
      "[LightGBM] [Warning] Accuracy may be bad since you didn't explicitly set num_leaves OR 2^max_depth > num_leaves. (num_leaves=31).\n",
      "[LightGBM] [Warning] Accuracy may be bad since you didn't explicitly set num_leaves OR 2^max_depth > num_leaves. (num_leaves=31).\n",
      "[LightGBM] [Warning] Accuracy may be bad since you didn't explicitly set num_leaves OR 2^max_depth > num_leaves. (num_leaves=31).\n",
      "[LightGBM] [Warning] Accuracy may be bad since you didn't explicitly set num_leaves OR 2^max_depth > num_leaves. (num_leaves=31).\n",
      "[LightGBM] [Warning] Accuracy may be bad since you didn't explicitly set num_leaves OR 2^max_depth > num_leaves. (num_leaves=31).\n",
      "[LightGBM] [Warning] Accuracy may be bad since you didn't explicitly set num_leaves OR 2^max_depth > num_leaves. (num_leaves=31).\n",
      "[LightGBM] [Warning] Accuracy may be bad since you didn't explicitly set num_leaves OR 2^max_depth > num_leaves. (num_leaves=31).\n",
      "[LightGBM] [Warning] Accuracy may be bad since you didn't explicitly set num_leaves OR 2^max_depth > num_leaves. (num_leaves=31).\n",
      "[LightGBM] [Warning] Accuracy may be bad since you didn't explicitly set num_leaves OR 2^max_depth > num_leaves. (num_leaves=31).\n",
      "[LightGBM] [Warning] Accuracy may be bad since you didn't explicitly set num_leaves OR 2^max_depth > num_leaves. (num_leaves=31).\n",
      "[LightGBM] [Warning] Accuracy may be bad since you didn't explicitly set num_leaves OR 2^max_depth > num_leaves. (num_leaves=31).\n",
      "[LightGBM] [Warning] Accuracy may be bad since you didn't explicitly set num_leaves OR 2^max_depth > num_leaves. (num_leaves=31).\n",
      "[LightGBM] [Warning] Accuracy may be bad since you didn't explicitly set num_leaves OR 2^max_depth > num_leaves. (num_leaves=31).\n",
      "[LightGBM] [Warning] Accuracy may be bad since you didn't explicitly set num_leaves OR 2^max_depth > num_leaves. (num_leaves=31).\n",
      "[LightGBM] [Warning] Accuracy may be bad since you didn't explicitly set num_leaves OR 2^max_depth > num_leaves. (num_leaves=31).\n",
      "[LightGBM] [Warning] Accuracy may be bad since you didn't explicitly set num_leaves OR 2^max_depth > num_leaves. (num_leaves=31).\n",
      "[LightGBM] [Warning] Accuracy may be bad since you didn't explicitly set num_leaves OR 2^max_depth > num_leaves. (num_leaves=31).\n",
      "[LightGBM] [Warning] Accuracy may be bad since you didn't explicitly set num_leaves OR 2^max_depth > num_leaves. (num_leaves=31).\n",
      "[LightGBM] [Warning] Accuracy may be bad since you didn't explicitly set num_leaves OR 2^max_depth > num_leaves. (num_leaves=31).\n"
     ]
    },
    {
     "name": "stdout",
     "output_type": "stream",
     "text": [
      "[LightGBM] [Warning] Accuracy may be bad since you didn't explicitly set num_leaves OR 2^max_depth > num_leaves. (num_leaves=31).\n",
      "[LightGBM] [Warning] Accuracy may be bad since you didn't explicitly set num_leaves OR 2^max_depth > num_leaves. (num_leaves=31).\n",
      "[LightGBM] [Warning] Accuracy may be bad since you didn't explicitly set num_leaves OR 2^max_depth > num_leaves. (num_leaves=31).\n",
      "[LightGBM] [Warning] Accuracy may be bad since you didn't explicitly set num_leaves OR 2^max_depth > num_leaves. (num_leaves=31).\n",
      "[LightGBM] [Warning] Accuracy may be bad since you didn't explicitly set num_leaves OR 2^max_depth > num_leaves. (num_leaves=31).\n",
      "[LightGBM] [Warning] Accuracy may be bad since you didn't explicitly set num_leaves OR 2^max_depth > num_leaves. (num_leaves=31).\n",
      "[LightGBM] [Warning] Accuracy may be bad since you didn't explicitly set num_leaves OR 2^max_depth > num_leaves. (num_leaves=31).\n",
      "[LightGBM] [Warning] Accuracy may be bad since you didn't explicitly set num_leaves OR 2^max_depth > num_leaves. (num_leaves=31).\n",
      "[LightGBM] [Warning] Accuracy may be bad since you didn't explicitly set num_leaves OR 2^max_depth > num_leaves. (num_leaves=31).\n",
      "[LightGBM] [Warning] Accuracy may be bad since you didn't explicitly set num_leaves OR 2^max_depth > num_leaves. (num_leaves=31).\n",
      "[LightGBM] [Warning] Accuracy may be bad since you didn't explicitly set num_leaves OR 2^max_depth > num_leaves. (num_leaves=31).\n",
      "[LightGBM] [Warning] Accuracy may be bad since you didn't explicitly set num_leaves OR 2^max_depth > num_leaves. (num_leaves=31).\n",
      "[LightGBM] [Warning] Accuracy may be bad since you didn't explicitly set num_leaves OR 2^max_depth > num_leaves. (num_leaves=31).\n",
      "[LightGBM] [Warning] Accuracy may be bad since you didn't explicitly set num_leaves OR 2^max_depth > num_leaves. (num_leaves=31).\n",
      "[LightGBM] [Warning] Accuracy may be bad since you didn't explicitly set num_leaves OR 2^max_depth > num_leaves. (num_leaves=31).\n",
      "[LightGBM] [Warning] Accuracy may be bad since you didn't explicitly set num_leaves OR 2^max_depth > num_leaves. (num_leaves=31).\n",
      "[LightGBM] [Warning] Accuracy may be bad since you didn't explicitly set num_leaves OR 2^max_depth > num_leaves. (num_leaves=31).\n",
      "[LightGBM] [Warning] Accuracy may be bad since you didn't explicitly set num_leaves OR 2^max_depth > num_leaves. (num_leaves=31).\n",
      "[LightGBM] [Warning] Accuracy may be bad since you didn't explicitly set num_leaves OR 2^max_depth > num_leaves. (num_leaves=31).\n",
      "[LightGBM] [Warning] Accuracy may be bad since you didn't explicitly set num_leaves OR 2^max_depth > num_leaves. (num_leaves=31).\n",
      "[LightGBM] [Warning] Accuracy may be bad since you didn't explicitly set num_leaves OR 2^max_depth > num_leaves. (num_leaves=31).\n",
      "[LightGBM] [Warning] Accuracy may be bad since you didn't explicitly set num_leaves OR 2^max_depth > num_leaves. (num_leaves=31).\n",
      "[LightGBM] [Warning] Accuracy may be bad since you didn't explicitly set num_leaves OR 2^max_depth > num_leaves. (num_leaves=31).\n",
      "[LightGBM] [Warning] Accuracy may be bad since you didn't explicitly set num_leaves OR 2^max_depth > num_leaves. (num_leaves=31).\n",
      "[LightGBM] [Warning] Accuracy may be bad since you didn't explicitly set num_leaves OR 2^max_depth > num_leaves. (num_leaves=31).\n",
      "[LightGBM] [Warning] Accuracy may be bad since you didn't explicitly set num_leaves OR 2^max_depth > num_leaves. (num_leaves=31).\n",
      "[LightGBM] [Warning] Accuracy may be bad since you didn't explicitly set num_leaves OR 2^max_depth > num_leaves. (num_leaves=31).\n",
      "[LightGBM] [Warning] Accuracy may be bad since you didn't explicitly set num_leaves OR 2^max_depth > num_leaves. (num_leaves=31).\n",
      "[LightGBM] [Warning] Accuracy may be bad since you didn't explicitly set num_leaves OR 2^max_depth > num_leaves. (num_leaves=31).\n",
      "[LightGBM] [Warning] Accuracy may be bad since you didn't explicitly set num_leaves OR 2^max_depth > num_leaves. (num_leaves=31).\n",
      "[LightGBM] [Warning] Accuracy may be bad since you didn't explicitly set num_leaves OR 2^max_depth > num_leaves. (num_leaves=31).\n",
      "[LightGBM] [Warning] Accuracy may be bad since you didn't explicitly set num_leaves OR 2^max_depth > num_leaves. (num_leaves=31).\n",
      "[LightGBM] [Warning] Accuracy may be bad since you didn't explicitly set num_leaves OR 2^max_depth > num_leaves. (num_leaves=31).\n",
      "[LightGBM] [Warning] Accuracy may be bad since you didn't explicitly set num_leaves OR 2^max_depth > num_leaves. (num_leaves=31).\n",
      "[LightGBM] [Warning] Accuracy may be bad since you didn't explicitly set num_leaves OR 2^max_depth > num_leaves. (num_leaves=31).\n",
      "[LightGBM] [Warning] Accuracy may be bad since you didn't explicitly set num_leaves OR 2^max_depth > num_leaves. (num_leaves=31).\n",
      "[LightGBM] [Warning] Accuracy may be bad since you didn't explicitly set num_leaves OR 2^max_depth > num_leaves. (num_leaves=31).\n",
      "[LightGBM] [Warning] Accuracy may be bad since you didn't explicitly set num_leaves OR 2^max_depth > num_leaves. (num_leaves=31).\n",
      "[LightGBM] [Warning] Accuracy may be bad since you didn't explicitly set num_leaves OR 2^max_depth > num_leaves. (num_leaves=31).\n",
      "[LightGBM] [Warning] Accuracy may be bad since you didn't explicitly set num_leaves OR 2^max_depth > num_leaves. (num_leaves=31).\n",
      "[LightGBM] [Warning] Accuracy may be bad since you didn't explicitly set num_leaves OR 2^max_depth > num_leaves. (num_leaves=31).\n",
      "[LightGBM] [Warning] Accuracy may be bad since you didn't explicitly set num_leaves OR 2^max_depth > num_leaves. (num_leaves=31).\n",
      "[LightGBM] [Warning] Accuracy may be bad since you didn't explicitly set num_leaves OR 2^max_depth > num_leaves. (num_leaves=31).\n",
      "[LightGBM] [Warning] Accuracy may be bad since you didn't explicitly set num_leaves OR 2^max_depth > num_leaves. (num_leaves=31).\n",
      "[LightGBM] [Warning] Accuracy may be bad since you didn't explicitly set num_leaves OR 2^max_depth > num_leaves. (num_leaves=31).\n",
      "[LightGBM] [Warning] Accuracy may be bad since you didn't explicitly set num_leaves OR 2^max_depth > num_leaves. (num_leaves=31).\n",
      "[LightGBM] [Warning] Accuracy may be bad since you didn't explicitly set num_leaves OR 2^max_depth > num_leaves. (num_leaves=31).\n",
      "[LightGBM] [Warning] Accuracy may be bad since you didn't explicitly set num_leaves OR 2^max_depth > num_leaves. (num_leaves=31).\n",
      "[LightGBM] [Warning] Accuracy may be bad since you didn't explicitly set num_leaves OR 2^max_depth > num_leaves. (num_leaves=31).\n",
      "[LightGBM] [Warning] Accuracy may be bad since you didn't explicitly set num_leaves OR 2^max_depth > num_leaves. (num_leaves=31).\n",
      "[LightGBM] [Warning] Accuracy may be bad since you didn't explicitly set num_leaves OR 2^max_depth > num_leaves. (num_leaves=31).\n",
      "[LightGBM] [Warning] Accuracy may be bad since you didn't explicitly set num_leaves OR 2^max_depth > num_leaves. (num_leaves=31).\n",
      "[LightGBM] [Warning] Accuracy may be bad since you didn't explicitly set num_leaves OR 2^max_depth > num_leaves. (num_leaves=31).\n",
      "[LightGBM] [Warning] Accuracy may be bad since you didn't explicitly set num_leaves OR 2^max_depth > num_leaves. (num_leaves=31).\n",
      "[LightGBM] [Warning] Accuracy may be bad since you didn't explicitly set num_leaves OR 2^max_depth > num_leaves. (num_leaves=31).\n",
      "[LightGBM] [Warning] Accuracy may be bad since you didn't explicitly set num_leaves OR 2^max_depth > num_leaves. (num_leaves=31).\n",
      "[LightGBM] [Warning] Accuracy may be bad since you didn't explicitly set num_leaves OR 2^max_depth > num_leaves. (num_leaves=31).\n",
      "[LightGBM] [Warning] Accuracy may be bad since you didn't explicitly set num_leaves OR 2^max_depth > num_leaves. (num_leaves=31).\n",
      "[LightGBM] [Warning] Accuracy may be bad since you didn't explicitly set num_leaves OR 2^max_depth > num_leaves. (num_leaves=31).\n",
      "[LightGBM] [Warning] Accuracy may be bad since you didn't explicitly set num_leaves OR 2^max_depth > num_leaves. (num_leaves=31).\n",
      "[LightGBM] [Warning] Accuracy may be bad since you didn't explicitly set num_leaves OR 2^max_depth > num_leaves. (num_leaves=31).\n",
      "[LightGBM] [Warning] Accuracy may be bad since you didn't explicitly set num_leaves OR 2^max_depth > num_leaves. (num_leaves=31).\n",
      "[LightGBM] [Warning] Accuracy may be bad since you didn't explicitly set num_leaves OR 2^max_depth > num_leaves. (num_leaves=31).\n",
      "[LightGBM] [Warning] Accuracy may be bad since you didn't explicitly set num_leaves OR 2^max_depth > num_leaves. (num_leaves=31).\n"
     ]
    },
    {
     "name": "stdout",
     "output_type": "stream",
     "text": [
      "[LightGBM] [Warning] Accuracy may be bad since you didn't explicitly set num_leaves OR 2^max_depth > num_leaves. (num_leaves=31).\n",
      "Wall time: 6min 40s\n"
     ]
    },
    {
     "data": {
      "text/html": [
       "<style>div.sk-top-container {color: black;background-color: white;}div.sk-toggleable {background-color: white;}label.sk-toggleable__label {cursor: pointer;display: block;width: 100%;margin-bottom: 0;padding: 0.2em 0.3em;box-sizing: border-box;text-align: center;}div.sk-toggleable__content {max-height: 0;max-width: 0;overflow: hidden;text-align: left;background-color: #f0f8ff;}div.sk-toggleable__content pre {margin: 0.2em;color: black;border-radius: 0.25em;background-color: #f0f8ff;}input.sk-toggleable__control:checked~div.sk-toggleable__content {max-height: 200px;max-width: 100%;overflow: auto;}div.sk-estimator input.sk-toggleable__control:checked~label.sk-toggleable__label {background-color: #d4ebff;}div.sk-label input.sk-toggleable__control:checked~label.sk-toggleable__label {background-color: #d4ebff;}input.sk-hidden--visually {border: 0;clip: rect(1px 1px 1px 1px);clip: rect(1px, 1px, 1px, 1px);height: 1px;margin: -1px;overflow: hidden;padding: 0;position: absolute;width: 1px;}div.sk-estimator {font-family: monospace;background-color: #f0f8ff;margin: 0.25em 0.25em;border: 1px dotted black;border-radius: 0.25em;box-sizing: border-box;}div.sk-estimator:hover {background-color: #d4ebff;}div.sk-parallel-item::after {content: \"\";width: 100%;border-bottom: 1px solid gray;flex-grow: 1;}div.sk-label:hover label.sk-toggleable__label {background-color: #d4ebff;}div.sk-serial::before {content: \"\";position: absolute;border-left: 1px solid gray;box-sizing: border-box;top: 2em;bottom: 0;left: 50%;}div.sk-serial {display: flex;flex-direction: column;align-items: center;background-color: white;}div.sk-item {z-index: 1;}div.sk-parallel {display: flex;align-items: stretch;justify-content: center;background-color: white;}div.sk-parallel-item {display: flex;flex-direction: column;position: relative;background-color: white;}div.sk-parallel-item:first-child::after {align-self: flex-end;width: 50%;}div.sk-parallel-item:last-child::after {align-self: flex-start;width: 50%;}div.sk-parallel-item:only-child::after {width: 0;}div.sk-dashed-wrapped {border: 1px dashed gray;margin: 0.2em;box-sizing: border-box;padding-bottom: 0.1em;background-color: white;position: relative;}div.sk-label label {font-family: monospace;font-weight: bold;background-color: white;display: inline-block;line-height: 1.2em;}div.sk-label-container {position: relative;z-index: 2;text-align: center;}div.sk-container {display: inline-block;position: relative;}</style><div class=\"sk-top-container\"><div class=\"sk-container\"><div class=\"sk-item sk-dashed-wrapped\"><div class=\"sk-label-container\"><div class=\"sk-label sk-toggleable\"><input class=\"sk-toggleable__control sk-hidden--visually\" id=\"8ac54761-91b7-43ce-8e3e-a89ddb66d4a6\" type=\"checkbox\" ><label class=\"sk-toggleable__label\" for=\"8ac54761-91b7-43ce-8e3e-a89ddb66d4a6\">GridSearchCV</label><div class=\"sk-toggleable__content\"><pre>GridSearchCV(estimator=LGBMClassifier(colsample_bytree=0.8, random_state=42,\n",
       "                                      reg_alpha=1, reg_lambda=1),\n",
       "             param_grid={'boosting_type': ['gbdt', 'goss'],\n",
       "                         'class_weight': [{0: 0.5, 1: 0.5}, {0: 0.3, 1: 0.7}],\n",
       "                         'learning_rate': [0.1, 0.3], 'max_depth': [3, 5, 20],\n",
       "                         'min_child_samples': [20, 30], 'subsample': [0.4, 1]},\n",
       "             scoring='balanced_accuracy')</pre></div></div></div><div class=\"sk-parallel\"><div class=\"sk-parallel-item\"><div class=\"sk-item\"><div class=\"sk-serial\"><div class=\"sk-item\"><div class=\"sk-estimator sk-toggleable\"><input class=\"sk-toggleable__control sk-hidden--visually\" id=\"93712875-23ed-45d9-a453-64b4e1dfa31e\" type=\"checkbox\" ><label class=\"sk-toggleable__label\" for=\"93712875-23ed-45d9-a453-64b4e1dfa31e\">LGBMClassifier</label><div class=\"sk-toggleable__content\"><pre>LGBMClassifier(colsample_bytree=0.8, random_state=42, reg_alpha=1, reg_lambda=1)</pre></div></div></div></div></div></div></div></div></div></div>"
      ],
      "text/plain": [
       "GridSearchCV(estimator=LGBMClassifier(colsample_bytree=0.8, random_state=42,\n",
       "                                      reg_alpha=1, reg_lambda=1),\n",
       "             param_grid={'boosting_type': ['gbdt', 'goss'],\n",
       "                         'class_weight': [{0: 0.5, 1: 0.5}, {0: 0.3, 1: 0.7}],\n",
       "                         'learning_rate': [0.1, 0.3], 'max_depth': [3, 5, 20],\n",
       "                         'min_child_samples': [20, 30], 'subsample': [0.4, 1]},\n",
       "             scoring='balanced_accuracy')"
      ]
     },
     "execution_count": 46,
     "metadata": {},
     "output_type": "execute_result"
    }
   ],
   "source": [
    "%%time\n",
    "lgbm_clf_cv.fit(X_train_smote, y_train_replaced)"
   ]
  },
  {
   "cell_type": "code",
   "execution_count": 47,
   "metadata": {
    "ExecuteTime": {
     "end_time": "2021-04-28T10:24:15.787945Z",
     "start_time": "2021-04-28T10:24:15.574795Z"
    }
   },
   "outputs": [
    {
     "data": {
      "text/html": [
       "<style>div.sk-top-container {color: black;background-color: white;}div.sk-toggleable {background-color: white;}label.sk-toggleable__label {cursor: pointer;display: block;width: 100%;margin-bottom: 0;padding: 0.2em 0.3em;box-sizing: border-box;text-align: center;}div.sk-toggleable__content {max-height: 0;max-width: 0;overflow: hidden;text-align: left;background-color: #f0f8ff;}div.sk-toggleable__content pre {margin: 0.2em;color: black;border-radius: 0.25em;background-color: #f0f8ff;}input.sk-toggleable__control:checked~div.sk-toggleable__content {max-height: 200px;max-width: 100%;overflow: auto;}div.sk-estimator input.sk-toggleable__control:checked~label.sk-toggleable__label {background-color: #d4ebff;}div.sk-label input.sk-toggleable__control:checked~label.sk-toggleable__label {background-color: #d4ebff;}input.sk-hidden--visually {border: 0;clip: rect(1px 1px 1px 1px);clip: rect(1px, 1px, 1px, 1px);height: 1px;margin: -1px;overflow: hidden;padding: 0;position: absolute;width: 1px;}div.sk-estimator {font-family: monospace;background-color: #f0f8ff;margin: 0.25em 0.25em;border: 1px dotted black;border-radius: 0.25em;box-sizing: border-box;}div.sk-estimator:hover {background-color: #d4ebff;}div.sk-parallel-item::after {content: \"\";width: 100%;border-bottom: 1px solid gray;flex-grow: 1;}div.sk-label:hover label.sk-toggleable__label {background-color: #d4ebff;}div.sk-serial::before {content: \"\";position: absolute;border-left: 1px solid gray;box-sizing: border-box;top: 2em;bottom: 0;left: 50%;}div.sk-serial {display: flex;flex-direction: column;align-items: center;background-color: white;}div.sk-item {z-index: 1;}div.sk-parallel {display: flex;align-items: stretch;justify-content: center;background-color: white;}div.sk-parallel-item {display: flex;flex-direction: column;position: relative;background-color: white;}div.sk-parallel-item:first-child::after {align-self: flex-end;width: 50%;}div.sk-parallel-item:last-child::after {align-self: flex-start;width: 50%;}div.sk-parallel-item:only-child::after {width: 0;}div.sk-dashed-wrapped {border: 1px dashed gray;margin: 0.2em;box-sizing: border-box;padding-bottom: 0.1em;background-color: white;position: relative;}div.sk-label label {font-family: monospace;font-weight: bold;background-color: white;display: inline-block;line-height: 1.2em;}div.sk-label-container {position: relative;z-index: 2;text-align: center;}div.sk-container {display: inline-block;position: relative;}</style><div class=\"sk-top-container\"><div class=\"sk-container\"><div class=\"sk-item\"><div class=\"sk-estimator sk-toggleable\"><input class=\"sk-toggleable__control sk-hidden--visually\" id=\"d341bf52-232d-4bf0-b593-b45f512ec7e2\" type=\"checkbox\" checked><label class=\"sk-toggleable__label\" for=\"d341bf52-232d-4bf0-b593-b45f512ec7e2\">LGBMClassifier</label><div class=\"sk-toggleable__content\"><pre>LGBMClassifier(class_weight={0: 0.3, 1: 0.7}, colsample_bytree=0.8, max_depth=5,\n",
       "               random_state=42, reg_alpha=1, reg_lambda=1, subsample=0.4)</pre></div></div></div></div></div>"
      ],
      "text/plain": [
       "LGBMClassifier(class_weight={0: 0.3, 1: 0.7}, colsample_bytree=0.8, max_depth=5,\n",
       "               random_state=42, reg_alpha=1, reg_lambda=1, subsample=0.4)"
      ]
     },
     "execution_count": 47,
     "metadata": {},
     "output_type": "execute_result"
    }
   ],
   "source": [
    "lgbm_clf_cv.best_estimator_"
   ]
  },
  {
   "cell_type": "code",
   "execution_count": 48,
   "metadata": {
    "ExecuteTime": {
     "end_time": "2021-04-28T10:24:16.225253Z",
     "start_time": "2021-04-28T10:24:15.790948Z"
    }
   },
   "outputs": [
    {
     "data": {
      "text/html": [
       "<style>div.sk-top-container {color: black;background-color: white;}div.sk-toggleable {background-color: white;}label.sk-toggleable__label {cursor: pointer;display: block;width: 100%;margin-bottom: 0;padding: 0.2em 0.3em;box-sizing: border-box;text-align: center;}div.sk-toggleable__content {max-height: 0;max-width: 0;overflow: hidden;text-align: left;background-color: #f0f8ff;}div.sk-toggleable__content pre {margin: 0.2em;color: black;border-radius: 0.25em;background-color: #f0f8ff;}input.sk-toggleable__control:checked~div.sk-toggleable__content {max-height: 200px;max-width: 100%;overflow: auto;}div.sk-estimator input.sk-toggleable__control:checked~label.sk-toggleable__label {background-color: #d4ebff;}div.sk-label input.sk-toggleable__control:checked~label.sk-toggleable__label {background-color: #d4ebff;}input.sk-hidden--visually {border: 0;clip: rect(1px 1px 1px 1px);clip: rect(1px, 1px, 1px, 1px);height: 1px;margin: -1px;overflow: hidden;padding: 0;position: absolute;width: 1px;}div.sk-estimator {font-family: monospace;background-color: #f0f8ff;margin: 0.25em 0.25em;border: 1px dotted black;border-radius: 0.25em;box-sizing: border-box;}div.sk-estimator:hover {background-color: #d4ebff;}div.sk-parallel-item::after {content: \"\";width: 100%;border-bottom: 1px solid gray;flex-grow: 1;}div.sk-label:hover label.sk-toggleable__label {background-color: #d4ebff;}div.sk-serial::before {content: \"\";position: absolute;border-left: 1px solid gray;box-sizing: border-box;top: 2em;bottom: 0;left: 50%;}div.sk-serial {display: flex;flex-direction: column;align-items: center;background-color: white;}div.sk-item {z-index: 1;}div.sk-parallel {display: flex;align-items: stretch;justify-content: center;background-color: white;}div.sk-parallel-item {display: flex;flex-direction: column;position: relative;background-color: white;}div.sk-parallel-item:first-child::after {align-self: flex-end;width: 50%;}div.sk-parallel-item:last-child::after {align-self: flex-start;width: 50%;}div.sk-parallel-item:only-child::after {width: 0;}div.sk-dashed-wrapped {border: 1px dashed gray;margin: 0.2em;box-sizing: border-box;padding-bottom: 0.1em;background-color: white;position: relative;}div.sk-label label {font-family: monospace;font-weight: bold;background-color: white;display: inline-block;line-height: 1.2em;}div.sk-label-container {position: relative;z-index: 2;text-align: center;}div.sk-container {display: inline-block;position: relative;}</style><div class=\"sk-top-container\"><div class=\"sk-container\"><div class=\"sk-item\"><div class=\"sk-estimator sk-toggleable\"><input class=\"sk-toggleable__control sk-hidden--visually\" id=\"707c8969-9c62-4b40-b031-ae8875d9cb72\" type=\"checkbox\" checked><label class=\"sk-toggleable__label\" for=\"707c8969-9c62-4b40-b031-ae8875d9cb72\">LGBMClassifier</label><div class=\"sk-toggleable__content\"><pre>LGBMClassifier(boosting_type='goss', class_weight={0: 0.3, 1: 0.7},\n",
       "               colsample_bytree=0.8, max_depth=5, min_data_in_leaf=20,\n",
       "               random_state=42, reg_alpha=1, reg_lambda=1, subsample=0.4)</pre></div></div></div></div></div>"
      ],
      "text/plain": [
       "LGBMClassifier(boosting_type='goss', class_weight={0: 0.3, 1: 0.7},\n",
       "               colsample_bytree=0.8, max_depth=5, min_data_in_leaf=20,\n",
       "               random_state=42, reg_alpha=1, reg_lambda=1, subsample=0.4)"
      ]
     },
     "execution_count": 48,
     "metadata": {},
     "output_type": "execute_result"
    }
   ],
   "source": [
    "LGBMClassifier(boosting_type='goss', class_weight={0: 0.3, 1: 0.7},\n",
    "               colsample_bytree=0.8, max_depth=5, min_data_in_leaf=20,\n",
    "               random_state=42, reg_alpha=1, reg_lambda=1, subsample=0.4)"
   ]
  },
  {
   "cell_type": "code",
   "execution_count": 49,
   "metadata": {
    "ExecuteTime": {
     "end_time": "2021-04-28T10:24:16.691582Z",
     "start_time": "2021-04-28T10:24:16.227255Z"
    }
   },
   "outputs": [],
   "source": [
    "# Predict train, validation and test with the best etimator\n",
    "lgbm_prediction_train = lgbm_clf_cv.best_estimator_.predict(X_train_fitted)\n",
    "lgbm_prediction_val = lgbm_clf_cv.best_estimator_.predict(X_val_fitted)\n",
    "lgbm_prediction_test = lgbm_clf_cv.best_estimator_.predict(X_test_fitted)"
   ]
  },
  {
   "cell_type": "code",
   "execution_count": 50,
   "metadata": {
    "ExecuteTime": {
     "end_time": "2021-04-28T10:24:17.119883Z",
     "start_time": "2021-04-28T10:24:16.692582Z"
    }
   },
   "outputs": [],
   "source": [
    "# Also predict probabilities of classes. We will need them during stacking\n",
    "lgbm_pred_prob_train = lgbm_clf_cv.best_estimator_.predict_proba(X_train_fitted)[:,1]\n",
    "lgbm_pred_prob_val = lgbm_clf_cv.best_estimator_.predict_proba(X_val_fitted)[:,1]\n",
    "lgbm_pred_prob_test = lgbm_clf_cv.best_estimator_.predict_proba(X_test_fitted)[:,1]"
   ]
  },
  {
   "cell_type": "code",
   "execution_count": 51,
   "metadata": {
    "ExecuteTime": {
     "end_time": "2021-04-28T10:24:17.768357Z",
     "start_time": "2021-04-28T10:24:17.120884Z"
    }
   },
   "outputs": [
    {
     "name": "stdout",
     "output_type": "stream",
     "text": [
      "Metrics on train:\n"
     ]
    },
    {
     "data": {
      "text/html": [
       "<div>\n",
       "<style scoped>\n",
       "    .dataframe tbody tr th:only-of-type {\n",
       "        vertical-align: middle;\n",
       "    }\n",
       "\n",
       "    .dataframe tbody tr th {\n",
       "        vertical-align: top;\n",
       "    }\n",
       "\n",
       "    .dataframe thead th {\n",
       "        text-align: right;\n",
       "    }\n",
       "</style>\n",
       "<table border=\"1\" class=\"dataframe\">\n",
       "  <thead>\n",
       "    <tr style=\"text-align: right;\">\n",
       "      <th></th>\n",
       "      <th>result</th>\n",
       "    </tr>\n",
       "  </thead>\n",
       "  <tbody>\n",
       "    <tr>\n",
       "      <th>Balanced_Accuracy</th>\n",
       "      <td>0.852</td>\n",
       "    </tr>\n",
       "    <tr>\n",
       "      <th>MCC</th>\n",
       "      <td>0.594</td>\n",
       "    </tr>\n",
       "  </tbody>\n",
       "</table>\n",
       "</div>"
      ],
      "text/plain": [
       "                   result\n",
       "Balanced_Accuracy   0.852\n",
       "MCC                 0.594"
      ]
     },
     "execution_count": 51,
     "metadata": {},
     "output_type": "execute_result"
    }
   ],
   "source": [
    "y_pred_train = pd.Series(lgbm_prediction_train).replace({0:\" - 50000.\", 1:' 50000+.'})\n",
    "print('Metrics on train:')\n",
    "hlp.compute_metrics(y_train, y_pred_train, [' - 50000.', ' 50000+.'], ' 50000+.')"
   ]
  },
  {
   "cell_type": "code",
   "execution_count": 52,
   "metadata": {
    "ExecuteTime": {
     "end_time": "2021-04-28T10:24:17.954473Z",
     "start_time": "2021-04-28T10:24:17.770344Z"
    }
   },
   "outputs": [
    {
     "name": "stdout",
     "output_type": "stream",
     "text": [
      "Metrics on validation:\n"
     ]
    },
    {
     "data": {
      "text/html": [
       "<div>\n",
       "<style scoped>\n",
       "    .dataframe tbody tr th:only-of-type {\n",
       "        vertical-align: middle;\n",
       "    }\n",
       "\n",
       "    .dataframe tbody tr th {\n",
       "        vertical-align: top;\n",
       "    }\n",
       "\n",
       "    .dataframe thead th {\n",
       "        text-align: right;\n",
       "    }\n",
       "</style>\n",
       "<table border=\"1\" class=\"dataframe\">\n",
       "  <thead>\n",
       "    <tr style=\"text-align: right;\">\n",
       "      <th></th>\n",
       "      <th>result</th>\n",
       "    </tr>\n",
       "  </thead>\n",
       "  <tbody>\n",
       "    <tr>\n",
       "      <th>Balanced_Accuracy</th>\n",
       "      <td>0.830</td>\n",
       "    </tr>\n",
       "    <tr>\n",
       "      <th>MCC</th>\n",
       "      <td>0.541</td>\n",
       "    </tr>\n",
       "  </tbody>\n",
       "</table>\n",
       "</div>"
      ],
      "text/plain": [
       "                   result\n",
       "Balanced_Accuracy   0.830\n",
       "MCC                 0.541"
      ]
     },
     "execution_count": 52,
     "metadata": {},
     "output_type": "execute_result"
    }
   ],
   "source": [
    "y_pred_val = pd.Series(lgbm_prediction_val).replace({0:\" - 50000.\", 1:' 50000+.'})\n",
    "print('Metrics on validation:')\n",
    "hlp.compute_metrics(y_val, y_pred_val, [' - 50000.', ' 50000+.'], ' 50000+.')"
   ]
  },
  {
   "cell_type": "markdown",
   "metadata": {},
   "source": [
    "That is good, we fought overfitting. Also we can see that the balanced accuracy that we used as scoring has increased heavily. So we can say that we have a good model."
   ]
  },
  {
   "cell_type": "code",
   "execution_count": 53,
   "metadata": {
    "ExecuteTime": {
     "end_time": "2021-04-28T10:24:18.250698Z",
     "start_time": "2021-04-28T10:24:17.956475Z"
    }
   },
   "outputs": [
    {
     "data": {
      "text/html": [
       "<div>\n",
       "<style scoped>\n",
       "    .dataframe tbody tr th:only-of-type {\n",
       "        vertical-align: middle;\n",
       "    }\n",
       "\n",
       "    .dataframe tbody tr th {\n",
       "        vertical-align: top;\n",
       "    }\n",
       "\n",
       "    .dataframe thead th {\n",
       "        text-align: right;\n",
       "    }\n",
       "</style>\n",
       "<table border=\"1\" class=\"dataframe\">\n",
       "  <thead>\n",
       "    <tr style=\"text-align: right;\">\n",
       "      <th></th>\n",
       "      <th>y &gt; 50.000</th>\n",
       "      <th>y &lt; 50.000</th>\n",
       "    </tr>\n",
       "  </thead>\n",
       "  <tbody>\n",
       "    <tr>\n",
       "      <th>a(x) &gt; 50.000</th>\n",
       "      <td>175</td>\n",
       "      <td>203</td>\n",
       "    </tr>\n",
       "    <tr>\n",
       "      <th>a(x) &lt; 50.000</th>\n",
       "      <td>70</td>\n",
       "      <td>3552</td>\n",
       "    </tr>\n",
       "  </tbody>\n",
       "</table>\n",
       "</div>"
      ],
      "text/plain": [
       "               y > 50.000   y < 50.000 \n",
       "a(x) > 50.000          175          203\n",
       "a(x) < 50.000           70         3552"
      ]
     },
     "execution_count": 53,
     "metadata": {},
     "output_type": "execute_result"
    }
   ],
   "source": [
    "hlp.compute_confusion_matrix(y_val, y_pred_val, [' - 50000.', ' 50000+.'], ' 50000+.')"
   ]
  },
  {
   "cell_type": "markdown",
   "metadata": {},
   "source": [
    "Based on the confusion matrix we can observe the increase in 50k+ class recall (if compare to the previous model based without tuning params)."
   ]
  },
  {
   "cell_type": "markdown",
   "metadata": {},
   "source": [
    "### RF"
   ]
  },
  {
   "cell_type": "code",
   "execution_count": 54,
   "metadata": {
    "ExecuteTime": {
     "end_time": "2021-04-28T10:24:18.394783Z",
     "start_time": "2021-04-28T10:24:18.252683Z"
    }
   },
   "outputs": [],
   "source": [
    "parameters = {\n",
    "    'min_samples_split': [5, 8],\n",
    "    'max_depth': [3, 5, 20],\n",
    "    'min_impurity_decrease': [0.1, 0.3],\n",
    "    'criterion': ['gini', 'entropy'],\n",
    "    'class_weight': [{0: 0.5,1: 0.5}, {0: 0.3, 1: 0.7}]\n",
    "}\n",
    "\n",
    "rf_clf = RandomForestClassifier(n_estimators=200, random_state=42)\n",
    "rf_clf_cv = GridSearchCV(rf_clf, parameters, scoring='balanced_accuracy')"
   ]
  },
  {
   "cell_type": "code",
   "execution_count": 55,
   "metadata": {
    "ExecuteTime": {
     "end_time": "2021-04-28T10:24:18.542904Z",
     "start_time": "2021-04-28T10:24:18.395783Z"
    }
   },
   "outputs": [],
   "source": [
    "y_train_replaced = y_train_smote.replace({\" - 50000.\":0, ' 50000+.':1})"
   ]
  },
  {
   "cell_type": "code",
   "execution_count": 56,
   "metadata": {
    "ExecuteTime": {
     "end_time": "2021-04-28T10:28:11.984495Z",
     "start_time": "2021-04-28T10:24:18.543888Z"
    },
    "scrolled": true
   },
   "outputs": [
    {
     "name": "stdout",
     "output_type": "stream",
     "text": [
      "Wall time: 3min 53s\n"
     ]
    },
    {
     "data": {
      "text/html": [
       "<style>div.sk-top-container {color: black;background-color: white;}div.sk-toggleable {background-color: white;}label.sk-toggleable__label {cursor: pointer;display: block;width: 100%;margin-bottom: 0;padding: 0.2em 0.3em;box-sizing: border-box;text-align: center;}div.sk-toggleable__content {max-height: 0;max-width: 0;overflow: hidden;text-align: left;background-color: #f0f8ff;}div.sk-toggleable__content pre {margin: 0.2em;color: black;border-radius: 0.25em;background-color: #f0f8ff;}input.sk-toggleable__control:checked~div.sk-toggleable__content {max-height: 200px;max-width: 100%;overflow: auto;}div.sk-estimator input.sk-toggleable__control:checked~label.sk-toggleable__label {background-color: #d4ebff;}div.sk-label input.sk-toggleable__control:checked~label.sk-toggleable__label {background-color: #d4ebff;}input.sk-hidden--visually {border: 0;clip: rect(1px 1px 1px 1px);clip: rect(1px, 1px, 1px, 1px);height: 1px;margin: -1px;overflow: hidden;padding: 0;position: absolute;width: 1px;}div.sk-estimator {font-family: monospace;background-color: #f0f8ff;margin: 0.25em 0.25em;border: 1px dotted black;border-radius: 0.25em;box-sizing: border-box;}div.sk-estimator:hover {background-color: #d4ebff;}div.sk-parallel-item::after {content: \"\";width: 100%;border-bottom: 1px solid gray;flex-grow: 1;}div.sk-label:hover label.sk-toggleable__label {background-color: #d4ebff;}div.sk-serial::before {content: \"\";position: absolute;border-left: 1px solid gray;box-sizing: border-box;top: 2em;bottom: 0;left: 50%;}div.sk-serial {display: flex;flex-direction: column;align-items: center;background-color: white;}div.sk-item {z-index: 1;}div.sk-parallel {display: flex;align-items: stretch;justify-content: center;background-color: white;}div.sk-parallel-item {display: flex;flex-direction: column;position: relative;background-color: white;}div.sk-parallel-item:first-child::after {align-self: flex-end;width: 50%;}div.sk-parallel-item:last-child::after {align-self: flex-start;width: 50%;}div.sk-parallel-item:only-child::after {width: 0;}div.sk-dashed-wrapped {border: 1px dashed gray;margin: 0.2em;box-sizing: border-box;padding-bottom: 0.1em;background-color: white;position: relative;}div.sk-label label {font-family: monospace;font-weight: bold;background-color: white;display: inline-block;line-height: 1.2em;}div.sk-label-container {position: relative;z-index: 2;text-align: center;}div.sk-container {display: inline-block;position: relative;}</style><div class=\"sk-top-container\"><div class=\"sk-container\"><div class=\"sk-item sk-dashed-wrapped\"><div class=\"sk-label-container\"><div class=\"sk-label sk-toggleable\"><input class=\"sk-toggleable__control sk-hidden--visually\" id=\"82e883ee-f99c-43d7-bb61-7d2fa09709bb\" type=\"checkbox\" ><label class=\"sk-toggleable__label\" for=\"82e883ee-f99c-43d7-bb61-7d2fa09709bb\">GridSearchCV</label><div class=\"sk-toggleable__content\"><pre>GridSearchCV(estimator=RandomForestClassifier(n_estimators=200,\n",
       "                                              random_state=42),\n",
       "             param_grid={'class_weight': [{0: 0.5, 1: 0.5}, {0: 0.3, 1: 0.7}],\n",
       "                         'criterion': ['gini', 'entropy'],\n",
       "                         'max_depth': [3, 5, 20],\n",
       "                         'min_impurity_decrease': [0.1, 0.3],\n",
       "                         'min_samples_split': [5, 8]},\n",
       "             scoring='balanced_accuracy')</pre></div></div></div><div class=\"sk-parallel\"><div class=\"sk-parallel-item\"><div class=\"sk-item\"><div class=\"sk-serial\"><div class=\"sk-item\"><div class=\"sk-estimator sk-toggleable\"><input class=\"sk-toggleable__control sk-hidden--visually\" id=\"aa6f3c77-ac1f-4981-ae93-85361c157028\" type=\"checkbox\" ><label class=\"sk-toggleable__label\" for=\"aa6f3c77-ac1f-4981-ae93-85361c157028\">RandomForestClassifier</label><div class=\"sk-toggleable__content\"><pre>RandomForestClassifier(n_estimators=200, random_state=42)</pre></div></div></div></div></div></div></div></div></div></div>"
      ],
      "text/plain": [
       "GridSearchCV(estimator=RandomForestClassifier(n_estimators=200,\n",
       "                                              random_state=42),\n",
       "             param_grid={'class_weight': [{0: 0.5, 1: 0.5}, {0: 0.3, 1: 0.7}],\n",
       "                         'criterion': ['gini', 'entropy'],\n",
       "                         'max_depth': [3, 5, 20],\n",
       "                         'min_impurity_decrease': [0.1, 0.3],\n",
       "                         'min_samples_split': [5, 8]},\n",
       "             scoring='balanced_accuracy')"
      ]
     },
     "execution_count": 56,
     "metadata": {},
     "output_type": "execute_result"
    }
   ],
   "source": [
    "%%time\n",
    "rf_clf_cv.fit(X_train_smote, y_train_replaced)"
   ]
  },
  {
   "cell_type": "code",
   "execution_count": 57,
   "metadata": {
    "ExecuteTime": {
     "end_time": "2021-04-28T10:28:12.209652Z",
     "start_time": "2021-04-28T10:28:11.986497Z"
    }
   },
   "outputs": [
    {
     "data": {
      "text/html": [
       "<style>div.sk-top-container {color: black;background-color: white;}div.sk-toggleable {background-color: white;}label.sk-toggleable__label {cursor: pointer;display: block;width: 100%;margin-bottom: 0;padding: 0.2em 0.3em;box-sizing: border-box;text-align: center;}div.sk-toggleable__content {max-height: 0;max-width: 0;overflow: hidden;text-align: left;background-color: #f0f8ff;}div.sk-toggleable__content pre {margin: 0.2em;color: black;border-radius: 0.25em;background-color: #f0f8ff;}input.sk-toggleable__control:checked~div.sk-toggleable__content {max-height: 200px;max-width: 100%;overflow: auto;}div.sk-estimator input.sk-toggleable__control:checked~label.sk-toggleable__label {background-color: #d4ebff;}div.sk-label input.sk-toggleable__control:checked~label.sk-toggleable__label {background-color: #d4ebff;}input.sk-hidden--visually {border: 0;clip: rect(1px 1px 1px 1px);clip: rect(1px, 1px, 1px, 1px);height: 1px;margin: -1px;overflow: hidden;padding: 0;position: absolute;width: 1px;}div.sk-estimator {font-family: monospace;background-color: #f0f8ff;margin: 0.25em 0.25em;border: 1px dotted black;border-radius: 0.25em;box-sizing: border-box;}div.sk-estimator:hover {background-color: #d4ebff;}div.sk-parallel-item::after {content: \"\";width: 100%;border-bottom: 1px solid gray;flex-grow: 1;}div.sk-label:hover label.sk-toggleable__label {background-color: #d4ebff;}div.sk-serial::before {content: \"\";position: absolute;border-left: 1px solid gray;box-sizing: border-box;top: 2em;bottom: 0;left: 50%;}div.sk-serial {display: flex;flex-direction: column;align-items: center;background-color: white;}div.sk-item {z-index: 1;}div.sk-parallel {display: flex;align-items: stretch;justify-content: center;background-color: white;}div.sk-parallel-item {display: flex;flex-direction: column;position: relative;background-color: white;}div.sk-parallel-item:first-child::after {align-self: flex-end;width: 50%;}div.sk-parallel-item:last-child::after {align-self: flex-start;width: 50%;}div.sk-parallel-item:only-child::after {width: 0;}div.sk-dashed-wrapped {border: 1px dashed gray;margin: 0.2em;box-sizing: border-box;padding-bottom: 0.1em;background-color: white;position: relative;}div.sk-label label {font-family: monospace;font-weight: bold;background-color: white;display: inline-block;line-height: 1.2em;}div.sk-label-container {position: relative;z-index: 2;text-align: center;}div.sk-container {display: inline-block;position: relative;}</style><div class=\"sk-top-container\"><div class=\"sk-container\"><div class=\"sk-item\"><div class=\"sk-estimator sk-toggleable\"><input class=\"sk-toggleable__control sk-hidden--visually\" id=\"6e1087d0-85bf-428b-b883-12339c24edd6\" type=\"checkbox\" checked><label class=\"sk-toggleable__label\" for=\"6e1087d0-85bf-428b-b883-12339c24edd6\">RandomForestClassifier</label><div class=\"sk-toggleable__content\"><pre>RandomForestClassifier(class_weight={0: 0.3, 1: 0.7}, criterion='entropy',\n",
       "                       max_depth=3, min_impurity_decrease=0.1,\n",
       "                       min_samples_split=5, n_estimators=200, random_state=42)</pre></div></div></div></div></div>"
      ],
      "text/plain": [
       "RandomForestClassifier(class_weight={0: 0.3, 1: 0.7}, criterion='entropy',\n",
       "                       max_depth=3, min_impurity_decrease=0.1,\n",
       "                       min_samples_split=5, n_estimators=200, random_state=42)"
      ]
     },
     "execution_count": 57,
     "metadata": {},
     "output_type": "execute_result"
    }
   ],
   "source": [
    "rf_clf_cv.best_estimator_"
   ]
  },
  {
   "cell_type": "code",
   "execution_count": 58,
   "metadata": {
    "ExecuteTime": {
     "end_time": "2021-04-28T10:28:12.410794Z",
     "start_time": "2021-04-28T10:28:12.211654Z"
    }
   },
   "outputs": [
    {
     "data": {
      "text/html": [
       "<style>div.sk-top-container {color: black;background-color: white;}div.sk-toggleable {background-color: white;}label.sk-toggleable__label {cursor: pointer;display: block;width: 100%;margin-bottom: 0;padding: 0.2em 0.3em;box-sizing: border-box;text-align: center;}div.sk-toggleable__content {max-height: 0;max-width: 0;overflow: hidden;text-align: left;background-color: #f0f8ff;}div.sk-toggleable__content pre {margin: 0.2em;color: black;border-radius: 0.25em;background-color: #f0f8ff;}input.sk-toggleable__control:checked~div.sk-toggleable__content {max-height: 200px;max-width: 100%;overflow: auto;}div.sk-estimator input.sk-toggleable__control:checked~label.sk-toggleable__label {background-color: #d4ebff;}div.sk-label input.sk-toggleable__control:checked~label.sk-toggleable__label {background-color: #d4ebff;}input.sk-hidden--visually {border: 0;clip: rect(1px 1px 1px 1px);clip: rect(1px, 1px, 1px, 1px);height: 1px;margin: -1px;overflow: hidden;padding: 0;position: absolute;width: 1px;}div.sk-estimator {font-family: monospace;background-color: #f0f8ff;margin: 0.25em 0.25em;border: 1px dotted black;border-radius: 0.25em;box-sizing: border-box;}div.sk-estimator:hover {background-color: #d4ebff;}div.sk-parallel-item::after {content: \"\";width: 100%;border-bottom: 1px solid gray;flex-grow: 1;}div.sk-label:hover label.sk-toggleable__label {background-color: #d4ebff;}div.sk-serial::before {content: \"\";position: absolute;border-left: 1px solid gray;box-sizing: border-box;top: 2em;bottom: 0;left: 50%;}div.sk-serial {display: flex;flex-direction: column;align-items: center;background-color: white;}div.sk-item {z-index: 1;}div.sk-parallel {display: flex;align-items: stretch;justify-content: center;background-color: white;}div.sk-parallel-item {display: flex;flex-direction: column;position: relative;background-color: white;}div.sk-parallel-item:first-child::after {align-self: flex-end;width: 50%;}div.sk-parallel-item:last-child::after {align-self: flex-start;width: 50%;}div.sk-parallel-item:only-child::after {width: 0;}div.sk-dashed-wrapped {border: 1px dashed gray;margin: 0.2em;box-sizing: border-box;padding-bottom: 0.1em;background-color: white;position: relative;}div.sk-label label {font-family: monospace;font-weight: bold;background-color: white;display: inline-block;line-height: 1.2em;}div.sk-label-container {position: relative;z-index: 2;text-align: center;}div.sk-container {display: inline-block;position: relative;}</style><div class=\"sk-top-container\"><div class=\"sk-container\"><div class=\"sk-item\"><div class=\"sk-estimator sk-toggleable\"><input class=\"sk-toggleable__control sk-hidden--visually\" id=\"e54aded6-2259-4da0-8fe2-48b212877936\" type=\"checkbox\" checked><label class=\"sk-toggleable__label\" for=\"e54aded6-2259-4da0-8fe2-48b212877936\">RandomForestClassifier</label><div class=\"sk-toggleable__content\"><pre>RandomForestClassifier(class_weight={0: 0.3, 1: 0.7}, criterion='entropy',\n",
       "                       max_depth=3, min_impurity_decrease=0.1,\n",
       "                       min_samples_split=5, n_estimators=200, random_state=42)</pre></div></div></div></div></div>"
      ],
      "text/plain": [
       "RandomForestClassifier(class_weight={0: 0.3, 1: 0.7}, criterion='entropy',\n",
       "                       max_depth=3, min_impurity_decrease=0.1,\n",
       "                       min_samples_split=5, n_estimators=200, random_state=42)"
      ]
     },
     "execution_count": 58,
     "metadata": {},
     "output_type": "execute_result"
    }
   ],
   "source": [
    "RandomForestClassifier(class_weight={0: 0.3, 1: 0.7}, criterion='entropy',\n",
    "                       max_depth=3, min_impurity_decrease=0.1,\n",
    "                       min_samples_split=5, n_estimators=200, random_state=42)"
   ]
  },
  {
   "cell_type": "code",
   "execution_count": 59,
   "metadata": {
    "ExecuteTime": {
     "end_time": "2021-04-28T10:28:12.997223Z",
     "start_time": "2021-04-28T10:28:12.411795Z"
    }
   },
   "outputs": [],
   "source": [
    "# Predict train, validation and test with the best etimator\n",
    "rf_prediction_train = rf_clf_cv.best_estimator_.predict(X_train_fitted)\n",
    "rf_prediction_val = rf_clf_cv.best_estimator_.predict(X_val_fitted)\n",
    "rf_prediction_test = rf_clf_cv.best_estimator_.predict(X_test_fitted)"
   ]
  },
  {
   "cell_type": "code",
   "execution_count": 60,
   "metadata": {
    "ExecuteTime": {
     "end_time": "2021-04-28T10:28:13.573629Z",
     "start_time": "2021-04-28T10:28:12.998208Z"
    }
   },
   "outputs": [],
   "source": [
    "# Also predict probabilities of classes. We will need them during stacking\n",
    "rf_pred_prob_train = rf_clf_cv.best_estimator_.predict_proba(X_train_fitted)[:,1]\n",
    "rf_pred_prob_val = rf_clf_cv.best_estimator_.predict_proba(X_val_fitted)[:,1]\n",
    "rf_pred_prob_test = rf_clf_cv.best_estimator_.predict_proba(X_test_fitted)[:,1]"
   ]
  },
  {
   "cell_type": "code",
   "execution_count": 61,
   "metadata": {
    "ExecuteTime": {
     "end_time": "2021-04-28T10:28:13.860817Z",
     "start_time": "2021-04-28T10:28:13.574615Z"
    }
   },
   "outputs": [
    {
     "name": "stdout",
     "output_type": "stream",
     "text": [
      "Metrics on train:\n"
     ]
    },
    {
     "data": {
      "text/html": [
       "<div>\n",
       "<style scoped>\n",
       "    .dataframe tbody tr th:only-of-type {\n",
       "        vertical-align: middle;\n",
       "    }\n",
       "\n",
       "    .dataframe tbody tr th {\n",
       "        vertical-align: top;\n",
       "    }\n",
       "\n",
       "    .dataframe thead th {\n",
       "        text-align: right;\n",
       "    }\n",
       "</style>\n",
       "<table border=\"1\" class=\"dataframe\">\n",
       "  <thead>\n",
       "    <tr style=\"text-align: right;\">\n",
       "      <th></th>\n",
       "      <th>result</th>\n",
       "    </tr>\n",
       "  </thead>\n",
       "  <tbody>\n",
       "    <tr>\n",
       "      <th>Balanced_Accuracy</th>\n",
       "      <td>0.815</td>\n",
       "    </tr>\n",
       "    <tr>\n",
       "      <th>MCC</th>\n",
       "      <td>0.322</td>\n",
       "    </tr>\n",
       "  </tbody>\n",
       "</table>\n",
       "</div>"
      ],
      "text/plain": [
       "                   result\n",
       "Balanced_Accuracy   0.815\n",
       "MCC                 0.322"
      ]
     },
     "execution_count": 61,
     "metadata": {},
     "output_type": "execute_result"
    }
   ],
   "source": [
    "y_pred_train = pd.Series(rf_prediction_train).replace({0:\" - 50000.\", 1:' 50000+.'})\n",
    "print('Metrics on train:')\n",
    "hlp.compute_metrics(y_train, y_pred_train, [' - 50000.', ' 50000+.'], ' 50000+.')"
   ]
  },
  {
   "cell_type": "code",
   "execution_count": 62,
   "metadata": {
    "ExecuteTime": {
     "end_time": "2021-04-28T10:28:14.088979Z",
     "start_time": "2021-04-28T10:28:13.862819Z"
    }
   },
   "outputs": [
    {
     "name": "stdout",
     "output_type": "stream",
     "text": [
      "Metrics on validation:\n"
     ]
    },
    {
     "data": {
      "text/html": [
       "<div>\n",
       "<style scoped>\n",
       "    .dataframe tbody tr th:only-of-type {\n",
       "        vertical-align: middle;\n",
       "    }\n",
       "\n",
       "    .dataframe tbody tr th {\n",
       "        vertical-align: top;\n",
       "    }\n",
       "\n",
       "    .dataframe thead th {\n",
       "        text-align: right;\n",
       "    }\n",
       "</style>\n",
       "<table border=\"1\" class=\"dataframe\">\n",
       "  <thead>\n",
       "    <tr style=\"text-align: right;\">\n",
       "      <th></th>\n",
       "      <th>result</th>\n",
       "    </tr>\n",
       "  </thead>\n",
       "  <tbody>\n",
       "    <tr>\n",
       "      <th>Balanced_Accuracy</th>\n",
       "      <td>0.811</td>\n",
       "    </tr>\n",
       "    <tr>\n",
       "      <th>MCC</th>\n",
       "      <td>0.318</td>\n",
       "    </tr>\n",
       "  </tbody>\n",
       "</table>\n",
       "</div>"
      ],
      "text/plain": [
       "                   result\n",
       "Balanced_Accuracy   0.811\n",
       "MCC                 0.318"
      ]
     },
     "execution_count": 62,
     "metadata": {},
     "output_type": "execute_result"
    }
   ],
   "source": [
    "y_pred_val = pd.Series(rf_prediction_val).replace({0:\" - 50000.\", 1:' 50000+.'})\n",
    "print('Metrics on validation:')\n",
    "hlp.compute_metrics(y_val, y_pred_val, [' - 50000.', ' 50000+.'], ' 50000+.')"
   ]
  },
  {
   "cell_type": "markdown",
   "metadata": {},
   "source": [
    "This model is also does not overfit, however we see dramatical decrease in MCC metric. Why is this so? Let's try to find out the answer based on the confusion matrix."
   ]
  },
  {
   "cell_type": "code",
   "execution_count": 63,
   "metadata": {
    "ExecuteTime": {
     "end_time": "2021-04-28T10:28:14.300128Z",
     "start_time": "2021-04-28T10:28:14.090980Z"
    }
   },
   "outputs": [
    {
     "data": {
      "text/html": [
       "<div>\n",
       "<style scoped>\n",
       "    .dataframe tbody tr th:only-of-type {\n",
       "        vertical-align: middle;\n",
       "    }\n",
       "\n",
       "    .dataframe tbody tr th {\n",
       "        vertical-align: top;\n",
       "    }\n",
       "\n",
       "    .dataframe thead th {\n",
       "        text-align: right;\n",
       "    }\n",
       "</style>\n",
       "<table border=\"1\" class=\"dataframe\">\n",
       "  <thead>\n",
       "    <tr style=\"text-align: right;\">\n",
       "      <th></th>\n",
       "      <th>y &gt; 50.000</th>\n",
       "      <th>y &lt; 50.000</th>\n",
       "    </tr>\n",
       "  </thead>\n",
       "  <tbody>\n",
       "    <tr>\n",
       "      <th>a(x) &gt; 50.000</th>\n",
       "      <td>223</td>\n",
       "      <td>1081</td>\n",
       "    </tr>\n",
       "    <tr>\n",
       "      <th>a(x) &lt; 50.000</th>\n",
       "      <td>22</td>\n",
       "      <td>2674</td>\n",
       "    </tr>\n",
       "  </tbody>\n",
       "</table>\n",
       "</div>"
      ],
      "text/plain": [
       "               y > 50.000   y < 50.000 \n",
       "a(x) > 50.000          223         1081\n",
       "a(x) < 50.000           22         2674"
      ]
     },
     "execution_count": 63,
     "metadata": {},
     "output_type": "execute_result"
    }
   ],
   "source": [
    "hlp.compute_confusion_matrix(y_val, y_pred_val, [' - 50000.', ' 50000+.'], ' 50000+.')"
   ]
  },
  {
   "cell_type": "markdown",
   "metadata": {},
   "source": [
    "Ok, so it is obvious now that despite the fact the minority class recall increased, it decreased heavily for the majority class. That is an interesting result, models differ a lot, so let's try to build a very simple blend of them."
   ]
  },
  {
   "cell_type": "markdown",
   "metadata": {},
   "source": [
    "## Tune ensemble weights"
   ]
  },
  {
   "cell_type": "markdown",
   "metadata": {},
   "source": [
    "In this section we are going to find out the best weights for model combination. Then we will use the found weights to build a model blend."
   ]
  },
  {
   "cell_type": "code",
   "execution_count": 64,
   "metadata": {
    "ExecuteTime": {
     "end_time": "2021-04-28T10:28:14.495269Z",
     "start_time": "2021-04-28T10:28:14.302128Z"
    }
   },
   "outputs": [],
   "source": [
    "from itertools import combinations_with_replacement"
   ]
  },
  {
   "cell_type": "code",
   "execution_count": 65,
   "metadata": {
    "ExecuteTime": {
     "end_time": "2021-04-28T10:28:14.943580Z",
     "start_time": "2021-04-28T10:28:14.503282Z"
    }
   },
   "outputs": [
    {
     "data": {
      "text/html": [
       "<div>\n",
       "<style scoped>\n",
       "    .dataframe tbody tr th:only-of-type {\n",
       "        vertical-align: middle;\n",
       "    }\n",
       "\n",
       "    .dataframe tbody tr th {\n",
       "        vertical-align: top;\n",
       "    }\n",
       "\n",
       "    .dataframe thead th {\n",
       "        text-align: right;\n",
       "    }\n",
       "</style>\n",
       "<table border=\"1\" class=\"dataframe\">\n",
       "  <thead>\n",
       "    <tr style=\"text-align: right;\">\n",
       "      <th></th>\n",
       "      <th>LGBM</th>\n",
       "      <th>RF</th>\n",
       "    </tr>\n",
       "  </thead>\n",
       "  <tbody>\n",
       "    <tr>\n",
       "      <th>0</th>\n",
       "      <td>0.014</td>\n",
       "      <td>0.468</td>\n",
       "    </tr>\n",
       "    <tr>\n",
       "      <th>1</th>\n",
       "      <td>0.010</td>\n",
       "      <td>0.318</td>\n",
       "    </tr>\n",
       "    <tr>\n",
       "      <th>2</th>\n",
       "      <td>0.049</td>\n",
       "      <td>0.334</td>\n",
       "    </tr>\n",
       "    <tr>\n",
       "      <th>3</th>\n",
       "      <td>0.003</td>\n",
       "      <td>0.344</td>\n",
       "    </tr>\n",
       "    <tr>\n",
       "      <th>4</th>\n",
       "      <td>0.005</td>\n",
       "      <td>0.419</td>\n",
       "    </tr>\n",
       "  </tbody>\n",
       "</table>\n",
       "</div>"
      ],
      "text/plain": [
       "    LGBM     RF\n",
       "0  0.014  0.468\n",
       "1  0.010  0.318\n",
       "2  0.049  0.334\n",
       "3  0.003  0.344\n",
       "4  0.005  0.419"
      ]
     },
     "execution_count": 65,
     "metadata": {},
     "output_type": "execute_result"
    }
   ],
   "source": [
    "y_val_blend = pd.DataFrame([lgbm_pred_prob_val, rf_pred_prob_val]).T\n",
    "y_val_blend.columns = ['LGBM', 'RF']\n",
    "y_val_blend.head()"
   ]
  },
  {
   "cell_type": "code",
   "execution_count": 66,
   "metadata": {
    "ExecuteTime": {
     "end_time": "2021-04-28T10:28:15.118704Z",
     "start_time": "2021-04-28T10:28:14.946583Z"
    }
   },
   "outputs": [
    {
     "data": {
      "text/plain": [
       "[(0.0, 1.0), (0.01, 0.99), (0.02, 0.98), (0.03, 0.97), (0.04, 0.96)]"
      ]
     },
     "execution_count": 66,
     "metadata": {},
     "output_type": "execute_result"
    }
   ],
   "source": [
    "# Choose all possible combinations of 0-1 weights that sum up to 1\n",
    "all_pos = list(combinations_with_replacement(np.linspace(0, 1, 101), 2))\n",
    "all_pos = [x for x in all_pos if sum(x) == 1]\n",
    "all_pos[:5]"
   ]
  },
  {
   "cell_type": "code",
   "execution_count": 67,
   "metadata": {
    "ExecuteTime": {
     "end_time": "2021-04-28T10:28:15.290840Z",
     "start_time": "2021-04-28T10:28:15.120706Z"
    }
   },
   "outputs": [],
   "source": [
    "y_val_replaced = y_val.replace({\" - 50000.\":0, ' 50000+.':1})\n",
    "y_test_replaced = y_test.replace({\" - 50000.\":0, ' 50000+.':1})"
   ]
  },
  {
   "cell_type": "code",
   "execution_count": 68,
   "metadata": {
    "ExecuteTime": {
     "end_time": "2021-04-28T10:28:16.048361Z",
     "start_time": "2021-04-28T10:28:15.296831Z"
    }
   },
   "outputs": [],
   "source": [
    "results = []\n",
    "for i in all_pos:\n",
    "    # Choose 1 weights combination, sum them and say it is 1 of sum>=0.5 or 0 vice versa\n",
    "    bas = hlp.balanced_accuracy_score(y_val_replaced, y_val_blend.mul(i).sum(axis=1).round())\n",
    "    results.append(bas)"
   ]
  },
  {
   "cell_type": "code",
   "execution_count": 69,
   "metadata": {
    "ExecuteTime": {
     "end_time": "2021-04-28T10:28:16.211475Z",
     "start_time": "2021-04-28T10:28:16.050361Z"
    }
   },
   "outputs": [
    {
     "data": {
      "text/plain": [
       "0.8629392103046278"
      ]
     },
     "execution_count": 69,
     "metadata": {},
     "output_type": "execute_result"
    }
   ],
   "source": [
    "max(results)"
   ]
  },
  {
   "cell_type": "code",
   "execution_count": 70,
   "metadata": {
    "ExecuteTime": {
     "end_time": "2021-04-28T10:28:16.377591Z",
     "start_time": "2021-04-28T10:28:16.213476Z"
    }
   },
   "outputs": [
    {
     "data": {
      "text/plain": [
       "39"
      ]
     },
     "execution_count": 70,
     "metadata": {},
     "output_type": "execute_result"
    }
   ],
   "source": [
    "best_weights_idx = results.index(max(results))\n",
    "best_weights_idx"
   ]
  },
  {
   "cell_type": "code",
   "execution_count": 71,
   "metadata": {
    "ExecuteTime": {
     "end_time": "2021-04-28T10:28:16.542707Z",
     "start_time": "2021-04-28T10:28:16.379593Z"
    }
   },
   "outputs": [
    {
     "data": {
      "text/plain": [
       "(0.39, 0.61)"
      ]
     },
     "execution_count": 71,
     "metadata": {},
     "output_type": "execute_result"
    }
   ],
   "source": [
    "all_pos[best_weights_idx]"
   ]
  },
  {
   "cell_type": "markdown",
   "metadata": {},
   "source": [
    "## Get results on test"
   ]
  },
  {
   "cell_type": "code",
   "execution_count": 72,
   "metadata": {
    "ExecuteTime": {
     "end_time": "2021-04-28T10:28:17.210178Z",
     "start_time": "2021-04-28T10:28:16.544710Z"
    }
   },
   "outputs": [
    {
     "data": {
      "text/html": [
       "<div>\n",
       "<style scoped>\n",
       "    .dataframe tbody tr th:only-of-type {\n",
       "        vertical-align: middle;\n",
       "    }\n",
       "\n",
       "    .dataframe tbody tr th {\n",
       "        vertical-align: top;\n",
       "    }\n",
       "\n",
       "    .dataframe thead th {\n",
       "        text-align: right;\n",
       "    }\n",
       "</style>\n",
       "<table border=\"1\" class=\"dataframe\">\n",
       "  <thead>\n",
       "    <tr style=\"text-align: right;\">\n",
       "      <th></th>\n",
       "      <th>LGBM</th>\n",
       "      <th>RF</th>\n",
       "    </tr>\n",
       "  </thead>\n",
       "  <tbody>\n",
       "    <tr>\n",
       "      <th>0</th>\n",
       "      <td>0.007</td>\n",
       "      <td>0.274</td>\n",
       "    </tr>\n",
       "    <tr>\n",
       "      <th>1</th>\n",
       "      <td>0.549</td>\n",
       "      <td>0.557</td>\n",
       "    </tr>\n",
       "    <tr>\n",
       "      <th>2</th>\n",
       "      <td>0.030</td>\n",
       "      <td>0.486</td>\n",
       "    </tr>\n",
       "    <tr>\n",
       "      <th>3</th>\n",
       "      <td>0.001</td>\n",
       "      <td>0.175</td>\n",
       "    </tr>\n",
       "    <tr>\n",
       "      <th>4</th>\n",
       "      <td>0.158</td>\n",
       "      <td>0.616</td>\n",
       "    </tr>\n",
       "  </tbody>\n",
       "</table>\n",
       "</div>"
      ],
      "text/plain": [
       "    LGBM     RF\n",
       "0  0.007  0.274\n",
       "1  0.549  0.557\n",
       "2  0.030  0.486\n",
       "3  0.001  0.175\n",
       "4  0.158  0.616"
      ]
     },
     "execution_count": 72,
     "metadata": {},
     "output_type": "execute_result"
    }
   ],
   "source": [
    "y_test_blend = pd.DataFrame([lgbm_pred_prob_test, rf_pred_prob_test]).T\n",
    "y_test_blend.columns = ['LGBM', 'RF']\n",
    "y_test_blend.head()"
   ]
  },
  {
   "cell_type": "code",
   "execution_count": 73,
   "metadata": {
    "ExecuteTime": {
     "end_time": "2021-04-28T10:28:17.382316Z",
     "start_time": "2021-04-28T10:28:17.212184Z"
    }
   },
   "outputs": [],
   "source": [
    "final_prediction = y_test_blend.mul(all_pos[best_weights_idx]).sum(axis=1).round()"
   ]
  },
  {
   "cell_type": "code",
   "execution_count": 74,
   "metadata": {
    "ExecuteTime": {
     "end_time": "2021-04-28T10:28:17.587461Z",
     "start_time": "2021-04-28T10:28:17.383300Z"
    }
   },
   "outputs": [
    {
     "data": {
      "text/html": [
       "<div>\n",
       "<style scoped>\n",
       "    .dataframe tbody tr th:only-of-type {\n",
       "        vertical-align: middle;\n",
       "    }\n",
       "\n",
       "    .dataframe tbody tr th {\n",
       "        vertical-align: top;\n",
       "    }\n",
       "\n",
       "    .dataframe thead th {\n",
       "        text-align: right;\n",
       "    }\n",
       "</style>\n",
       "<table border=\"1\" class=\"dataframe\">\n",
       "  <thead>\n",
       "    <tr style=\"text-align: right;\">\n",
       "      <th></th>\n",
       "      <th>y &gt; 50.000</th>\n",
       "      <th>y &lt; 50.000</th>\n",
       "    </tr>\n",
       "  </thead>\n",
       "  <tbody>\n",
       "    <tr>\n",
       "      <th>a(x) &gt; 50.000</th>\n",
       "      <td>472</td>\n",
       "      <td>641</td>\n",
       "    </tr>\n",
       "    <tr>\n",
       "      <th>a(x) &lt; 50.000</th>\n",
       "      <td>155</td>\n",
       "      <td>8732</td>\n",
       "    </tr>\n",
       "  </tbody>\n",
       "</table>\n",
       "</div>"
      ],
      "text/plain": [
       "               y > 50.000   y < 50.000 \n",
       "a(x) > 50.000          472          641\n",
       "a(x) < 50.000          155         8732"
      ]
     },
     "execution_count": 74,
     "metadata": {},
     "output_type": "execute_result"
    }
   ],
   "source": [
    "hlp.compute_confusion_matrix(y_test_replaced, final_prediction, [0, 1], 1)"
   ]
  },
  {
   "cell_type": "code",
   "execution_count": 75,
   "metadata": {
    "ExecuteTime": {
     "end_time": "2021-04-28T10:28:17.780581Z",
     "start_time": "2021-04-28T10:28:17.589447Z"
    }
   },
   "outputs": [
    {
     "data": {
      "text/html": [
       "<div>\n",
       "<style scoped>\n",
       "    .dataframe tbody tr th:only-of-type {\n",
       "        vertical-align: middle;\n",
       "    }\n",
       "\n",
       "    .dataframe tbody tr th {\n",
       "        vertical-align: top;\n",
       "    }\n",
       "\n",
       "    .dataframe thead th {\n",
       "        text-align: right;\n",
       "    }\n",
       "</style>\n",
       "<table border=\"1\" class=\"dataframe\">\n",
       "  <thead>\n",
       "    <tr style=\"text-align: right;\">\n",
       "      <th></th>\n",
       "      <th>result</th>\n",
       "    </tr>\n",
       "  </thead>\n",
       "  <tbody>\n",
       "    <tr>\n",
       "      <th>Balanced_Accuracy</th>\n",
       "      <td>0.814</td>\n",
       "    </tr>\n",
       "    <tr>\n",
       "      <th>MCC</th>\n",
       "      <td>0.529</td>\n",
       "    </tr>\n",
       "  </tbody>\n",
       "</table>\n",
       "</div>"
      ],
      "text/plain": [
       "                   result\n",
       "Balanced_Accuracy   0.814\n",
       "MCC                 0.529"
      ]
     },
     "execution_count": 75,
     "metadata": {},
     "output_type": "execute_result"
    }
   ],
   "source": [
    "hlp.compute_metrics(y_test_replaced, lgbm_prediction_test, [0, 1], 1)"
   ]
  },
  {
   "cell_type": "markdown",
   "metadata": {},
   "source": [
    "# 4 Summary"
   ]
  },
  {
   "cell_type": "markdown",
   "metadata": {},
   "source": [
    "**Feature importance**"
   ]
  },
  {
   "cell_type": "code",
   "execution_count": 76,
   "metadata": {
    "ExecuteTime": {
     "end_time": "2021-04-28T10:28:18.204888Z",
     "start_time": "2021-04-28T10:28:17.782583Z"
    }
   },
   "outputs": [
    {
     "data": {
      "image/png": "[encoded data removed]",
      "text/plain": [
       "<Figure size 432x288 with 1 Axes>"
      ]
     },
     "metadata": {},
     "output_type": "display_data"
    }
   ],
   "source": [
    "plot_importance(lgbm_clf_cv.best_estimator_, max_num_features=10)\n",
    "plt.suptitle('Top 10 most important features for LGBM')\n",
    "plt.show()"
   ]
  },
  {
   "cell_type": "code",
   "execution_count": 77,
   "metadata": {
    "ExecuteTime": {
     "end_time": "2021-04-28T10:28:18.379018Z",
     "start_time": "2021-04-28T10:28:18.206882Z"
    }
   },
   "outputs": [],
   "source": [
    "fi_rf = dict(zip(X_train_fitted.columns, rf_clf_cv.best_estimator_.feature_importances_))\n",
    "fi_rf = dict(sorted(fi_rf.items(), key=lambda item: item[1]))"
   ]
  },
  {
   "cell_type": "code",
   "execution_count": 78,
   "metadata": {
    "ExecuteTime": {
     "end_time": "2021-04-28T10:28:18.767277Z",
     "start_time": "2021-04-28T10:28:18.380004Z"
    }
   },
   "outputs": [
    {
     "data": {
      "image/png": "[encoded data removed]",
      "text/plain": [
       "<Figure size 360x360 with 1 Axes>"
      ]
     },
     "metadata": {},
     "output_type": "display_data"
    }
   ],
   "source": [
    "plt.figure(figsize=(5,5))\n",
    "\n",
    "sns.barplot(y=list(fi_rf.keys())[-10:][::-1], x=list(fi_rf.values())[-10:][::-1])\n",
    "\n",
    "plt.suptitle('Top 10 most important features for RF')\n",
    "plt.show()"
   ]
  },
  {
   "cell_type": "markdown",
   "metadata": {
    "ExecuteTime": {
     "end_time": "2021-04-11T21:49:53.156676Z",
     "start_time": "2021-04-11T21:49:53.149670Z"
    }
   },
   "source": [
    "Based on the feature importance charts for both models we can say that age, education and num persons worked for employer are important for both models. Interesting that such obvious features as capital gain and occupation code are important for LGBM, while we can't see them in RF top 10. All in all, LGBM top 10 features are quite obvious and simple and even expected."
   ]
  },
  {
   "cell_type": "markdown",
   "metadata": {},
   "source": [
    "**Summary**"
   ]
  },
  {
   "cell_type": "markdown",
   "metadata": {},
   "source": [
    "During this project, we found out that some of the categorical features consisted mostly of trash and removed them. Also some other categorical features had too many categories with just a few observations inside, so we merged some categories. Also, we fulfilled empty values with the most frequent ones(there was just a few of them). Also, we tried PCA and found out that it is not helpful for the observed dataset. Moreover, the data was highly imbalanced 94/6 so we used SMOTE algorithm to balance train data up to 70/30 ratio.<br>\n",
    "The most important features are education, sex and age which is expected.<br>\n",
    "Finally we found out that random forest and boosting are almost equal (58% and 42% respectfully) in the stacked model prediction. Our final balanced accuracy score on test is 81% and MCC is 53%."
   ]
  }
 ],
 "metadata": {
  "colab": {
   "collapsed_sections": [],
   "name": "project_description.ipynb",
   "provenance": []
  },
  "kernelspec": {
   "display_name": "Python 3",
   "language": "python",
   "name": "python3"
  },
  "language_info": {
   "codemirror_mode": {
    "name": "ipython",
    "version": 3
   },
   "file_extension": ".py",
   "mimetype": "text/x-python",
   "name": "python",
   "nbconvert_exporter": "python",
   "pygments_lexer": "ipython3",
   "version": "3.8.8"
  },
  "toc": {
   "base_numbering": 1,
   "nav_menu": {},
   "number_sections": false,
   "sideBar": true,
   "skip_h1_title": false,
   "title_cell": "Table of Contents",
   "title_sidebar": "Contents",
   "toc_cell": true,
   "toc_position": {
    "height": "calc(100% - 180px)",
    "left": "10px",
    "top": "150px",
    "width": "165px"
   },
   "toc_section_display": true,
   "toc_window_display": true
  }
 },
 "nbformat": 4,
 "nbformat_minor": 1
}
